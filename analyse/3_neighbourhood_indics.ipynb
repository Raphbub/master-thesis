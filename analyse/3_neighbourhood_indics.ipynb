{
 "cells": [
  {
   "cell_type": "markdown",
   "metadata": {},
   "source": [
    "# Neighbourhood indicators"
   ]
  },
  {
   "cell_type": "markdown",
   "metadata": {},
   "source": [
    "### Prepare environment and connections"
   ]
  },
  {
   "cell_type": "code",
   "execution_count": 1,
   "metadata": {},
   "outputs": [
    {
     "name": "stderr",
     "output_type": "stream",
     "text": [
      "Loading required package: DBI\n"
     ]
    }
   ],
   "source": [
    "library('RPostgreSQL')\n",
    "library('magrittr')"
   ]
  },
  {
   "cell_type": "code",
   "execution_count": 2,
   "metadata": {},
   "outputs": [],
   "source": [
    "conn <- dbConnect(\"PostgreSQL\", dbname = 'base_data', host = 'localhost', user = 'postgres', password = 'asd')"
   ]
  },
  {
   "cell_type": "markdown",
   "metadata": {},
   "source": [
    "#### Prepare the queries to indicators with radius"
   ]
  },
  {
   "cell_type": "code",
   "execution_count": 3,
   "metadata": {},
   "outputs": [],
   "source": [
    "areas_query <- \"WITH barea AS (\n",
    "  SELECT a.id, SUM(b_area) AS areatot, SUM(b_floorsqm) AS floortot\n",
    "  FROM cRADIUSm a, bd b\n",
    "  WHERE ST_Intersects(a.geom, b.geom)\n",
    "  AND a.id <> b.id\n",
    "  GROUP BY a.id\n",
    ")\n",
    "UPDATE bd SET de_ar_RADIUSr = areatot,\n",
    "              de_sq_RADIUSr = floortot\n",
    "          FROM barea\n",
    "          WHERE bd.id = barea.id;\"\n",
    "\n",
    "nb_build_query <- \"WITH nb_bd AS (\n",
    "  SELECT a.id, COUNT(b.geom) AS btot\n",
    "  FROM cRADIUSm a, bd b\n",
    "  WHERE ST_Intersects(a.geom, b.geom)\n",
    "  AND a.id <> b.id\n",
    "  GROUP BY a.id\n",
    ")\n",
    "UPDATE bd SET de_bd_RADIUSr = btot\n",
    "          FROM nb_bd\n",
    "          WHERE bd.id = nb_bd.id;\"\n",
    "\n",
    "deadend_query <- \"WITH sel AS (\n",
    "  SELECT id, edge_id, start_node AS st_n, end_node AS end_n\n",
    "  FROM rd_topo.edge a, (SELECT * FROM cRADIUSm WHERE id = GID) b\n",
    " WHERE ST_Intersects (a.geom, b.geom)\n",
    "), eid AS (\n",
    "  SELECT DISTINCT node_id, geom\n",
    "  FROM rd_topo.node a, sel\n",
    "  WHERE node_id IN (SELECT st_n FROM sel)\n",
    "   OR node_id IN (SELECT end_n FROM sel)\n",
    "), sel_nodes AS (\n",
    "  SELECT COUNT(*) AS all_n\n",
    "  FROM eid\n",
    "), dist_sn AS (\n",
    "  SELECT COUNT(DISTINCT st_n) AS dst_n\n",
    "  FROM sel\n",
    "), dist_en AS (\n",
    "  SELECT COUNT(DISTINCT end_n) AS dend_n\n",
    "  FROM sel\n",
    "), out_nodes AS (\n",
    "  SELECT COUNT(*) AS out_n\n",
    "  FROM (SELECT geom FROM cRADIUSm WHERE id = GID) a, eid b\n",
    "  WHERE NOT ST_Intersects(a.geom, b.geom)\n",
    "), dnd AS (\n",
    "  SELECT DISTINCT id, (all_n - dst_n) + (all_n - dend_n) - out_n AS deadend\n",
    "  FROM sel, sel_nodes, dist_sn, dist_en, out_nodes\n",
    ")\n",
    "UPDATE bd SET net_de_RADIUSr = CASE WHEN deadend < 0 THEN 0\n",
    "                                 ELSE deadend\n",
    "                            END\n",
    "          FROM dnd\n",
    "          WHERE bd.id = dnd.id;\"\n",
    "\n",
    "int_query <- \"WITH in_nodes AS (\n",
    "  SELECT id, COUNT(a.*) AS tot\n",
    "  FROM rd_topo.node a, cRADIUSm b\n",
    "  WHERE ST_Intersects(a.geom, b.geom)\n",
    "  GROUP BY id\n",
    ")\n",
    "UPDATE bd SET net_int_RADIUSr = tot\n",
    "          FROM in_nodes\n",
    "          WHERE bd.id = in_nodes.id;\"\n",
    "\n",
    "length_query <- \"WITH road_net AS (\n",
    "  SELECT b.id, ST_Intersection(a.geom, b.geom) AS geom\n",
    "  FROM rd a, cRADIUSm b \n",
    "  WHERE ST_Intersects(a.geom, b.geom)\n",
    "), leng_rn AS (\n",
    "  SELECT id, SUM(ST_Length(geom)) AS ltot\n",
    "  FROM road_net\n",
    "  GROUP BY id\n",
    ")\n",
    "UPDATE bd SET net_lgt_RADIUSr = ltot\n",
    "          FROM leng_rn\n",
    "          WHERE bd.id = leng_rn.id;\""
   ]
  },
  {
   "cell_type": "markdown",
   "metadata": {},
   "source": [
    "This function is to change the query string according to the parameters"
   ]
  },
  {
   "cell_type": "code",
   "execution_count": 4,
   "metadata": {},
   "outputs": [],
   "source": [
    "sub_in_query <- function(gid, radius, query) {\n",
    "    q <- gsub('GID', gid, query) %>%\n",
    "         gsub('RADIUS', radius, .)\n",
    "    return(q)\n",
    "}"
   ]
  },
  {
   "cell_type": "markdown",
   "metadata": {},
   "source": [
    "## Densities and network indicators in x meters radius"
   ]
  },
  {
   "cell_type": "markdown",
   "metadata": {},
   "source": [
    "Retrieve the IDs of bd"
   ]
  },
  {
   "cell_type": "code",
   "execution_count": 5,
   "metadata": {},
   "outputs": [],
   "source": [
    "ids <- t(dbGetQuery(conn, \"SELECT id FROM bd ORDER BY id;\"))"
   ]
  },
  {
   "cell_type": "markdown",
   "metadata": {},
   "source": [
    "Area and footprint"
   ]
  },
  {
   "cell_type": "code",
   "execution_count": null,
   "metadata": {},
   "outputs": [],
   "source": [
    "for(rad in seq(100, 500, by = 200)) {\n",
    "    q <- sub_in_query(0, rad, areas_query)\n",
    "    dbSendQuery(conn, q)\n",
    "}"
   ]
  },
  {
   "cell_type": "markdown",
   "metadata": {},
   "source": [
    "Number of buildings"
   ]
  },
  {
   "cell_type": "code",
   "execution_count": null,
   "metadata": {},
   "outputs": [],
   "source": [
    "for(rad in seq(100, 500, by = 200)) {\n",
    "    q <- sub_in_query(0, rad, nb_build_query)\n",
    "    dbSendQuery(conn, q)\n",
    "}"
   ]
  },
  {
   "cell_type": "markdown",
   "metadata": {},
   "source": [
    "Deadends"
   ]
  },
  {
   "cell_type": "code",
   "execution_count": 6,
   "metadata": {},
   "outputs": [],
   "source": [
    "for(rad in 100){ #seq(100, 500, by = 200)) {\n",
    "    for(id in ids) {\n",
    "        q <- sub_in_query(id, rad, deadend_query)\n",
    "        dbSendQuery(conn, q)\n",
    "    }\n",
    "}"
   ]
  },
  {
   "cell_type": "markdown",
   "metadata": {},
   "source": [
    "Intersections"
   ]
  },
  {
   "cell_type": "code",
   "execution_count": null,
   "metadata": {},
   "outputs": [],
   "source": [
    "for(rad in seq(100, 500, by = 200)) {\n",
    "    q <- sub_in_query(0, rad, int_query)\n",
    "    dbSendQuery(conn, q)\n",
    "}"
   ]
  },
  {
   "cell_type": "markdown",
   "metadata": {},
   "source": [
    "Length of network"
   ]
  },
  {
   "cell_type": "code",
   "execution_count": 44,
   "metadata": {},
   "outputs": [],
   "source": [
    "for(rad in seq(100, 500, by = 200)) {\n",
    "    q <- sub_in_query(0, rad, length_query)\n",
    "    dbSendQuery(conn, q)\n",
    "}"
   ]
  },
  {
   "cell_type": "markdown",
   "metadata": {},
   "source": [
    "## Nearest neighbour (nn) and routing"
   ]
  },
  {
   "cell_type": "markdown",
   "metadata": {},
   "source": [
    "### Nearest neighbour preparation"
   ]
  },
  {
   "cell_type": "markdown",
   "metadata": {},
   "source": [
    "Nn queries"
   ]
  },
  {
   "cell_type": "code",
   "execution_count": 8,
   "metadata": {},
   "outputs": [],
   "source": [
    "driving_vertices <- \"WITH node_road AS (\n",
    "  SELECT source, target\n",
    "  FROM ways\n",
    "  WHERE class_id NOT IN (114, 116, 117, 118, 119, 120, 122)\n",
    "), road_nodes AS (\n",
    "  SELECT id\n",
    "  FROM ways_vertices_pgr\n",
    "  WHERE id IN (SELECT DISTINCT source FROM node_road)\n",
    "  OR id IN (SELECT DISTINCT target FROM node_road)\n",
    ")\n",
    "SELECT id, swigeom\n",
    "INTO ways_vertices_drive\n",
    "FROM ways_vertices_pgr\n",
    "WHERE id IN (SELECT DISTINCT source FROM node_road)\n",
    "OR id IN (SELECT DISTINCT target FROM node_road);\"\n",
    "\n",
    "nn_foot_query <- \"WITH nearest AS (\n",
    "  SELECT a.id AS batid, b.id AS node_id\n",
    "  FROM bd a, ways_vertices_pgr b\n",
    "  WHERE a.id = GID\n",
    "  ORDER BY a.geom <-> b.swigeom LIMIT 1\n",
    ")\n",
    "UPDATE bd SET nn_foot = node_id\n",
    "          FROM nearest\n",
    "          WHERE bd.id = nearest.batid;\"\n",
    "\n",
    "nn_drive_query <- \"WITH nearest AS (\n",
    "  SELECT a.id AS batid, b.id AS node_id\n",
    "  FROM bd a, ways_vertices_drive b\n",
    "  WHERE a.id = GID\n",
    "  ORDER BY a.geom <-> b.swigeom LIMIT 1\n",
    ")\n",
    "UPDATE bd SET nn_drive = node_id\n",
    "          FROM nearest\n",
    "          WHERE bd.id = nearest.batid;\""
   ]
  },
  {
   "cell_type": "markdown",
   "metadata": {},
   "source": [
    "First, the network vertices are subsetted into a second table with only driveable roads taken into account"
   ]
  },
  {
   "cell_type": "code",
   "execution_count": null,
   "metadata": {},
   "outputs": [],
   "source": [
    "dbSendQuery(conn, driving_vertices)"
   ]
  },
  {
   "cell_type": "markdown",
   "metadata": {},
   "source": [
    "Then, for every building, the nearest node for both walking and driving routing is added as an attribute"
   ]
  },
  {
   "cell_type": "code",
   "execution_count": null,
   "metadata": {},
   "outputs": [],
   "source": [
    "for(id in ids) {\n",
    "    q <- sub_in_query(id, 0, nn_foot_query)\n",
    "    dbSendQuery(conn, q)\n",
    "}\n",
    "\n",
    "for(id in ids) {\n",
    "    q <- sub_in_query(id, 0, nn_drive_query)\n",
    "    dbSendQuery(conn, q)\n",
    "}"
   ]
  },
  {
   "cell_type": "markdown",
   "metadata": {},
   "source": [
    "### Routing preparation"
   ]
  },
  {
   "cell_type": "code",
   "execution_count": 12,
   "metadata": {},
   "outputs": [],
   "source": [
    "node_count_drive <- \"SELECT COUNT(*) FROM pgr_drivingDistance('\n",
    "    SELECT gid AS id,\n",
    "        source,\n",
    "        target,\n",
    "        cost_s AS cost,\n",
    "        reverse_cost_s AS reverse_cost\n",
    "    FROM ways\n",
    "    WHERE class_id NOT IN (114, 116, 117, 118, 119, 120, 122)',\n",
    "    GID,\n",
    "    120,\n",
    "    true)\"\n",
    "\n",
    "node_count_walk <- \"SELECT COUNT(*) FROM pgr_drivingDistance('SELECT gid As id, source, target,\n",
    "      length_m AS cost\n",
    "      FROM ways',\n",
    "      GID,\n",
    "      RADIUS,\n",
    "      false)\""
   ]
  },
  {
   "cell_type": "markdown",
   "metadata": {},
   "source": [
    "Then, for each routing elements and distance, a subset of all nodes from which it is possible to reach at least 3 nodes is created. This allows to create a polygon for the reachable area."
   ]
  },
  {
   "cell_type": "code",
   "execution_count": 14,
   "metadata": {},
   "outputs": [],
   "source": [
    "drive_nodes <- t(dbGetQuery(conn, 'SELECT DISTINCT nn_drive FROM bd ORDER BY nn_drive;'))\n",
    "walk_nodes <- t(dbGetQuery(conn, 'SELECT DISTINCT nn_foot FROM bd ORDER BY nn_foot;'))"
   ]
  },
  {
   "cell_type": "code",
   "execution_count": 13,
   "metadata": {},
   "outputs": [],
   "source": [
    "driveable_nodes <- numeric(0)\n",
    "walkable_n_100m <- numeric(0)\n",
    "walkable_n_300m <- numeric(0)\n",
    "walkable_n_500m <- numeric(0)"
   ]
  },
  {
   "cell_type": "code",
   "execution_count": null,
   "metadata": {},
   "outputs": [],
   "source": [
    "for(node in drive_nodes){\n",
    "    q <- sub_in_query(node, 0, node_count_drive)\n",
    "    nb_nodes <- dbGetQuery(conn, q)[[1]]\n",
    "    if(nb_nodes > 2) {\n",
    "        driveable_nodes <- c(driveable_nodes, id)\n",
    "    }\n",
    "}\n",
    "\n",
    "for(node in walk_nodes){\n",
    "    q <- sub_in_query(node, 100, node_count_walk)\n",
    "    nb_nodes <- dbGetQuery(conn, q)[[1]]\n",
    "    if(nb_nodes > 2) {\n",
    "        walkable_n_100m <- c(walkable_n_100m, id)\n",
    "    }\n",
    "}\n",
    "\n",
    "for(node in walk_nodes){\n",
    "    q <- sub_in_query(node, 300, node_count_walk)\n",
    "    nb_nodes <- dbGetQuery(conn, q)[[1]]\n",
    "    if(nb_nodes > 2) {\n",
    "        walkable_n_300m <- c(walkable_n_300m, id)\n",
    "    }\n",
    "}\n",
    "\n",
    "for(node in walk_nodes){\n",
    "    q <- sub_in_query(node, 500, node_count_walk)\n",
    "    nb_nodes <- dbGetQuery(conn, q)[[1]]\n",
    "    if(nb_nodes > 2) {\n",
    "        walkable_n_500m <- c(walkable_n_500m, id)\n",
    "    }\n",
    "}"
   ]
  },
  {
   "cell_type": "markdown",
   "metadata": {},
   "source": [
    "### Routing areas for various distance and options"
   ]
  },
  {
   "cell_type": "markdown",
   "metadata": {},
   "source": [
    "Queries"
   ]
  },
  {
   "cell_type": "code",
   "execution_count": 7,
   "metadata": {},
   "outputs": [],
   "source": [
    "first_drive_query <- \"WITH area AS (\n",
    "  SELECT GID As node_id, ST_Transform(ST_SetSRID(pgr_pointsAsPolygon(\n",
    "    $$SELECT di.seq AS id, ST_X(v.the_geom) AS x, ST_Y(v.the_geom) As y\n",
    "    FROM pgr_drivingDistance(''SELECT gid As id, source, target,\n",
    "      cost_s AS cost, reverse_cost_s AS reverse_cost\n",
    "      FROM ways\n",
    "      WHERE class_id NOT IN (114, 116, 117, 118, 119, 120, 122)'',\n",
    "      GID,\n",
    "      120,\n",
    "      true\n",
    "  ) AS di\n",
    "  INNER JOIN ways_vertices_pgr AS v ON di.node = v.id$$\n",
    "  ), 4326), 21781) AS geom\n",
    ")\n",
    "SELECT * INTO r_drive_area\n",
    "FROM area;\"\n",
    "\n",
    "r_drive_query <- \"WITH area AS (\n",
    "  SELECT GID As node_id, ST_Transform(ST_SetSRID(pgr_pointsAsPolygon(\n",
    "    $$SELECT di.seq AS id, ST_X(v.the_geom) AS x, ST_Y(v.the_geom) As y\n",
    "    FROM pgr_drivingDistance(''SELECT gid As id, source, target,\n",
    "      cost_s AS cost, reverse_cost_s AS reverse_cost\n",
    "      FROM ways\n",
    "      WHERE class_id NOT IN (114, 116, 117, 118, 119, 120, 122)'',\n",
    "      GID,\n",
    "      120,\n",
    "      true\n",
    "  ) AS di\n",
    "  INNER JOIN ways_vertices_pgr AS v ON di.node = v.id$$\n",
    "  ), 4326), 21781) AS geom\n",
    ")\n",
    "INSERT INTO r_drive_area(node_id, geom)\n",
    "SELECT node_id, geom\n",
    "FROM area;\"\n",
    "\n",
    "foot_dist_f_query <- \"WITH area AS (\n",
    "  SELECT GID As node_id, ST_Transform(ST_SetSRID(pgr_pointsAsPolygon(\n",
    "    $$SELECT di.seq AS id, ST_X(v.the_geom) AS x, ST_Y(v.the_geom) As y\n",
    "    FROM pgr_drivingDistance(''SELECT gid As id, source, target,\n",
    "      length_m AS cost\n",
    "      FROM ways'',\n",
    "      GID,\n",
    "      RADIUS,\n",
    "      false\n",
    "  ) AS di\n",
    "  INNER JOIN ways_vertices_pgr AS v ON di.node = v.id$$\n",
    "  ), 4326), 21781) AS geom\n",
    ")\n",
    "SELECT * INTO r_walking_RADIUSm\n",
    "FROM area;\"\n",
    "\n",
    "foot_dist_query <- \"WITH area AS (\n",
    "  SELECT GID As node_id, ST_Transform(ST_SetSRID(pgr_pointsAsPolygon(\n",
    "    $$SELECT di.seq AS id, ST_X(v.the_geom) AS x, ST_Y(v.the_geom) As y\n",
    "    FROM pgr_drivingDistance(''SELECT gid As id, source, target,\n",
    "      length_m AS cost\n",
    "      FROM ways'',\n",
    "      GID,\n",
    "      RADIUS,\n",
    "      false\n",
    "  ) AS di\n",
    "  INNER JOIN ways_vertices_pgr AS v ON di.node = v.id$$\n",
    "  ), 4326), 21781) AS geom\n",
    ")\n",
    "INSERT INTO r_walking_RADIUSm(node_id, geom)\n",
    "SELECT node_id, geom\n",
    "FROM area;\""
   ]
  },
  {
   "cell_type": "code",
   "execution_count": null,
   "metadata": {},
   "outputs": [],
   "source": [
    "for(node in driveable_nodes) {\n",
    "    if(node == driveable_nodes[1]) {\n",
    "        q <- sub_in_query(node, 0, first_drive_query)\n",
    "        dbSendQuery(conn, q)\n",
    "    } else {\n",
    "        q <- sub_in_query(node, 0, r_drive_query)\n",
    "        dbSendQuery(conn, q)  \n",
    "    }\n",
    "}\n",
    "\n",
    "for(node in walkable_n_100m) {\n",
    "    if(node == walkable_n_100m[1]) {\n",
    "        q <- sub_in_query(node, 100, foot_dist_f_query)\n",
    "        dbSendQuery(conn, q)\n",
    "    } else {\n",
    "        q <- sub_in_query(node, 100, foot_dist_query)\n",
    "        dbSendQuery(conn, q)  \n",
    "    }\n",
    "}\n",
    "\n",
    "for(node in walkable_n_300m) {\n",
    "    if(node == walkable_n_300m[1]) {\n",
    "        q <- sub_in_query(node, 300, foot_dist_f_query)\n",
    "        dbSendQuery(conn, q)\n",
    "    } else {\n",
    "        q <- sub_in_query(node, 300, foot_dist_query)\n",
    "        dbSendQuery(conn, q)  \n",
    "    }\n",
    "}\n",
    "\n",
    "for(node in walkable_n_500m) {\n",
    "    if(node == walkable_n_500m[1]) {\n",
    "        q <- sub_in_query(node, 500, foot_dist_f_query)\n",
    "        dbSendQuery(conn, q)\n",
    "    } else {\n",
    "        q <- sub_in_query(node, 500, foot_dist_query)\n",
    "        dbSendQuery(conn, q)  \n",
    "    }\n",
    "}"
   ]
  },
  {
   "cell_type": "markdown",
   "metadata": {},
   "source": [
    "Create indices on the new tables"
   ]
  },
  {
   "cell_type": "code",
   "execution_count": 54,
   "metadata": {},
   "outputs": [],
   "source": [
    "index_query <- \"CREATE INDEX GID ON RADIUS USING GIST (geom);\"\n",
    "analyze_query <- \"VACUUM ANALYZE RADIUS\"\n",
    "index_walk_query <- \"CREATE INDEX r_walking_GID_gix ON r_walking_RADIUSm USING GIST (geom);\"\n",
    "analyze_walk_query <- \"VACUUM ANALYZE r_walking_RADIUSm;\""
   ]
  },
  {
   "cell_type": "code",
   "execution_count": null,
   "metadata": {},
   "outputs": [],
   "source": [
    "dbSendQuery(conn, sub_in_query(\"r_driving_gix\", \"r_drive_area\", index_query))\n",
    "dbSendQuery(conn, sub_in_query(0, \"r_drive_area\", analyze_query))"
   ]
  },
  {
   "cell_type": "code",
   "execution_count": 58,
   "metadata": {},
   "outputs": [],
   "source": [
    "for(dist in seq(100, 500, by = 200)) {\n",
    "    dbSendQuery(conn, sub_in_query(dist, dist, index_walk_query))\n",
    "    dbSendQuery(conn, sub_in_query(0, dist, analyze_walk_query))\n",
    "}"
   ]
  },
  {
   "cell_type": "markdown",
   "metadata": {},
   "source": [
    "### Routing indicators"
   ]
  },
  {
   "cell_type": "markdown",
   "metadata": {},
   "source": [
    "Queries"
   ]
  },
  {
   "cell_type": "code",
   "execution_count": 21,
   "metadata": {},
   "outputs": [],
   "source": [
    "areas_r_query <- \"WITH barea AS (\n",
    "  SELECT a.node_id, SUM(b_area) AS areatot, SUM(b_floorsqm) AS floortot\n",
    "  FROM r_walking_RADIUSm a, bd b\n",
    "  WHERE ST_Intersects(a.geom, b.geom)\n",
    "  GROUP BY a.node_id\n",
    ")\n",
    "UPDATE bd SET de_ar_RADIUSw = areatot,\n",
    "              de_sq_RADIUSw = floortot\n",
    "          FROM barea\n",
    "          WHERE bd.nn_foot = barea.node_id;\"\n",
    "\n",
    "nb_build_r_query <- \"WITH nb_bd AS (\n",
    "  SELECT a.node_id, COUNT(b.geom) AS btot\n",
    "  FROM r_walking_RADIUSm a, bd b\n",
    "  WHERE ST_Intersects(a.geom, b.geom)\n",
    "  GROUP BY a.node_id\n",
    ")\n",
    "UPDATE bd SET de_bd_RADIUSw = btot\n",
    "          FROM nb_bd\n",
    "          WHERE bd.nn_foot = nb_bd.node_id;\"\n",
    "\n",
    "deadend_r_query <- \"WITH sel AS (\n",
    "  SELECT id, edge_id, start_node AS st_n, end_node AS end_n\n",
    "  FROM rd_topo.edge a, (SELECT node_id AS id, geom FROM r_walking_RADIUSm WHERE node_id = GID) b\n",
    "  WHERE ST_Intersects (a.geom, b.geom)\n",
    "), eid AS (\n",
    "  SELECT DISTINCT node_id, geom\n",
    "  FROM rd_topo.node a, sel\n",
    "  WHERE node_id IN (SELECT st_n FROM sel)\n",
    "   OR node_id IN (SELECT end_n FROM sel)\n",
    "), sel_nodes AS (\n",
    "  SELECT COUNT(*) AS all_n\n",
    "  FROM eid\n",
    "), dist_sn AS (\n",
    "  SELECT COUNT(DISTINCT st_n) AS dst_n\n",
    "  FROM sel\n",
    "), dist_en AS (\n",
    "  SELECT COUNT(DISTINCT end_n) AS dend_n\n",
    "  FROM sel\n",
    "), out_nodes AS (\n",
    "  SELECT COUNT(*) AS out_n\n",
    "  FROM (SELECT geom FROM r_walking_RADIUSm WHERE node_id = GID) a, eid b\n",
    "  WHERE NOT ST_Intersects(a.geom, b.geom)\n",
    "), dnd AS (\n",
    "  SELECT DISTINCT id, (all_n - dst_n) + (all_n - dend_n) - out_n AS deadend\n",
    "  FROM sel, sel_nodes, dist_sn, dist_en, out_nodes\n",
    ")\n",
    "UPDATE bd SET net_de_RADIUSw = CASE WHEN deadend < 0 THEN 0\n",
    "                                    ELSE deadend\n",
    "                               END\n",
    "          FROM dnd\n",
    "          WHERE bd.nn_foot = dnd.id;\"\n",
    "\n",
    "int_r_query <- \"WITH in_nodes AS (\n",
    "  SELECT b.node_id AS id, COUNT(a.*) AS tot\n",
    "  FROM rd_topo.node a, r_walking_RADIUSm b\n",
    "  WHERE ST_Intersects(a.geom, b.geom)\n",
    "  GROUP BY b.node_id\n",
    ")\n",
    "UPDATE bd SET net_int_RADIUSw = tot\n",
    "          FROM in_nodes\n",
    "          WHERE bd.nn_foot = in_nodes.id;\"\n",
    "\n",
    "length_r_query <- \"WITH road_net AS (\n",
    "  SELECT b.node_id AS id, ST_Intersection(a.geom, b.geom) AS geom\n",
    "  FROM rd a, r_walking_RADIUSm b \n",
    "  WHERE ST_Intersects(a.geom, b.geom)\n",
    "), leng_rn AS (\n",
    "  SELECT id, SUM(ST_Length(geom)) AS ltot\n",
    "  FROM road_net\n",
    "  GROUP BY id\n",
    ")\n",
    "UPDATE bd SET net_lgt_RADIUSw = ltot\n",
    "          FROM leng_rn\n",
    "          WHERE bd.nn_foot = leng_rn.id;\"\n",
    "\n",
    "id_r_query <- \"SELECT node_id FROM r_walking_RADIUSm ORDER BY node_id\"\n",
    "\n",
    "\n",
    "id_dd_query <- \"SELECT DISTINCT(node_id) FROM r_drive_area ORDER BY node_id\"\n",
    "\n",
    "deadend_dd_query <- \"WITH sel AS (\n",
    "  SELECT id, edge_id, start_node AS st_n, end_node AS end_n\n",
    "  FROM rd_topo.edge a, (SELECT node_id AS id, geom FROM r_drive_area WHERE node_id = GID) b\n",
    "  WHERE ST_Intersects (a.geom, b.geom)\n",
    "), eid AS (\n",
    "  SELECT DISTINCT node_id, geom\n",
    "  FROM rd_topo.node a, sel\n",
    "  WHERE node_id IN (SELECT st_n FROM sel)\n",
    "   OR node_id IN (SELECT end_n FROM sel)\n",
    "), sel_nodes AS (\n",
    "  SELECT COUNT(*) AS all_n\n",
    "  FROM eid\n",
    "), dist_sn AS (\n",
    "  SELECT COUNT(DISTINCT st_n) AS dst_n\n",
    "  FROM sel\n",
    "), dist_en AS (\n",
    "  SELECT COUNT(DISTINCT end_n) AS dend_n\n",
    "  FROM sel\n",
    "), out_nodes AS (\n",
    "  SELECT COUNT(*) AS out_n\n",
    "  FROM (SELECT geom FROM r_drive_area WHERE node_id = GID) a, eid b\n",
    "  WHERE NOT ST_Intersects(a.geom, b.geom)\n",
    "), dnd AS (\n",
    "  SELECT DISTINCT id, (all_n - dst_n) + (all_n - dend_n) - out_n AS deadend\n",
    "  FROM sel, sel_nodes, dist_sn, dist_en, out_nodes\n",
    ")\n",
    "UPDATE bd SET net_dd_de = CASE WHEN deadend < 0 THEN 0\n",
    "                                    ELSE deadend\n",
    "                               END\n",
    "          FROM dnd\n",
    "          WHERE bd.nn_drive = dnd.id;\"\n",
    "\n",
    "int_dd_query <- \"WITH in_nodes AS (\n",
    "  SELECT b.node_id AS id, COUNT(a.*) AS tot\n",
    "  FROM rd_topo.node a, r_drive_area b\n",
    "  WHERE ST_Intersects(a.geom, b.geom)\n",
    "  GROUP BY b.node_id\n",
    ")\n",
    "UPDATE bd SET net_dd_int = tot\n",
    "          FROM in_nodes\n",
    "          WHERE bd.nn_drive = in_nodes.id;\"\n",
    "\n",
    "length_dd_query <- \"WITH road_net AS (\n",
    "  SELECT b.node_id AS id, ST_Intersection(a.geom, b.geom) AS geom\n",
    "  FROM rd a, r_drive_area b \n",
    "  WHERE ST_Intersects(a.geom, b.geom)\n",
    "  AND ST_IsValid(b.geom) = true\n",
    "), leng_rn AS (\n",
    "  SELECT id, SUM(ST_Length(geom)) AS ltot\n",
    "  FROM road_net\n",
    "  GROUP BY id\n",
    ")\n",
    "UPDATE bd SET net_dd_length = ltot\n",
    "          FROM leng_rn\n",
    "          WHERE bd.nn_drive = leng_rn.id;\""
   ]
  },
  {
   "cell_type": "markdown",
   "metadata": {},
   "source": [
    "Areas"
   ]
  },
  {
   "cell_type": "code",
   "execution_count": 67,
   "metadata": {},
   "outputs": [],
   "source": [
    "for(dist in seq(100, 500, by = 200)) {\n",
    "    q <- sub_in_query(0, dist, areas_r_query)\n",
    "    dbSendQuery(conn, q)\n",
    "}"
   ]
  },
  {
   "cell_type": "markdown",
   "metadata": {},
   "source": [
    "Number of buildings"
   ]
  },
  {
   "cell_type": "code",
   "execution_count": 72,
   "metadata": {},
   "outputs": [],
   "source": [
    "for(dist in seq(100, 500, by = 200)) {\n",
    "    q <- sub_in_query(0, dist, nb_build_r_query)\n",
    "    dbSendQuery(conn, q)\n",
    "}"
   ]
  },
  {
   "cell_type": "markdown",
   "metadata": {},
   "source": [
    "Deadends"
   ]
  },
  {
   "cell_type": "code",
   "execution_count": null,
   "metadata": {},
   "outputs": [],
   "source": [
    "for(dist in seq(100, 500, by = 200)) {\n",
    "    ids_nodes <- t(dbGetQuery(conn, sub_in_query(0, dist, id_r_query)))\n",
    "    for(id in ids_nodes) {\n",
    "        q <- sub_in_query(id, dist, deadend_r_query)\n",
    "        dbSendQuery(conn, q)\n",
    "    }\n",
    "}"
   ]
  },
  {
   "cell_type": "markdown",
   "metadata": {},
   "source": [
    "Intersections"
   ]
  },
  {
   "cell_type": "code",
   "execution_count": 79,
   "metadata": {},
   "outputs": [],
   "source": [
    "for(rad in seq(100, 500, by = 200)) {\n",
    "    q <- sub_in_query(0, rad, int_r_query)\n",
    "    dbSendQuery(conn, q)\n",
    "}"
   ]
  },
  {
   "cell_type": "markdown",
   "metadata": {},
   "source": [
    "Length of network"
   ]
  },
  {
   "cell_type": "code",
   "execution_count": 83,
   "metadata": {},
   "outputs": [],
   "source": [
    "for(rad in seq(100, 500, by = 200)) {\n",
    "    q <- sub_in_query(0, rad, length_r_query)\n",
    "    dbSendQuery(conn, q)\n",
    "}"
   ]
  },
  {
   "cell_type": "markdown",
   "metadata": {},
   "source": [
    "### Driving distance"
   ]
  },
  {
   "cell_type": "code",
   "execution_count": 12,
   "metadata": {},
   "outputs": [],
   "source": [
    "dd_ids <- t(dbGetQuery(conn, id_dd_query))"
   ]
  },
  {
   "cell_type": "code",
   "execution_count": 14,
   "metadata": {},
   "outputs": [],
   "source": [
    "for(id in dd_ids) {\n",
    "    q <- sub_in_query(id, 0, deadend_dd_query)\n",
    "    dbSendQuery(conn, q)\n",
    "}"
   ]
  },
  {
   "cell_type": "code",
   "execution_count": 19,
   "metadata": {},
   "outputs": [
    {
     "data": {
      "text/plain": [
       "<PostgreSQLResult>"
      ]
     },
     "metadata": {},
     "output_type": "display_data"
    }
   ],
   "source": [
    "dbSendQuery(conn, int_dd_query)"
   ]
  },
  {
   "cell_type": "code",
   "execution_count": 22,
   "metadata": {},
   "outputs": [
    {
     "data": {
      "text/plain": [
       "<PostgreSQLResult>"
      ]
     },
     "metadata": {},
     "output_type": "display_data"
    }
   ],
   "source": [
    "dbSendQuery(conn, length_dd_query)"
   ]
  },
  {
   "cell_type": "code",
   "execution_count": null,
   "metadata": {},
   "outputs": [],
   "source": []
  }
 ],
 "metadata": {
  "kernelspec": {
   "display_name": "R",
   "language": "R",
   "name": "ir"
  },
  "language_info": {
   "codemirror_mode": "r",
   "file_extension": ".r",
   "mimetype": "text/x-r-source",
   "name": "R",
   "pygments_lexer": "r",
   "version": "3.4.3"
  }
 },
 "nbformat": 4,
 "nbformat_minor": 2
}
