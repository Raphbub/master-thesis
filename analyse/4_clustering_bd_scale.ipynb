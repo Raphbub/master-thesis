{
  "cells": [
    {
      "cell_type": "markdown",
      "source": [
        "# Analyse des indicateurs à l'échelle du bâtiment"
      ],
      "metadata": {}
    },
    {
      "cell_type": "code",
      "source": [
        "#install.packages('rpostgis', 'rgdal', 'magrittr', 'dbscan', 'corrplot')\n",
        "library('rpostgis')\n",
        "library('rgdal')\n",
        "library('magrittr')\n",
        "library('dbscan')\n",
        "#library('corrplot')"
      ],
      "outputs": [
        {
          "output_type": "stream",
          "name": "stderr",
          "text": [
            "Warning message:\n",
            "\"package 'rpostgis' was built under R version 3.4.4\"Loading required package: RPostgreSQL\n",
            "Loading required package: DBI\n",
            "Loading required package: sp\n",
            "rgdal: version: 1.2-16, (SVN revision 701)\n",
            " Geospatial Data Abstraction Library extensions to R successfully loaded\n",
            " Loaded GDAL runtime: GDAL 2.2.0, released 2017/04/28\n",
            " Path to GDAL shared files: C:/R/libs/rgdal/gdal\n",
            " GDAL binary built with GEOS: TRUE \n",
            " Loaded PROJ.4 runtime: Rel. 4.9.3, 15 August 2016, [PJ_VERSION: 493]\n",
            " Path to PROJ.4 shared files: C:/R/libs/rgdal/proj\n",
            " Linking to sp version: 1.2-5 \n",
            "Warning message:\n",
            "\"package 'dbscan' was built under R version 3.4.4\""
          ]
        }
      ],
      "execution_count": 1,
      "metadata": {}
    },
    {
      "cell_type": "code",
      "source": [
        "conn <- dbConnect(\"PostgreSQL\", dbname = 'base_data', host = 'localhost', user = 'postgres', password = 'asd')"
      ],
      "outputs": [],
      "execution_count": 2,
      "metadata": {}
    },
    {
      "cell_type": "code",
      "source": [
        "bd_scale_query <- \"SELECT a.geom, a.id, b_perim, b_area, b_r_vol_fac, b_maxEdge, b_minEdge, b_stories, b_floorsqm,\n",
        "c_Miller, c_Schumm, c_Haggett, c_LeeSallee, c_Ehrenb,\n",
        "bb_perim, bb_area, bb_length, bb_width, bb_r_lw, bb_r_area, bb_r_perim,\n",
        "cc_rad, cc_exch, cc_detour,\n",
        "ch_area, ch_perim, ch_r_area, ch_r_perim,\n",
        "s_deadend, sc_lines, sc_length, sc_orient, sc_l_sn, sc_l_ew, sc_l_nesw, sc_l_senw,\n",
        "m_corndis, m_court, m_court_area, m_court_rel_a\n",
        "FROM public.bd a,\n",
        "     public.AGGLO b\n",
        "WHERE ST_Intersects(a.geom, b.geom)\n",
        "ORDER BY a.id;\""
      ],
      "outputs": [],
      "execution_count": 3,
      "metadata": {}
    },
    {
      "cell_type": "code",
      "source": [
        "sub_in_query <- function(gid, agglo, query) {\n",
        "    q <- gsub('GID', gid, query) %>%\n",
        "         gsub('AGGLO', agglo, .)\n",
        "    return(q)\n",
        "}"
      ],
      "outputs": [],
      "execution_count": 4,
      "metadata": {}
    },
    {
      "cell_type": "code",
      "source": [
        "bd_stata <- pgGetGeom(conn, query = sub_in_query(0, \"stata\", bd_scale_query))\n",
        "row.names(bd_stata@data) <- bd_stata@data$id\n",
        "bd_stata@data$id <- NULL \n",
        "bd_stata@data <- data.frame(scale(bd_stata@data))"
      ],
      "outputs": [
        {
          "output_type": "stream",
          "name": "stderr",
          "text": [
            "Returning MultiPolygon types in SpatialPolygons*-class.\n"
          ]
        }
      ],
      "execution_count": 9,
      "metadata": {}
    },
    {
      "cell_type": "code",
      "source": [
        "bd_statb <- pgGetGeom(conn, query = sub_in_query(0, \"statb\", bd_scale_query))\n",
        "row.names(bd_statb@data) <- bd_statb@data$id\n",
        "bd_statb@data$id <- NULL \n",
        "bd_statb@data <- data.frame(scale(bd_statb@data))"
      ],
      "outputs": [
        {
          "output_type": "stream",
          "name": "stderr",
          "text": [
            "Returning MultiPolygon types in SpatialPolygons*-class.\n"
          ]
        }
      ],
      "execution_count": 5,
      "metadata": {}
    },
    {
      "cell_type": "code",
      "source": [
        "bd_morf <- pgGetGeom(conn, query = sub_in_query(0, \"morfrac\", bd_scale_query))\n",
        "row.names(bd_morf@data) <- bd_morf@data$id\n",
        "bd_morf@data$id <- NULL \n",
        "bd_morf@data <- data.frame(scale(bd_morf@data))"
      ],
      "outputs": [
        {
          "output_type": "stream",
          "name": "stderr",
          "text": [
            "Returning MultiPolygon types in SpatialPolygons*-class.\n"
          ]
        }
      ],
      "execution_count": 22,
      "metadata": {}
    },
    {
      "cell_type": "code",
      "source": [
        "bd_ccak <- pgGetGeom(conn, query = sub_in_query(0, \"cca_king\", bd_scale_query))\n",
        "row.names(bd_ccak@data) <- bd_ccak@data$id\n",
        "bd_ccak@data$id <- NULL \n",
        "bd_ccak@data <- data.frame(scale(bd_ccak@data))"
      ],
      "outputs": [
        {
          "output_type": "stream",
          "name": "stderr",
          "text": [
            "Returning MultiPolygon types in SpatialPolygons*-class.\n"
          ]
        }
      ],
      "execution_count": 38,
      "metadata": {}
    },
    {
      "cell_type": "code",
      "source": [
        "bd_ccal <- pgGetGeom(conn, query = sub_in_query(0, \"cca_lenient\", bd_scale_query))\n",
        "row.names(bd_ccal@data) <- bd_ccal@data$id\n",
        "bd_ccal@data$id <- NULL \n",
        "bd_ccal@data <- data.frame(scale(bd_ccal@data))"
      ],
      "outputs": [
        {
          "output_type": "stream",
          "name": "stderr",
          "text": [
            "Returning MultiPolygon types in SpatialPolygons*-class.\n"
          ]
        }
      ],
      "execution_count": 5,
      "metadata": {
        "scrolled": true
      }
    },
    {
      "cell_type": "code",
      "source": [
        "corr_plot <- function(dataset) {\n",
        "    ds <- dataset\n",
        "    \n",
        "    corrplot(cor(ds), diag = FALSE, order = \"alphabet\",\n",
        "         tl.pos = \"td\", tl.cex = 0.5, method = \"color\", type = \"upper\")\n",
        "}"
      ],
      "outputs": [],
      "execution_count": 10,
      "metadata": {}
    },
    {
      "cell_type": "markdown",
      "source": [
        "## Clustering"
      ],
      "metadata": {}
    },
    {
      "cell_type": "markdown",
      "source": [
        "### StatA"
      ],
      "metadata": {}
    },
    {
      "cell_type": "markdown",
      "source": [
        "#### DBSCAN"
      ],
      "metadata": {}
    },
    {
      "cell_type": "code",
      "source": [
        "kNNdistplot(bd_stata@data, k = 38)\n",
        "abline(h = 4.5, col = 'red', lty = 2)"
      ],
      "outputs": [
        {
          "output_type": "display_data",
          "data": {
            "image/png": "[encoded data removed]",
            "text/plain": [
              "plot without title"
            ]
          },
          "metadata": {}
        }
      ],
      "execution_count": 36,
      "metadata": {
        "scrolled": false
      }
    },
    {
      "cell_type": "code",
      "source": [
        "res_stata <- dbscan(bd_stata@data, eps = 4.5, minPts = 39)\n",
        "res_stata"
      ],
      "outputs": [
        {
          "output_type": "display_data",
          "data": {
            "text/plain": [
              "DBSCAN clustering for 24094 objects.\n",
              "Parameters: eps = 4.5, minPts = 39\n",
              "The clustering contains 1 cluster(s) and 591 noise points.\n",
              "\n",
              "    0     1 \n",
              "  591 23503 \n",
              "\nAvailable fields: cluster, eps, minPts"
            ]
          },
          "metadata": {}
        }
      ],
      "execution_count": 80,
      "metadata": {}
    },
    {
      "cell_type": "markdown",
      "source": [
        "### K-Means"
      ],
      "metadata": {}
    },
    {
      "cell_type": "code",
      "source": [
        "clusDBSCAN <- res_statb$cluster\n",
        "bd_stata@data <- cbind(bd_stata@data, clusDBSCAN)"
      ],
      "outputs": [
        {
          "output_type": "display_data",
          "data": {
            "text/html": [
              "<table>\n",
              "<thead><tr><th></th><th scope=col>b_perim</th><th scope=col>b_area</th><th scope=col>b_r_vol_fac</th><th scope=col>b_maxedge</th><th scope=col>b_minedge</th><th scope=col>b_stories</th><th scope=col>b_floorsqm</th><th scope=col>c_miller</th><th scope=col>c_schumm</th><th scope=col>c_haggett</th><th scope=col>...</th><th scope=col>sc_orient</th><th scope=col>sc_l_sn</th><th scope=col>sc_l_ew</th><th scope=col>sc_l_nesw</th><th scope=col>sc_l_senw</th><th scope=col>m_corndis</th><th scope=col>m_court</th><th scope=col>m_court_area</th><th scope=col>m_court_rel_a</th><th scope=col>clusDBSCAN</th></tr></thead>\n",
              "<tbody>\n",
              "\t<tr><th scope=row>788</th><td>-0.07537265 </td><td>-0.074296914</td><td> 0.2829863  </td><td>-0.13484271 </td><td> 1.3048680  </td><td> 1.9869483  </td><td> 0.06264296 </td><td> 0.6509711  </td><td> 0.70325512 </td><td> 0.8121289  </td><td>...         </td><td>-0.4839023  </td><td>-0.2342095  </td><td>-0.235430973</td><td>-0.2640124  </td><td>-0.08757012 </td><td> 0.01675629 </td><td>-0.02473744 </td><td>-0.01736495 </td><td>-0.02733673 </td><td>1           </td></tr>\n",
              "\t<tr><th scope=row>789</th><td>-0.35176885 </td><td>-0.221745494</td><td>-0.4679597  </td><td>-0.57780252 </td><td> 0.2764865  </td><td>-0.2217753  </td><td>-0.18856720 </td><td> 0.6862447  </td><td> 0.75636751 </td><td> 1.1019807  </td><td>...         </td><td>-0.4839023  </td><td>-0.2342095  </td><td>-0.235430973</td><td>-0.2640124  </td><td>-0.26056997 </td><td>-0.50585916 </td><td>-0.02473744 </td><td>-0.01736495 </td><td>-0.02733673 </td><td>1           </td></tr>\n",
              "\t<tr><th scope=row>790</th><td> 4.67861849 </td><td> 2.056661797</td><td> 1.1058453  </td><td> 4.12600041 </td><td>-1.5725550  </td><td> 2.5391292  </td><td> 2.86826480 </td><td>-4.5689051  </td><td>-2.10366350 </td><td>-2.8538222  </td><td>...         </td><td> 2.7631663  </td><td> 0.2638861  </td><td>-0.004673999</td><td> 6.0321956  </td><td> 9.81469410 </td><td> 3.44141980 </td><td>-0.02473744 </td><td>-0.01736495 </td><td>-0.02733673 </td><td>0           </td></tr>\n",
              "\t<tr><th scope=row>791</th><td>-0.04332671 </td><td>-0.072407701</td><td> 0.2137572  </td><td> 0.13457839 </td><td> 0.6657896  </td><td> 0.8825865  </td><td>-0.02561534 </td><td> 0.2329006  </td><td> 0.05710889 </td><td>-0.2740578  </td><td>...         </td><td>-0.4839023  </td><td>-0.2342095  </td><td>-0.235430973</td><td>-0.2640124  </td><td> 0.47238663 </td><td> 0.12942054 </td><td>-0.02473744 </td><td>-0.01736495 </td><td>-0.02733673 </td><td>1           </td></tr>\n",
              "\t<tr><th scope=row>792</th><td> 1.32757961 </td><td> 0.751011121</td><td> 1.5325861  </td><td> 1.99914454 </td><td>-0.3358358  </td><td> 4.7478529  </td><td> 1.89093245 </td><td>-2.0983955  </td><td>-1.73162801 </td><td>-2.7048227  </td><td>...         </td><td> 1.6808101  </td><td>-0.2342095  </td><td> 0.477688821</td><td> 1.5878870  </td><td> 1.81754858 </td><td> 1.90978072 </td><td>-0.02473744 </td><td>-0.01736495 </td><td>-0.02733673 </td><td>1           </td></tr>\n",
              "\t<tr><th scope=row>793</th><td> 0.02877664 </td><td>-0.002089719</td><td> 0.5836982  </td><td>-0.05296434 </td><td> 1.9594543  </td><td> 1.9869483  </td><td> 0.14449635 </td><td> 0.6865568  </td><td> 0.74453276 </td><td> 1.1060653  </td><td>...         </td><td>-0.4839023  </td><td>-0.2342095  </td><td>-0.235430973</td><td>-0.1911207  </td><td>-0.30442394 </td><td> 0.20778318 </td><td>-0.02473744 </td><td>-0.01736495 </td><td>-0.02733673 </td><td>1           </td></tr>\n",
              "</tbody>\n",
              "</table>\n"
            ],
            "text/latex": [
              "\\begin{tabular}{r|lllllllllllllllllllllllllllllllllllllll}\n",
              "  & b\\_perim & b\\_area & b\\_r\\_vol\\_fac & b\\_maxedge & b\\_minedge & b\\_stories & b\\_floorsqm & c\\_miller & c\\_schumm & c\\_haggett & ... & sc\\_orient & sc\\_l\\_sn & sc\\_l\\_ew & sc\\_l\\_nesw & sc\\_l\\_senw & m\\_corndis & m\\_court & m\\_court\\_area & m\\_court\\_rel\\_a & clusDBSCAN\\\\\n",
              "\\hline\n",
              "\t788 & -0.07537265  & -0.074296914 &  0.2829863   & -0.13484271  &  1.3048680   &  1.9869483   &  0.06264296  &  0.6509711   &  0.70325512  &  0.8121289   & ...          & -0.4839023   & -0.2342095   & -0.235430973 & -0.2640124   & -0.08757012  &  0.01675629  & -0.02473744  & -0.01736495  & -0.02733673  & 1           \\\\\n",
              "\t789 & -0.35176885  & -0.221745494 & -0.4679597   & -0.57780252  &  0.2764865   & -0.2217753   & -0.18856720  &  0.6862447   &  0.75636751  &  1.1019807   & ...          & -0.4839023   & -0.2342095   & -0.235430973 & -0.2640124   & -0.26056997  & -0.50585916  & -0.02473744  & -0.01736495  & -0.02733673  & 1           \\\\\n",
              "\t790 &  4.67861849  &  2.056661797 &  1.1058453   &  4.12600041  & -1.5725550   &  2.5391292   &  2.86826480  & -4.5689051   & -2.10366350  & -2.8538222   & ...          &  2.7631663   &  0.2638861   & -0.004673999 &  6.0321956   &  9.81469410  &  3.44141980  & -0.02473744  & -0.01736495  & -0.02733673  & 0           \\\\\n",
              "\t791 & -0.04332671  & -0.072407701 &  0.2137572   &  0.13457839  &  0.6657896   &  0.8825865   & -0.02561534  &  0.2329006   &  0.05710889  & -0.2740578   & ...          & -0.4839023   & -0.2342095   & -0.235430973 & -0.2640124   &  0.47238663  &  0.12942054  & -0.02473744  & -0.01736495  & -0.02733673  & 1           \\\\\n",
              "\t792 &  1.32757961  &  0.751011121 &  1.5325861   &  1.99914454  & -0.3358358   &  4.7478529   &  1.89093245  & -2.0983955   & -1.73162801  & -2.7048227   & ...          &  1.6808101   & -0.2342095   &  0.477688821 &  1.5878870   &  1.81754858  &  1.90978072  & -0.02473744  & -0.01736495  & -0.02733673  & 1           \\\\\n",
              "\t793 &  0.02877664  & -0.002089719 &  0.5836982   & -0.05296434  &  1.9594543   &  1.9869483   &  0.14449635  &  0.6865568   &  0.74453276  &  1.1060653   & ...          & -0.4839023   & -0.2342095   & -0.235430973 & -0.1911207   & -0.30442394  &  0.20778318  & -0.02473744  & -0.01736495  & -0.02733673  & 1           \\\\\n",
              "\\end{tabular}\n"
            ],
            "text/markdown": [
              "\n",
              "| <!--/--> | b_perim | b_area | b_r_vol_fac | b_maxedge | b_minedge | b_stories | b_floorsqm | c_miller | c_schumm | c_haggett | ... | sc_orient | sc_l_sn | sc_l_ew | sc_l_nesw | sc_l_senw | m_corndis | m_court | m_court_area | m_court_rel_a | clusDBSCAN | \n",
              "|---|---|---|---|---|---|\n",
              "| 788 | -0.07537265  | -0.074296914 |  0.2829863   | -0.13484271  |  1.3048680   |  1.9869483   |  0.06264296  |  0.6509711   |  0.70325512  |  0.8121289   | ...          | -0.4839023   | -0.2342095   | -0.235430973 | -0.2640124   | -0.08757012  |  0.01675629  | -0.02473744  | -0.01736495  | -0.02733673  | 1            | \n",
              "| 789 | -0.35176885  | -0.221745494 | -0.4679597   | -0.57780252  |  0.2764865   | -0.2217753   | -0.18856720  |  0.6862447   |  0.75636751  |  1.1019807   | ...          | -0.4839023   | -0.2342095   | -0.235430973 | -0.2640124   | -0.26056997  | -0.50585916  | -0.02473744  | -0.01736495  | -0.02733673  | 1            | \n",
              "| 790 |  4.67861849  |  2.056661797 |  1.1058453   |  4.12600041  | -1.5725550   |  2.5391292   |  2.86826480  | -4.5689051   | -2.10366350  | -2.8538222   | ...          |  2.7631663   |  0.2638861   | -0.004673999 |  6.0321956   |  9.81469410  |  3.44141980  | -0.02473744  | -0.01736495  | -0.02733673  | 0            | \n",
              "| 791 | -0.04332671  | -0.072407701 |  0.2137572   |  0.13457839  |  0.6657896   |  0.8825865   | -0.02561534  |  0.2329006   |  0.05710889  | -0.2740578   | ...          | -0.4839023   | -0.2342095   | -0.235430973 | -0.2640124   |  0.47238663  |  0.12942054  | -0.02473744  | -0.01736495  | -0.02733673  | 1            | \n",
              "| 792 |  1.32757961  |  0.751011121 |  1.5325861   |  1.99914454  | -0.3358358   |  4.7478529   |  1.89093245  | -2.0983955   | -1.73162801  | -2.7048227   | ...          |  1.6808101   | -0.2342095   |  0.477688821 |  1.5878870   |  1.81754858  |  1.90978072  | -0.02473744  | -0.01736495  | -0.02733673  | 1            | \n",
              "| 793 |  0.02877664  | -0.002089719 |  0.5836982   | -0.05296434  |  1.9594543   |  1.9869483   |  0.14449635  |  0.6865568   |  0.74453276  |  1.1060653   | ...          | -0.4839023   | -0.2342095   | -0.235430973 | -0.1911207   | -0.30442394  |  0.20778318  | -0.02473744  | -0.01736495  | -0.02733673  | 1            | \n",
              "\n\n"
            ],
            "text/plain": [
              "    b_perim     b_area       b_r_vol_fac b_maxedge   b_minedge  b_stories \n",
              "788 -0.07537265 -0.074296914  0.2829863  -0.13484271  1.3048680  1.9869483\n",
              "789 -0.35176885 -0.221745494 -0.4679597  -0.57780252  0.2764865 -0.2217753\n",
              "790  4.67861849  2.056661797  1.1058453   4.12600041 -1.5725550  2.5391292\n",
              "791 -0.04332671 -0.072407701  0.2137572   0.13457839  0.6657896  0.8825865\n",
              "792  1.32757961  0.751011121  1.5325861   1.99914454 -0.3358358  4.7478529\n",
              "793  0.02877664 -0.002089719  0.5836982  -0.05296434  1.9594543  1.9869483\n",
              "    b_floorsqm  c_miller   c_schumm    c_haggett  ... sc_orient  sc_l_sn   \n",
              "788  0.06264296  0.6509711  0.70325512  0.8121289 ... -0.4839023 -0.2342095\n",
              "789 -0.18856720  0.6862447  0.75636751  1.1019807 ... -0.4839023 -0.2342095\n",
              "790  2.86826480 -4.5689051 -2.10366350 -2.8538222 ...  2.7631663  0.2638861\n",
              "791 -0.02561534  0.2329006  0.05710889 -0.2740578 ... -0.4839023 -0.2342095\n",
              "792  1.89093245 -2.0983955 -1.73162801 -2.7048227 ...  1.6808101 -0.2342095\n",
              "793  0.14449635  0.6865568  0.74453276  1.1060653 ... -0.4839023 -0.2342095\n",
              "    sc_l_ew      sc_l_nesw  sc_l_senw   m_corndis   m_court     m_court_area\n",
              "788 -0.235430973 -0.2640124 -0.08757012  0.01675629 -0.02473744 -0.01736495 \n",
              "789 -0.235430973 -0.2640124 -0.26056997 -0.50585916 -0.02473744 -0.01736495 \n",
              "790 -0.004673999  6.0321956  9.81469410  3.44141980 -0.02473744 -0.01736495 \n",
              "791 -0.235430973 -0.2640124  0.47238663  0.12942054 -0.02473744 -0.01736495 \n",
              "792  0.477688821  1.5878870  1.81754858  1.90978072 -0.02473744 -0.01736495 \n",
              "793 -0.235430973 -0.1911207 -0.30442394  0.20778318 -0.02473744 -0.01736495 \n",
              "    m_court_rel_a clusDBSCAN\n",
              "788 -0.02733673   1         \n",
              "789 -0.02733673   1         \n",
              "790 -0.02733673   0         \n",
              "791 -0.02733673   1         \n",
              "792 -0.02733673   1         \n",
              "793 -0.02733673   1         "
            ]
          },
          "metadata": {}
        }
      ],
      "execution_count": 81,
      "metadata": {}
    },
    {
      "cell_type": "code",
      "source": [
        "sel <- bd_stata@data$clusDBSCAN == 1\n",
        "bd_stata_to_class <- bd_stata[sel,]"
      ],
      "outputs": [],
      "execution_count": 99,
      "metadata": {}
    },
    {
      "cell_type": "code",
      "source": [
        "wss_clusters = seq(1, 20)\n",
        "for (i in 1:20) {\n",
        "    c = kmeans(bd_stata_to_class@data[,c(-31:-34,-36:-39)], i, nstart=5, iter.max = 50)\n",
        "    wss_clusters[i] = c$betweenss / c$totss\n",
        "}"
      ],
      "outputs": [
        {
          "output_type": "stream",
          "name": "stderr",
          "text": [
            "Warning message:\n",
            "\"Quick-TRANSfer stage steps exceeded maximum (= 1175150)\""
          ]
        }
      ],
      "execution_count": 85,
      "metadata": {}
    },
    {
      "cell_type": "code",
      "source": [
        "plot(wss_clusters, type=\"o\")"
      ],
      "outputs": [
        {
          "output_type": "display_data",
          "data": {
            "image/png": "[encoded data removed]",
            "text/plain": [
              "plot without title"
            ]
          },
          "metadata": {}
        }
      ],
      "execution_count": 86,
      "metadata": {}
    },
    {
      "cell_type": "code",
      "source": [
        "stata_kmeans <- kmeans(bd_stata_to_class@data[, c(-31:-34, -36:-39)], 12, nstart = 5, iter.max = 50)"
      ],
      "outputs": [],
      "execution_count": 103,
      "metadata": {}
    },
    {
      "cell_type": "code",
      "source": [
        "round(stata_kmeans$betweenss / stata_kmeans$totss, 2)"
      ],
      "outputs": [
        {
          "output_type": "display_data",
          "data": {
            "text/html": [
              "0.73"
            ],
            "text/latex": [
              "0.73"
            ],
            "text/markdown": [
              "0.73"
            ],
            "text/plain": [
              "[1] 0.73"
            ]
          },
          "metadata": {}
        }
      ],
      "execution_count": 104,
      "metadata": {}
    },
    {
      "cell_type": "code",
      "source": [
        "clusKME13 <- stata_kmeans$cluster\n",
        "bd_stata_to_class@data <- cbind(bd_stata_to_class@data, clusKME12)"
      ],
      "outputs": [],
      "execution_count": 105,
      "metadata": {}
    },
    {
      "cell_type": "code",
      "source": [
        "writeOGR(bd_stata, dsn = \"bd_stata.gpkg\", layer = 'dbscan', driver = \"GPKG\")\n",
        "writeOGR(bd_stata_to_class, dsn = \"bd_stata_kmeans.gpkg\", layer = 'km12', driver = \"GPKG\")"
      ],
      "outputs": [],
      "execution_count": 108,
      "metadata": {}
    },
    {
      "cell_type": "markdown",
      "source": [
        "### StatB"
      ],
      "metadata": {}
    },
    {
      "cell_type": "code",
      "source": [
        "kNNdistplot(bd_statb@data, k = 38)\n",
        "abline(h = 5, col = 'red', lty = 2)"
      ],
      "outputs": [
        {
          "output_type": "display_data",
          "data": {
            "image/png": "[encoded data removed]",
            "text/plain": [
              "plot without title"
            ]
          },
          "metadata": {}
        }
      ],
      "execution_count": 6,
      "metadata": {}
    },
    {
      "cell_type": "code",
      "source": [
        "res_statb <- dbscan(bd_statb@data, eps = 5, minPts = 39)\n",
        "res_statb"
      ],
      "outputs": [
        {
          "output_type": "display_data",
          "data": {
            "text/plain": [
              "DBSCAN clustering for 51704 objects.\n",
              "Parameters: eps = 5, minPts = 39\n",
              "The clustering contains 1 cluster(s) and 777 noise points.\n",
              "\n",
              "    0     1 \n",
              "  777 50927 \n",
              "\nAvailable fields: cluster, eps, minPts"
            ]
          },
          "metadata": {}
        }
      ],
      "execution_count": 6,
      "metadata": {}
    },
    {
      "cell_type": "code",
      "source": [
        "clusDBSCAN <- res_statb$cluster\n",
        "bd_statb@data <- cbind(bd_statb@data, clusDBSCAN)"
      ],
      "outputs": [
        {
          "output_type": "display_data",
          "data": {
            "text/html": [
              "<table>\n",
              "<thead><tr><th scope=col>b_perim</th><th scope=col>b_area</th><th scope=col>b_r_vol_fac</th><th scope=col>b_maxedge</th><th scope=col>b_minedge</th><th scope=col>b_stories</th><th scope=col>b_floorsqm</th><th scope=col>c_miller</th><th scope=col>c_schumm</th><th scope=col>c_haggett</th><th scope=col>...</th><th scope=col>sc_orient</th><th scope=col>sc_l_sn</th><th scope=col>sc_l_ew</th><th scope=col>sc_l_nesw</th><th scope=col>sc_l_senw</th><th scope=col>m_corndis</th><th scope=col>m_court</th><th scope=col>m_court_area</th><th scope=col>m_court_rel_a</th><th scope=col>clusDBSCAN</th></tr></thead>\n",
              "<tbody>\n",
              "\t<tr><td> 1.6336763  </td><td> 1.1062675  </td><td> 2.12952255 </td><td> 2.00668154 </td><td>-1.3202569  </td><td>-0.003323836</td><td> 0.49873621 </td><td>-1.7260012  </td><td>-0.8903350  </td><td>-1.5885070  </td><td>...         </td><td> 2.7382284  </td><td>-0.1489650  </td><td>-0.04812188 </td><td> 2.44671347 </td><td> 1.95842346 </td><td> 1.61386134 </td><td>-0.01868091 </td><td>-0.01232127 </td><td>-0.02050337 </td><td>1           </td></tr>\n",
              "\t<tr><td>-0.6739517  </td><td>-0.3442559  </td><td>-1.15728840 </td><td>-0.92950713 </td><td>-0.7503876  </td><td>-0.656767158</td><td>-0.23871136 </td><td> 0.6759864  </td><td> 0.7403685  </td><td> 0.9890411  </td><td>...         </td><td>-0.4950173  </td><td>-0.2595827  </td><td>-0.25232472 </td><td>-0.32722943 </td><td>-0.24417929 </td><td>-0.99883305 </td><td>-0.01868091 </td><td>-0.01232127 </td><td>-0.02050337 </td><td>1           </td></tr>\n",
              "\t<tr><td>-0.1014790  </td><td>-0.1217218  </td><td>-0.06215268 </td><td> 0.16723154 </td><td> 0.1296646  </td><td>-0.656767158</td><td>-0.16444997 </td><td>-0.1077806  </td><td>-0.4508903  </td><td>-0.8039886  </td><td>...         </td><td>-0.4950173  </td><td>-0.2595827  </td><td>-0.25232472 </td><td> 0.86288179 </td><td>-0.31778260 </td><td> 0.08482979 </td><td>-0.01868091 </td><td>-0.01232127 </td><td>-0.02050337 </td><td>1           </td></tr>\n",
              "\t<tr><td> 0.4815442  </td><td> 0.1415312  </td><td> 0.44840279 </td><td>-0.01408539 </td><td>-0.4811763  </td><td>-0.003323836</td><td> 0.01582589 </td><td>-1.4463896  </td><td>-1.1617179  </td><td>-1.5341838  </td><td>...         </td><td> 1.6604799  </td><td>-0.2595827  </td><td> 0.24565431 </td><td> 1.07588794 </td><td> 0.11697100 </td><td> 0.12012602 </td><td>-0.01868091 </td><td>-0.01232127 </td><td>-0.02050337 </td><td>1           </td></tr>\n",
              "\t<tr><td>-0.2739547  </td><td>-0.1860816  </td><td>-0.21755598 </td><td>-0.35730439 </td><td> 0.4396905  </td><td>-0.656767158</td><td>-0.18592735 </td><td> 0.6127674  </td><td> 0.6362937  </td><td> 0.6413997  </td><td>...         </td><td>-0.4950173  </td><td>-0.2595827  </td><td>-0.25232472 </td><td>-0.01483144 </td><td>-0.31778260 </td><td>-0.30232621 </td><td>-0.01868091 </td><td>-0.01232127 </td><td>-0.02050337 </td><td>1           </td></tr>\n",
              "\t<tr><td>-0.4045348  </td><td>-0.2508048  </td><td>-0.55640895 </td><td>-0.47910473 </td><td>-0.1432210  </td><td>-0.003323836</td><td>-0.18056259 </td><td> 0.4984052  </td><td> 0.4634202  </td><td> 0.2789148  </td><td>...         </td><td>-0.4950173  </td><td>-0.2595827  </td><td>-0.25232472 </td><td>-0.32722943 </td><td> 0.08663966 </td><td>-0.51831859 </td><td>-0.01868091 </td><td>-0.01232127 </td><td>-0.02050337 </td><td>1           </td></tr>\n",
              "</tbody>\n",
              "</table>\n"
            ],
            "text/latex": [
              "\\begin{tabular}{r|lllllllllllllllllllllllllllllllllllllll}\n",
              " b\\_perim & b\\_area & b\\_r\\_vol\\_fac & b\\_maxedge & b\\_minedge & b\\_stories & b\\_floorsqm & c\\_miller & c\\_schumm & c\\_haggett & ... & sc\\_orient & sc\\_l\\_sn & sc\\_l\\_ew & sc\\_l\\_nesw & sc\\_l\\_senw & m\\_corndis & m\\_court & m\\_court\\_area & m\\_court\\_rel\\_a & clusDBSCAN\\\\\n",
              "\\hline\n",
              "\t  1.6336763   &  1.1062675   &  2.12952255  &  2.00668154  & -1.3202569   & -0.003323836 &  0.49873621  & -1.7260012   & -0.8903350   & -1.5885070   & ...          &  2.7382284   & -0.1489650   & -0.04812188  &  2.44671347  &  1.95842346  &  1.61386134  & -0.01868091  & -0.01232127  & -0.02050337  & 1           \\\\\n",
              "\t -0.6739517   & -0.3442559   & -1.15728840  & -0.92950713  & -0.7503876   & -0.656767158 & -0.23871136  &  0.6759864   &  0.7403685   &  0.9890411   & ...          & -0.4950173   & -0.2595827   & -0.25232472  & -0.32722943  & -0.24417929  & -0.99883305  & -0.01868091  & -0.01232127  & -0.02050337  & 1           \\\\\n",
              "\t -0.1014790   & -0.1217218   & -0.06215268  &  0.16723154  &  0.1296646   & -0.656767158 & -0.16444997  & -0.1077806   & -0.4508903   & -0.8039886   & ...          & -0.4950173   & -0.2595827   & -0.25232472  &  0.86288179  & -0.31778260  &  0.08482979  & -0.01868091  & -0.01232127  & -0.02050337  & 1           \\\\\n",
              "\t  0.4815442   &  0.1415312   &  0.44840279  & -0.01408539  & -0.4811763   & -0.003323836 &  0.01582589  & -1.4463896   & -1.1617179   & -1.5341838   & ...          &  1.6604799   & -0.2595827   &  0.24565431  &  1.07588794  &  0.11697100  &  0.12012602  & -0.01868091  & -0.01232127  & -0.02050337  & 1           \\\\\n",
              "\t -0.2739547   & -0.1860816   & -0.21755598  & -0.35730439  &  0.4396905   & -0.656767158 & -0.18592735  &  0.6127674   &  0.6362937   &  0.6413997   & ...          & -0.4950173   & -0.2595827   & -0.25232472  & -0.01483144  & -0.31778260  & -0.30232621  & -0.01868091  & -0.01232127  & -0.02050337  & 1           \\\\\n",
              "\t -0.4045348   & -0.2508048   & -0.55640895  & -0.47910473  & -0.1432210   & -0.003323836 & -0.18056259  &  0.4984052   &  0.4634202   &  0.2789148   & ...          & -0.4950173   & -0.2595827   & -0.25232472  & -0.32722943  &  0.08663966  & -0.51831859  & -0.01868091  & -0.01232127  & -0.02050337  & 1           \\\\\n",
              "\\end{tabular}\n"
            ],
            "text/markdown": [
              "\n",
              "b_perim | b_area | b_r_vol_fac | b_maxedge | b_minedge | b_stories | b_floorsqm | c_miller | c_schumm | c_haggett | ... | sc_orient | sc_l_sn | sc_l_ew | sc_l_nesw | sc_l_senw | m_corndis | m_court | m_court_area | m_court_rel_a | clusDBSCAN | \n",
              "|---|---|---|---|---|---|\n",
              "|  1.6336763   |  1.1062675   |  2.12952255  |  2.00668154  | -1.3202569   | -0.003323836 |  0.49873621  | -1.7260012   | -0.8903350   | -1.5885070   | ...          |  2.7382284   | -0.1489650   | -0.04812188  |  2.44671347  |  1.95842346  |  1.61386134  | -0.01868091  | -0.01232127  | -0.02050337  | 1            | \n",
              "| -0.6739517   | -0.3442559   | -1.15728840  | -0.92950713  | -0.7503876   | -0.656767158 | -0.23871136  |  0.6759864   |  0.7403685   |  0.9890411   | ...          | -0.4950173   | -0.2595827   | -0.25232472  | -0.32722943  | -0.24417929  | -0.99883305  | -0.01868091  | -0.01232127  | -0.02050337  | 1            | \n",
              "| -0.1014790   | -0.1217218   | -0.06215268  |  0.16723154  |  0.1296646   | -0.656767158 | -0.16444997  | -0.1077806   | -0.4508903   | -0.8039886   | ...          | -0.4950173   | -0.2595827   | -0.25232472  |  0.86288179  | -0.31778260  |  0.08482979  | -0.01868091  | -0.01232127  | -0.02050337  | 1            | \n",
              "|  0.4815442   |  0.1415312   |  0.44840279  | -0.01408539  | -0.4811763   | -0.003323836 |  0.01582589  | -1.4463896   | -1.1617179   | -1.5341838   | ...          |  1.6604799   | -0.2595827   |  0.24565431  |  1.07588794  |  0.11697100  |  0.12012602  | -0.01868091  | -0.01232127  | -0.02050337  | 1            | \n",
              "| -0.2739547   | -0.1860816   | -0.21755598  | -0.35730439  |  0.4396905   | -0.656767158 | -0.18592735  |  0.6127674   |  0.6362937   |  0.6413997   | ...          | -0.4950173   | -0.2595827   | -0.25232472  | -0.01483144  | -0.31778260  | -0.30232621  | -0.01868091  | -0.01232127  | -0.02050337  | 1            | \n",
              "| -0.4045348   | -0.2508048   | -0.55640895  | -0.47910473  | -0.1432210   | -0.003323836 | -0.18056259  |  0.4984052   |  0.4634202   |  0.2789148   | ...          | -0.4950173   | -0.2595827   | -0.25232472  | -0.32722943  |  0.08663966  | -0.51831859  | -0.01868091  | -0.01232127  | -0.02050337  | 1            | \n",
              "\n\n"
            ],
            "text/plain": [
              "  b_perim    b_area     b_r_vol_fac b_maxedge   b_minedge  b_stories   \n",
              "1  1.6336763  1.1062675  2.12952255  2.00668154 -1.3202569 -0.003323836\n",
              "2 -0.6739517 -0.3442559 -1.15728840 -0.92950713 -0.7503876 -0.656767158\n",
              "3 -0.1014790 -0.1217218 -0.06215268  0.16723154  0.1296646 -0.656767158\n",
              "4  0.4815442  0.1415312  0.44840279 -0.01408539 -0.4811763 -0.003323836\n",
              "5 -0.2739547 -0.1860816 -0.21755598 -0.35730439  0.4396905 -0.656767158\n",
              "6 -0.4045348 -0.2508048 -0.55640895 -0.47910473 -0.1432210 -0.003323836\n",
              "  b_floorsqm  c_miller   c_schumm   c_haggett  ... sc_orient  sc_l_sn   \n",
              "1  0.49873621 -1.7260012 -0.8903350 -1.5885070 ...  2.7382284 -0.1489650\n",
              "2 -0.23871136  0.6759864  0.7403685  0.9890411 ... -0.4950173 -0.2595827\n",
              "3 -0.16444997 -0.1077806 -0.4508903 -0.8039886 ... -0.4950173 -0.2595827\n",
              "4  0.01582589 -1.4463896 -1.1617179 -1.5341838 ...  1.6604799 -0.2595827\n",
              "5 -0.18592735  0.6127674  0.6362937  0.6413997 ... -0.4950173 -0.2595827\n",
              "6 -0.18056259  0.4984052  0.4634202  0.2789148 ... -0.4950173 -0.2595827\n",
              "  sc_l_ew     sc_l_nesw   sc_l_senw   m_corndis   m_court     m_court_area\n",
              "1 -0.04812188  2.44671347  1.95842346  1.61386134 -0.01868091 -0.01232127 \n",
              "2 -0.25232472 -0.32722943 -0.24417929 -0.99883305 -0.01868091 -0.01232127 \n",
              "3 -0.25232472  0.86288179 -0.31778260  0.08482979 -0.01868091 -0.01232127 \n",
              "4  0.24565431  1.07588794  0.11697100  0.12012602 -0.01868091 -0.01232127 \n",
              "5 -0.25232472 -0.01483144 -0.31778260 -0.30232621 -0.01868091 -0.01232127 \n",
              "6 -0.25232472 -0.32722943  0.08663966 -0.51831859 -0.01868091 -0.01232127 \n",
              "  m_court_rel_a clusDBSCAN\n",
              "1 -0.02050337   1         \n",
              "2 -0.02050337   1         \n",
              "3 -0.02050337   1         \n",
              "4 -0.02050337   1         \n",
              "5 -0.02050337   1         \n",
              "6 -0.02050337   1         "
            ]
          },
          "metadata": {}
        }
      ],
      "execution_count": 7,
      "metadata": {}
    },
    {
      "cell_type": "code",
      "source": [
        "sel <- bd_statb@data$clusDBSCAN == 1\n",
        "bd_statb_to_class <- bd_statb[sel,]"
      ],
      "outputs": [],
      "execution_count": 8,
      "metadata": {}
    },
    {
      "cell_type": "code",
      "source": [
        "wss_clusters = seq(1, 20)\n",
        "for (i in 1:20) {\n",
        "    c = kmeans(bd_statb_to_class@data[,c(-31:-34,-36:-39)], i, nstart=5, iter.max = 50)\n",
        "    wss_clusters[i] = c$betweenss / c$totss\n",
        "}"
      ],
      "outputs": [
        {
          "output_type": "stream",
          "name": "stderr",
          "text": [
            "Warning message:\n",
            "\"Quick-TRANSfer stage steps exceeded maximum (= 2546350)\"Warning message:\n",
            "\"Quick-TRANSfer stage steps exceeded maximum (= 2546350)\"Warning message:\n",
            "\"Quick-TRANSfer stage steps exceeded maximum (= 2546350)\"Warning message:\n",
            "\"Quick-TRANSfer stage steps exceeded maximum (= 2546350)\""
          ]
        }
      ],
      "execution_count": 9,
      "metadata": {}
    },
    {
      "cell_type": "code",
      "source": [
        "plot(wss_clusters, type=\"o\")"
      ],
      "outputs": [
        {
          "output_type": "display_data",
          "data": {
            "image/png": "[encoded data removed]",
            "text/plain": [
              "plot without title"
            ]
          },
          "metadata": {}
        }
      ],
      "execution_count": 10,
      "metadata": {}
    },
    {
      "cell_type": "code",
      "source": [
        "statb_kmeans <- kmeans(bd_statb_to_class@data[, c(-31:-34, -36:-39)], 15, nstart = 5, iter.max = 50)"
      ],
      "outputs": [],
      "execution_count": 11,
      "metadata": {}
    },
    {
      "cell_type": "code",
      "source": [
        "round(statb_kmeans$betweenss / statb_kmeans$totss, 2)"
      ],
      "outputs": [
        {
          "output_type": "display_data",
          "data": {
            "text/html": [
              "0.76"
            ],
            "text/latex": [
              "0.76"
            ],
            "text/markdown": [
              "0.76"
            ],
            "text/plain": [
              "[1] 0.76"
            ]
          },
          "metadata": {}
        }
      ],
      "execution_count": 12,
      "metadata": {}
    },
    {
      "cell_type": "code",
      "source": [
        "clusKME15 <- statb_kmeans$cluster\n",
        "bd_statb_to_class@data <- cbind(bd_statb_to_class@data, clusKME15)"
      ],
      "outputs": [],
      "execution_count": 14,
      "metadata": {}
    },
    {
      "cell_type": "code",
      "source": [
        "writeOGR(bd_statb, dsn = \"bd_statb.gpkg\", layer = 'dbscan', driver = \"GPKG\")\n",
        "writeOGR(bd_statb_to_class, dsn = \"bd_statb_kmeans.gpkg\", layer = 'km15', driver = \"GPKG\")"
      ],
      "outputs": [],
      "execution_count": 15,
      "metadata": {}
    },
    {
      "cell_type": "markdown",
      "source": [
        "### Fractal morphology"
      ],
      "metadata": {}
    },
    {
      "cell_type": "code",
      "source": [
        "kNNdistplot(bd_morf@data, k = 38)\n",
        "abline(h = 4, col = 'red', lty = 2)"
      ],
      "outputs": [
        {
          "output_type": "display_data",
          "data": {
            "image/png": "[encoded data removed]",
            "text/plain": [
              "plot without title"
            ]
          },
          "metadata": {}
        }
      ],
      "execution_count": 36,
      "metadata": {}
    },
    {
      "cell_type": "code",
      "source": [
        "res_morf <- dbscan(bd_morf@data, eps = 4, minPts = 39)\n",
        "res_morf"
      ],
      "outputs": [
        {
          "output_type": "display_data",
          "data": {
            "text/plain": [
              "DBSCAN clustering for 24037 objects.\n",
              "Parameters: eps = 4, minPts = 39\n",
              "The clustering contains 1 cluster(s) and 794 noise points.\n",
              "\n",
              "    0     1 \n",
              "  794 23243 \n",
              "\nAvailable fields: cluster, eps, minPts"
            ]
          },
          "metadata": {}
        }
      ],
      "execution_count": 24,
      "metadata": {}
    },
    {
      "cell_type": "code",
      "source": [
        "clusDBSCAN <- res_morf$cluster\n",
        "bd_morf@data <- cbind(bd_morf@data, clusDBSCAN)"
      ],
      "outputs": [
        {
          "output_type": "display_data",
          "data": {
            "text/html": [
              "<table>\n",
              "<thead><tr><th></th><th scope=col>b_perim</th><th scope=col>b_area</th><th scope=col>b_r_vol_fac</th><th scope=col>b_maxedge</th><th scope=col>b_minedge</th><th scope=col>b_stories</th><th scope=col>b_floorsqm</th><th scope=col>c_miller</th><th scope=col>c_schumm</th><th scope=col>c_haggett</th><th scope=col>...</th><th scope=col>sc_orient</th><th scope=col>sc_l_sn</th><th scope=col>sc_l_ew</th><th scope=col>sc_l_nesw</th><th scope=col>sc_l_senw</th><th scope=col>m_corndis</th><th scope=col>m_court</th><th scope=col>m_court_area</th><th scope=col>m_court_rel_a</th><th scope=col>clusDBSCAN</th></tr></thead>\n",
              "<tbody>\n",
              "\t<tr><th scope=row>788</th><td>-0.06698971  </td><td>-0.06854546  </td><td> 0.3041854   </td><td>-0.12462725  </td><td> 1.3212788   </td><td> 1.9770080   </td><td> 0.06685161  </td><td> 0.6431885   </td><td> 0.69607711  </td><td> 0.8054069   </td><td>...          </td><td>-0.4770268   </td><td>-0.2307193   </td><td>-0.2334717030</td><td>-0.2619333   </td><td>-0.08345882  </td><td> 0.0294097   </td><td>-0.02457879  </td><td>-0.01676117  </td><td>-0.02739077  </td><td>1            </td></tr>\n",
              "\t<tr><th scope=row>789</th><td>-0.34860507  </td><td>-0.22273112  </td><td>-0.4661002   </td><td>-0.57335133  </td><td> 0.2783125   </td><td>-0.2418528   </td><td>-0.18788919  </td><td> 0.6787592   </td><td> 0.74954498  </td><td> 1.0969352   </td><td>...          </td><td>-0.4770268   </td><td>-0.2307193   </td><td>-0.2334717030</td><td>-0.2619333   </td><td>-0.25966162  </td><td>-0.5016886   </td><td>-0.02457879  </td><td>-0.01676117  </td><td>-0.02739077  </td><td>1            </td></tr>\n",
              "\t<tr><th scope=row>790</th><td> 4.77677063  </td><td> 2.15977903  </td><td> 1.1482361   </td><td> 4.19166256  </td><td>-1.5969526   </td><td> 2.5317232   </td><td> 2.91190504  </td><td>-4.6206579   </td><td>-2.12962797  </td><td>-2.8817482   </td><td>...          </td><td> 2.8031183   </td><td> 0.2752511   </td><td>-0.0009252949</td><td> 6.1184840   </td><td>10.00213789  </td><td> 3.5096606   </td><td>-0.02457879  </td><td>-0.01676117  </td><td>-0.02739077  </td><td>0            </td></tr>\n",
              "\t<tr><th scope=row>791</th><td>-0.03433865  </td><td>-0.06656993  </td><td> 0.2331734   </td><td> 0.14829985  </td><td> 0.6731369   </td><td> 0.8675776   </td><td>-0.02264712  </td><td> 0.2215963   </td><td> 0.04560627  </td><td>-0.2870624   </td><td>...          </td><td>-0.4770268   </td><td>-0.2307193   </td><td>-0.2334717030</td><td>-0.2619333   </td><td> 0.48686507  </td><td> 0.1439027   </td><td>-0.02457879  </td><td>-0.01676117  </td><td>-0.02739077  </td><td>1            </td></tr>\n",
              "\t<tr><th scope=row>792</th><td> 1.36245437  </td><td> 0.79447178  </td><td> 1.5859670   </td><td> 2.03712975  </td><td>-0.3426940   </td><td> 4.7505839   </td><td> 1.92083677  </td><td>-2.1293377   </td><td>-1.75510248  </td><td>-2.7318869   </td><td>...          </td><td> 1.7097366   </td><td>-0.2307193   </td><td> 0.4851780684</td><td> 1.6147346   </td><td> 1.85693163  </td><td> 1.9531608   </td><td>-0.02457879  </td><td>-0.01676117  </td><td>-0.02739077  </td><td>0            </td></tr>\n",
              "\t<tr><th scope=row>793</th><td> 0.03912623  </td><td> 0.00696096  </td><td> 0.6126418   </td><td>-0.04168339  </td><td> 1.9851487   </td><td> 1.9770080   </td><td> 0.14985540  </td><td> 0.6790739   </td><td> 0.73763101  </td><td> 1.1010434   </td><td>...          </td><td>-0.4770268   </td><td>-0.2307193   </td><td>-0.2334717030</td><td>-0.1880667   </td><td>-0.30432751  </td><td> 0.2235372   </td><td>-0.02457879  </td><td>-0.01676117  </td><td>-0.02739077  </td><td>1            </td></tr>\n",
              "</tbody>\n",
              "</table>\n"
            ],
            "text/latex": [
              "\\begin{tabular}{r|lllllllllllllllllllllllllllllllllllllll}\n",
              "  & b\\_perim & b\\_area & b\\_r\\_vol\\_fac & b\\_maxedge & b\\_minedge & b\\_stories & b\\_floorsqm & c\\_miller & c\\_schumm & c\\_haggett & ... & sc\\_orient & sc\\_l\\_sn & sc\\_l\\_ew & sc\\_l\\_nesw & sc\\_l\\_senw & m\\_corndis & m\\_court & m\\_court\\_area & m\\_court\\_rel\\_a & clusDBSCAN\\\\\n",
              "\\hline\n",
              "\t788 & -0.06698971   & -0.06854546   &  0.3041854    & -0.12462725   &  1.3212788    &  1.9770080    &  0.06685161   &  0.6431885    &  0.69607711   &  0.8054069    & ...           & -0.4770268    & -0.2307193    & -0.2334717030 & -0.2619333    & -0.08345882   &  0.0294097    & -0.02457879   & -0.01676117   & -0.02739077   & 1            \\\\\n",
              "\t789 & -0.34860507   & -0.22273112   & -0.4661002    & -0.57335133   &  0.2783125    & -0.2418528    & -0.18788919   &  0.6787592    &  0.74954498   &  1.0969352    & ...           & -0.4770268    & -0.2307193    & -0.2334717030 & -0.2619333    & -0.25966162   & -0.5016886    & -0.02457879   & -0.01676117   & -0.02739077   & 1            \\\\\n",
              "\t790 &  4.77677063   &  2.15977903   &  1.1482361    &  4.19166256   & -1.5969526    &  2.5317232    &  2.91190504   & -4.6206579    & -2.12962797   & -2.8817482    & ...           &  2.8031183    &  0.2752511    & -0.0009252949 &  6.1184840    & 10.00213789   &  3.5096606    & -0.02457879   & -0.01676117   & -0.02739077   & 0            \\\\\n",
              "\t791 & -0.03433865   & -0.06656993   &  0.2331734    &  0.14829985   &  0.6731369    &  0.8675776    & -0.02264712   &  0.2215963    &  0.04560627   & -0.2870624    & ...           & -0.4770268    & -0.2307193    & -0.2334717030 & -0.2619333    &  0.48686507   &  0.1439027    & -0.02457879   & -0.01676117   & -0.02739077   & 1            \\\\\n",
              "\t792 &  1.36245437   &  0.79447178   &  1.5859670    &  2.03712975   & -0.3426940    &  4.7505839    &  1.92083677   & -2.1293377    & -1.75510248   & -2.7318869    & ...           &  1.7097366    & -0.2307193    &  0.4851780684 &  1.6147346    &  1.85693163   &  1.9531608    & -0.02457879   & -0.01676117   & -0.02739077   & 0            \\\\\n",
              "\t793 &  0.03912623   &  0.00696096   &  0.6126418    & -0.04168339   &  1.9851487    &  1.9770080    &  0.14985540   &  0.6790739    &  0.73763101   &  1.1010434    & ...           & -0.4770268    & -0.2307193    & -0.2334717030 & -0.1880667    & -0.30432751   &  0.2235372    & -0.02457879   & -0.01676117   & -0.02739077   & 1            \\\\\n",
              "\\end{tabular}\n"
            ],
            "text/markdown": [
              "\n",
              "| <!--/--> | b_perim | b_area | b_r_vol_fac | b_maxedge | b_minedge | b_stories | b_floorsqm | c_miller | c_schumm | c_haggett | ... | sc_orient | sc_l_sn | sc_l_ew | sc_l_nesw | sc_l_senw | m_corndis | m_court | m_court_area | m_court_rel_a | clusDBSCAN | \n",
              "|---|---|---|---|---|---|\n",
              "| 788 | -0.06698971   | -0.06854546   |  0.3041854    | -0.12462725   |  1.3212788    |  1.9770080    |  0.06685161   |  0.6431885    |  0.69607711   |  0.8054069    | ...           | -0.4770268    | -0.2307193    | -0.2334717030 | -0.2619333    | -0.08345882   |  0.0294097    | -0.02457879   | -0.01676117   | -0.02739077   | 1             | \n",
              "| 789 | -0.34860507   | -0.22273112   | -0.4661002    | -0.57335133   |  0.2783125    | -0.2418528    | -0.18788919   |  0.6787592    |  0.74954498   |  1.0969352    | ...           | -0.4770268    | -0.2307193    | -0.2334717030 | -0.2619333    | -0.25966162   | -0.5016886    | -0.02457879   | -0.01676117   | -0.02739077   | 1             | \n",
              "| 790 |  4.77677063   |  2.15977903   |  1.1482361    |  4.19166256   | -1.5969526    |  2.5317232    |  2.91190504   | -4.6206579    | -2.12962797   | -2.8817482    | ...           |  2.8031183    |  0.2752511    | -0.0009252949 |  6.1184840    | 10.00213789   |  3.5096606    | -0.02457879   | -0.01676117   | -0.02739077   | 0             | \n",
              "| 791 | -0.03433865   | -0.06656993   |  0.2331734    |  0.14829985   |  0.6731369    |  0.8675776    | -0.02264712   |  0.2215963    |  0.04560627   | -0.2870624    | ...           | -0.4770268    | -0.2307193    | -0.2334717030 | -0.2619333    |  0.48686507   |  0.1439027    | -0.02457879   | -0.01676117   | -0.02739077   | 1             | \n",
              "| 792 |  1.36245437   |  0.79447178   |  1.5859670    |  2.03712975   | -0.3426940    |  4.7505839    |  1.92083677   | -2.1293377    | -1.75510248   | -2.7318869    | ...           |  1.7097366    | -0.2307193    |  0.4851780684 |  1.6147346    |  1.85693163   |  1.9531608    | -0.02457879   | -0.01676117   | -0.02739077   | 0             | \n",
              "| 793 |  0.03912623   |  0.00696096   |  0.6126418    | -0.04168339   |  1.9851487    |  1.9770080    |  0.14985540   |  0.6790739    |  0.73763101   |  1.1010434    | ...           | -0.4770268    | -0.2307193    | -0.2334717030 | -0.1880667    | -0.30432751   |  0.2235372    | -0.02457879   | -0.01676117   | -0.02739077   | 1             | \n",
              "\n\n"
            ],
            "text/plain": [
              "    b_perim     b_area      b_r_vol_fac b_maxedge   b_minedge  b_stories \n",
              "788 -0.06698971 -0.06854546  0.3041854  -0.12462725  1.3212788  1.9770080\n",
              "789 -0.34860507 -0.22273112 -0.4661002  -0.57335133  0.2783125 -0.2418528\n",
              "790  4.77677063  2.15977903  1.1482361   4.19166256 -1.5969526  2.5317232\n",
              "791 -0.03433865 -0.06656993  0.2331734   0.14829985  0.6731369  0.8675776\n",
              "792  1.36245437  0.79447178  1.5859670   2.03712975 -0.3426940  4.7505839\n",
              "793  0.03912623  0.00696096  0.6126418  -0.04168339  1.9851487  1.9770080\n",
              "    b_floorsqm  c_miller   c_schumm    c_haggett  ... sc_orient  sc_l_sn   \n",
              "788  0.06685161  0.6431885  0.69607711  0.8054069 ... -0.4770268 -0.2307193\n",
              "789 -0.18788919  0.6787592  0.74954498  1.0969352 ... -0.4770268 -0.2307193\n",
              "790  2.91190504 -4.6206579 -2.12962797 -2.8817482 ...  2.8031183  0.2752511\n",
              "791 -0.02264712  0.2215963  0.04560627 -0.2870624 ... -0.4770268 -0.2307193\n",
              "792  1.92083677 -2.1293377 -1.75510248 -2.7318869 ...  1.7097366 -0.2307193\n",
              "793  0.14985540  0.6790739  0.73763101  1.1010434 ... -0.4770268 -0.2307193\n",
              "    sc_l_ew       sc_l_nesw  sc_l_senw   m_corndis  m_court     m_court_area\n",
              "788 -0.2334717030 -0.2619333 -0.08345882  0.0294097 -0.02457879 -0.01676117 \n",
              "789 -0.2334717030 -0.2619333 -0.25966162 -0.5016886 -0.02457879 -0.01676117 \n",
              "790 -0.0009252949  6.1184840 10.00213789  3.5096606 -0.02457879 -0.01676117 \n",
              "791 -0.2334717030 -0.2619333  0.48686507  0.1439027 -0.02457879 -0.01676117 \n",
              "792  0.4851780684  1.6147346  1.85693163  1.9531608 -0.02457879 -0.01676117 \n",
              "793 -0.2334717030 -0.1880667 -0.30432751  0.2235372 -0.02457879 -0.01676117 \n",
              "    m_court_rel_a clusDBSCAN\n",
              "788 -0.02739077   1         \n",
              "789 -0.02739077   1         \n",
              "790 -0.02739077   0         \n",
              "791 -0.02739077   1         \n",
              "792 -0.02739077   0         \n",
              "793 -0.02739077   1         "
            ]
          },
          "metadata": {}
        }
      ],
      "execution_count": 25,
      "metadata": {}
    },
    {
      "cell_type": "code",
      "source": [
        "sel <- bd_morf@data$clusDBSCAN == 1\n",
        "bd_morf_to_class <- bd_morf[sel,]"
      ],
      "outputs": [],
      "execution_count": 26,
      "metadata": {}
    },
    {
      "cell_type": "code",
      "source": [
        "wss_clusters = seq(1, 20)\n",
        "for (i in 1:20) {\n",
        "    c = kmeans(bd_morf_to_class@data[,c(-31:-34,-36:-39)], i, nstart=5, iter.max = 50)\n",
        "    wss_clusters[i] = c$betweenss / c$totss\n",
        "}"
      ],
      "outputs": [
        {
          "output_type": "stream",
          "name": "stderr",
          "text": [
            "Warning message:\n",
            "\"Quick-TRANSfer stage steps exceeded maximum (= 1162150)\""
          ]
        }
      ],
      "execution_count": 29,
      "metadata": {}
    },
    {
      "cell_type": "code",
      "source": [
        "plot(wss_clusters, type=\"o\")"
      ],
      "outputs": [
        {
          "output_type": "display_data",
          "data": {
            "image/png": "[encoded data removed]",
            "text/plain": [
              "plot without title"
            ]
          },
          "metadata": {}
        }
      ],
      "execution_count": 30,
      "metadata": {}
    },
    {
      "cell_type": "code",
      "source": [
        "morf_kmeans <- kmeans(bd_morf_to_class@data[, c(-31:-34, -36:-39)], 12, nstart = 5, iter.max = 50)"
      ],
      "outputs": [],
      "execution_count": 33,
      "metadata": {}
    },
    {
      "cell_type": "code",
      "source": [
        "round(morf_kmeans$betweenss / morf_kmeans$totss, 2)"
      ],
      "outputs": [
        {
          "output_type": "display_data",
          "data": {
            "text/html": [
              "0.74"
            ],
            "text/latex": [
              "0.74"
            ],
            "text/markdown": [
              "0.74"
            ],
            "text/plain": [
              "[1] 0.74"
            ]
          },
          "metadata": {}
        }
      ],
      "execution_count": 34,
      "metadata": {}
    },
    {
      "cell_type": "code",
      "source": [
        "clusKME13 <- morf_kmeans$cluster\n",
        "bd_morf_to_class@data <- cbind(bd_morf_to_class@data, clusKME13)"
      ],
      "outputs": [],
      "execution_count": 35,
      "metadata": {}
    },
    {
      "cell_type": "code",
      "source": [
        "writeOGR(bd_morf, dsn = \"bd_morf.gpkg\", layer = 'dbscan', driver = \"GPKG\")\n",
        "writeOGR(bd_morf_to_class, dsn = \"bd_morf_kmeans.gpkg\", layer = 'km12', driver = \"GPKG\")"
      ],
      "outputs": [],
      "execution_count": 37,
      "metadata": {}
    },
    {
      "cell_type": "markdown",
      "source": [
        "### CCA King"
      ],
      "metadata": {}
    },
    {
      "cell_type": "code",
      "source": [
        "kNNdistplot(bd_ccak@data, k = 38)\n",
        "abline(h = 5, col = 'red', lty = 2)"
      ],
      "outputs": [
        {
          "output_type": "display_data",
          "data": {
            "image/png": "[encoded data removed]",
            "text/plain": [
              "plot without title"
            ]
          },
          "metadata": {}
        }
      ],
      "execution_count": 40,
      "metadata": {}
    },
    {
      "cell_type": "code",
      "source": [
        "res_ccak <- dbscan(bd_ccak@data, eps = 5, minPts = 39)\n",
        "res_ccak"
      ],
      "outputs": [
        {
          "output_type": "display_data",
          "data": {
            "text/plain": [
              "DBSCAN clustering for 13990 objects.\n",
              "Parameters: eps = 5, minPts = 39\n",
              "The clustering contains 1 cluster(s) and 321 noise points.\n",
              "\n",
              "    0     1 \n",
              "  321 13669 \n",
              "\nAvailable fields: cluster, eps, minPts"
            ]
          },
          "metadata": {}
        }
      ],
      "execution_count": 41,
      "metadata": {}
    },
    {
      "cell_type": "code",
      "source": [
        "clusDBSCAN <- res_ccak$cluster\n",
        "bd_ccak@data <- cbind(bd_ccak@data, clusDBSCAN)"
      ],
      "outputs": [
        {
          "output_type": "display_data",
          "data": {
            "text/html": [
              "<table>\n",
              "<thead><tr><th></th><th scope=col>b_perim</th><th scope=col>b_area</th><th scope=col>b_r_vol_fac</th><th scope=col>b_maxedge</th><th scope=col>b_minedge</th><th scope=col>b_stories</th><th scope=col>b_floorsqm</th><th scope=col>c_miller</th><th scope=col>c_schumm</th><th scope=col>c_haggett</th><th scope=col>...</th><th scope=col>sc_orient</th><th scope=col>sc_l_sn</th><th scope=col>sc_l_ew</th><th scope=col>sc_l_nesw</th><th scope=col>sc_l_senw</th><th scope=col>m_corndis</th><th scope=col>m_court</th><th scope=col>m_court_area</th><th scope=col>m_court_rel_a</th><th scope=col>clusDBSCAN</th></tr></thead>\n",
              "<tbody>\n",
              "\t<tr><th scope=row>788</th><td>-0.10538068 </td><td>-0.09102727 </td><td> 0.2138043  </td><td>-0.19687918 </td><td> 1.2152285  </td><td> 1.562440   </td><td> 0.004581605</td><td> 0.6466792  </td><td> 0.70024202 </td><td> 0.811064   </td><td>...         </td><td>-0.4621199  </td><td>-0.2205559  </td><td>-0.21718508 </td><td>-0.2401628  </td><td>-0.1077653  </td><td>-0.06134414 </td><td>-0.02621136 </td><td>-0.01954041 </td><td>-0.03080047 </td><td>1           </td></tr>\n",
              "\t<tr><th scope=row>789</th><td>-0.34448782 </td><td>-0.22391820 </td><td>-0.5382248  </td><td>-0.61122861 </td><td> 0.1983877  </td><td>-0.457524   </td><td>-0.208810627</td><td> 0.6806584  </td><td> 0.75030115 </td><td> 1.090907   </td><td>...         </td><td>-0.4621199  </td><td>-0.2205559  </td><td>-0.21718508 </td><td>-0.2401628  </td><td>-0.2590453  </td><td>-0.54965627 </td><td>-0.02621136 </td><td>-0.01954041 </td><td>-0.03080047 </td><td>1           </td></tr>\n",
              "\t<tr><th scope=row>790</th><td> 4.00724170 </td><td> 1.82954103 </td><td> 1.0378501  </td><td> 3.78875984 </td><td>-1.6299032  </td><td> 2.067431   </td><td> 2.387836725</td><td>-4.3816589  </td><td>-1.94531571 </td><td>-2.728296   </td><td>...         </td><td> 2.8285439  </td><td> 0.1936505  </td><td>-0.02785125 </td><td> 5.5129687  </td><td> 8.5512854  </td><td> 3.13853203 </td><td>-0.02621136 </td><td>-0.01954041 </td><td>-0.03080047 </td><td>0           </td></tr>\n",
              "\t<tr><th scope=row>791</th><td>-0.07765811 </td><td>-0.08932458 </td><td> 0.1444754  </td><td> 0.05514024 </td><td> 0.5833220  </td><td> 0.552458   </td><td>-0.070390030</td><td> 0.2439493  </td><td> 0.09124069 </td><td>-0.237615   </td><td>...         </td><td>-0.4621199  </td><td>-0.2205559  </td><td>-0.21718508 </td><td>-0.2401628  </td><td> 0.3818898  </td><td> 0.04392508 </td><td>-0.02621136 </td><td>-0.01954041 </td><td>-0.03080047 </td><td>1           </td></tr>\n",
              "\t<tr><th scope=row>792</th><td> 1.10829698 </td><td> 0.65279777 </td><td> 1.4652064  </td><td> 1.79927572 </td><td>-0.4070629  </td><td> 4.087395   </td><td> 1.557634909</td><td>-2.0018022  </td><td>-1.59466736 </td><td>-2.584442   </td><td>...         </td><td> 1.7316560  </td><td>-0.2205559  </td><td> 0.36792271 </td><td> 1.4520019  </td><td> 1.5581688  </td><td> 1.70742635 </td><td>-0.02621136 </td><td>-0.01954041 </td><td>-0.03080047 </td><td>1           </td></tr>\n",
              "\t<tr><th scope=row>793</th><td>-0.01528234 </td><td>-0.02594913 </td><td> 0.5149500  </td><td>-0.12028927 </td><td> 1.8624688  </td><td> 1.562440   </td><td> 0.074112540</td><td> 0.6809591  </td><td> 0.73914673 </td><td> 1.094850   </td><td>...         </td><td>-0.4621199  </td><td>-0.2205559  </td><td>-0.21718508 </td><td>-0.1735584  </td><td>-0.2973935  </td><td> 0.11714417 </td><td>-0.02621136 </td><td>-0.01954041 </td><td>-0.03080047 </td><td>1           </td></tr>\n",
              "</tbody>\n",
              "</table>\n"
            ],
            "text/latex": [
              "\\begin{tabular}{r|lllllllllllllllllllllllllllllllllllllll}\n",
              "  & b\\_perim & b\\_area & b\\_r\\_vol\\_fac & b\\_maxedge & b\\_minedge & b\\_stories & b\\_floorsqm & c\\_miller & c\\_schumm & c\\_haggett & ... & sc\\_orient & sc\\_l\\_sn & sc\\_l\\_ew & sc\\_l\\_nesw & sc\\_l\\_senw & m\\_corndis & m\\_court & m\\_court\\_area & m\\_court\\_rel\\_a & clusDBSCAN\\\\\n",
              "\\hline\n",
              "\t788 & -0.10538068  & -0.09102727  &  0.2138043   & -0.19687918  &  1.2152285   &  1.562440    &  0.004581605 &  0.6466792   &  0.70024202  &  0.811064    & ...          & -0.4621199   & -0.2205559   & -0.21718508  & -0.2401628   & -0.1077653   & -0.06134414  & -0.02621136  & -0.01954041  & -0.03080047  & 1           \\\\\n",
              "\t789 & -0.34448782  & -0.22391820  & -0.5382248   & -0.61122861  &  0.1983877   & -0.457524    & -0.208810627 &  0.6806584   &  0.75030115  &  1.090907    & ...          & -0.4621199   & -0.2205559   & -0.21718508  & -0.2401628   & -0.2590453   & -0.54965627  & -0.02621136  & -0.01954041  & -0.03080047  & 1           \\\\\n",
              "\t790 &  4.00724170  &  1.82954103  &  1.0378501   &  3.78875984  & -1.6299032   &  2.067431    &  2.387836725 & -4.3816589   & -1.94531571  & -2.728296    & ...          &  2.8285439   &  0.1936505   & -0.02785125  &  5.5129687   &  8.5512854   &  3.13853203  & -0.02621136  & -0.01954041  & -0.03080047  & 0           \\\\\n",
              "\t791 & -0.07765811  & -0.08932458  &  0.1444754   &  0.05514024  &  0.5833220   &  0.552458    & -0.070390030 &  0.2439493   &  0.09124069  & -0.237615    & ...          & -0.4621199   & -0.2205559   & -0.21718508  & -0.2401628   &  0.3818898   &  0.04392508  & -0.02621136  & -0.01954041  & -0.03080047  & 1           \\\\\n",
              "\t792 &  1.10829698  &  0.65279777  &  1.4652064   &  1.79927572  & -0.4070629   &  4.087395    &  1.557634909 & -2.0018022   & -1.59466736  & -2.584442    & ...          &  1.7316560   & -0.2205559   &  0.36792271  &  1.4520019   &  1.5581688   &  1.70742635  & -0.02621136  & -0.01954041  & -0.03080047  & 1           \\\\\n",
              "\t793 & -0.01528234  & -0.02594913  &  0.5149500   & -0.12028927  &  1.8624688   &  1.562440    &  0.074112540 &  0.6809591   &  0.73914673  &  1.094850    & ...          & -0.4621199   & -0.2205559   & -0.21718508  & -0.1735584   & -0.2973935   &  0.11714417  & -0.02621136  & -0.01954041  & -0.03080047  & 1           \\\\\n",
              "\\end{tabular}\n"
            ],
            "text/markdown": [
              "\n",
              "| <!--/--> | b_perim | b_area | b_r_vol_fac | b_maxedge | b_minedge | b_stories | b_floorsqm | c_miller | c_schumm | c_haggett | ... | sc_orient | sc_l_sn | sc_l_ew | sc_l_nesw | sc_l_senw | m_corndis | m_court | m_court_area | m_court_rel_a | clusDBSCAN | \n",
              "|---|---|---|---|---|---|\n",
              "| 788 | -0.10538068  | -0.09102727  |  0.2138043   | -0.19687918  |  1.2152285   |  1.562440    |  0.004581605 |  0.6466792   |  0.70024202  |  0.811064    | ...          | -0.4621199   | -0.2205559   | -0.21718508  | -0.2401628   | -0.1077653   | -0.06134414  | -0.02621136  | -0.01954041  | -0.03080047  | 1            | \n",
              "| 789 | -0.34448782  | -0.22391820  | -0.5382248   | -0.61122861  |  0.1983877   | -0.457524    | -0.208810627 |  0.6806584   |  0.75030115  |  1.090907    | ...          | -0.4621199   | -0.2205559   | -0.21718508  | -0.2401628   | -0.2590453   | -0.54965627  | -0.02621136  | -0.01954041  | -0.03080047  | 1            | \n",
              "| 790 |  4.00724170  |  1.82954103  |  1.0378501   |  3.78875984  | -1.6299032   |  2.067431    |  2.387836725 | -4.3816589   | -1.94531571  | -2.728296    | ...          |  2.8285439   |  0.1936505   | -0.02785125  |  5.5129687   |  8.5512854   |  3.13853203  | -0.02621136  | -0.01954041  | -0.03080047  | 0            | \n",
              "| 791 | -0.07765811  | -0.08932458  |  0.1444754   |  0.05514024  |  0.5833220   |  0.552458    | -0.070390030 |  0.2439493   |  0.09124069  | -0.237615    | ...          | -0.4621199   | -0.2205559   | -0.21718508  | -0.2401628   |  0.3818898   |  0.04392508  | -0.02621136  | -0.01954041  | -0.03080047  | 1            | \n",
              "| 792 |  1.10829698  |  0.65279777  |  1.4652064   |  1.79927572  | -0.4070629   |  4.087395    |  1.557634909 | -2.0018022   | -1.59466736  | -2.584442    | ...          |  1.7316560   | -0.2205559   |  0.36792271  |  1.4520019   |  1.5581688   |  1.70742635  | -0.02621136  | -0.01954041  | -0.03080047  | 1            | \n",
              "| 793 | -0.01528234  | -0.02594913  |  0.5149500   | -0.12028927  |  1.8624688   |  1.562440    |  0.074112540 |  0.6809591   |  0.73914673  |  1.094850    | ...          | -0.4621199   | -0.2205559   | -0.21718508  | -0.1735584   | -0.2973935   |  0.11714417  | -0.02621136  | -0.01954041  | -0.03080047  | 1            | \n",
              "\n\n"
            ],
            "text/plain": [
              "    b_perim     b_area      b_r_vol_fac b_maxedge   b_minedge  b_stories\n",
              "788 -0.10538068 -0.09102727  0.2138043  -0.19687918  1.2152285  1.562440\n",
              "789 -0.34448782 -0.22391820 -0.5382248  -0.61122861  0.1983877 -0.457524\n",
              "790  4.00724170  1.82954103  1.0378501   3.78875984 -1.6299032  2.067431\n",
              "791 -0.07765811 -0.08932458  0.1444754   0.05514024  0.5833220  0.552458\n",
              "792  1.10829698  0.65279777  1.4652064   1.79927572 -0.4070629  4.087395\n",
              "793 -0.01528234 -0.02594913  0.5149500  -0.12028927  1.8624688  1.562440\n",
              "    b_floorsqm   c_miller   c_schumm    c_haggett ... sc_orient  sc_l_sn   \n",
              "788  0.004581605  0.6466792  0.70024202  0.811064 ... -0.4621199 -0.2205559\n",
              "789 -0.208810627  0.6806584  0.75030115  1.090907 ... -0.4621199 -0.2205559\n",
              "790  2.387836725 -4.3816589 -1.94531571 -2.728296 ...  2.8285439  0.1936505\n",
              "791 -0.070390030  0.2439493  0.09124069 -0.237615 ... -0.4621199 -0.2205559\n",
              "792  1.557634909 -2.0018022 -1.59466736 -2.584442 ...  1.7316560 -0.2205559\n",
              "793  0.074112540  0.6809591  0.73914673  1.094850 ... -0.4621199 -0.2205559\n",
              "    sc_l_ew     sc_l_nesw  sc_l_senw  m_corndis   m_court     m_court_area\n",
              "788 -0.21718508 -0.2401628 -0.1077653 -0.06134414 -0.02621136 -0.01954041 \n",
              "789 -0.21718508 -0.2401628 -0.2590453 -0.54965627 -0.02621136 -0.01954041 \n",
              "790 -0.02785125  5.5129687  8.5512854  3.13853203 -0.02621136 -0.01954041 \n",
              "791 -0.21718508 -0.2401628  0.3818898  0.04392508 -0.02621136 -0.01954041 \n",
              "792  0.36792271  1.4520019  1.5581688  1.70742635 -0.02621136 -0.01954041 \n",
              "793 -0.21718508 -0.1735584 -0.2973935  0.11714417 -0.02621136 -0.01954041 \n",
              "    m_court_rel_a clusDBSCAN\n",
              "788 -0.03080047   1         \n",
              "789 -0.03080047   1         \n",
              "790 -0.03080047   0         \n",
              "791 -0.03080047   1         \n",
              "792 -0.03080047   1         \n",
              "793 -0.03080047   1         "
            ]
          },
          "metadata": {}
        }
      ],
      "execution_count": 42,
      "metadata": {}
    },
    {
      "cell_type": "code",
      "source": [
        "sel <- bd_ccak@data$clusDBSCAN == 1\n",
        "bd_ccak_to_class <- bd_ccak[sel,]"
      ],
      "outputs": [],
      "execution_count": 43,
      "metadata": {}
    },
    {
      "cell_type": "code",
      "source": [
        "wss_clusters = seq(1, 20)\n",
        "for (i in 1:20) {\n",
        "    c = kmeans(bd_ccak_to_class@data[,c(-31:-34,-36:-39)], i, nstart=5, iter.max = 50)\n",
        "    wss_clusters[i] = c$betweenss / c$totss\n",
        "}"
      ],
      "outputs": [
        {
          "output_type": "stream",
          "name": "stderr",
          "text": [
            "Warning message:\n",
            "\"Quick-TRANSfer stage steps exceeded maximum (= 683450)\""
          ]
        }
      ],
      "execution_count": 44,
      "metadata": {}
    },
    {
      "cell_type": "code",
      "source": [
        "plot(wss_clusters, type=\"o\")"
      ],
      "outputs": [
        {
          "output_type": "display_data",
          "data": {
            "image/png": "[encoded data removed]",
            "text/plain": [
              "plot without title"
            ]
          },
          "metadata": {}
        }
      ],
      "execution_count": 45,
      "metadata": {}
    },
    {
      "cell_type": "code",
      "source": [
        "ccak_kmeans <- kmeans(bd_ccak_to_class@data[, c(-31:-34, -36:-39)], 12, nstart = 5, iter.max = 50)"
      ],
      "outputs": [],
      "execution_count": 46,
      "metadata": {}
    },
    {
      "cell_type": "code",
      "source": [
        "round(ccak_kmeans$betweenss / ccak_kmeans$totss, 2)"
      ],
      "outputs": [
        {
          "output_type": "display_data",
          "data": {
            "text/html": [
              "0.74"
            ],
            "text/latex": [
              "0.74"
            ],
            "text/markdown": [
              "0.74"
            ],
            "text/plain": [
              "[1] 0.74"
            ]
          },
          "metadata": {}
        }
      ],
      "execution_count": 47,
      "metadata": {}
    },
    {
      "cell_type": "code",
      "source": [
        "clusKME12 <- ccak_kmeans$cluster\n",
        "bd_ccak_to_class@data <- cbind(bd_ccak_to_class@data, clusKME12)"
      ],
      "outputs": [],
      "execution_count": 48,
      "metadata": {}
    },
    {
      "cell_type": "code",
      "source": [
        "writeOGR(bd_ccak, dsn = \"bd_ccak.gpkg\", layer = 'dbscan', driver = \"GPKG\")\n",
        "writeOGR(bd_ccak_to_class, dsn = \"bd_ccak_kmeans.gpkg\", layer = 'km12', driver = \"GPKG\")"
      ],
      "outputs": [],
      "execution_count": 49,
      "metadata": {}
    },
    {
      "cell_type": "code",
      "source": [],
      "outputs": [],
      "execution_count": null,
      "metadata": {}
    },
    {
      "cell_type": "markdown",
      "source": [
        "### CCA Lenient"
      ],
      "metadata": {}
    },
    {
      "cell_type": "code",
      "source": [
        "kNNdistplot(bd_ccal@data, k = 38)\n",
        "abline(h = 5, col = 'red', lty = 2)"
      ],
      "outputs": [
        {
          "output_type": "display_data",
          "data": {
            "image/png": "[encoded data removed]",
            "text/plain": [
              "plot without title"
            ]
          },
          "metadata": {}
        }
      ],
      "execution_count": 6,
      "metadata": {}
    },
    {
      "cell_type": "code",
      "source": [
        "res_ccal <- dbscan(bd_ccal@data, eps = 5, minPts = 39)\n",
        "res_ccal"
      ],
      "outputs": [
        {
          "output_type": "display_data",
          "data": {
            "text/plain": [
              "DBSCAN clustering for 18538 objects.\n",
              "Parameters: eps = 5, minPts = 39\n",
              "The clustering contains 1 cluster(s) and 415 noise points.\n",
              "\n",
              "    0     1 \n",
              "  415 18123 \n",
              "\nAvailable fields: cluster, eps, minPts"
            ]
          },
          "metadata": {}
        }
      ],
      "execution_count": 7,
      "metadata": {}
    },
    {
      "cell_type": "code",
      "source": [
        "clusDBSCAN <- res_ccal$cluster\n",
        "bd_ccal@data <- cbind(bd_ccal@data, clusDBSCAN)"
      ],
      "outputs": [
        {
          "output_type": "display_data",
          "data": {
            "text/html": [
              "<table>\n",
              "<thead><tr><th></th><th scope=col>b_perim</th><th scope=col>b_area</th><th scope=col>b_r_vol_fac</th><th scope=col>b_maxedge</th><th scope=col>b_minedge</th><th scope=col>b_stories</th><th scope=col>b_floorsqm</th><th scope=col>c_miller</th><th scope=col>c_schumm</th><th scope=col>c_haggett</th><th scope=col>...</th><th scope=col>sc_orient</th><th scope=col>sc_l_sn</th><th scope=col>sc_l_ew</th><th scope=col>sc_l_nesw</th><th scope=col>sc_l_senw</th><th scope=col>m_corndis</th><th scope=col>m_court</th><th scope=col>m_court_area</th><th scope=col>m_court_rel_a</th><th scope=col>clusDBSCAN</th></tr></thead>\n",
              "<tbody>\n",
              "\t<tr><th scope=row>788</th><td>-0.09829562</td><td>-0.08906542</td><td> 0.2311050 </td><td>-0.17274391</td><td> 1.2675685 </td><td> 1.7648907 </td><td> 0.02608336</td><td> 0.6537138 </td><td> 0.70974906</td><td> 0.8229722 </td><td>...        </td><td>-0.4776269 </td><td>-0.2283326 </td><td>-0.22531352</td><td>-0.2606365 </td><td>-0.1027775 </td><td>-0.03133972</td><td>-0.02672204</td><td>-0.01886185</td><td>-0.03021632</td><td>1          </td></tr>\n",
              "\t<tr><th scope=row>789</th><td>-0.35456210</td><td>-0.22779448</td><td>-0.5035347 </td><td>-0.59818135</td><td> 0.2409455 </td><td>-0.3407563 </td><td>-0.20090401</td><td> 0.6883230 </td><td> 0.76159682</td><td> 1.1089579 </td><td>...        </td><td>-0.4776269 </td><td>-0.2283326 </td><td>-0.22531352</td><td>-0.2606365 </td><td>-0.2627573 </td><td>-0.53188487</td><td>-0.02672204</td><td>-0.01886185</td><td>-0.03021632</td><td>1          </td></tr>\n",
              "\t<tr><th scope=row>790</th><td> 4.30946598</td><td> 1.91587686</td><td> 1.0360961 </td><td> 3.91955100</td><td>-1.6049341 </td><td> 2.2913025 </td><td> 2.56117466</td><td>-4.4678418 </td><td>-2.03033513</td><td>-2.7940820 </td><td>...        </td><td> 2.7808056 </td><td> 0.2276312 </td><td>-0.01476496</td><td> 5.5531714 </td><td> 9.0542366 </td><td> 3.24869859</td><td>-0.02672204</td><td>-0.01886185</td><td>-0.03021632</td><td>0          </td></tr>\n",
              "\t<tr><th scope=row>791</th><td>-0.06858356</td><td>-0.08728793</td><td> 0.1633791 </td><td> 0.08601957</td><td> 0.6295830 </td><td> 0.7120672 </td><td>-0.05366469</td><td> 0.2435179 </td><td> 0.07898796</td><td>-0.2487268 </td><td>...        </td><td>-0.4776269 </td><td>-0.2283326 </td><td>-0.22531352</td><td>-0.2606365 </td><td> 0.4150366 </td><td> 0.07656667</td><td>-0.02672204</td><td>-0.01886185</td><td>-0.03021632</td><td>1          </td></tr>\n",
              "\t<tr><th scope=row>792</th><td> 1.20248070</td><td> 0.68743718</td><td> 1.4535705 </td><td> 1.87682818</td><td>-0.3703297 </td><td> 4.3969495 </td><td> 1.67808104</td><td>-2.0438663 </td><td>-1.66715803</td><td>-2.6470699 </td><td>...        </td><td> 1.6946614 </td><td>-0.2283326 </td><td> 0.42535519</td><td> 1.4493749 </td><td> 1.6589609 </td><td> 1.78174137</td><td>-0.02672204</td><td>-0.01886185</td><td>-0.03021632</td><td>1          </td></tr>\n",
              "\t<tr><th scope=row>793</th><td>-0.00173144</td><td>-0.02112827</td><td> 0.5252871 </td><td>-0.09410444</td><td> 1.9210355 </td><td> 1.7648907 </td><td> 0.10004408</td><td> 0.6886292 </td><td> 0.75004385</td><td> 1.1129881 </td><td>...        </td><td>-0.4776269 </td><td>-0.2283326 </td><td>-0.22531352</td><td>-0.1933296 </td><td>-0.3033107 </td><td> 0.15162001</td><td>-0.02672204</td><td>-0.01886185</td><td>-0.03021632</td><td>1          </td></tr>\n",
              "</tbody>\n",
              "</table>\n"
            ],
            "text/latex": [
              "\\begin{tabular}{r|lllllllllllllllllllllllllllllllllllllll}\n",
              "  & b\\_perim & b\\_area & b\\_r\\_vol\\_fac & b\\_maxedge & b\\_minedge & b\\_stories & b\\_floorsqm & c\\_miller & c\\_schumm & c\\_haggett & ... & sc\\_orient & sc\\_l\\_sn & sc\\_l\\_ew & sc\\_l\\_nesw & sc\\_l\\_senw & m\\_corndis & m\\_court & m\\_court\\_area & m\\_court\\_rel\\_a & clusDBSCAN\\\\\n",
              "\\hline\n",
              "\t788 & -0.09829562 & -0.08906542 &  0.2311050  & -0.17274391 &  1.2675685  &  1.7648907  &  0.02608336 &  0.6537138  &  0.70974906 &  0.8229722  & ...         & -0.4776269  & -0.2283326  & -0.22531352 & -0.2606365  & -0.1027775  & -0.03133972 & -0.02672204 & -0.01886185 & -0.03021632 & 1          \\\\\n",
              "\t789 & -0.35456210 & -0.22779448 & -0.5035347  & -0.59818135 &  0.2409455  & -0.3407563  & -0.20090401 &  0.6883230  &  0.76159682 &  1.1089579  & ...         & -0.4776269  & -0.2283326  & -0.22531352 & -0.2606365  & -0.2627573  & -0.53188487 & -0.02672204 & -0.01886185 & -0.03021632 & 1          \\\\\n",
              "\t790 &  4.30946598 &  1.91587686 &  1.0360961  &  3.91955100 & -1.6049341  &  2.2913025  &  2.56117466 & -4.4678418  & -2.03033513 & -2.7940820  & ...         &  2.7808056  &  0.2276312  & -0.01476496 &  5.5531714  &  9.0542366  &  3.24869859 & -0.02672204 & -0.01886185 & -0.03021632 & 0          \\\\\n",
              "\t791 & -0.06858356 & -0.08728793 &  0.1633791  &  0.08601957 &  0.6295830  &  0.7120672  & -0.05366469 &  0.2435179  &  0.07898796 & -0.2487268  & ...         & -0.4776269  & -0.2283326  & -0.22531352 & -0.2606365  &  0.4150366  &  0.07656667 & -0.02672204 & -0.01886185 & -0.03021632 & 1          \\\\\n",
              "\t792 &  1.20248070 &  0.68743718 &  1.4535705  &  1.87682818 & -0.3703297  &  4.3969495  &  1.67808104 & -2.0438663  & -1.66715803 & -2.6470699  & ...         &  1.6946614  & -0.2283326  &  0.42535519 &  1.4493749  &  1.6589609  &  1.78174137 & -0.02672204 & -0.01886185 & -0.03021632 & 1          \\\\\n",
              "\t793 & -0.00173144 & -0.02112827 &  0.5252871  & -0.09410444 &  1.9210355  &  1.7648907  &  0.10004408 &  0.6886292  &  0.75004385 &  1.1129881  & ...         & -0.4776269  & -0.2283326  & -0.22531352 & -0.1933296  & -0.3033107  &  0.15162001 & -0.02672204 & -0.01886185 & -0.03021632 & 1          \\\\\n",
              "\\end{tabular}\n"
            ],
            "text/markdown": [
              "\n",
              "| <!--/--> | b_perim | b_area | b_r_vol_fac | b_maxedge | b_minedge | b_stories | b_floorsqm | c_miller | c_schumm | c_haggett | ... | sc_orient | sc_l_sn | sc_l_ew | sc_l_nesw | sc_l_senw | m_corndis | m_court | m_court_area | m_court_rel_a | clusDBSCAN | \n",
              "|---|---|---|---|---|---|\n",
              "| 788 | -0.09829562 | -0.08906542 |  0.2311050  | -0.17274391 |  1.2675685  |  1.7648907  |  0.02608336 |  0.6537138  |  0.70974906 |  0.8229722  | ...         | -0.4776269  | -0.2283326  | -0.22531352 | -0.2606365  | -0.1027775  | -0.03133972 | -0.02672204 | -0.01886185 | -0.03021632 | 1           | \n",
              "| 789 | -0.35456210 | -0.22779448 | -0.5035347  | -0.59818135 |  0.2409455  | -0.3407563  | -0.20090401 |  0.6883230  |  0.76159682 |  1.1089579  | ...         | -0.4776269  | -0.2283326  | -0.22531352 | -0.2606365  | -0.2627573  | -0.53188487 | -0.02672204 | -0.01886185 | -0.03021632 | 1           | \n",
              "| 790 |  4.30946598 |  1.91587686 |  1.0360961  |  3.91955100 | -1.6049341  |  2.2913025  |  2.56117466 | -4.4678418  | -2.03033513 | -2.7940820  | ...         |  2.7808056  |  0.2276312  | -0.01476496 |  5.5531714  |  9.0542366  |  3.24869859 | -0.02672204 | -0.01886185 | -0.03021632 | 0           | \n",
              "| 791 | -0.06858356 | -0.08728793 |  0.1633791  |  0.08601957 |  0.6295830  |  0.7120672  | -0.05366469 |  0.2435179  |  0.07898796 | -0.2487268  | ...         | -0.4776269  | -0.2283326  | -0.22531352 | -0.2606365  |  0.4150366  |  0.07656667 | -0.02672204 | -0.01886185 | -0.03021632 | 1           | \n",
              "| 792 |  1.20248070 |  0.68743718 |  1.4535705  |  1.87682818 | -0.3703297  |  4.3969495  |  1.67808104 | -2.0438663  | -1.66715803 | -2.6470699  | ...         |  1.6946614  | -0.2283326  |  0.42535519 |  1.4493749  |  1.6589609  |  1.78174137 | -0.02672204 | -0.01886185 | -0.03021632 | 1           | \n",
              "| 793 | -0.00173144 | -0.02112827 |  0.5252871  | -0.09410444 |  1.9210355  |  1.7648907  |  0.10004408 |  0.6886292  |  0.75004385 |  1.1129881  | ...         | -0.4776269  | -0.2283326  | -0.22531352 | -0.1933296  | -0.3033107  |  0.15162001 | -0.02672204 | -0.01886185 | -0.03021632 | 1           | \n",
              "\n\n"
            ],
            "text/plain": [
              "    b_perim     b_area      b_r_vol_fac b_maxedge   b_minedge  b_stories \n",
              "788 -0.09829562 -0.08906542  0.2311050  -0.17274391  1.2675685  1.7648907\n",
              "789 -0.35456210 -0.22779448 -0.5035347  -0.59818135  0.2409455 -0.3407563\n",
              "790  4.30946598  1.91587686  1.0360961   3.91955100 -1.6049341  2.2913025\n",
              "791 -0.06858356 -0.08728793  0.1633791   0.08601957  0.6295830  0.7120672\n",
              "792  1.20248070  0.68743718  1.4535705   1.87682818 -0.3703297  4.3969495\n",
              "793 -0.00173144 -0.02112827  0.5252871  -0.09410444  1.9210355  1.7648907\n",
              "    b_floorsqm  c_miller   c_schumm    c_haggett  ... sc_orient  sc_l_sn   \n",
              "788  0.02608336  0.6537138  0.70974906  0.8229722 ... -0.4776269 -0.2283326\n",
              "789 -0.20090401  0.6883230  0.76159682  1.1089579 ... -0.4776269 -0.2283326\n",
              "790  2.56117466 -4.4678418 -2.03033513 -2.7940820 ...  2.7808056  0.2276312\n",
              "791 -0.05366469  0.2435179  0.07898796 -0.2487268 ... -0.4776269 -0.2283326\n",
              "792  1.67808104 -2.0438663 -1.66715803 -2.6470699 ...  1.6946614 -0.2283326\n",
              "793  0.10004408  0.6886292  0.75004385  1.1129881 ... -0.4776269 -0.2283326\n",
              "    sc_l_ew     sc_l_nesw  sc_l_senw  m_corndis   m_court     m_court_area\n",
              "788 -0.22531352 -0.2606365 -0.1027775 -0.03133972 -0.02672204 -0.01886185 \n",
              "789 -0.22531352 -0.2606365 -0.2627573 -0.53188487 -0.02672204 -0.01886185 \n",
              "790 -0.01476496  5.5531714  9.0542366  3.24869859 -0.02672204 -0.01886185 \n",
              "791 -0.22531352 -0.2606365  0.4150366  0.07656667 -0.02672204 -0.01886185 \n",
              "792  0.42535519  1.4493749  1.6589609  1.78174137 -0.02672204 -0.01886185 \n",
              "793 -0.22531352 -0.1933296 -0.3033107  0.15162001 -0.02672204 -0.01886185 \n",
              "    m_court_rel_a clusDBSCAN\n",
              "788 -0.03021632   1         \n",
              "789 -0.03021632   1         \n",
              "790 -0.03021632   0         \n",
              "791 -0.03021632   1         \n",
              "792 -0.03021632   1         \n",
              "793 -0.03021632   1         "
            ]
          },
          "metadata": {}
        }
      ],
      "execution_count": 8,
      "metadata": {}
    },
    {
      "cell_type": "code",
      "source": [
        "sel <- bd_ccal@data$clusDBSCAN == 1\n",
        "bd_ccal_to_class <- bd_ccal[sel,]"
      ],
      "outputs": [],
      "execution_count": 9,
      "metadata": {}
    },
    {
      "cell_type": "code",
      "source": [
        "wss_clusters = seq(1, 20)\n",
        "for (i in 1:20) {\n",
        "    c = kmeans(bd_ccal_to_class@data[,c(-31:-34,-36:-39)], i, nstart=5, iter.max = 50)\n",
        "    wss_clusters[i] = c$betweenss / c$totss\n",
        "}"
      ],
      "outputs": [],
      "execution_count": 10,
      "metadata": {}
    },
    {
      "cell_type": "code",
      "source": [
        "plot(wss_clusters, type=\"o\")"
      ],
      "outputs": [
        {
          "output_type": "display_data",
          "data": {
            "image/png": "[encoded data removed]",
            "text/plain": [
              "plot without title"
            ]
          },
          "metadata": {}
        }
      ],
      "execution_count": 11,
      "metadata": {
        "scrolled": true
      }
    },
    {
      "cell_type": "code",
      "source": [
        "ccal_kmeans <- kmeans(bd_ccal_to_class@data[, c(-31:-34, -36:-39)], 12, nstart = 5, iter.max = 50)"
      ],
      "outputs": [],
      "execution_count": 14,
      "metadata": {}
    },
    {
      "cell_type": "code",
      "source": [
        "round(ccal_kmeans$betweenss / ccal_kmeans$totss, 2)"
      ],
      "outputs": [
        {
          "output_type": "display_data",
          "data": {
            "text/html": [
              "0.74"
            ],
            "text/latex": [
              "0.74"
            ],
            "text/markdown": [
              "0.74"
            ],
            "text/plain": [
              "[1] 0.74"
            ]
          },
          "metadata": {}
        }
      ],
      "execution_count": 15,
      "metadata": {}
    },
    {
      "cell_type": "code",
      "source": [
        "clusKME13 <- ccal_kmeans$cluster\n",
        "bd_ccal_to_class@data <- cbind(bd_ccal_to_class@data, clusKME13)"
      ],
      "outputs": [],
      "execution_count": 16,
      "metadata": {}
    },
    {
      "cell_type": "code",
      "source": [
        "writeOGR(bd_ccal, dsn = \"bd_ccal.gpkg\", layer = 'dbscan', driver = \"GPKG\")\n",
        "writeOGR(bd_ccal_to_class, dsn = \"bd_ccal_kmeans.gpkg\", layer = 'km12', driver = \"GPKG\")"
      ],
      "outputs": [],
      "execution_count": 17,
      "metadata": {}
    }
  ],
  "metadata": {
    "kernelspec": {
      "name": "ir",
      "language": "R",
      "display_name": "R"
    },
    "language_info": {
      "name": "R",
      "codemirror_mode": "r",
      "pygments_lexer": "r",
      "mimetype": "text/x-r-source",
      "file_extension": ".r",
      "version": "3.4.3"
    },
    "kernel_info": {
      "name": "ir"
    },
    "nteract": {
      "version": "0.8.4"
    }
  },
  "nbformat": 4,
  "nbformat_minor": 2
}