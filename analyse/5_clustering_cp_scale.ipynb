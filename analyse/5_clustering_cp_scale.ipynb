{
  "cells": [
    {
      "cell_type": "markdown",
      "source": [
        "# Clustering at the composition scale"
      ],
      "metadata": {}
    },
    {
      "cell_type": "code",
      "source": [
        "#install.packages('rpostgis', 'rgdal', 'magrittr', 'dbscan', 'corrplot')\n",
        "library('rpostgis')\n",
        "library('rgdal')\n",
        "library('magrittr')\n",
        "library('tidyverse')\n",
        "library('dbscan')\n",
        "#library('corrplot')"
      ],
      "outputs": [
        {
          "output_type": "stream",
          "name": "stderr",
          "text": [
            "Warning message:\n",
            "\"package 'rpostgis' was built under R version 3.4.4\"Loading required package: RPostgreSQL\n",
            "Loading required package: DBI\n",
            "Loading required package: sp\n",
            "rgdal: version: 1.2-16, (SVN revision 701)\n",
            " Geospatial Data Abstraction Library extensions to R successfully loaded\n",
            " Loaded GDAL runtime: GDAL 2.2.0, released 2017/04/28\n",
            " Path to GDAL shared files: C:/R/libs/rgdal/gdal\n",
            " GDAL binary built with GEOS: TRUE \n",
            " Loaded PROJ.4 runtime: Rel. 4.9.3, 15 August 2016, [PJ_VERSION: 493]\n",
            " Path to PROJ.4 shared files: C:/R/libs/rgdal/proj\n",
            " Linking to sp version: 1.2-5 \n",
            "-- Attaching packages --------------------------------------- tidyverse 1.2.1 --\n",
            "v ggplot2 2.2.1     v purrr   0.2.4\n",
            "v tibble  1.4.2     v dplyr   0.7.4\n",
            "v tidyr   0.8.0     v stringr 1.3.0\n",
            "v readr   1.1.1     v forcats 0.3.0\n",
            "-- Conflicts ------------------------------------------ tidyverse_conflicts() --\n",
            "x tidyr::extract()   masks magrittr::extract()\n",
            "x dplyr::filter()    masks stats::filter()\n",
            "x dplyr::lag()       masks stats::lag()\n",
            "x purrr::set_names() masks magrittr::set_names()\n",
            "Warning message:\n",
            "\"package 'dbscan' was built under R version 3.4.4\"Warning message:\n",
            "\"package 'corrplot' was built under R version 3.4.4\"corrplot 0.84 loaded\n"
          ]
        }
      ],
      "execution_count": 1,
      "metadata": {}
    },
    {
      "cell_type": "code",
      "source": [
        "conn <- dbConnect(\"PostgreSQL\", dbname = 'base_data', host = 'localhost', user = 'postgres', password = 'asd')"
      ],
      "outputs": [],
      "execution_count": 2,
      "metadata": {}
    },
    {
      "cell_type": "code",
      "source": [
        "cp_scale_query <- \"SELECT a.geom, a.id, cp_fac_lgt, cp_fac_lgt_rel,\n",
        "cp_d_nxtbuil, cp_d_builnxtblk, cp_infzn_area, cp_r_ftp_infzon,\n",
        "cp_d_blklim, cp_blk_area, cp_r_ftp_blk, cp_closeness\n",
        "FROM public.bd a,\n",
        "     public.AGGLO b\n",
        "WHERE ST_Intersects(a.geom, b.geom)\n",
        " AND cp_blk_area IS NOT NULL\n",
        "ORDER BY a.id;\""
      ],
      "outputs": [],
      "execution_count": 3,
      "metadata": {}
    },
    {
      "cell_type": "code",
      "source": [
        "sub_in_query <- function(gid, agglo, query) {\n",
        "    q <- gsub('GID', gid, query) %>%\n",
        "         gsub('AGGLO', agglo, .)\n",
        "    return(q)\n",
        "}"
      ],
      "outputs": [],
      "execution_count": 4,
      "metadata": {}
    },
    {
      "cell_type": "code",
      "source": [
        "cp_stata <- pgGetGeom(conn, query = sub_in_query(0, \"stata\", cp_scale_query))\n",
        "row.names(cp_stata@data) <- cp_stata@data$id\n",
        "cp_stata@data$id <- NULL \n",
        "cp_stata@data <- data.frame(scale(cp_stata@data))"
      ],
      "outputs": [
        {
          "output_type": "stream",
          "name": "stderr",
          "text": [
            "Returning MultiPolygon types in SpatialPolygons*-class.\n"
          ]
        }
      ],
      "execution_count": 90,
      "metadata": {}
    },
    {
      "cell_type": "code",
      "source": [
        "cp_statb <- pgGetGeom(conn, query = sub_in_query(0, \"statb\", cp_scale_query))\n",
        "row.names(cp_statb@data) <- cp_statb@data$id\n",
        "cp_statb@data$id <- NULL \n",
        "cp_statb@data <- data.frame(scale(cp_statb@data))"
      ],
      "outputs": [
        {
          "output_type": "stream",
          "name": "stderr",
          "text": [
            "Returning MultiPolygon types in SpatialPolygons*-class.\n"
          ]
        }
      ],
      "execution_count": 81,
      "metadata": {}
    },
    {
      "cell_type": "code",
      "source": [
        "cp_morf <- pgGetGeom(conn, query = sub_in_query(0, \"morfrac\", cp_scale_query))\n",
        "row.names(cp_morf@data) <- cp_morf@data$id\n",
        "cp_morf@data$id <- NULL \n",
        "cp_morf@data <- data.frame(scale(cp_morf@data))"
      ],
      "outputs": [
        {
          "output_type": "stream",
          "name": "stderr",
          "text": [
            "Returning MultiPolygon types in SpatialPolygons*-class.\n"
          ]
        }
      ],
      "execution_count": 58,
      "metadata": {}
    },
    {
      "cell_type": "code",
      "source": [
        "cp_ccak <- pgGetGeom(conn, query = sub_in_query(0, \"cca_king\", cp_scale_query))\n",
        "row.names(cp_ccak@data) <- cp_ccak@data$id\n",
        "cp_ccak@data$id <- NULL \n",
        "cp_ccak@data <- data.frame(scale(cp_ccak@data))"
      ],
      "outputs": [
        {
          "output_type": "stream",
          "name": "stderr",
          "text": [
            "Returning MultiPolygon types in SpatialPolygons*-class.\n"
          ]
        }
      ],
      "execution_count": 59,
      "metadata": {}
    },
    {
      "cell_type": "code",
      "source": [
        "cp_ccal <- pgGetGeom(conn, query = sub_in_query(0, \"cca_lenient\", cp_scale_query))\n",
        "row.names(cp_ccal@data) <- cp_ccal@data$id\n",
        "cp_ccal@data$id <- NULL \n",
        "cp_ccal@data <- data.frame(scale(cp_ccal@data))"
      ],
      "outputs": [
        {
          "output_type": "stream",
          "name": "stderr",
          "text": [
            "Returning MultiPolygon types in SpatialPolygons*-class.\n"
          ]
        }
      ],
      "execution_count": 139,
      "metadata": {}
    },
    {
      "cell_type": "code",
      "source": [],
      "outputs": [],
      "execution_count": null,
      "metadata": {}
    },
    {
      "cell_type": "markdown",
      "source": [
        "### StatA"
      ],
      "metadata": {}
    },
    {
      "cell_type": "code",
      "source": [
        "kNNdistplot(cp_stata@data, k = 10)\n",
        "abline(h = 1.2, col = 'red', lty = 2)"
      ],
      "outputs": [
        {
          "output_type": "display_data",
          "data": {
            "image/png": "[encoded data removed]",
            "text/plain": [
              "plot without title"
            ]
          },
          "metadata": {}
        }
      ],
      "execution_count": 14,
      "metadata": {}
    },
    {
      "cell_type": "code",
      "source": [
        "res_stata <- dbscan(cp_stata@data, eps = 1.2, minPts = 11)\n",
        "res_stata"
      ],
      "outputs": [
        {
          "output_type": "display_data",
          "data": {
            "text/plain": [
              "DBSCAN clustering for 24088 objects.\n",
              "Parameters: eps = 1.2, minPts = 11\n",
              "The clustering contains 1 cluster(s) and 1136 noise points.\n",
              "\n",
              "    0     1 \n",
              " 1136 22952 \n",
              "\nAvailable fields: cluster, eps, minPts"
            ]
          },
          "metadata": {}
        }
      ],
      "execution_count": 91,
      "metadata": {}
    },
    {
      "cell_type": "code",
      "source": [
        "clusDBSCAN <- res_stata$cluster\n",
        "cp_stata@data <- cbind(cp_stata@data, clusDBSCAN)\n",
        "head(cp_stata@data)"
      ],
      "outputs": [
        {
          "output_type": "display_data",
          "data": {
            "text/html": [
              "<table>\n",
              "<thead><tr><th></th><th scope=col>cp_fac_lgt</th><th scope=col>cp_fac_lgt_rel</th><th scope=col>cp_d_nxtbuil</th><th scope=col>cp_d_builnxtblk</th><th scope=col>cp_infzn_area</th><th scope=col>cp_r_ftp_infzon</th><th scope=col>cp_d_blklim</th><th scope=col>cp_blk_area</th><th scope=col>cp_r_ftp_blk</th><th scope=col>cp_closeness</th><th scope=col>clusDBSCAN</th></tr></thead>\n",
              "<tbody>\n",
              "\t<tr><th scope=row>788</th><td>-0.03509904</td><td>-0.4359901 </td><td>-0.03324917</td><td>-0.6395944 </td><td>-0.21329750</td><td>0.1118451  </td><td>-0.6493896 </td><td>-0.6362676 </td><td>0.10520264 </td><td>-0.09328914</td><td>1          </td></tr>\n",
              "\t<tr><th scope=row>789</th><td>-0.03509904</td><td>-0.4359901 </td><td>-0.42860698</td><td>-0.2170841 </td><td>-0.28551881</td><td>0.4014924  </td><td> 0.8563991 </td><td>-0.6975794 </td><td>0.08368704 </td><td>-0.09328914</td><td>1          </td></tr>\n",
              "\t<tr><th scope=row>790</th><td>-0.03509904</td><td>-0.4359901 </td><td> 0.33751440</td><td>-0.5871980 </td><td> 0.21185810</td><td>1.5509413  </td><td>-0.4333021 </td><td>-0.4183293 </td><td>1.02567924 </td><td>-0.09328914</td><td>1          </td></tr>\n",
              "\t<tr><th scope=row>791</th><td>-0.03509904</td><td>-0.4359901 </td><td>-0.50135643</td><td>-0.5672683 </td><td>-0.27960492</td><td>2.1131247  </td><td>-0.1101535 </td><td>-0.7170387 </td><td>1.00096397 </td><td>-0.09328914</td><td>1          </td></tr>\n",
              "\t<tr><th scope=row>792</th><td>-0.03509904</td><td>-0.4359901 </td><td>-0.56382256</td><td>-0.7225234 </td><td>-0.07829464</td><td>1.4894474  </td><td>-0.5458720 </td><td>-0.5465504 </td><td>0.66780308 </td><td>-0.09328914</td><td>1          </td></tr>\n",
              "\t<tr><th scope=row>793</th><td> 0.09958517</td><td> 1.9224147 </td><td>-0.47540884</td><td>-0.7979580 </td><td>-0.27531017</td><td>2.6818850  </td><td>-0.8017178 </td><td>-0.7074990 </td><td>1.01533289 </td><td> 0.54423766</td><td>1          </td></tr>\n",
              "</tbody>\n",
              "</table>\n"
            ],
            "text/latex": [
              "\\begin{tabular}{r|lllllllllll}\n",
              "  & cp\\_fac\\_lgt & cp\\_fac\\_lgt\\_rel & cp\\_d\\_nxtbuil & cp\\_d\\_builnxtblk & cp\\_infzn\\_area & cp\\_r\\_ftp\\_infzon & cp\\_d\\_blklim & cp\\_blk\\_area & cp\\_r\\_ftp\\_blk & cp\\_closeness & clusDBSCAN\\\\\n",
              "\\hline\n",
              "\t788 & -0.03509904 & -0.4359901  & -0.03324917 & -0.6395944  & -0.21329750 & 0.1118451   & -0.6493896  & -0.6362676  & 0.10520264  & -0.09328914 & 1          \\\\\n",
              "\t789 & -0.03509904 & -0.4359901  & -0.42860698 & -0.2170841  & -0.28551881 & 0.4014924   &  0.8563991  & -0.6975794  & 0.08368704  & -0.09328914 & 1          \\\\\n",
              "\t790 & -0.03509904 & -0.4359901  &  0.33751440 & -0.5871980  &  0.21185810 & 1.5509413   & -0.4333021  & -0.4183293  & 1.02567924  & -0.09328914 & 1          \\\\\n",
              "\t791 & -0.03509904 & -0.4359901  & -0.50135643 & -0.5672683  & -0.27960492 & 2.1131247   & -0.1101535  & -0.7170387  & 1.00096397  & -0.09328914 & 1          \\\\\n",
              "\t792 & -0.03509904 & -0.4359901  & -0.56382256 & -0.7225234  & -0.07829464 & 1.4894474   & -0.5458720  & -0.5465504  & 0.66780308  & -0.09328914 & 1          \\\\\n",
              "\t793 &  0.09958517 &  1.9224147  & -0.47540884 & -0.7979580  & -0.27531017 & 2.6818850   & -0.8017178  & -0.7074990  & 1.01533289  &  0.54423766 & 1          \\\\\n",
              "\\end{tabular}\n"
            ],
            "text/markdown": [
              "\n",
              "| <!--/--> | cp_fac_lgt | cp_fac_lgt_rel | cp_d_nxtbuil | cp_d_builnxtblk | cp_infzn_area | cp_r_ftp_infzon | cp_d_blklim | cp_blk_area | cp_r_ftp_blk | cp_closeness | clusDBSCAN | \n",
              "|---|---|---|---|---|---|\n",
              "| 788 | -0.03509904 | -0.4359901  | -0.03324917 | -0.6395944  | -0.21329750 | 0.1118451   | -0.6493896  | -0.6362676  | 0.10520264  | -0.09328914 | 1           | \n",
              "| 789 | -0.03509904 | -0.4359901  | -0.42860698 | -0.2170841  | -0.28551881 | 0.4014924   |  0.8563991  | -0.6975794  | 0.08368704  | -0.09328914 | 1           | \n",
              "| 790 | -0.03509904 | -0.4359901  |  0.33751440 | -0.5871980  |  0.21185810 | 1.5509413   | -0.4333021  | -0.4183293  | 1.02567924  | -0.09328914 | 1           | \n",
              "| 791 | -0.03509904 | -0.4359901  | -0.50135643 | -0.5672683  | -0.27960492 | 2.1131247   | -0.1101535  | -0.7170387  | 1.00096397  | -0.09328914 | 1           | \n",
              "| 792 | -0.03509904 | -0.4359901  | -0.56382256 | -0.7225234  | -0.07829464 | 1.4894474   | -0.5458720  | -0.5465504  | 0.66780308  | -0.09328914 | 1           | \n",
              "| 793 |  0.09958517 |  1.9224147  | -0.47540884 | -0.7979580  | -0.27531017 | 2.6818850   | -0.8017178  | -0.7074990  | 1.01533289  |  0.54423766 | 1           | \n",
              "\n\n"
            ],
            "text/plain": [
              "    cp_fac_lgt  cp_fac_lgt_rel cp_d_nxtbuil cp_d_builnxtblk cp_infzn_area\n",
              "788 -0.03509904 -0.4359901     -0.03324917  -0.6395944      -0.21329750  \n",
              "789 -0.03509904 -0.4359901     -0.42860698  -0.2170841      -0.28551881  \n",
              "790 -0.03509904 -0.4359901      0.33751440  -0.5871980       0.21185810  \n",
              "791 -0.03509904 -0.4359901     -0.50135643  -0.5672683      -0.27960492  \n",
              "792 -0.03509904 -0.4359901     -0.56382256  -0.7225234      -0.07829464  \n",
              "793  0.09958517  1.9224147     -0.47540884  -0.7979580      -0.27531017  \n",
              "    cp_r_ftp_infzon cp_d_blklim cp_blk_area cp_r_ftp_blk cp_closeness\n",
              "788 0.1118451       -0.6493896  -0.6362676  0.10520264   -0.09328914 \n",
              "789 0.4014924        0.8563991  -0.6975794  0.08368704   -0.09328914 \n",
              "790 1.5509413       -0.4333021  -0.4183293  1.02567924   -0.09328914 \n",
              "791 2.1131247       -0.1101535  -0.7170387  1.00096397   -0.09328914 \n",
              "792 1.4894474       -0.5458720  -0.5465504  0.66780308   -0.09328914 \n",
              "793 2.6818850       -0.8017178  -0.7074990  1.01533289    0.54423766 \n",
              "    clusDBSCAN\n",
              "788 1         \n",
              "789 1         \n",
              "790 1         \n",
              "791 1         \n",
              "792 1         \n",
              "793 1         "
            ]
          },
          "metadata": {}
        }
      ],
      "execution_count": 92,
      "metadata": {
        "scrolled": true
      }
    },
    {
      "cell_type": "code",
      "source": [
        "sel <- cp_stata@data$clusDBSCAN == 1\n",
        "cp_stata_to_class <- cp_stata[sel,]"
      ],
      "outputs": [],
      "execution_count": 93,
      "metadata": {}
    },
    {
      "cell_type": "code",
      "source": [
        "head(cp_stata_to_class@data)"
      ],
      "outputs": [
        {
          "output_type": "display_data",
          "data": {
            "text/html": [
              "<table>\n",
              "<thead><tr><th></th><th scope=col>cp_fac_lgt</th><th scope=col>cp_fac_lgt_rel</th><th scope=col>cp_d_nxtbuil</th><th scope=col>cp_d_builnxtblk</th><th scope=col>cp_infzn_area</th><th scope=col>cp_r_ftp_infzon</th><th scope=col>cp_d_blklim</th><th scope=col>cp_blk_area</th><th scope=col>cp_r_ftp_blk</th><th scope=col>cp_closeness</th><th scope=col>clusDBSCAN</th></tr></thead>\n",
              "<tbody>\n",
              "\t<tr><th scope=row>788</th><td>-0.03509904</td><td>-0.4359901 </td><td>-0.03324917</td><td>-0.6395944 </td><td>-0.21329750</td><td>0.1118451  </td><td>-0.6493896 </td><td>-0.6362676 </td><td>0.10520264 </td><td>-0.09328914</td><td>1          </td></tr>\n",
              "\t<tr><th scope=row>789</th><td>-0.03509904</td><td>-0.4359901 </td><td>-0.42860698</td><td>-0.2170841 </td><td>-0.28551881</td><td>0.4014924  </td><td> 0.8563991 </td><td>-0.6975794 </td><td>0.08368704 </td><td>-0.09328914</td><td>1          </td></tr>\n",
              "\t<tr><th scope=row>790</th><td>-0.03509904</td><td>-0.4359901 </td><td> 0.33751440</td><td>-0.5871980 </td><td> 0.21185810</td><td>1.5509413  </td><td>-0.4333021 </td><td>-0.4183293 </td><td>1.02567924 </td><td>-0.09328914</td><td>1          </td></tr>\n",
              "\t<tr><th scope=row>791</th><td>-0.03509904</td><td>-0.4359901 </td><td>-0.50135643</td><td>-0.5672683 </td><td>-0.27960492</td><td>2.1131247  </td><td>-0.1101535 </td><td>-0.7170387 </td><td>1.00096397 </td><td>-0.09328914</td><td>1          </td></tr>\n",
              "\t<tr><th scope=row>792</th><td>-0.03509904</td><td>-0.4359901 </td><td>-0.56382256</td><td>-0.7225234 </td><td>-0.07829464</td><td>1.4894474  </td><td>-0.5458720 </td><td>-0.5465504 </td><td>0.66780308 </td><td>-0.09328914</td><td>1          </td></tr>\n",
              "\t<tr><th scope=row>793</th><td> 0.09958517</td><td> 1.9224147 </td><td>-0.47540884</td><td>-0.7979580 </td><td>-0.27531017</td><td>2.6818850  </td><td>-0.8017178 </td><td>-0.7074990 </td><td>1.01533289 </td><td> 0.54423766</td><td>1          </td></tr>\n",
              "</tbody>\n",
              "</table>\n"
            ],
            "text/latex": [
              "\\begin{tabular}{r|lllllllllll}\n",
              "  & cp\\_fac\\_lgt & cp\\_fac\\_lgt\\_rel & cp\\_d\\_nxtbuil & cp\\_d\\_builnxtblk & cp\\_infzn\\_area & cp\\_r\\_ftp\\_infzon & cp\\_d\\_blklim & cp\\_blk\\_area & cp\\_r\\_ftp\\_blk & cp\\_closeness & clusDBSCAN\\\\\n",
              "\\hline\n",
              "\t788 & -0.03509904 & -0.4359901  & -0.03324917 & -0.6395944  & -0.21329750 & 0.1118451   & -0.6493896  & -0.6362676  & 0.10520264  & -0.09328914 & 1          \\\\\n",
              "\t789 & -0.03509904 & -0.4359901  & -0.42860698 & -0.2170841  & -0.28551881 & 0.4014924   &  0.8563991  & -0.6975794  & 0.08368704  & -0.09328914 & 1          \\\\\n",
              "\t790 & -0.03509904 & -0.4359901  &  0.33751440 & -0.5871980  &  0.21185810 & 1.5509413   & -0.4333021  & -0.4183293  & 1.02567924  & -0.09328914 & 1          \\\\\n",
              "\t791 & -0.03509904 & -0.4359901  & -0.50135643 & -0.5672683  & -0.27960492 & 2.1131247   & -0.1101535  & -0.7170387  & 1.00096397  & -0.09328914 & 1          \\\\\n",
              "\t792 & -0.03509904 & -0.4359901  & -0.56382256 & -0.7225234  & -0.07829464 & 1.4894474   & -0.5458720  & -0.5465504  & 0.66780308  & -0.09328914 & 1          \\\\\n",
              "\t793 &  0.09958517 &  1.9224147  & -0.47540884 & -0.7979580  & -0.27531017 & 2.6818850   & -0.8017178  & -0.7074990  & 1.01533289  &  0.54423766 & 1          \\\\\n",
              "\\end{tabular}\n"
            ],
            "text/markdown": [
              "\n",
              "| <!--/--> | cp_fac_lgt | cp_fac_lgt_rel | cp_d_nxtbuil | cp_d_builnxtblk | cp_infzn_area | cp_r_ftp_infzon | cp_d_blklim | cp_blk_area | cp_r_ftp_blk | cp_closeness | clusDBSCAN | \n",
              "|---|---|---|---|---|---|\n",
              "| 788 | -0.03509904 | -0.4359901  | -0.03324917 | -0.6395944  | -0.21329750 | 0.1118451   | -0.6493896  | -0.6362676  | 0.10520264  | -0.09328914 | 1           | \n",
              "| 789 | -0.03509904 | -0.4359901  | -0.42860698 | -0.2170841  | -0.28551881 | 0.4014924   |  0.8563991  | -0.6975794  | 0.08368704  | -0.09328914 | 1           | \n",
              "| 790 | -0.03509904 | -0.4359901  |  0.33751440 | -0.5871980  |  0.21185810 | 1.5509413   | -0.4333021  | -0.4183293  | 1.02567924  | -0.09328914 | 1           | \n",
              "| 791 | -0.03509904 | -0.4359901  | -0.50135643 | -0.5672683  | -0.27960492 | 2.1131247   | -0.1101535  | -0.7170387  | 1.00096397  | -0.09328914 | 1           | \n",
              "| 792 | -0.03509904 | -0.4359901  | -0.56382256 | -0.7225234  | -0.07829464 | 1.4894474   | -0.5458720  | -0.5465504  | 0.66780308  | -0.09328914 | 1           | \n",
              "| 793 |  0.09958517 |  1.9224147  | -0.47540884 | -0.7979580  | -0.27531017 | 2.6818850   | -0.8017178  | -0.7074990  | 1.01533289  |  0.54423766 | 1           | \n",
              "\n\n"
            ],
            "text/plain": [
              "    cp_fac_lgt  cp_fac_lgt_rel cp_d_nxtbuil cp_d_builnxtblk cp_infzn_area\n",
              "788 -0.03509904 -0.4359901     -0.03324917  -0.6395944      -0.21329750  \n",
              "789 -0.03509904 -0.4359901     -0.42860698  -0.2170841      -0.28551881  \n",
              "790 -0.03509904 -0.4359901      0.33751440  -0.5871980       0.21185810  \n",
              "791 -0.03509904 -0.4359901     -0.50135643  -0.5672683      -0.27960492  \n",
              "792 -0.03509904 -0.4359901     -0.56382256  -0.7225234      -0.07829464  \n",
              "793  0.09958517  1.9224147     -0.47540884  -0.7979580      -0.27531017  \n",
              "    cp_r_ftp_infzon cp_d_blklim cp_blk_area cp_r_ftp_blk cp_closeness\n",
              "788 0.1118451       -0.6493896  -0.6362676  0.10520264   -0.09328914 \n",
              "789 0.4014924        0.8563991  -0.6975794  0.08368704   -0.09328914 \n",
              "790 1.5509413       -0.4333021  -0.4183293  1.02567924   -0.09328914 \n",
              "791 2.1131247       -0.1101535  -0.7170387  1.00096397   -0.09328914 \n",
              "792 1.4894474       -0.5458720  -0.5465504  0.66780308   -0.09328914 \n",
              "793 2.6818850       -0.8017178  -0.7074990  1.01533289    0.54423766 \n",
              "    clusDBSCAN\n",
              "788 1         \n",
              "789 1         \n",
              "790 1         \n",
              "791 1         \n",
              "792 1         \n",
              "793 1         "
            ]
          },
          "metadata": {}
        }
      ],
      "execution_count": 17,
      "metadata": {}
    },
    {
      "cell_type": "code",
      "source": [
        "wss_clusters = seq(1, 30)\n",
        "for (i in 1:30) {\n",
        "    c = kmeans(cp_stata_to_class@data[, c(1:10)], i, nstart=5, iter.max = 50)\n",
        "    wss_clusters[i] = c$betweenss / c$totss\n",
        "}"
      ],
      "outputs": [
        {
          "output_type": "stream",
          "name": "stderr",
          "text": [
            "Warning message:\n",
            "\"Quick-TRANSfer stage steps exceeded maximum (= 1147600)\"Warning message:\n",
            "\"Quick-TRANSfer stage steps exceeded maximum (= 1147600)\""
          ]
        }
      ],
      "execution_count": 101,
      "metadata": {}
    },
    {
      "cell_type": "code",
      "source": [
        "plot(wss_clusters, type=\"o\")"
      ],
      "outputs": [
        {
          "output_type": "display_data",
          "data": {
            "image/png": "[encoded data removed]",
            "text/plain": [
              "plot without title"
            ]
          },
          "metadata": {}
        }
      ],
      "execution_count": 102,
      "metadata": {
        "scrolled": true
      }
    },
    {
      "cell_type": "code",
      "source": [
        "stata_kmeans <- kmeans(cp_stata_to_class@data[, -11], 14, nstart = 5, iter.max = 50)"
      ],
      "outputs": [],
      "execution_count": 104,
      "metadata": {}
    },
    {
      "cell_type": "code",
      "source": [
        "round(stata_kmeans$betweenss / stata_kmeans$totss, 2)"
      ],
      "outputs": [
        {
          "output_type": "display_data",
          "data": {
            "text/html": [
              "0.71"
            ],
            "text/latex": [
              "0.71"
            ],
            "text/markdown": [
              "0.71"
            ],
            "text/plain": [
              "[1] 0.71"
            ]
          },
          "metadata": {}
        }
      ],
      "execution_count": 105,
      "metadata": {}
    },
    {
      "cell_type": "code",
      "source": [
        "clusKME14 <- stata_kmeans$cluster\n",
        "cp_stata_to_class@data <- cbind(cp_stata_to_class@data, clusKME14)"
      ],
      "outputs": [],
      "execution_count": 106,
      "metadata": {}
    },
    {
      "cell_type": "code",
      "source": [
        "writeOGR(cp_stata, dsn = \"cp_stata.gpkg\", layer = 'dbscan', driver = \"GPKG\")\n",
        "writeOGR(cp_stata_to_class, dsn = \"cp_stata_kmeans.gpkg\", layer = 'km14', driver = \"GPKG\")"
      ],
      "outputs": [],
      "execution_count": 122,
      "metadata": {}
    },
    {
      "cell_type": "markdown",
      "source": [
        "### StatB"
      ],
      "metadata": {}
    },
    {
      "cell_type": "code",
      "source": [
        "kNNdistplot(cp_statb@data, k = 10)\n",
        "abline(h = 1.2, col = 'red', lty = 2)"
      ],
      "outputs": [
        {
          "output_type": "display_data",
          "data": {
            "image/png": "[encoded data removed]",
            "text/plain": [
              "plot without title"
            ]
          },
          "metadata": {}
        }
      ],
      "execution_count": 63,
      "metadata": {}
    },
    {
      "cell_type": "code",
      "source": [
        "res_statb <- dbscan(cp_statb@data[, c(1:10)], eps = 1.3, minPts = 11)\n",
        "res_statb"
      ],
      "outputs": [
        {
          "output_type": "display_data",
          "data": {
            "text/plain": [
              "DBSCAN clustering for 51463 objects.\n",
              "Parameters: eps = 1.3, minPts = 11\n",
              "The clustering contains 3 cluster(s) and 1286 noise points.\n",
              "\n",
              "    0     1     2     3 \n",
              " 1286 50149    18    10 \n",
              "\nAvailable fields: cluster, eps, minPts"
            ]
          },
          "metadata": {}
        }
      ],
      "execution_count": 82,
      "metadata": {}
    },
    {
      "cell_type": "code",
      "source": [
        "clusDBSCAN <- res_statb$cluster\n",
        "cp_statb@data <- cbind(cp_statb@data, clusDBSCAN)\n",
        "head(cp_statb@data)"
      ],
      "outputs": [
        {
          "output_type": "display_data",
          "data": {
            "text/html": [
              "<table>\n",
              "<thead><tr><th scope=col>cp_fac_lgt</th><th scope=col>cp_fac_lgt_rel</th><th scope=col>cp_d_nxtbuil</th><th scope=col>cp_d_builnxtblk</th><th scope=col>cp_infzn_area</th><th scope=col>cp_r_ftp_infzon</th><th scope=col>cp_d_blklim</th><th scope=col>cp_blk_area</th><th scope=col>cp_r_ftp_blk</th><th scope=col>cp_closeness</th><th scope=col>clusDBSCAN</th></tr></thead>\n",
              "<tbody>\n",
              "\t<tr><td>-0.05119042 </td><td>-0.4690595  </td><td>-0.35551294 </td><td> 1.3403854  </td><td> 0.65233073 </td><td>-0.8402341  </td><td>-0.5689737  </td><td> 0.01188065 </td><td>-0.1578895  </td><td>-0.121135745</td><td>1           </td></tr>\n",
              "\t<tr><td>-0.05119042 </td><td>-0.4690595  </td><td>-0.38834594 </td><td>-0.1898835  </td><td> 0.07418852 </td><td>-1.1396473  </td><td>-0.2383441  </td><td> 0.01188065 </td><td>-0.2953108  </td><td>-0.121135745</td><td>1           </td></tr>\n",
              "\t<tr><td> 0.10495345 </td><td> 1.4899198  </td><td>-0.05678533 </td><td>-0.3365522  </td><td>-0.17717983 </td><td>-0.8425719  </td><td>-0.6748702  </td><td>-0.02785926 </td><td>-0.2721259  </td><td> 0.001823016</td><td>1           </td></tr>\n",
              "\t<tr><td> 0.09905715 </td><td> 0.7446541  </td><td>-0.33932090 </td><td> 0.1984938  </td><td>-0.12107912 </td><td>-0.6818775  </td><td>-0.7505079  </td><td>-0.02785926 </td><td>-0.2452814  </td><td>-0.002820478</td><td>1           </td></tr>\n",
              "\t<tr><td>-0.05119042 </td><td>-0.4690595  </td><td>-0.14184117 </td><td>-0.6464805  </td><td> 0.61002909 </td><td>-1.1220213  </td><td>-0.3667761  </td><td> 0.10619752 </td><td>-0.2834150  </td><td>-0.121135745</td><td>1           </td></tr>\n",
              "\t<tr><td>-0.05119042 </td><td>-0.4690595  </td><td>-0.24617669 </td><td>-0.1835696  </td><td> 0.92304132 </td><td>-1.1457780  </td><td> 1.9110478  </td><td>-0.02785926 </td><td>-0.2852886  </td><td>-0.121135745</td><td>1           </td></tr>\n",
              "</tbody>\n",
              "</table>\n"
            ],
            "text/latex": [
              "\\begin{tabular}{r|lllllllllll}\n",
              " cp\\_fac\\_lgt & cp\\_fac\\_lgt\\_rel & cp\\_d\\_nxtbuil & cp\\_d\\_builnxtblk & cp\\_infzn\\_area & cp\\_r\\_ftp\\_infzon & cp\\_d\\_blklim & cp\\_blk\\_area & cp\\_r\\_ftp\\_blk & cp\\_closeness & clusDBSCAN\\\\\n",
              "\\hline\n",
              "\t -0.05119042  & -0.4690595   & -0.35551294  &  1.3403854   &  0.65233073  & -0.8402341   & -0.5689737   &  0.01188065  & -0.1578895   & -0.121135745 & 1           \\\\\n",
              "\t -0.05119042  & -0.4690595   & -0.38834594  & -0.1898835   &  0.07418852  & -1.1396473   & -0.2383441   &  0.01188065  & -0.2953108   & -0.121135745 & 1           \\\\\n",
              "\t  0.10495345  &  1.4899198   & -0.05678533  & -0.3365522   & -0.17717983  & -0.8425719   & -0.6748702   & -0.02785926  & -0.2721259   &  0.001823016 & 1           \\\\\n",
              "\t  0.09905715  &  0.7446541   & -0.33932090  &  0.1984938   & -0.12107912  & -0.6818775   & -0.7505079   & -0.02785926  & -0.2452814   & -0.002820478 & 1           \\\\\n",
              "\t -0.05119042  & -0.4690595   & -0.14184117  & -0.6464805   &  0.61002909  & -1.1220213   & -0.3667761   &  0.10619752  & -0.2834150   & -0.121135745 & 1           \\\\\n",
              "\t -0.05119042  & -0.4690595   & -0.24617669  & -0.1835696   &  0.92304132  & -1.1457780   &  1.9110478   & -0.02785926  & -0.2852886   & -0.121135745 & 1           \\\\\n",
              "\\end{tabular}\n"
            ],
            "text/markdown": [
              "\n",
              "cp_fac_lgt | cp_fac_lgt_rel | cp_d_nxtbuil | cp_d_builnxtblk | cp_infzn_area | cp_r_ftp_infzon | cp_d_blklim | cp_blk_area | cp_r_ftp_blk | cp_closeness | clusDBSCAN | \n",
              "|---|---|---|---|---|---|\n",
              "| -0.05119042  | -0.4690595   | -0.35551294  |  1.3403854   |  0.65233073  | -0.8402341   | -0.5689737   |  0.01188065  | -0.1578895   | -0.121135745 | 1            | \n",
              "| -0.05119042  | -0.4690595   | -0.38834594  | -0.1898835   |  0.07418852  | -1.1396473   | -0.2383441   |  0.01188065  | -0.2953108   | -0.121135745 | 1            | \n",
              "|  0.10495345  |  1.4899198   | -0.05678533  | -0.3365522   | -0.17717983  | -0.8425719   | -0.6748702   | -0.02785926  | -0.2721259   |  0.001823016 | 1            | \n",
              "|  0.09905715  |  0.7446541   | -0.33932090  |  0.1984938   | -0.12107912  | -0.6818775   | -0.7505079   | -0.02785926  | -0.2452814   | -0.002820478 | 1            | \n",
              "| -0.05119042  | -0.4690595   | -0.14184117  | -0.6464805   |  0.61002909  | -1.1220213   | -0.3667761   |  0.10619752  | -0.2834150   | -0.121135745 | 1            | \n",
              "| -0.05119042  | -0.4690595   | -0.24617669  | -0.1835696   |  0.92304132  | -1.1457780   |  1.9110478   | -0.02785926  | -0.2852886   | -0.121135745 | 1            | \n",
              "\n\n"
            ],
            "text/plain": [
              "  cp_fac_lgt  cp_fac_lgt_rel cp_d_nxtbuil cp_d_builnxtblk cp_infzn_area\n",
              "1 -0.05119042 -0.4690595     -0.35551294   1.3403854       0.65233073  \n",
              "2 -0.05119042 -0.4690595     -0.38834594  -0.1898835       0.07418852  \n",
              "3  0.10495345  1.4899198     -0.05678533  -0.3365522      -0.17717983  \n",
              "4  0.09905715  0.7446541     -0.33932090   0.1984938      -0.12107912  \n",
              "5 -0.05119042 -0.4690595     -0.14184117  -0.6464805       0.61002909  \n",
              "6 -0.05119042 -0.4690595     -0.24617669  -0.1835696       0.92304132  \n",
              "  cp_r_ftp_infzon cp_d_blklim cp_blk_area cp_r_ftp_blk cp_closeness clusDBSCAN\n",
              "1 -0.8402341      -0.5689737   0.01188065 -0.1578895   -0.121135745 1         \n",
              "2 -1.1396473      -0.2383441   0.01188065 -0.2953108   -0.121135745 1         \n",
              "3 -0.8425719      -0.6748702  -0.02785926 -0.2721259    0.001823016 1         \n",
              "4 -0.6818775      -0.7505079  -0.02785926 -0.2452814   -0.002820478 1         \n",
              "5 -1.1220213      -0.3667761   0.10619752 -0.2834150   -0.121135745 1         \n",
              "6 -1.1457780       1.9110478  -0.02785926 -0.2852886   -0.121135745 1         "
            ]
          },
          "metadata": {}
        }
      ],
      "execution_count": 83,
      "metadata": {
        "scrolled": true
      }
    },
    {
      "cell_type": "code",
      "source": [
        "sel <- cp_statb@data$clusDBSCAN == 1\n",
        "cp_statb_to_class <- cp_statb[sel,]"
      ],
      "outputs": [],
      "execution_count": 84,
      "metadata": {}
    },
    {
      "cell_type": "code",
      "source": [
        "head(cp_statb_to_class@data)"
      ],
      "outputs": [
        {
          "output_type": "display_data",
          "data": {
            "text/html": [
              "<table>\n",
              "<thead><tr><th scope=col>cp_fac_lgt</th><th scope=col>cp_fac_lgt_rel</th><th scope=col>cp_d_nxtbuil</th><th scope=col>cp_d_builnxtblk</th><th scope=col>cp_infzn_area</th><th scope=col>cp_r_ftp_infzon</th><th scope=col>cp_d_blklim</th><th scope=col>cp_blk_area</th><th scope=col>cp_r_ftp_blk</th><th scope=col>cp_closeness</th><th scope=col>clusDBSCAN</th><th scope=col>clusDBSCAN.1</th></tr></thead>\n",
              "<tbody>\n",
              "\t<tr><td>-0.05119042 </td><td>-0.4690595  </td><td>-0.35551294 </td><td> 1.3403854  </td><td> 0.65233073 </td><td>-0.8402341  </td><td>-0.5689737  </td><td> 0.01188065 </td><td>-0.1578895  </td><td>-0.121135745</td><td>1           </td><td>1           </td></tr>\n",
              "\t<tr><td>-0.05119042 </td><td>-0.4690595  </td><td>-0.38834594 </td><td>-0.1898835  </td><td> 0.07418852 </td><td>-1.1396473  </td><td>-0.2383441  </td><td> 0.01188065 </td><td>-0.2953108  </td><td>-0.121135745</td><td>1           </td><td>1           </td></tr>\n",
              "\t<tr><td> 0.10495345 </td><td> 1.4899198  </td><td>-0.05678533 </td><td>-0.3365522  </td><td>-0.17717983 </td><td>-0.8425719  </td><td>-0.6748702  </td><td>-0.02785926 </td><td>-0.2721259  </td><td> 0.001823016</td><td>1           </td><td>1           </td></tr>\n",
              "\t<tr><td> 0.09905715 </td><td> 0.7446541  </td><td>-0.33932090 </td><td> 0.1984938  </td><td>-0.12107912 </td><td>-0.6818775  </td><td>-0.7505079  </td><td>-0.02785926 </td><td>-0.2452814  </td><td>-0.002820478</td><td>1           </td><td>1           </td></tr>\n",
              "\t<tr><td>-0.05119042 </td><td>-0.4690595  </td><td>-0.14184117 </td><td>-0.6464805  </td><td> 0.61002909 </td><td>-1.1220213  </td><td>-0.3667761  </td><td> 0.10619752 </td><td>-0.2834150  </td><td>-0.121135745</td><td>1           </td><td>1           </td></tr>\n",
              "\t<tr><td>-0.05119042 </td><td>-0.4690595  </td><td>-0.24617669 </td><td>-0.1835696  </td><td> 0.92304132 </td><td>-1.1457780  </td><td> 1.9110478  </td><td>-0.02785926 </td><td>-0.2852886  </td><td>-0.121135745</td><td>1           </td><td>1           </td></tr>\n",
              "</tbody>\n",
              "</table>\n"
            ],
            "text/latex": [
              "\\begin{tabular}{r|llllllllllll}\n",
              " cp\\_fac\\_lgt & cp\\_fac\\_lgt\\_rel & cp\\_d\\_nxtbuil & cp\\_d\\_builnxtblk & cp\\_infzn\\_area & cp\\_r\\_ftp\\_infzon & cp\\_d\\_blklim & cp\\_blk\\_area & cp\\_r\\_ftp\\_blk & cp\\_closeness & clusDBSCAN & clusDBSCAN.1\\\\\n",
              "\\hline\n",
              "\t -0.05119042  & -0.4690595   & -0.35551294  &  1.3403854   &  0.65233073  & -0.8402341   & -0.5689737   &  0.01188065  & -0.1578895   & -0.121135745 & 1            & 1           \\\\\n",
              "\t -0.05119042  & -0.4690595   & -0.38834594  & -0.1898835   &  0.07418852  & -1.1396473   & -0.2383441   &  0.01188065  & -0.2953108   & -0.121135745 & 1            & 1           \\\\\n",
              "\t  0.10495345  &  1.4899198   & -0.05678533  & -0.3365522   & -0.17717983  & -0.8425719   & -0.6748702   & -0.02785926  & -0.2721259   &  0.001823016 & 1            & 1           \\\\\n",
              "\t  0.09905715  &  0.7446541   & -0.33932090  &  0.1984938   & -0.12107912  & -0.6818775   & -0.7505079   & -0.02785926  & -0.2452814   & -0.002820478 & 1            & 1           \\\\\n",
              "\t -0.05119042  & -0.4690595   & -0.14184117  & -0.6464805   &  0.61002909  & -1.1220213   & -0.3667761   &  0.10619752  & -0.2834150   & -0.121135745 & 1            & 1           \\\\\n",
              "\t -0.05119042  & -0.4690595   & -0.24617669  & -0.1835696   &  0.92304132  & -1.1457780   &  1.9110478   & -0.02785926  & -0.2852886   & -0.121135745 & 1            & 1           \\\\\n",
              "\\end{tabular}\n"
            ],
            "text/markdown": [
              "\n",
              "cp_fac_lgt | cp_fac_lgt_rel | cp_d_nxtbuil | cp_d_builnxtblk | cp_infzn_area | cp_r_ftp_infzon | cp_d_blklim | cp_blk_area | cp_r_ftp_blk | cp_closeness | clusDBSCAN | clusDBSCAN.1 | \n",
              "|---|---|---|---|---|---|\n",
              "| -0.05119042  | -0.4690595   | -0.35551294  |  1.3403854   |  0.65233073  | -0.8402341   | -0.5689737   |  0.01188065  | -0.1578895   | -0.121135745 | 1            | 1            | \n",
              "| -0.05119042  | -0.4690595   | -0.38834594  | -0.1898835   |  0.07418852  | -1.1396473   | -0.2383441   |  0.01188065  | -0.2953108   | -0.121135745 | 1            | 1            | \n",
              "|  0.10495345  |  1.4899198   | -0.05678533  | -0.3365522   | -0.17717983  | -0.8425719   | -0.6748702   | -0.02785926  | -0.2721259   |  0.001823016 | 1            | 1            | \n",
              "|  0.09905715  |  0.7446541   | -0.33932090  |  0.1984938   | -0.12107912  | -0.6818775   | -0.7505079   | -0.02785926  | -0.2452814   | -0.002820478 | 1            | 1            | \n",
              "| -0.05119042  | -0.4690595   | -0.14184117  | -0.6464805   |  0.61002909  | -1.1220213   | -0.3667761   |  0.10619752  | -0.2834150   | -0.121135745 | 1            | 1            | \n",
              "| -0.05119042  | -0.4690595   | -0.24617669  | -0.1835696   |  0.92304132  | -1.1457780   |  1.9110478   | -0.02785926  | -0.2852886   | -0.121135745 | 1            | 1            | \n",
              "\n\n"
            ],
            "text/plain": [
              "  cp_fac_lgt  cp_fac_lgt_rel cp_d_nxtbuil cp_d_builnxtblk cp_infzn_area\n",
              "1 -0.05119042 -0.4690595     -0.35551294   1.3403854       0.65233073  \n",
              "2 -0.05119042 -0.4690595     -0.38834594  -0.1898835       0.07418852  \n",
              "3  0.10495345  1.4899198     -0.05678533  -0.3365522      -0.17717983  \n",
              "4  0.09905715  0.7446541     -0.33932090   0.1984938      -0.12107912  \n",
              "5 -0.05119042 -0.4690595     -0.14184117  -0.6464805       0.61002909  \n",
              "6 -0.05119042 -0.4690595     -0.24617669  -0.1835696       0.92304132  \n",
              "  cp_r_ftp_infzon cp_d_blklim cp_blk_area cp_r_ftp_blk cp_closeness clusDBSCAN\n",
              "1 -0.8402341      -0.5689737   0.01188065 -0.1578895   -0.121135745 1         \n",
              "2 -1.1396473      -0.2383441   0.01188065 -0.2953108   -0.121135745 1         \n",
              "3 -0.8425719      -0.6748702  -0.02785926 -0.2721259    0.001823016 1         \n",
              "4 -0.6818775      -0.7505079  -0.02785926 -0.2452814   -0.002820478 1         \n",
              "5 -1.1220213      -0.3667761   0.10619752 -0.2834150   -0.121135745 1         \n",
              "6 -1.1457780       1.9110478  -0.02785926 -0.2852886   -0.121135745 1         \n",
              "  clusDBSCAN.1\n",
              "1 1           \n",
              "2 1           \n",
              "3 1           \n",
              "4 1           \n",
              "5 1           \n",
              "6 1           "
            ]
          },
          "metadata": {}
        }
      ],
      "execution_count": 72,
      "metadata": {}
    },
    {
      "cell_type": "code",
      "source": [
        "wss_clusters = seq(1, 30)\n",
        "for (i in 1:30) {\n",
        "    c = kmeans(cp_statb_to_class@data[, c(1:10)], i, nstart=5, iter.max = 50)\n",
        "    wss_clusters[i] = c$betweenss / c$totss\n",
        "}"
      ],
      "outputs": [
        {
          "output_type": "stream",
          "name": "stderr",
          "text": [
            "Warning message:\n",
            "\"Quick-TRANSfer stage steps exceeded maximum (= 2507450)\"Warning message:\n",
            "\"Quick-TRANSfer stage steps exceeded maximum (= 2507450)\"Warning message:\n",
            "\"Quick-TRANSfer stage steps exceeded maximum (= 2507450)\"Warning message:\n",
            "\"Quick-TRANSfer stage steps exceeded maximum (= 2507450)\"Warning message:\n",
            "\"Quick-TRANSfer stage steps exceeded maximum (= 2507450)\"Warning message:\n",
            "\"Quick-TRANSfer stage steps exceeded maximum (= 2507450)\"Warning message:\n",
            "\"Quick-TRANSfer stage steps exceeded maximum (= 2507450)\"Warning message:\n",
            "\"Quick-TRANSfer stage steps exceeded maximum (= 2507450)\"Warning message:\n",
            "\"Quick-TRANSfer stage steps exceeded maximum (= 2507450)\"Warning message:\n",
            "\"Quick-TRANSfer stage steps exceeded maximum (= 2507450)\"Warning message:\n",
            "\"Quick-TRANSfer stage steps exceeded maximum (= 2507450)\"Warning message:\n",
            "\"Quick-TRANSfer stage steps exceeded maximum (= 2507450)\"Warning message:\n",
            "\"Quick-TRANSfer stage steps exceeded maximum (= 2507450)\"Warning message:\n",
            "\"Quick-TRANSfer stage steps exceeded maximum (= 2507450)\""
          ]
        }
      ],
      "execution_count": 85,
      "metadata": {}
    },
    {
      "cell_type": "code",
      "source": [
        "plot(wss_clusters, type=\"o\")"
      ],
      "outputs": [
        {
          "output_type": "display_data",
          "data": {
            "image/png": "[encoded data removed]",
            "text/plain": [
              "plot without title"
            ]
          },
          "metadata": {}
        }
      ],
      "execution_count": 86,
      "metadata": {
        "scrolled": true
      }
    },
    {
      "cell_type": "code",
      "source": [
        "statb_kmeans <- kmeans(cp_statb_to_class@data[, c(1:10)], 15, nstart = 5, iter.max = 50)"
      ],
      "outputs": [],
      "execution_count": 87,
      "metadata": {}
    },
    {
      "cell_type": "code",
      "source": [
        "round(statb_kmeans$betweenss / statb_kmeans$totss, 2)"
      ],
      "outputs": [
        {
          "output_type": "display_data",
          "data": {
            "text/html": [
              "0.73"
            ],
            "text/latex": [
              "0.73"
            ],
            "text/markdown": [
              "0.73"
            ],
            "text/plain": [
              "[1] 0.73"
            ]
          },
          "metadata": {}
        }
      ],
      "execution_count": 88,
      "metadata": {}
    },
    {
      "cell_type": "code",
      "source": [
        "clusKME22 <- statb_kmeans$cluster\n",
        "cp_statb_to_class@data <- cbind(cp_statb_to_class@data, clusKME22)"
      ],
      "outputs": [],
      "execution_count": 98,
      "metadata": {}
    },
    {
      "cell_type": "code",
      "source": [
        "writeOGR(cp_statb, dsn = \"cp_statb.gpkg\", layer = 'dbscan', driver = \"GPKG\")\n",
        "writeOGR(cp_statb_to_class, dsn = \"cp_statb_kmeans.gpkg\", layer = 'km15', driver = \"GPKG\")"
      ],
      "outputs": [],
      "execution_count": 121,
      "metadata": {}
    },
    {
      "cell_type": "markdown",
      "source": [
        "### Fractal morphology"
      ],
      "metadata": {}
    },
    {
      "cell_type": "code",
      "source": [
        "kNNdistplot(cp_morf@data, k = 10)\n",
        "abline(h = 1.3, col = 'red', lty = 2)"
      ],
      "outputs": [
        {
          "output_type": "display_data",
          "data": {
            "image/png": "[encoded data removed]",
            "text/plain": [
              "plot without title"
            ]
          },
          "metadata": {}
        }
      ],
      "execution_count": 109,
      "metadata": {}
    },
    {
      "cell_type": "code",
      "source": [
        "res_morf <- dbscan(cp_morf@data[, c(1:10)], eps = 1.3, minPts = 11)\n",
        "res_morf"
      ],
      "outputs": [
        {
          "output_type": "display_data",
          "data": {
            "text/plain": [
              "DBSCAN clustering for 23917 objects.\n",
              "Parameters: eps = 1.3, minPts = 11\n",
              "The clustering contains 1 cluster(s) and 1037 noise points.\n",
              "\n",
              "    0     1 \n",
              " 1037 22880 \n",
              "\nAvailable fields: cluster, eps, minPts"
            ]
          },
          "metadata": {}
        }
      ],
      "execution_count": 110,
      "metadata": {}
    },
    {
      "cell_type": "code",
      "source": [
        "clusDBSCAN <- res_morf$cluster\n",
        "cp_morf@data <- cbind(cp_morf@data, clusDBSCAN)\n",
        "head(cp_morf@data)"
      ],
      "outputs": [
        {
          "output_type": "display_data",
          "data": {
            "text/html": [
              "<table>\n",
              "<thead><tr><th></th><th scope=col>cp_fac_lgt</th><th scope=col>cp_fac_lgt_rel</th><th scope=col>cp_d_nxtbuil</th><th scope=col>cp_d_builnxtblk</th><th scope=col>cp_infzn_area</th><th scope=col>cp_r_ftp_infzon</th><th scope=col>cp_d_blklim</th><th scope=col>cp_blk_area</th><th scope=col>cp_r_ftp_blk</th><th scope=col>cp_closeness</th><th scope=col>clusDBSCAN</th></tr></thead>\n",
              "<tbody>\n",
              "\t<tr><th scope=row>788</th><td>-0.03468567</td><td>-0.4381127 </td><td> 0.02865119</td><td>-0.7245414 </td><td>-0.19941546</td><td>0.0839235  </td><td>-0.6539708 </td><td>-0.6589493 </td><td>0.1008870  </td><td>-0.09793217</td><td>1          </td></tr>\n",
              "\t<tr><th scope=row>789</th><td>-0.03468567</td><td>-0.4381127 </td><td>-0.72103853</td><td>-0.1773595 </td><td>-0.31704607</td><td>0.3777040  </td><td> 0.8891179 </td><td>-0.7306279 </td><td>0.0793774  </td><td>-0.09793217</td><td>1          </td></tr>\n",
              "\t<tr><th scope=row>790</th><td>-0.03468567</td><td>-0.4381127 </td><td> 0.73170456</td><td>-0.6566843 </td><td> 0.49305758</td><td>1.5435551  </td><td>-0.4325306 </td><td>-0.4041613 </td><td>1.0211087  </td><td>-0.09793217</td><td>1          </td></tr>\n",
              "\t<tr><th scope=row>791</th><td>-0.03468567</td><td>-0.4381127 </td><td>-0.85898829</td><td>-0.6308738 </td><td>-0.30741382</td><td>2.1137607  </td><td>-0.1013773 </td><td>-0.7533774 </td><td>0.9964002  </td><td>-0.09793217</td><td>1          </td></tr>\n",
              "\t<tr><th scope=row>792</th><td>-0.03468567</td><td>-0.4381127 </td><td>-0.97743850</td><td>-0.8319406 </td><td> 0.02047072</td><td>1.4811837  </td><td>-0.5478890 </td><td>-0.5540624 </td><td>0.6633316  </td><td>-0.09793217</td><td>1          </td></tr>\n",
              "\t<tr><th scope=row>793</th><td> 0.10103925</td><td> 1.9220413 </td><td>-0.80978567</td><td>-0.9296340 </td><td>-0.30041873</td><td>2.6906370  </td><td>-0.8100723 </td><td>-0.7422247 </td><td>1.0107652  </td><td> 0.55478933</td><td>1          </td></tr>\n",
              "</tbody>\n",
              "</table>\n"
            ],
            "text/latex": [
              "\\begin{tabular}{r|lllllllllll}\n",
              "  & cp\\_fac\\_lgt & cp\\_fac\\_lgt\\_rel & cp\\_d\\_nxtbuil & cp\\_d\\_builnxtblk & cp\\_infzn\\_area & cp\\_r\\_ftp\\_infzon & cp\\_d\\_blklim & cp\\_blk\\_area & cp\\_r\\_ftp\\_blk & cp\\_closeness & clusDBSCAN\\\\\n",
              "\\hline\n",
              "\t788 & -0.03468567 & -0.4381127  &  0.02865119 & -0.7245414  & -0.19941546 & 0.0839235   & -0.6539708  & -0.6589493  & 0.1008870   & -0.09793217 & 1          \\\\\n",
              "\t789 & -0.03468567 & -0.4381127  & -0.72103853 & -0.1773595  & -0.31704607 & 0.3777040   &  0.8891179  & -0.7306279  & 0.0793774   & -0.09793217 & 1          \\\\\n",
              "\t790 & -0.03468567 & -0.4381127  &  0.73170456 & -0.6566843  &  0.49305758 & 1.5435551   & -0.4325306  & -0.4041613  & 1.0211087   & -0.09793217 & 1          \\\\\n",
              "\t791 & -0.03468567 & -0.4381127  & -0.85898829 & -0.6308738  & -0.30741382 & 2.1137607   & -0.1013773  & -0.7533774  & 0.9964002   & -0.09793217 & 1          \\\\\n",
              "\t792 & -0.03468567 & -0.4381127  & -0.97743850 & -0.8319406  &  0.02047072 & 1.4811837   & -0.5478890  & -0.5540624  & 0.6633316   & -0.09793217 & 1          \\\\\n",
              "\t793 &  0.10103925 &  1.9220413  & -0.80978567 & -0.9296340  & -0.30041873 & 2.6906370   & -0.8100723  & -0.7422247  & 1.0107652   &  0.55478933 & 1          \\\\\n",
              "\\end{tabular}\n"
            ],
            "text/markdown": [
              "\n",
              "| <!--/--> | cp_fac_lgt | cp_fac_lgt_rel | cp_d_nxtbuil | cp_d_builnxtblk | cp_infzn_area | cp_r_ftp_infzon | cp_d_blklim | cp_blk_area | cp_r_ftp_blk | cp_closeness | clusDBSCAN | \n",
              "|---|---|---|---|---|---|\n",
              "| 788 | -0.03468567 | -0.4381127  |  0.02865119 | -0.7245414  | -0.19941546 | 0.0839235   | -0.6539708  | -0.6589493  | 0.1008870   | -0.09793217 | 1           | \n",
              "| 789 | -0.03468567 | -0.4381127  | -0.72103853 | -0.1773595  | -0.31704607 | 0.3777040   |  0.8891179  | -0.7306279  | 0.0793774   | -0.09793217 | 1           | \n",
              "| 790 | -0.03468567 | -0.4381127  |  0.73170456 | -0.6566843  |  0.49305758 | 1.5435551   | -0.4325306  | -0.4041613  | 1.0211087   | -0.09793217 | 1           | \n",
              "| 791 | -0.03468567 | -0.4381127  | -0.85898829 | -0.6308738  | -0.30741382 | 2.1137607   | -0.1013773  | -0.7533774  | 0.9964002   | -0.09793217 | 1           | \n",
              "| 792 | -0.03468567 | -0.4381127  | -0.97743850 | -0.8319406  |  0.02047072 | 1.4811837   | -0.5478890  | -0.5540624  | 0.6633316   | -0.09793217 | 1           | \n",
              "| 793 |  0.10103925 |  1.9220413  | -0.80978567 | -0.9296340  | -0.30041873 | 2.6906370   | -0.8100723  | -0.7422247  | 1.0107652   |  0.55478933 | 1           | \n",
              "\n\n"
            ],
            "text/plain": [
              "    cp_fac_lgt  cp_fac_lgt_rel cp_d_nxtbuil cp_d_builnxtblk cp_infzn_area\n",
              "788 -0.03468567 -0.4381127      0.02865119  -0.7245414      -0.19941546  \n",
              "789 -0.03468567 -0.4381127     -0.72103853  -0.1773595      -0.31704607  \n",
              "790 -0.03468567 -0.4381127      0.73170456  -0.6566843       0.49305758  \n",
              "791 -0.03468567 -0.4381127     -0.85898829  -0.6308738      -0.30741382  \n",
              "792 -0.03468567 -0.4381127     -0.97743850  -0.8319406       0.02047072  \n",
              "793  0.10103925  1.9220413     -0.80978567  -0.9296340      -0.30041873  \n",
              "    cp_r_ftp_infzon cp_d_blklim cp_blk_area cp_r_ftp_blk cp_closeness\n",
              "788 0.0839235       -0.6539708  -0.6589493  0.1008870    -0.09793217 \n",
              "789 0.3777040        0.8891179  -0.7306279  0.0793774    -0.09793217 \n",
              "790 1.5435551       -0.4325306  -0.4041613  1.0211087    -0.09793217 \n",
              "791 2.1137607       -0.1013773  -0.7533774  0.9964002    -0.09793217 \n",
              "792 1.4811837       -0.5478890  -0.5540624  0.6633316    -0.09793217 \n",
              "793 2.6906370       -0.8100723  -0.7422247  1.0107652     0.55478933 \n",
              "    clusDBSCAN\n",
              "788 1         \n",
              "789 1         \n",
              "790 1         \n",
              "791 1         \n",
              "792 1         \n",
              "793 1         "
            ]
          },
          "metadata": {}
        }
      ],
      "execution_count": 111,
      "metadata": {
        "scrolled": true
      }
    },
    {
      "cell_type": "code",
      "source": [
        "sel <- cp_morf@data$clusDBSCAN == 1\n",
        "cp_morf_to_class <- cp_morf[sel,]"
      ],
      "outputs": [],
      "execution_count": 112,
      "metadata": {}
    },
    {
      "cell_type": "code",
      "source": [
        "head(cp_statb_to_class@data)"
      ],
      "outputs": [
        {
          "output_type": "display_data",
          "data": {
            "text/html": [
              "<table>\n",
              "<thead><tr><th scope=col>cp_fac_lgt</th><th scope=col>cp_fac_lgt_rel</th><th scope=col>cp_d_nxtbuil</th><th scope=col>cp_d_builnxtblk</th><th scope=col>cp_infzn_area</th><th scope=col>cp_r_ftp_infzon</th><th scope=col>cp_d_blklim</th><th scope=col>cp_blk_area</th><th scope=col>cp_r_ftp_blk</th><th scope=col>cp_closeness</th><th scope=col>clusDBSCAN</th><th scope=col>clusDBSCAN.1</th></tr></thead>\n",
              "<tbody>\n",
              "\t<tr><td>-0.05119042 </td><td>-0.4690595  </td><td>-0.35551294 </td><td> 1.3403854  </td><td> 0.65233073 </td><td>-0.8402341  </td><td>-0.5689737  </td><td> 0.01188065 </td><td>-0.1578895  </td><td>-0.121135745</td><td>1           </td><td>1           </td></tr>\n",
              "\t<tr><td>-0.05119042 </td><td>-0.4690595  </td><td>-0.38834594 </td><td>-0.1898835  </td><td> 0.07418852 </td><td>-1.1396473  </td><td>-0.2383441  </td><td> 0.01188065 </td><td>-0.2953108  </td><td>-0.121135745</td><td>1           </td><td>1           </td></tr>\n",
              "\t<tr><td> 0.10495345 </td><td> 1.4899198  </td><td>-0.05678533 </td><td>-0.3365522  </td><td>-0.17717983 </td><td>-0.8425719  </td><td>-0.6748702  </td><td>-0.02785926 </td><td>-0.2721259  </td><td> 0.001823016</td><td>1           </td><td>1           </td></tr>\n",
              "\t<tr><td> 0.09905715 </td><td> 0.7446541  </td><td>-0.33932090 </td><td> 0.1984938  </td><td>-0.12107912 </td><td>-0.6818775  </td><td>-0.7505079  </td><td>-0.02785926 </td><td>-0.2452814  </td><td>-0.002820478</td><td>1           </td><td>1           </td></tr>\n",
              "\t<tr><td>-0.05119042 </td><td>-0.4690595  </td><td>-0.14184117 </td><td>-0.6464805  </td><td> 0.61002909 </td><td>-1.1220213  </td><td>-0.3667761  </td><td> 0.10619752 </td><td>-0.2834150  </td><td>-0.121135745</td><td>1           </td><td>1           </td></tr>\n",
              "\t<tr><td>-0.05119042 </td><td>-0.4690595  </td><td>-0.24617669 </td><td>-0.1835696  </td><td> 0.92304132 </td><td>-1.1457780  </td><td> 1.9110478  </td><td>-0.02785926 </td><td>-0.2852886  </td><td>-0.121135745</td><td>1           </td><td>1           </td></tr>\n",
              "</tbody>\n",
              "</table>\n"
            ],
            "text/latex": [
              "\\begin{tabular}{r|llllllllllll}\n",
              " cp\\_fac\\_lgt & cp\\_fac\\_lgt\\_rel & cp\\_d\\_nxtbuil & cp\\_d\\_builnxtblk & cp\\_infzn\\_area & cp\\_r\\_ftp\\_infzon & cp\\_d\\_blklim & cp\\_blk\\_area & cp\\_r\\_ftp\\_blk & cp\\_closeness & clusDBSCAN & clusDBSCAN.1\\\\\n",
              "\\hline\n",
              "\t -0.05119042  & -0.4690595   & -0.35551294  &  1.3403854   &  0.65233073  & -0.8402341   & -0.5689737   &  0.01188065  & -0.1578895   & -0.121135745 & 1            & 1           \\\\\n",
              "\t -0.05119042  & -0.4690595   & -0.38834594  & -0.1898835   &  0.07418852  & -1.1396473   & -0.2383441   &  0.01188065  & -0.2953108   & -0.121135745 & 1            & 1           \\\\\n",
              "\t  0.10495345  &  1.4899198   & -0.05678533  & -0.3365522   & -0.17717983  & -0.8425719   & -0.6748702   & -0.02785926  & -0.2721259   &  0.001823016 & 1            & 1           \\\\\n",
              "\t  0.09905715  &  0.7446541   & -0.33932090  &  0.1984938   & -0.12107912  & -0.6818775   & -0.7505079   & -0.02785926  & -0.2452814   & -0.002820478 & 1            & 1           \\\\\n",
              "\t -0.05119042  & -0.4690595   & -0.14184117  & -0.6464805   &  0.61002909  & -1.1220213   & -0.3667761   &  0.10619752  & -0.2834150   & -0.121135745 & 1            & 1           \\\\\n",
              "\t -0.05119042  & -0.4690595   & -0.24617669  & -0.1835696   &  0.92304132  & -1.1457780   &  1.9110478   & -0.02785926  & -0.2852886   & -0.121135745 & 1            & 1           \\\\\n",
              "\\end{tabular}\n"
            ],
            "text/markdown": [
              "\n",
              "cp_fac_lgt | cp_fac_lgt_rel | cp_d_nxtbuil | cp_d_builnxtblk | cp_infzn_area | cp_r_ftp_infzon | cp_d_blklim | cp_blk_area | cp_r_ftp_blk | cp_closeness | clusDBSCAN | clusDBSCAN.1 | \n",
              "|---|---|---|---|---|---|\n",
              "| -0.05119042  | -0.4690595   | -0.35551294  |  1.3403854   |  0.65233073  | -0.8402341   | -0.5689737   |  0.01188065  | -0.1578895   | -0.121135745 | 1            | 1            | \n",
              "| -0.05119042  | -0.4690595   | -0.38834594  | -0.1898835   |  0.07418852  | -1.1396473   | -0.2383441   |  0.01188065  | -0.2953108   | -0.121135745 | 1            | 1            | \n",
              "|  0.10495345  |  1.4899198   | -0.05678533  | -0.3365522   | -0.17717983  | -0.8425719   | -0.6748702   | -0.02785926  | -0.2721259   |  0.001823016 | 1            | 1            | \n",
              "|  0.09905715  |  0.7446541   | -0.33932090  |  0.1984938   | -0.12107912  | -0.6818775   | -0.7505079   | -0.02785926  | -0.2452814   | -0.002820478 | 1            | 1            | \n",
              "| -0.05119042  | -0.4690595   | -0.14184117  | -0.6464805   |  0.61002909  | -1.1220213   | -0.3667761   |  0.10619752  | -0.2834150   | -0.121135745 | 1            | 1            | \n",
              "| -0.05119042  | -0.4690595   | -0.24617669  | -0.1835696   |  0.92304132  | -1.1457780   |  1.9110478   | -0.02785926  | -0.2852886   | -0.121135745 | 1            | 1            | \n",
              "\n\n"
            ],
            "text/plain": [
              "  cp_fac_lgt  cp_fac_lgt_rel cp_d_nxtbuil cp_d_builnxtblk cp_infzn_area\n",
              "1 -0.05119042 -0.4690595     -0.35551294   1.3403854       0.65233073  \n",
              "2 -0.05119042 -0.4690595     -0.38834594  -0.1898835       0.07418852  \n",
              "3  0.10495345  1.4899198     -0.05678533  -0.3365522      -0.17717983  \n",
              "4  0.09905715  0.7446541     -0.33932090   0.1984938      -0.12107912  \n",
              "5 -0.05119042 -0.4690595     -0.14184117  -0.6464805       0.61002909  \n",
              "6 -0.05119042 -0.4690595     -0.24617669  -0.1835696       0.92304132  \n",
              "  cp_r_ftp_infzon cp_d_blklim cp_blk_area cp_r_ftp_blk cp_closeness clusDBSCAN\n",
              "1 -0.8402341      -0.5689737   0.01188065 -0.1578895   -0.121135745 1         \n",
              "2 -1.1396473      -0.2383441   0.01188065 -0.2953108   -0.121135745 1         \n",
              "3 -0.8425719      -0.6748702  -0.02785926 -0.2721259    0.001823016 1         \n",
              "4 -0.6818775      -0.7505079  -0.02785926 -0.2452814   -0.002820478 1         \n",
              "5 -1.1220213      -0.3667761   0.10619752 -0.2834150   -0.121135745 1         \n",
              "6 -1.1457780       1.9110478  -0.02785926 -0.2852886   -0.121135745 1         \n",
              "  clusDBSCAN.1\n",
              "1 1           \n",
              "2 1           \n",
              "3 1           \n",
              "4 1           \n",
              "5 1           \n",
              "6 1           "
            ]
          },
          "metadata": {}
        }
      ],
      "execution_count": 72,
      "metadata": {}
    },
    {
      "cell_type": "code",
      "source": [
        "wss_clusters = seq(1, 30)\n",
        "for (i in 1:30) {\n",
        "    c = kmeans(cp_morf_to_class@data[, c(1:10)], i, nstart=5, iter.max = 50)\n",
        "    wss_clusters[i] = c$betweenss / c$totss\n",
        "}"
      ],
      "outputs": [
        {
          "output_type": "stream",
          "name": "stderr",
          "text": [
            "Warning message:\n",
            "\"Quick-TRANSfer stage steps exceeded maximum (= 1144000)\""
          ]
        }
      ],
      "execution_count": 113,
      "metadata": {}
    },
    {
      "cell_type": "code",
      "source": [
        "plot(wss_clusters, type=\"o\")"
      ],
      "outputs": [
        {
          "output_type": "display_data",
          "data": {
            "image/png": "[encoded data removed]",
            "text/plain": [
              "plot without title"
            ]
          },
          "metadata": {}
        }
      ],
      "execution_count": 114,
      "metadata": {
        "scrolled": true
      }
    },
    {
      "cell_type": "code",
      "source": [
        "morf_kmeans <- kmeans(cp_morf_to_class@data[, c(1:10)], 16, nstart = 5, iter.max = 50)"
      ],
      "outputs": [],
      "execution_count": 115,
      "metadata": {}
    },
    {
      "cell_type": "code",
      "source": [
        "round(morf_kmeans$betweenss / morf_kmeans$totss, 2)"
      ],
      "outputs": [
        {
          "output_type": "display_data",
          "data": {
            "text/html": [
              "0.69"
            ],
            "text/latex": [
              "0.69"
            ],
            "text/markdown": [
              "0.69"
            ],
            "text/plain": [
              "[1] 0.69"
            ]
          },
          "metadata": {}
        }
      ],
      "execution_count": 116,
      "metadata": {}
    },
    {
      "cell_type": "code",
      "source": [
        "clusKME16 <- morf_kmeans$cluster\n",
        "cp_morf_to_class@data <- cbind(cp_morf_to_class@data, clusKME16)"
      ],
      "outputs": [],
      "execution_count": 117,
      "metadata": {}
    },
    {
      "cell_type": "code",
      "source": [
        "writeOGR(cp_morf, dsn = \"cp_morf.gpkg\", layer = 'dbscan', driver = \"GPKG\")\n",
        "writeOGR(cp_morf_to_class, dsn = \"cp_morf_kmeans.gpkg\", layer = 'km16', driver = \"GPKG\")"
      ],
      "outputs": [],
      "execution_count": 120,
      "metadata": {}
    },
    {
      "cell_type": "markdown",
      "source": [
        "### CCA King"
      ],
      "metadata": {}
    },
    {
      "cell_type": "code",
      "source": [
        "kNNdistplot(cp_ccak@data, k = 10)\n",
        "abline(h = 1.3, col = 'red', lty = 2)"
      ],
      "outputs": [
        {
          "output_type": "display_data",
          "data": {
            "image/png": "[encoded data removed]",
            "text/plain": [
              "plot without title"
            ]
          },
          "metadata": {}
        }
      ],
      "execution_count": 123,
      "metadata": {}
    },
    {
      "cell_type": "code",
      "source": [
        "res_ccak <- dbscan(cp_ccak@data[, c(1:10)], eps = 1.3, minPts = 11)\n",
        "res_ccak"
      ],
      "outputs": [
        {
          "output_type": "display_data",
          "data": {
            "text/plain": [
              "DBSCAN clustering for 13990 objects.\n",
              "Parameters: eps = 1.3, minPts = 11\n",
              "The clustering contains 1 cluster(s) and 743 noise points.\n",
              "\n",
              "    0     1 \n",
              "  743 13247 \n",
              "\nAvailable fields: cluster, eps, minPts"
            ]
          },
          "metadata": {}
        }
      ],
      "execution_count": 125,
      "metadata": {}
    },
    {
      "cell_type": "code",
      "source": [
        "clusDBSCAN <- res_ccak$cluster\n",
        "cp_ccak@data <- cbind(cp_ccak@data, clusDBSCAN)\n",
        "head(cp_ccak@data)"
      ],
      "outputs": [
        {
          "output_type": "display_data",
          "data": {
            "text/html": [
              "<table>\n",
              "<thead><tr><th></th><th scope=col>cp_fac_lgt</th><th scope=col>cp_fac_lgt_rel</th><th scope=col>cp_d_nxtbuil</th><th scope=col>cp_d_builnxtblk</th><th scope=col>cp_infzn_area</th><th scope=col>cp_r_ftp_infzon</th><th scope=col>cp_d_blklim</th><th scope=col>cp_blk_area</th><th scope=col>cp_r_ftp_blk</th><th scope=col>cp_closeness</th><th scope=col>clusDBSCAN</th></tr></thead>\n",
              "<tbody>\n",
              "\t<tr><th scope=row>788</th><td>-0.03310681</td><td>-0.4440339 </td><td> 0.2332944 </td><td>-0.7078693 </td><td>-0.1320889 </td><td>-0.19334868</td><td>-0.63651504</td><td>-0.6323096 </td><td>0.025558722</td><td>-0.09532425</td><td>1          </td></tr>\n",
              "\t<tr><th scope=row>789</th><td>-0.03310681</td><td>-0.4440339 </td><td>-0.8251730 </td><td> 0.0155130 </td><td>-0.3465585 </td><td> 0.09872696</td><td> 0.97533040</td><td>-0.7227588 </td><td>0.006260403</td><td>-0.09532425</td><td>1          </td></tr>\n",
              "\t<tr><th scope=row>790</th><td>-0.03310681</td><td>-0.4440339 </td><td> 1.2259171 </td><td>-0.6181612 </td><td> 1.1304604 </td><td> 1.25781254</td><td>-0.40520791</td><td>-0.3108001 </td><td>0.851175847</td><td>-0.09532425</td><td>1          </td></tr>\n",
              "\t<tr><th scope=row>791</th><td>-0.03310681</td><td>-0.4440339 </td><td>-1.0199407 </td><td>-0.5840393 </td><td>-0.3289965 </td><td> 1.82470909</td><td>-0.05929914</td><td>-0.7514657 </td><td>0.829007605</td><td>-0.09532425</td><td>1          </td></tr>\n",
              "\t<tr><th scope=row>792</th><td>-0.03310681</td><td>-0.4440339 </td><td>-1.1871774 </td><td>-0.8498526 </td><td> 0.2688179 </td><td> 1.19580307</td><td>-0.52570649</td><td>-0.4999559 </td><td>0.530180522</td><td>-0.09532425</td><td>1          </td></tr>\n",
              "\t<tr><th scope=row>793</th><td> 0.07081472</td><td> 1.8235336 </td><td>-0.9504728 </td><td>-0.9790046 </td><td>-0.3162427 </td><td> 2.39823772</td><td>-0.79957210</td><td>-0.7373925 </td><td>0.841895741</td><td> 0.42153289</td><td>1          </td></tr>\n",
              "</tbody>\n",
              "</table>\n"
            ],
            "text/latex": [
              "\\begin{tabular}{r|lllllllllll}\n",
              "  & cp\\_fac\\_lgt & cp\\_fac\\_lgt\\_rel & cp\\_d\\_nxtbuil & cp\\_d\\_builnxtblk & cp\\_infzn\\_area & cp\\_r\\_ftp\\_infzon & cp\\_d\\_blklim & cp\\_blk\\_area & cp\\_r\\_ftp\\_blk & cp\\_closeness & clusDBSCAN\\\\\n",
              "\\hline\n",
              "\t788 & -0.03310681 & -0.4440339  &  0.2332944  & -0.7078693  & -0.1320889  & -0.19334868 & -0.63651504 & -0.6323096  & 0.025558722 & -0.09532425 & 1          \\\\\n",
              "\t789 & -0.03310681 & -0.4440339  & -0.8251730  &  0.0155130  & -0.3465585  &  0.09872696 &  0.97533040 & -0.7227588  & 0.006260403 & -0.09532425 & 1          \\\\\n",
              "\t790 & -0.03310681 & -0.4440339  &  1.2259171  & -0.6181612  &  1.1304604  &  1.25781254 & -0.40520791 & -0.3108001  & 0.851175847 & -0.09532425 & 1          \\\\\n",
              "\t791 & -0.03310681 & -0.4440339  & -1.0199407  & -0.5840393  & -0.3289965  &  1.82470909 & -0.05929914 & -0.7514657  & 0.829007605 & -0.09532425 & 1          \\\\\n",
              "\t792 & -0.03310681 & -0.4440339  & -1.1871774  & -0.8498526  &  0.2688179  &  1.19580307 & -0.52570649 & -0.4999559  & 0.530180522 & -0.09532425 & 1          \\\\\n",
              "\t793 &  0.07081472 &  1.8235336  & -0.9504728  & -0.9790046  & -0.3162427  &  2.39823772 & -0.79957210 & -0.7373925  & 0.841895741 &  0.42153289 & 1          \\\\\n",
              "\\end{tabular}\n"
            ],
            "text/markdown": [
              "\n",
              "| <!--/--> | cp_fac_lgt | cp_fac_lgt_rel | cp_d_nxtbuil | cp_d_builnxtblk | cp_infzn_area | cp_r_ftp_infzon | cp_d_blklim | cp_blk_area | cp_r_ftp_blk | cp_closeness | clusDBSCAN | \n",
              "|---|---|---|---|---|---|\n",
              "| 788 | -0.03310681 | -0.4440339  |  0.2332944  | -0.7078693  | -0.1320889  | -0.19334868 | -0.63651504 | -0.6323096  | 0.025558722 | -0.09532425 | 1           | \n",
              "| 789 | -0.03310681 | -0.4440339  | -0.8251730  |  0.0155130  | -0.3465585  |  0.09872696 |  0.97533040 | -0.7227588  | 0.006260403 | -0.09532425 | 1           | \n",
              "| 790 | -0.03310681 | -0.4440339  |  1.2259171  | -0.6181612  |  1.1304604  |  1.25781254 | -0.40520791 | -0.3108001  | 0.851175847 | -0.09532425 | 1           | \n",
              "| 791 | -0.03310681 | -0.4440339  | -1.0199407  | -0.5840393  | -0.3289965  |  1.82470909 | -0.05929914 | -0.7514657  | 0.829007605 | -0.09532425 | 1           | \n",
              "| 792 | -0.03310681 | -0.4440339  | -1.1871774  | -0.8498526  |  0.2688179  |  1.19580307 | -0.52570649 | -0.4999559  | 0.530180522 | -0.09532425 | 1           | \n",
              "| 793 |  0.07081472 |  1.8235336  | -0.9504728  | -0.9790046  | -0.3162427  |  2.39823772 | -0.79957210 | -0.7373925  | 0.841895741 |  0.42153289 | 1           | \n",
              "\n\n"
            ],
            "text/plain": [
              "    cp_fac_lgt  cp_fac_lgt_rel cp_d_nxtbuil cp_d_builnxtblk cp_infzn_area\n",
              "788 -0.03310681 -0.4440339      0.2332944   -0.7078693      -0.1320889   \n",
              "789 -0.03310681 -0.4440339     -0.8251730    0.0155130      -0.3465585   \n",
              "790 -0.03310681 -0.4440339      1.2259171   -0.6181612       1.1304604   \n",
              "791 -0.03310681 -0.4440339     -1.0199407   -0.5840393      -0.3289965   \n",
              "792 -0.03310681 -0.4440339     -1.1871774   -0.8498526       0.2688179   \n",
              "793  0.07081472  1.8235336     -0.9504728   -0.9790046      -0.3162427   \n",
              "    cp_r_ftp_infzon cp_d_blklim cp_blk_area cp_r_ftp_blk cp_closeness\n",
              "788 -0.19334868     -0.63651504 -0.6323096  0.025558722  -0.09532425 \n",
              "789  0.09872696      0.97533040 -0.7227588  0.006260403  -0.09532425 \n",
              "790  1.25781254     -0.40520791 -0.3108001  0.851175847  -0.09532425 \n",
              "791  1.82470909     -0.05929914 -0.7514657  0.829007605  -0.09532425 \n",
              "792  1.19580307     -0.52570649 -0.4999559  0.530180522  -0.09532425 \n",
              "793  2.39823772     -0.79957210 -0.7373925  0.841895741   0.42153289 \n",
              "    clusDBSCAN\n",
              "788 1         \n",
              "789 1         \n",
              "790 1         \n",
              "791 1         \n",
              "792 1         \n",
              "793 1         "
            ]
          },
          "metadata": {}
        }
      ],
      "execution_count": 126,
      "metadata": {
        "scrolled": true
      }
    },
    {
      "cell_type": "code",
      "source": [
        "sel <- cp_ccak@data$clusDBSCAN == 1\n",
        "cp_ccak_to_class <- cp_ccak[sel,]"
      ],
      "outputs": [],
      "execution_count": 127,
      "metadata": {}
    },
    {
      "cell_type": "code",
      "source": [
        "wss_clusters = seq(1, 30)\n",
        "for (i in 1:30) {\n",
        "    c = kmeans(cp_ccak_to_class@data[, c(1:10)], i, nstart=5, iter.max = 50)\n",
        "    wss_clusters[i] = c$betweenss / c$totss\n",
        "}"
      ],
      "outputs": [
        {
          "output_type": "stream",
          "name": "stderr",
          "text": [
            "Warning message:\n",
            "\"Quick-TRANSfer stage steps exceeded maximum (= 662350)\""
          ]
        }
      ],
      "execution_count": 129,
      "metadata": {}
    },
    {
      "cell_type": "code",
      "source": [
        "plot(wss_clusters, type=\"o\")"
      ],
      "outputs": [
        {
          "output_type": "display_data",
          "data": {
            "image/png": "[encoded data removed]",
            "text/plain": [
              "plot without title"
            ]
          },
          "metadata": {}
        }
      ],
      "execution_count": 130,
      "metadata": {
        "scrolled": true
      }
    },
    {
      "cell_type": "code",
      "source": [
        "ccak_kmeans <- kmeans(cp_ccak_to_class@data[, c(1:10)], 18, nstart = 5, iter.max = 50)"
      ],
      "outputs": [],
      "execution_count": 131,
      "metadata": {}
    },
    {
      "cell_type": "code",
      "source": [
        "round(ccak_kmeans$betweenss / ccak_kmeans$totss, 2)"
      ],
      "outputs": [
        {
          "output_type": "display_data",
          "data": {
            "text/html": [
              "0.71"
            ],
            "text/latex": [
              "0.71"
            ],
            "text/markdown": [
              "0.71"
            ],
            "text/plain": [
              "[1] 0.71"
            ]
          },
          "metadata": {}
        }
      ],
      "execution_count": 132,
      "metadata": {}
    },
    {
      "cell_type": "code",
      "source": [
        "clusKME18 <- ccak_kmeans$cluster\n",
        "cp_ccak_to_class@data <- cbind(cp_ccak_to_class@data, clusKME18)"
      ],
      "outputs": [],
      "execution_count": 133,
      "metadata": {}
    },
    {
      "cell_type": "code",
      "source": [
        "writeOGR(cp_ccak, dsn = \"cp_ccak.gpkg\", layer = 'dbscan', driver = \"GPKG\")\n",
        "writeOGR(cp_ccak_to_class, dsn = \"cp_ccak_kmeans.gpkg\", layer = 'km18', driver = \"GPKG\")"
      ],
      "outputs": [],
      "execution_count": 134,
      "metadata": {}
    },
    {
      "cell_type": "markdown",
      "source": [
        "### CCA Lenient"
      ],
      "metadata": {}
    },
    {
      "cell_type": "code",
      "source": [
        "kNNdistplot(cp_ccal@data, k = 10)\n",
        "abline(h = 1.3, col = 'red', lty = 2)"
      ],
      "outputs": [
        {
          "output_type": "display_data",
          "data": {
            "image/png": "[encoded data removed]",
            "text/plain": [
              "plot without title"
            ]
          },
          "metadata": {}
        }
      ],
      "execution_count": 140,
      "metadata": {}
    },
    {
      "cell_type": "code",
      "source": [
        "res_ccal <- dbscan(cp_ccal@data[, c(1:10)], eps = 1.3, minPts = 11)\n",
        "res_ccal"
      ],
      "outputs": [
        {
          "output_type": "display_data",
          "data": {
            "text/plain": [
              "DBSCAN clustering for 18538 objects.\n",
              "Parameters: eps = 1.3, minPts = 11\n",
              "The clustering contains 1 cluster(s) and 896 noise points.\n",
              "\n",
              "    0     1 \n",
              "  896 17642 \n",
              "\nAvailable fields: cluster, eps, minPts"
            ]
          },
          "metadata": {}
        }
      ],
      "execution_count": 141,
      "metadata": {}
    },
    {
      "cell_type": "code",
      "source": [
        "clusDBSCAN <- res_ccal$cluster\n",
        "cp_ccal@data <- cbind(cp_ccal@data, clusDBSCAN)\n",
        "head(cp_ccal@data)"
      ],
      "outputs": [
        {
          "output_type": "display_data",
          "data": {
            "text/html": [
              "<table>\n",
              "<thead><tr><th></th><th scope=col>cp_fac_lgt</th><th scope=col>cp_fac_lgt_rel</th><th scope=col>cp_d_nxtbuil</th><th scope=col>cp_d_builnxtblk</th><th scope=col>cp_infzn_area</th><th scope=col>cp_r_ftp_infzon</th><th scope=col>cp_d_blklim</th><th scope=col>cp_blk_area</th><th scope=col>cp_r_ftp_blk</th><th scope=col>cp_closeness</th><th scope=col>clusDBSCAN</th></tr></thead>\n",
              "<tbody>\n",
              "\t<tr><th scope=row>788</th><td>-0.03406541</td><td>-0.445852  </td><td> 0.1937930 </td><td>-0.6919010 </td><td>-0.1582695 </td><td>-0.1099506 </td><td>-0.6430918 </td><td>-0.6455315 </td><td>0.05049763 </td><td>-0.09783788</td><td>1          </td></tr>\n",
              "\t<tr><th scope=row>789</th><td>-0.03406541</td><td>-0.445852  </td><td>-0.8330146 </td><td>-0.0719889 </td><td>-0.3368553 </td><td> 0.1883535 </td><td> 0.9806330 </td><td>-0.7277722 </td><td>0.03055439 </td><td>-0.09783788</td><td>1          </td></tr>\n",
              "\t<tr><th scope=row>790</th><td>-0.03406541</td><td>-0.445852  </td><td> 1.1567254 </td><td>-0.6150244 </td><td> 0.8930373 </td><td> 1.3721564 </td><td>-0.4100799 </td><td>-0.3531997 </td><td>0.90370546 </td><td>-0.09783788</td><td>1          </td></tr>\n",
              "\t<tr><th scope=row>791</th><td>-0.03406541</td><td>-0.445852  </td><td>-1.0219565 </td><td>-0.5857832 </td><td>-0.3222317 </td><td> 1.9511420 </td><td>-0.0616218 </td><td>-0.7538739 </td><td>0.88079639 </td><td>-0.09783788</td><td>1          </td></tr>\n",
              "\t<tr><th scope=row>792</th><td>-0.03406541</td><td>-0.445852  </td><td>-1.1841911 </td><td>-0.8135754 </td><td> 0.1755599 </td><td> 1.3088246 </td><td>-0.5314666 </td><td>-0.5251892 </td><td>0.57198302 </td><td>-0.09783788</td><td>1          </td></tr>\n",
              "\t<tr><th scope=row>793</th><td> 0.08549297</td><td> 1.884075  </td><td>-0.9545665 </td><td>-0.9242540 </td><td>-0.3116118 </td><td> 2.5369011 </td><td>-0.8073506 </td><td>-0.7410779 </td><td>0.89411523 </td><td> 0.48877281</td><td>1          </td></tr>\n",
              "</tbody>\n",
              "</table>\n"
            ],
            "text/latex": [
              "\\begin{tabular}{r|lllllllllll}\n",
              "  & cp\\_fac\\_lgt & cp\\_fac\\_lgt\\_rel & cp\\_d\\_nxtbuil & cp\\_d\\_builnxtblk & cp\\_infzn\\_area & cp\\_r\\_ftp\\_infzon & cp\\_d\\_blklim & cp\\_blk\\_area & cp\\_r\\_ftp\\_blk & cp\\_closeness & clusDBSCAN\\\\\n",
              "\\hline\n",
              "\t788 & -0.03406541 & -0.445852   &  0.1937930  & -0.6919010  & -0.1582695  & -0.1099506  & -0.6430918  & -0.6455315  & 0.05049763  & -0.09783788 & 1          \\\\\n",
              "\t789 & -0.03406541 & -0.445852   & -0.8330146  & -0.0719889  & -0.3368553  &  0.1883535  &  0.9806330  & -0.7277722  & 0.03055439  & -0.09783788 & 1          \\\\\n",
              "\t790 & -0.03406541 & -0.445852   &  1.1567254  & -0.6150244  &  0.8930373  &  1.3721564  & -0.4100799  & -0.3531997  & 0.90370546  & -0.09783788 & 1          \\\\\n",
              "\t791 & -0.03406541 & -0.445852   & -1.0219565  & -0.5857832  & -0.3222317  &  1.9511420  & -0.0616218  & -0.7538739  & 0.88079639  & -0.09783788 & 1          \\\\\n",
              "\t792 & -0.03406541 & -0.445852   & -1.1841911  & -0.8135754  &  0.1755599  &  1.3088246  & -0.5314666  & -0.5251892  & 0.57198302  & -0.09783788 & 1          \\\\\n",
              "\t793 &  0.08549297 &  1.884075   & -0.9545665  & -0.9242540  & -0.3116118  &  2.5369011  & -0.8073506  & -0.7410779  & 0.89411523  &  0.48877281 & 1          \\\\\n",
              "\\end{tabular}\n"
            ],
            "text/markdown": [
              "\n",
              "| <!--/--> | cp_fac_lgt | cp_fac_lgt_rel | cp_d_nxtbuil | cp_d_builnxtblk | cp_infzn_area | cp_r_ftp_infzon | cp_d_blklim | cp_blk_area | cp_r_ftp_blk | cp_closeness | clusDBSCAN | \n",
              "|---|---|---|---|---|---|\n",
              "| 788 | -0.03406541 | -0.445852   |  0.1937930  | -0.6919010  | -0.1582695  | -0.1099506  | -0.6430918  | -0.6455315  | 0.05049763  | -0.09783788 | 1           | \n",
              "| 789 | -0.03406541 | -0.445852   | -0.8330146  | -0.0719889  | -0.3368553  |  0.1883535  |  0.9806330  | -0.7277722  | 0.03055439  | -0.09783788 | 1           | \n",
              "| 790 | -0.03406541 | -0.445852   |  1.1567254  | -0.6150244  |  0.8930373  |  1.3721564  | -0.4100799  | -0.3531997  | 0.90370546  | -0.09783788 | 1           | \n",
              "| 791 | -0.03406541 | -0.445852   | -1.0219565  | -0.5857832  | -0.3222317  |  1.9511420  | -0.0616218  | -0.7538739  | 0.88079639  | -0.09783788 | 1           | \n",
              "| 792 | -0.03406541 | -0.445852   | -1.1841911  | -0.8135754  |  0.1755599  |  1.3088246  | -0.5314666  | -0.5251892  | 0.57198302  | -0.09783788 | 1           | \n",
              "| 793 |  0.08549297 |  1.884075   | -0.9545665  | -0.9242540  | -0.3116118  |  2.5369011  | -0.8073506  | -0.7410779  | 0.89411523  |  0.48877281 | 1           | \n",
              "\n\n"
            ],
            "text/plain": [
              "    cp_fac_lgt  cp_fac_lgt_rel cp_d_nxtbuil cp_d_builnxtblk cp_infzn_area\n",
              "788 -0.03406541 -0.445852       0.1937930   -0.6919010      -0.1582695   \n",
              "789 -0.03406541 -0.445852      -0.8330146   -0.0719889      -0.3368553   \n",
              "790 -0.03406541 -0.445852       1.1567254   -0.6150244       0.8930373   \n",
              "791 -0.03406541 -0.445852      -1.0219565   -0.5857832      -0.3222317   \n",
              "792 -0.03406541 -0.445852      -1.1841911   -0.8135754       0.1755599   \n",
              "793  0.08549297  1.884075      -0.9545665   -0.9242540      -0.3116118   \n",
              "    cp_r_ftp_infzon cp_d_blklim cp_blk_area cp_r_ftp_blk cp_closeness\n",
              "788 -0.1099506      -0.6430918  -0.6455315  0.05049763   -0.09783788 \n",
              "789  0.1883535       0.9806330  -0.7277722  0.03055439   -0.09783788 \n",
              "790  1.3721564      -0.4100799  -0.3531997  0.90370546   -0.09783788 \n",
              "791  1.9511420      -0.0616218  -0.7538739  0.88079639   -0.09783788 \n",
              "792  1.3088246      -0.5314666  -0.5251892  0.57198302   -0.09783788 \n",
              "793  2.5369011      -0.8073506  -0.7410779  0.89411523    0.48877281 \n",
              "    clusDBSCAN\n",
              "788 1         \n",
              "789 1         \n",
              "790 1         \n",
              "791 1         \n",
              "792 1         \n",
              "793 1         "
            ]
          },
          "metadata": {}
        }
      ],
      "execution_count": 143,
      "metadata": {
        "scrolled": true
      }
    },
    {
      "cell_type": "code",
      "source": [
        "sel <- cp_ccal@data$clusDBSCAN == 1\n",
        "cp_ccal_to_class <- cp_ccal[sel,]"
      ],
      "outputs": [],
      "execution_count": 144,
      "metadata": {}
    },
    {
      "cell_type": "code",
      "source": [
        "wss_clusters = seq(1, 30)\n",
        "for (i in 1:30) {\n",
        "    c = kmeans(cp_ccal_to_class@data[, c(1:10)], i, nstart=5, iter.max = 50)\n",
        "    wss_clusters[i] = c$betweenss / c$totss\n",
        "}"
      ],
      "outputs": [
        {
          "output_type": "stream",
          "name": "stderr",
          "text": [
            "Warning message:\n",
            "\"Quick-TRANSfer stage steps exceeded maximum (= 882100)\"Warning message:\n",
            "\"Quick-TRANSfer stage steps exceeded maximum (= 882100)\"Warning message:\n",
            "\"Quick-TRANSfer stage steps exceeded maximum (= 882100)\"Warning message:\n",
            "\"Quick-TRANSfer stage steps exceeded maximum (= 882100)\""
          ]
        }
      ],
      "execution_count": 145,
      "metadata": {}
    },
    {
      "cell_type": "code",
      "source": [
        "plot(wss_clusters, type=\"o\")"
      ],
      "outputs": [
        {
          "output_type": "display_data",
          "data": {
            "image/png": "[encoded data removed]",
            "text/plain": [
              "plot without title"
            ]
          },
          "metadata": {}
        }
      ],
      "execution_count": 146,
      "metadata": {
        "scrolled": true
      }
    },
    {
      "cell_type": "code",
      "source": [
        "ccal_kmeans <- kmeans(cp_ccal_to_class@data[, c(1:10)], 19, nstart = 5, iter.max = 50)"
      ],
      "outputs": [],
      "execution_count": 147,
      "metadata": {}
    },
    {
      "cell_type": "code",
      "source": [
        "round(ccal_kmeans$betweenss / ccal_kmeans$totss, 2)"
      ],
      "outputs": [
        {
          "output_type": "display_data",
          "data": {
            "text/html": [
              "0.71"
            ],
            "text/latex": [
              "0.71"
            ],
            "text/markdown": [
              "0.71"
            ],
            "text/plain": [
              "[1] 0.71"
            ]
          },
          "metadata": {}
        }
      ],
      "execution_count": 148,
      "metadata": {}
    },
    {
      "cell_type": "code",
      "source": [
        "clusKME19 <- ccal_kmeans$cluster\n",
        "cp_ccal_to_class@data <- cbind(cp_ccal_to_class@data, clusKME19)"
      ],
      "outputs": [],
      "execution_count": 149,
      "metadata": {}
    },
    {
      "cell_type": "code",
      "source": [
        "writeOGR(cp_ccal, dsn = \"cp_ccal.gpkg\", layer = 'dbscan', driver = \"GPKG\")\n",
        "writeOGR(cp_ccal_to_class, dsn = \"cp_ccal_kmeans.gpkg\", layer = 'km19', driver = \"GPKG\")"
      ],
      "outputs": [],
      "execution_count": 150,
      "metadata": {}
    },
    {
      "cell_type": "code",
      "source": [],
      "outputs": [],
      "execution_count": null,
      "metadata": {}
    }
  ],
  "metadata": {
    "kernelspec": {
      "name": "ir",
      "language": "R",
      "display_name": "R"
    },
    "language_info": {
      "name": "R",
      "codemirror_mode": "r",
      "pygments_lexer": "r",
      "mimetype": "text/x-r-source",
      "file_extension": ".r",
      "version": "3.4.3"
    },
    "kernel_info": {
      "name": "ir"
    },
    "nteract": {
      "version": "0.8.4"
    }
  },
  "nbformat": 4,
  "nbformat_minor": 2
}