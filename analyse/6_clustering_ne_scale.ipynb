{
  "cells": [
    {
      "cell_type": "markdown",
      "source": [
        "# Clustering at the composition scale"
      ],
      "metadata": {}
    },
    {
      "cell_type": "code",
      "source": [
        "#install.packages('rpostgis', 'rgdal', 'magrittr', 'dbscan', 'corrplot')\n",
        "library('rpostgis')\n",
        "library('rgdal')\n",
        "library('magrittr')\n",
        "library('tidyverse')\n",
        "library('dbscan')\n",
        "#library('corrplot')"
      ],
      "outputs": [
        {
          "output_type": "stream",
          "name": "stderr",
          "text": [
            "Warning message:\n",
            "\"package 'rpostgis' was built under R version 3.4.4\"Loading required package: RPostgreSQL\n",
            "Loading required package: DBI\n",
            "Loading required package: sp\n",
            "rgdal: version: 1.2-16, (SVN revision 701)\n",
            " Geospatial Data Abstraction Library extensions to R successfully loaded\n",
            " Loaded GDAL runtime: GDAL 2.2.0, released 2017/04/28\n",
            " Path to GDAL shared files: C:/R/libs/rgdal/gdal\n",
            " GDAL binary built with GEOS: TRUE \n",
            " Loaded PROJ.4 runtime: Rel. 4.9.3, 15 August 2016, [PJ_VERSION: 493]\n",
            " Path to PROJ.4 shared files: C:/R/libs/rgdal/proj\n",
            " Linking to sp version: 1.2-5 \n",
            "-- Attaching packages --------------------------------------- tidyverse 1.2.1 --\n",
            "v ggplot2 2.2.1     v purrr   0.2.4\n",
            "v tibble  1.4.2     v dplyr   0.7.4\n",
            "v tidyr   0.8.0     v stringr 1.3.0\n",
            "v readr   1.1.1     v forcats 0.3.0\n",
            "-- Conflicts ------------------------------------------ tidyverse_conflicts() --\n",
            "x tidyr::extract()   masks magrittr::extract()\n",
            "x dplyr::filter()    masks stats::filter()\n",
            "x dplyr::lag()       masks stats::lag()\n",
            "x purrr::set_names() masks magrittr::set_names()\n",
            "Warning message:\n",
            "\"package 'dbscan' was built under R version 3.4.4\"Warning message:\n",
            "\"package 'corrplot' was built under R version 3.4.4\"corrplot 0.84 loaded\n"
          ]
        }
      ],
      "execution_count": 1,
      "metadata": {}
    },
    {
      "cell_type": "code",
      "source": [
        "conn <- dbConnect(\"PostgreSQL\", dbname = 'base_data', host = 'localhost', user = 'postgres', password = 'asd')"
      ],
      "outputs": [],
      "execution_count": 2,
      "metadata": {}
    },
    {
      "cell_type": "code",
      "source": [
        "ne_scale_query <- \"SELECT a.geom, a.id, de_ar_100r, de_ar_300r, de_ar_500r, de_bd_100r, de_bd_300r, de_bd_500r, de_sq_100r, de_sq_300r, de_sq_500r,\n",
        "net_de_100r, net_de_300r, net_de_500r, net_int_100r, net_int_300r, net_int_500r, net_lgt_100r, net_lgt_300r, net_lgt_500r,\n",
        "de_ar_100w, de_ar_300w, de_ar_500w, de_bd_100w, de_bd_300w, de_bd_500w, de_sq_100w, de_sq_300w, de_sq_500w,\n",
        "net_de_100w, net_de_300w, net_de_500w, net_int_100w, net_int_300w, net_int_500w, net_lgt_100w, net_lgt_300w, net_lgt_500w,\n",
        "net_dd_bd, net_dd_sqm, net_dd_carea, net_dd_de, net_dd_int, net_dd_length\n",
        "FROM public.bd a,\n",
        "     public.AGGLO b\n",
        "WHERE ST_Intersects(a.geom, b.geom)\n",
        "ORDER BY a.id;\""
      ],
      "outputs": [],
      "execution_count": 3,
      "metadata": {}
    },
    {
      "cell_type": "code",
      "source": [
        "sub_in_query <- function(gid, agglo, query) {\n",
        "    q <- gsub('GID', gid, query) %>%\n",
        "         gsub('AGGLO', agglo, .)\n",
        "    return(q)\n",
        "}"
      ],
      "outputs": [],
      "execution_count": 4,
      "metadata": {}
    },
    {
      "cell_type": "code",
      "source": [
        "ne_stata <- pgGetGeom(conn, query = sub_in_query(0, \"stata\", ne_scale_query))\n",
        "row.names(ne_stata@data) <- ne_stata@data$id\n",
        "ne_stata@data$id <- NULL \n",
        "ne_stata@data <- data.frame(scale(ne_stata@data))"
      ],
      "outputs": [
        {
          "output_type": "stream",
          "name": "stderr",
          "text": [
            "Returning MultiPolygon types in SpatialPolygons*-class.\n"
          ]
        }
      ],
      "execution_count": 5,
      "metadata": {}
    },
    {
      "cell_type": "code",
      "source": [
        "ne_statb <- pgGetGeom(conn, query = sub_in_query(0, \"statb\", ne_scale_query))\n",
        "row.names(ne_statb@data) <- ne_statb@data$id\n",
        "ne_statb@data$id <- NULL \n",
        "ne_statb@data <- data.frame(scale(ne_statb@data))"
      ],
      "outputs": [
        {
          "output_type": "stream",
          "name": "stderr",
          "text": [
            "Returning MultiPolygon types in SpatialPolygons*-class.\n"
          ]
        }
      ],
      "execution_count": 22,
      "metadata": {}
    },
    {
      "cell_type": "code",
      "source": [
        "ne_morf <- pgGetGeom(conn, query = sub_in_query(0, \"morfrac\", ne_scale_query))\n",
        "row.names(ne_morf@data) <- ne_morf@data$id\n",
        "ne_morf@data$id <- NULL \n",
        "ne_morf@data <- data.frame(scale(ne_morf@data))"
      ],
      "outputs": [
        {
          "output_type": "stream",
          "name": "stderr",
          "text": [
            "Returning MultiPolygon types in SpatialPolygons*-class.\n"
          ]
        }
      ],
      "execution_count": 59,
      "metadata": {}
    },
    {
      "cell_type": "code",
      "source": [
        "ne_ccak <- pgGetGeom(conn, query = sub_in_query(0, \"cca_king\", ne_scale_query))\n",
        "row.names(ne_ccak@data) <- ne_ccak@data$id\n",
        "ne_ccak@data$id <- NULL \n",
        "ne_ccak@data <- data.frame(scale(ne_ccak@data))"
      ],
      "outputs": [
        {
          "output_type": "stream",
          "name": "stderr",
          "text": [
            "Returning MultiPolygon types in SpatialPolygons*-class.\n"
          ]
        }
      ],
      "execution_count": 80,
      "metadata": {}
    },
    {
      "cell_type": "code",
      "source": [
        "ne_ccal <- pgGetGeom(conn, query = sub_in_query(0, \"cca_lenient\", ne_scale_query))\n",
        "row.names(ne_ccal@data) <- ne_ccal@data$id\n",
        "ne_ccal@data$id <- NULL \n",
        "ne_ccal@data <- data.frame(scale(ne_ccal@data))"
      ],
      "outputs": [
        {
          "output_type": "stream",
          "name": "stderr",
          "text": [
            "Returning MultiPolygon types in SpatialPolygons*-class.\n"
          ]
        }
      ],
      "execution_count": 81,
      "metadata": {}
    },
    {
      "cell_type": "markdown",
      "source": [
        "## Clusterings"
      ],
      "metadata": {}
    },
    {
      "cell_type": "markdown",
      "source": [
        "### StatA"
      ],
      "metadata": {}
    },
    {
      "cell_type": "code",
      "source": [
        "kNNdistplot(ne_stata@data, k = 42)\n",
        "abline(h = 4, col = 'red', lty = 2)"
      ],
      "outputs": [
        {
          "output_type": "display_data",
          "data": {
            "image/png": "[encoded data removed]",
            "text/plain": [
              "plot without title"
            ]
          },
          "metadata": {}
        }
      ],
      "execution_count": 6,
      "metadata": {}
    },
    {
      "cell_type": "code",
      "source": [
        "res_stata <- dbscan(ne_stata@data, eps = 4, minPts = 43)\n",
        "res_stata"
      ],
      "outputs": [
        {
          "output_type": "display_data",
          "data": {
            "text/plain": [
              "DBSCAN clustering for 24094 objects.\n",
              "Parameters: eps = 4, minPts = 43\n",
              "The clustering contains 1 cluster(s) and 2214 noise points.\n",
              "\n",
              "    0     1 \n",
              " 2214 21880 \n",
              "\nAvailable fields: cluster, eps, minPts"
            ]
          },
          "metadata": {}
        }
      ],
      "execution_count": 6,
      "metadata": {}
    },
    {
      "cell_type": "code",
      "source": [
        "clusDBSCAN <- res_stata$cluster\n",
        "ne_stata@data <- cbind(ne_stata@data, clusDBSCAN)\n",
        "head(ne_stata@data)"
      ],
      "outputs": [
        {
          "output_type": "display_data",
          "data": {
            "text/html": [
              "<table>\n",
              "<thead><tr><th></th><th scope=col>de_ar_100r</th><th scope=col>de_ar_300r</th><th scope=col>de_ar_500r</th><th scope=col>de_bd_100r</th><th scope=col>de_bd_300r</th><th scope=col>de_bd_500r</th><th scope=col>de_sq_100r</th><th scope=col>de_sq_300r</th><th scope=col>de_sq_500r</th><th scope=col>net_de_100r</th><th scope=col>...</th><th scope=col>net_lgt_100w</th><th scope=col>net_lgt_300w</th><th scope=col>net_lgt_500w</th><th scope=col>net_dd_bd</th><th scope=col>net_dd_sqm</th><th scope=col>net_dd_carea</th><th scope=col>net_dd_de</th><th scope=col>net_dd_int</th><th scope=col>net_dd_length</th><th scope=col>clusDBSCAN</th></tr></thead>\n",
              "<tbody>\n",
              "\t<tr><th scope=row>788</th><td>-0.3500056  </td><td>0.6019535   </td><td>0.9144236   </td><td> 0.113024213</td><td> 0.7075914  </td><td>1.0532532   </td><td>-0.2284096  </td><td>0.8315891   </td><td>1.175305    </td><td>-0.1079346  </td><td>...         </td><td> 1.5763999  </td><td>1.2186746   </td><td>0.6654491   </td><td>1.04214841  </td><td>2.280759    </td><td> 0.07655522 </td><td>-0.003741389</td><td>1.0161327   </td><td>0.7661948   </td><td>1           </td></tr>\n",
              "\t<tr><th scope=row>789</th><td> 0.5230985  </td><td>0.7179034   </td><td>1.1586378   </td><td>-0.214848972</td><td> 0.5431747  </td><td>0.9345812   </td><td> 0.9067586  </td><td>1.0122000   </td><td>1.478725    </td><td> 0.6384995  </td><td>...         </td><td> 0.3019748  </td><td>1.3337525   </td><td>0.6471598   </td><td>1.11325710  </td><td>2.450649    </td><td> 0.18890036 </td><td> 0.090601921</td><td>1.2763608   </td><td>0.9606071   </td><td>1           </td></tr>\n",
              "\t<tr><th scope=row>790</th><td> 1.5614947  </td><td>1.8104815   </td><td>2.2822328   </td><td>-0.761304280</td><td>-0.2423713  </td><td>0.3253980   </td><td> 2.2905382  </td><td>2.3878918   </td><td>3.190331    </td><td>-0.1079346  </td><td>...         </td><td>-1.0294259  </td><td>0.8072717   </td><td>1.6934402   </td><td>1.68212661  </td><td>3.924135    </td><td> 0.94097228 </td><td> 0.326460197</td><td>2.3854280   </td><td>2.0247226   </td><td>1           </td></tr>\n",
              "\t<tr><th scope=row>791</th><td> 0.9921208  </td><td>1.3542294   </td><td>1.7033352   </td><td> 0.768770582</td><td> 0.6710543  </td><td>0.6814142   </td><td> 1.2480181  </td><td>1.9062181   </td><td>2.159465    </td><td>-0.8543687  </td><td>...         </td><td> 1.5301184  </td><td>0.9061537   </td><td>1.2026120   </td><td>0.31525958  </td><td>2.428417    </td><td>-0.24806920 </td><td>-0.404700458</td><td>0.8798228   </td><td>0.4561526   </td><td>1           </td></tr>\n",
              "\t<tr><th scope=row>792</th><td> 0.1379156  </td><td>1.2175291   </td><td>1.5645244   </td><td> 0.003733151</td><td> 0.6710543  </td><td>0.8554665   </td><td> 0.2213797  </td><td>1.6904380   </td><td>1.939455    </td><td>-0.8543687  </td><td>...         </td><td> 0.9767868  </td><td>1.0370188   </td><td>1.0871404   </td><td>0.08613159  </td><td>2.226162    </td><td>-0.47029818 </td><td>-0.687730389</td><td>0.5948111   </td><td>0.1871860   </td><td>1           </td></tr>\n",
              "\t<tr><th scope=row>793</th><td> 1.5277670  </td><td>1.2328407   </td><td>1.4711250   </td><td> 0.222315274</td><td> 0.3056841  </td><td>0.6181224   </td><td> 1.7229667  </td><td>1.6182240   </td><td>1.981583    </td><td>-0.8543687  </td><td>...         </td><td> 1.0436392  </td><td>1.0511136   </td><td>1.4776155   </td><td>0.46801158  </td><td>2.529416    </td><td>-0.15612712 </td><td>-0.310357148</td><td>1.1958140   </td><td>0.6654436   </td><td>1           </td></tr>\n",
              "</tbody>\n",
              "</table>\n"
            ],
            "text/latex": [
              "\\begin{tabular}{r|lllllllllllllllllllllllllllllllllllllllllll}\n",
              "  & de\\_ar\\_100r & de\\_ar\\_300r & de\\_ar\\_500r & de\\_bd\\_100r & de\\_bd\\_300r & de\\_bd\\_500r & de\\_sq\\_100r & de\\_sq\\_300r & de\\_sq\\_500r & net\\_de\\_100r & ... & net\\_lgt\\_100w & net\\_lgt\\_300w & net\\_lgt\\_500w & net\\_dd\\_bd & net\\_dd\\_sqm & net\\_dd\\_carea & net\\_dd\\_de & net\\_dd\\_int & net\\_dd\\_length & clusDBSCAN\\\\\n",
              "\\hline\n",
              "\t788 & -0.3500056   & 0.6019535    & 0.9144236    &  0.113024213 &  0.7075914   & 1.0532532    & -0.2284096   & 0.8315891    & 1.175305     & -0.1079346   & ...          &  1.5763999   & 1.2186746    & 0.6654491    & 1.04214841   & 2.280759     &  0.07655522  & -0.003741389 & 1.0161327    & 0.7661948    & 1           \\\\\n",
              "\t789 &  0.5230985   & 0.7179034    & 1.1586378    & -0.214848972 &  0.5431747   & 0.9345812    &  0.9067586   & 1.0122000    & 1.478725     &  0.6384995   & ...          &  0.3019748   & 1.3337525    & 0.6471598    & 1.11325710   & 2.450649     &  0.18890036  &  0.090601921 & 1.2763608    & 0.9606071    & 1           \\\\\n",
              "\t790 &  1.5614947   & 1.8104815    & 2.2822328    & -0.761304280 & -0.2423713   & 0.3253980    &  2.2905382   & 2.3878918    & 3.190331     & -0.1079346   & ...          & -1.0294259   & 0.8072717    & 1.6934402    & 1.68212661   & 3.924135     &  0.94097228  &  0.326460197 & 2.3854280    & 2.0247226    & 1           \\\\\n",
              "\t791 &  0.9921208   & 1.3542294    & 1.7033352    &  0.768770582 &  0.6710543   & 0.6814142    &  1.2480181   & 1.9062181    & 2.159465     & -0.8543687   & ...          &  1.5301184   & 0.9061537    & 1.2026120    & 0.31525958   & 2.428417     & -0.24806920  & -0.404700458 & 0.8798228    & 0.4561526    & 1           \\\\\n",
              "\t792 &  0.1379156   & 1.2175291    & 1.5645244    &  0.003733151 &  0.6710543   & 0.8554665    &  0.2213797   & 1.6904380    & 1.939455     & -0.8543687   & ...          &  0.9767868   & 1.0370188    & 1.0871404    & 0.08613159   & 2.226162     & -0.47029818  & -0.687730389 & 0.5948111    & 0.1871860    & 1           \\\\\n",
              "\t793 &  1.5277670   & 1.2328407    & 1.4711250    &  0.222315274 &  0.3056841   & 0.6181224    &  1.7229667   & 1.6182240    & 1.981583     & -0.8543687   & ...          &  1.0436392   & 1.0511136    & 1.4776155    & 0.46801158   & 2.529416     & -0.15612712  & -0.310357148 & 1.1958140    & 0.6654436    & 1           \\\\\n",
              "\\end{tabular}\n"
            ],
            "text/markdown": [
              "\n",
              "| <!--/--> | de_ar_100r | de_ar_300r | de_ar_500r | de_bd_100r | de_bd_300r | de_bd_500r | de_sq_100r | de_sq_300r | de_sq_500r | net_de_100r | ... | net_lgt_100w | net_lgt_300w | net_lgt_500w | net_dd_bd | net_dd_sqm | net_dd_carea | net_dd_de | net_dd_int | net_dd_length | clusDBSCAN | \n",
              "|---|---|---|---|---|---|\n",
              "| 788 | -0.3500056   | 0.6019535    | 0.9144236    |  0.113024213 |  0.7075914   | 1.0532532    | -0.2284096   | 0.8315891    | 1.175305     | -0.1079346   | ...          |  1.5763999   | 1.2186746    | 0.6654491    | 1.04214841   | 2.280759     |  0.07655522  | -0.003741389 | 1.0161327    | 0.7661948    | 1            | \n",
              "| 789 |  0.5230985   | 0.7179034    | 1.1586378    | -0.214848972 |  0.5431747   | 0.9345812    |  0.9067586   | 1.0122000    | 1.478725     |  0.6384995   | ...          |  0.3019748   | 1.3337525    | 0.6471598    | 1.11325710   | 2.450649     |  0.18890036  |  0.090601921 | 1.2763608    | 0.9606071    | 1            | \n",
              "| 790 |  1.5614947   | 1.8104815    | 2.2822328    | -0.761304280 | -0.2423713   | 0.3253980    |  2.2905382   | 2.3878918    | 3.190331     | -0.1079346   | ...          | -1.0294259   | 0.8072717    | 1.6934402    | 1.68212661   | 3.924135     |  0.94097228  |  0.326460197 | 2.3854280    | 2.0247226    | 1            | \n",
              "| 791 |  0.9921208   | 1.3542294    | 1.7033352    |  0.768770582 |  0.6710543   | 0.6814142    |  1.2480181   | 1.9062181    | 2.159465     | -0.8543687   | ...          |  1.5301184   | 0.9061537    | 1.2026120    | 0.31525958   | 2.428417     | -0.24806920  | -0.404700458 | 0.8798228    | 0.4561526    | 1            | \n",
              "| 792 |  0.1379156   | 1.2175291    | 1.5645244    |  0.003733151 |  0.6710543   | 0.8554665    |  0.2213797   | 1.6904380    | 1.939455     | -0.8543687   | ...          |  0.9767868   | 1.0370188    | 1.0871404    | 0.08613159   | 2.226162     | -0.47029818  | -0.687730389 | 0.5948111    | 0.1871860    | 1            | \n",
              "| 793 |  1.5277670   | 1.2328407    | 1.4711250    |  0.222315274 |  0.3056841   | 0.6181224    |  1.7229667   | 1.6182240    | 1.981583     | -0.8543687   | ...          |  1.0436392   | 1.0511136    | 1.4776155    | 0.46801158   | 2.529416     | -0.15612712  | -0.310357148 | 1.1958140    | 0.6654436    | 1            | \n",
              "\n\n"
            ],
            "text/plain": [
              "    de_ar_100r de_ar_300r de_ar_500r de_bd_100r   de_bd_300r de_bd_500r\n",
              "788 -0.3500056 0.6019535  0.9144236   0.113024213  0.7075914 1.0532532 \n",
              "789  0.5230985 0.7179034  1.1586378  -0.214848972  0.5431747 0.9345812 \n",
              "790  1.5614947 1.8104815  2.2822328  -0.761304280 -0.2423713 0.3253980 \n",
              "791  0.9921208 1.3542294  1.7033352   0.768770582  0.6710543 0.6814142 \n",
              "792  0.1379156 1.2175291  1.5645244   0.003733151  0.6710543 0.8554665 \n",
              "793  1.5277670 1.2328407  1.4711250   0.222315274  0.3056841 0.6181224 \n",
              "    de_sq_100r de_sq_300r de_sq_500r net_de_100r ... net_lgt_100w net_lgt_300w\n",
              "788 -0.2284096 0.8315891  1.175305   -0.1079346  ...  1.5763999   1.2186746   \n",
              "789  0.9067586 1.0122000  1.478725    0.6384995  ...  0.3019748   1.3337525   \n",
              "790  2.2905382 2.3878918  3.190331   -0.1079346  ... -1.0294259   0.8072717   \n",
              "791  1.2480181 1.9062181  2.159465   -0.8543687  ...  1.5301184   0.9061537   \n",
              "792  0.2213797 1.6904380  1.939455   -0.8543687  ...  0.9767868   1.0370188   \n",
              "793  1.7229667 1.6182240  1.981583   -0.8543687  ...  1.0436392   1.0511136   \n",
              "    net_lgt_500w net_dd_bd  net_dd_sqm net_dd_carea net_dd_de    net_dd_int\n",
              "788 0.6654491    1.04214841 2.280759    0.07655522  -0.003741389 1.0161327 \n",
              "789 0.6471598    1.11325710 2.450649    0.18890036   0.090601921 1.2763608 \n",
              "790 1.6934402    1.68212661 3.924135    0.94097228   0.326460197 2.3854280 \n",
              "791 1.2026120    0.31525958 2.428417   -0.24806920  -0.404700458 0.8798228 \n",
              "792 1.0871404    0.08613159 2.226162   -0.47029818  -0.687730389 0.5948111 \n",
              "793 1.4776155    0.46801158 2.529416   -0.15612712  -0.310357148 1.1958140 \n",
              "    net_dd_length clusDBSCAN\n",
              "788 0.7661948     1         \n",
              "789 0.9606071     1         \n",
              "790 2.0247226     1         \n",
              "791 0.4561526     1         \n",
              "792 0.1871860     1         \n",
              "793 0.6654436     1         "
            ]
          },
          "metadata": {}
        }
      ],
      "execution_count": 7,
      "metadata": {
        "scrolled": true
      }
    },
    {
      "cell_type": "code",
      "source": [
        "sel <- ne_stata@data$clusDBSCAN == 1\n",
        "ne_stata_to_class <- ne_stata[sel,]"
      ],
      "outputs": [],
      "execution_count": 8,
      "metadata": {}
    },
    {
      "cell_type": "code",
      "source": [
        "head(ne_stata_to_class@data[, c(-43, -44)])"
      ],
      "outputs": [
        {
          "output_type": "display_data",
          "data": {
            "text/html": [
              "<table>\n",
              "<thead><tr><th></th><th scope=col>de_ar_100r</th><th scope=col>de_ar_300r</th><th scope=col>de_ar_500r</th><th scope=col>de_bd_100r</th><th scope=col>de_bd_300r</th><th scope=col>de_bd_500r</th><th scope=col>de_sq_100r</th><th scope=col>de_sq_300r</th><th scope=col>de_sq_500r</th><th scope=col>net_de_100r</th><th scope=col>...</th><th scope=col>net_int_500w</th><th scope=col>net_lgt_100w</th><th scope=col>net_lgt_300w</th><th scope=col>net_lgt_500w</th><th scope=col>net_dd_bd</th><th scope=col>net_dd_sqm</th><th scope=col>net_dd_carea</th><th scope=col>net_dd_de</th><th scope=col>net_dd_int</th><th scope=col>net_dd_length</th></tr></thead>\n",
              "<tbody>\n",
              "\t<tr><th scope=row>788</th><td>-0.3500056  </td><td>0.6019535   </td><td>0.9144236   </td><td> 0.113024213</td><td> 0.7075914  </td><td>1.0532532   </td><td>-0.2284096  </td><td>0.8315891   </td><td>1.175305    </td><td>-0.1079346  </td><td>...         </td><td>0.10281310  </td><td> 1.5763999  </td><td>1.2186746   </td><td>0.6654491   </td><td>1.04214841  </td><td>2.280759    </td><td> 0.07655522 </td><td>-0.003741389</td><td>1.0161327   </td><td>0.7661948   </td></tr>\n",
              "\t<tr><th scope=row>789</th><td> 0.5230985  </td><td>0.7179034   </td><td>1.1586378   </td><td>-0.214848972</td><td> 0.5431747  </td><td>0.9345812   </td><td> 0.9067586  </td><td>1.0122000   </td><td>1.478725    </td><td> 0.6384995  </td><td>...         </td><td>0.01665785  </td><td> 0.3019748  </td><td>1.3337525   </td><td>0.6471598   </td><td>1.11325710  </td><td>2.450649    </td><td> 0.18890036 </td><td> 0.090601921</td><td>1.2763608   </td><td>0.9606071   </td></tr>\n",
              "\t<tr><th scope=row>790</th><td> 1.5614947  </td><td>1.8104815   </td><td>2.2822328   </td><td>-0.761304280</td><td>-0.2423713  </td><td>0.3253980   </td><td> 2.2905382  </td><td>2.3878918   </td><td>3.190331    </td><td>-0.1079346  </td><td>...         </td><td>1.00744323  </td><td>-1.0294259  </td><td>0.8072717   </td><td>1.6934402   </td><td>1.68212661  </td><td>3.924135    </td><td> 0.94097228 </td><td> 0.326460197</td><td>2.3854280   </td><td>2.0247226   </td></tr>\n",
              "\t<tr><th scope=row>791</th><td> 0.9921208  </td><td>1.3542294   </td><td>1.7033352   </td><td> 0.768770582</td><td> 0.6710543  </td><td>0.6814142   </td><td> 1.2480181  </td><td>1.9062181   </td><td>2.159465    </td><td>-0.8543687  </td><td>...         </td><td>0.74897748  </td><td> 1.5301184  </td><td>0.9061537   </td><td>1.2026120   </td><td>0.31525958  </td><td>2.428417    </td><td>-0.24806920 </td><td>-0.404700458</td><td>0.8798228   </td><td>0.4561526   </td></tr>\n",
              "\t<tr><th scope=row>792</th><td> 0.1379156  </td><td>1.2175291   </td><td>1.5645244   </td><td> 0.003733151</td><td> 0.6710543  </td><td>0.8554665   </td><td> 0.2213797  </td><td>1.6904380   </td><td>1.939455    </td><td>-0.8543687  </td><td>...         </td><td>0.66282223  </td><td> 0.9767868  </td><td>1.0370188   </td><td>1.0871404   </td><td>0.08613159  </td><td>2.226162    </td><td>-0.47029818 </td><td>-0.687730389</td><td>0.5948111   </td><td>0.1871860   </td></tr>\n",
              "\t<tr><th scope=row>793</th><td> 1.5277670  </td><td>1.2328407   </td><td>1.4711250   </td><td> 0.222315274</td><td> 0.3056841  </td><td>0.6181224   </td><td> 1.7229667  </td><td>1.6182240   </td><td>1.981583    </td><td>-0.8543687  </td><td>...         </td><td>1.56745236  </td><td> 1.0436392  </td><td>1.0511136   </td><td>1.4776155   </td><td>0.46801158  </td><td>2.529416    </td><td>-0.15612712 </td><td>-0.310357148</td><td>1.1958140   </td><td>0.6654436   </td></tr>\n",
              "</tbody>\n",
              "</table>\n"
            ],
            "text/latex": [
              "\\begin{tabular}{r|llllllllllllllllllllllllllllllllllllllllll}\n",
              "  & de\\_ar\\_100r & de\\_ar\\_300r & de\\_ar\\_500r & de\\_bd\\_100r & de\\_bd\\_300r & de\\_bd\\_500r & de\\_sq\\_100r & de\\_sq\\_300r & de\\_sq\\_500r & net\\_de\\_100r & ... & net\\_int\\_500w & net\\_lgt\\_100w & net\\_lgt\\_300w & net\\_lgt\\_500w & net\\_dd\\_bd & net\\_dd\\_sqm & net\\_dd\\_carea & net\\_dd\\_de & net\\_dd\\_int & net\\_dd\\_length\\\\\n",
              "\\hline\n",
              "\t788 & -0.3500056   & 0.6019535    & 0.9144236    &  0.113024213 &  0.7075914   & 1.0532532    & -0.2284096   & 0.8315891    & 1.175305     & -0.1079346   & ...          & 0.10281310   &  1.5763999   & 1.2186746    & 0.6654491    & 1.04214841   & 2.280759     &  0.07655522  & -0.003741389 & 1.0161327    & 0.7661948   \\\\\n",
              "\t789 &  0.5230985   & 0.7179034    & 1.1586378    & -0.214848972 &  0.5431747   & 0.9345812    &  0.9067586   & 1.0122000    & 1.478725     &  0.6384995   & ...          & 0.01665785   &  0.3019748   & 1.3337525    & 0.6471598    & 1.11325710   & 2.450649     &  0.18890036  &  0.090601921 & 1.2763608    & 0.9606071   \\\\\n",
              "\t790 &  1.5614947   & 1.8104815    & 2.2822328    & -0.761304280 & -0.2423713   & 0.3253980    &  2.2905382   & 2.3878918    & 3.190331     & -0.1079346   & ...          & 1.00744323   & -1.0294259   & 0.8072717    & 1.6934402    & 1.68212661   & 3.924135     &  0.94097228  &  0.326460197 & 2.3854280    & 2.0247226   \\\\\n",
              "\t791 &  0.9921208   & 1.3542294    & 1.7033352    &  0.768770582 &  0.6710543   & 0.6814142    &  1.2480181   & 1.9062181    & 2.159465     & -0.8543687   & ...          & 0.74897748   &  1.5301184   & 0.9061537    & 1.2026120    & 0.31525958   & 2.428417     & -0.24806920  & -0.404700458 & 0.8798228    & 0.4561526   \\\\\n",
              "\t792 &  0.1379156   & 1.2175291    & 1.5645244    &  0.003733151 &  0.6710543   & 0.8554665    &  0.2213797   & 1.6904380    & 1.939455     & -0.8543687   & ...          & 0.66282223   &  0.9767868   & 1.0370188    & 1.0871404    & 0.08613159   & 2.226162     & -0.47029818  & -0.687730389 & 0.5948111    & 0.1871860   \\\\\n",
              "\t793 &  1.5277670   & 1.2328407    & 1.4711250    &  0.222315274 &  0.3056841   & 0.6181224    &  1.7229667   & 1.6182240    & 1.981583     & -0.8543687   & ...          & 1.56745236   &  1.0436392   & 1.0511136    & 1.4776155    & 0.46801158   & 2.529416     & -0.15612712  & -0.310357148 & 1.1958140    & 0.6654436   \\\\\n",
              "\\end{tabular}\n"
            ],
            "text/markdown": [
              "\n",
              "| <!--/--> | de_ar_100r | de_ar_300r | de_ar_500r | de_bd_100r | de_bd_300r | de_bd_500r | de_sq_100r | de_sq_300r | de_sq_500r | net_de_100r | ... | net_int_500w | net_lgt_100w | net_lgt_300w | net_lgt_500w | net_dd_bd | net_dd_sqm | net_dd_carea | net_dd_de | net_dd_int | net_dd_length | \n",
              "|---|---|---|---|---|---|\n",
              "| 788 | -0.3500056   | 0.6019535    | 0.9144236    |  0.113024213 |  0.7075914   | 1.0532532    | -0.2284096   | 0.8315891    | 1.175305     | -0.1079346   | ...          | 0.10281310   |  1.5763999   | 1.2186746    | 0.6654491    | 1.04214841   | 2.280759     |  0.07655522  | -0.003741389 | 1.0161327    | 0.7661948    | \n",
              "| 789 |  0.5230985   | 0.7179034    | 1.1586378    | -0.214848972 |  0.5431747   | 0.9345812    |  0.9067586   | 1.0122000    | 1.478725     |  0.6384995   | ...          | 0.01665785   |  0.3019748   | 1.3337525    | 0.6471598    | 1.11325710   | 2.450649     |  0.18890036  |  0.090601921 | 1.2763608    | 0.9606071    | \n",
              "| 790 |  1.5614947   | 1.8104815    | 2.2822328    | -0.761304280 | -0.2423713   | 0.3253980    |  2.2905382   | 2.3878918    | 3.190331     | -0.1079346   | ...          | 1.00744323   | -1.0294259   | 0.8072717    | 1.6934402    | 1.68212661   | 3.924135     |  0.94097228  |  0.326460197 | 2.3854280    | 2.0247226    | \n",
              "| 791 |  0.9921208   | 1.3542294    | 1.7033352    |  0.768770582 |  0.6710543   | 0.6814142    |  1.2480181   | 1.9062181    | 2.159465     | -0.8543687   | ...          | 0.74897748   |  1.5301184   | 0.9061537    | 1.2026120    | 0.31525958   | 2.428417     | -0.24806920  | -0.404700458 | 0.8798228    | 0.4561526    | \n",
              "| 792 |  0.1379156   | 1.2175291    | 1.5645244    |  0.003733151 |  0.6710543   | 0.8554665    |  0.2213797   | 1.6904380    | 1.939455     | -0.8543687   | ...          | 0.66282223   |  0.9767868   | 1.0370188    | 1.0871404    | 0.08613159   | 2.226162     | -0.47029818  | -0.687730389 | 0.5948111    | 0.1871860    | \n",
              "| 793 |  1.5277670   | 1.2328407    | 1.4711250    |  0.222315274 |  0.3056841   | 0.6181224    |  1.7229667   | 1.6182240    | 1.981583     | -0.8543687   | ...          | 1.56745236   |  1.0436392   | 1.0511136    | 1.4776155    | 0.46801158   | 2.529416     | -0.15612712  | -0.310357148 | 1.1958140    | 0.6654436    | \n",
              "\n\n"
            ],
            "text/plain": [
              "    de_ar_100r de_ar_300r de_ar_500r de_bd_100r   de_bd_300r de_bd_500r\n",
              "788 -0.3500056 0.6019535  0.9144236   0.113024213  0.7075914 1.0532532 \n",
              "789  0.5230985 0.7179034  1.1586378  -0.214848972  0.5431747 0.9345812 \n",
              "790  1.5614947 1.8104815  2.2822328  -0.761304280 -0.2423713 0.3253980 \n",
              "791  0.9921208 1.3542294  1.7033352   0.768770582  0.6710543 0.6814142 \n",
              "792  0.1379156 1.2175291  1.5645244   0.003733151  0.6710543 0.8554665 \n",
              "793  1.5277670 1.2328407  1.4711250   0.222315274  0.3056841 0.6181224 \n",
              "    de_sq_100r de_sq_300r de_sq_500r net_de_100r ... net_int_500w net_lgt_100w\n",
              "788 -0.2284096 0.8315891  1.175305   -0.1079346  ... 0.10281310    1.5763999  \n",
              "789  0.9067586 1.0122000  1.478725    0.6384995  ... 0.01665785    0.3019748  \n",
              "790  2.2905382 2.3878918  3.190331   -0.1079346  ... 1.00744323   -1.0294259  \n",
              "791  1.2480181 1.9062181  2.159465   -0.8543687  ... 0.74897748    1.5301184  \n",
              "792  0.2213797 1.6904380  1.939455   -0.8543687  ... 0.66282223    0.9767868  \n",
              "793  1.7229667 1.6182240  1.981583   -0.8543687  ... 1.56745236    1.0436392  \n",
              "    net_lgt_300w net_lgt_500w net_dd_bd  net_dd_sqm net_dd_carea net_dd_de   \n",
              "788 1.2186746    0.6654491    1.04214841 2.280759    0.07655522  -0.003741389\n",
              "789 1.3337525    0.6471598    1.11325710 2.450649    0.18890036   0.090601921\n",
              "790 0.8072717    1.6934402    1.68212661 3.924135    0.94097228   0.326460197\n",
              "791 0.9061537    1.2026120    0.31525958 2.428417   -0.24806920  -0.404700458\n",
              "792 1.0370188    1.0871404    0.08613159 2.226162   -0.47029818  -0.687730389\n",
              "793 1.0511136    1.4776155    0.46801158 2.529416   -0.15612712  -0.310357148\n",
              "    net_dd_int net_dd_length\n",
              "788 1.0161327  0.7661948    \n",
              "789 1.2763608  0.9606071    \n",
              "790 2.3854280  2.0247226    \n",
              "791 0.8798228  0.4561526    \n",
              "792 0.5948111  0.1871860    \n",
              "793 1.1958140  0.6654436    "
            ]
          },
          "metadata": {}
        }
      ],
      "execution_count": 27,
      "metadata": {}
    },
    {
      "cell_type": "code",
      "source": [
        "test_km <- kmeans(ne_stata_to_class@data[, c(-43, -44)], 15, nstart = 5, iter.max = 50)"
      ],
      "outputs": [],
      "execution_count": 28,
      "metadata": {}
    },
    {
      "cell_type": "code",
      "source": [
        "round(test_km$betweenss / test_km$totss, 2)"
      ],
      "outputs": [
        {
          "output_type": "display_data",
          "data": {
            "text/html": [
              "0.57"
            ],
            "text/latex": [
              "0.57"
            ],
            "text/markdown": [
              "0.57"
            ],
            "text/plain": [
              "[1] 0.57"
            ]
          },
          "metadata": {}
        }
      ],
      "execution_count": 29,
      "metadata": {}
    },
    {
      "cell_type": "code",
      "source": [
        "stata_kmeans <- kmeans(ne_stata_to_class@data[, c(37:42)], 12, nstart = 5, iter.max = 50)"
      ],
      "outputs": [],
      "execution_count": 9,
      "metadata": {}
    },
    {
      "cell_type": "code",
      "source": [
        "colnames(ne_stata_to_class@data[,c(3, 6, 9, 12, 15, 18, 21, 24, 27, 30, 33, 36)])"
      ],
      "outputs": [
        {
          "output_type": "display_data",
          "data": {
            "text/html": [
              "<ol class=list-inline>\n",
              "\t<li>'de_ar_500r'</li>\n",
              "\t<li>'de_bd_500r'</li>\n",
              "\t<li>'de_sq_500r'</li>\n",
              "\t<li>'net_de_500r'</li>\n",
              "\t<li>'net_int_500r'</li>\n",
              "\t<li>'net_lgt_500r'</li>\n",
              "\t<li>'de_ar_500w'</li>\n",
              "\t<li>'de_bd_500w'</li>\n",
              "\t<li>'de_sq_500w'</li>\n",
              "\t<li>'net_de_500w'</li>\n",
              "\t<li>'net_int_500w'</li>\n",
              "\t<li>'net_lgt_500w'</li>\n",
              "</ol>\n"
            ],
            "text/latex": [
              "\\begin{enumerate*}\n",
              "\\item 'de\\_ar\\_500r'\n",
              "\\item 'de\\_bd\\_500r'\n",
              "\\item 'de\\_sq\\_500r'\n",
              "\\item 'net\\_de\\_500r'\n",
              "\\item 'net\\_int\\_500r'\n",
              "\\item 'net\\_lgt\\_500r'\n",
              "\\item 'de\\_ar\\_500w'\n",
              "\\item 'de\\_bd\\_500w'\n",
              "\\item 'de\\_sq\\_500w'\n",
              "\\item 'net\\_de\\_500w'\n",
              "\\item 'net\\_int\\_500w'\n",
              "\\item 'net\\_lgt\\_500w'\n",
              "\\end{enumerate*}\n"
            ],
            "text/markdown": [
              "1. 'de_ar_500r'\n",
              "2. 'de_bd_500r'\n",
              "3. 'de_sq_500r'\n",
              "4. 'net_de_500r'\n",
              "5. 'net_int_500r'\n",
              "6. 'net_lgt_500r'\n",
              "7. 'de_ar_500w'\n",
              "8. 'de_bd_500w'\n",
              "9. 'de_sq_500w'\n",
              "10. 'net_de_500w'\n",
              "11. 'net_int_500w'\n",
              "12. 'net_lgt_500w'\n",
              "\n\n"
            ],
            "text/plain": [
              " [1] \"de_ar_500r\"   \"de_bd_500r\"   \"de_sq_500r\"   \"net_de_500r\"  \"net_int_500r\"\n",
              " [6] \"net_lgt_500r\" \"de_ar_500w\"   \"de_bd_500w\"   \"de_sq_500w\"   \"net_de_500w\" \n",
              "[11] \"net_int_500w\" \"net_lgt_500w\""
            ]
          },
          "metadata": {}
        }
      ],
      "execution_count": 114,
      "metadata": {}
    },
    {
      "cell_type": "markdown",
      "source": [
        "Testés : \n",
        "- que rayon c(1:18) 14 -> 0.66\n",
        "- que marche c(19:36) 11 -> 0.65\n",
        "- que drive c(37:42) 12 -> 0.85 !!!\n",
        "\n",
        "- rayon et walking c(1:36) 15 -> 0.59 \n",
        "- rayon et drive 14 -> 0.63\n",
        "- walking et drive 14 -> 0.63\n",
        "\n",
        "- 100m rayon et walk 14 -> 0.63\n",
        "- 300m rw 15 -> 0.7\n",
        "- 500 rw 13 c(3, 6, 9, 12, 15, 18, 21, 24, 27, 30, 33, 36) -> 0.76\n",
        "\n",
        "- 100 et 300 rw 15 -> 0.57\n",
        "- 300 et 500 rw 15 -> 0.7"
      ],
      "metadata": {}
    },
    {
      "cell_type": "code",
      "source": [
        "wss_clusters = seq(1, 20)\n",
        "for (i in 1:20) {\n",
        "    c = kmeans(ne_stata_to_class@data[, c(2, 3, 5, 6, 8, 9, 11, 12, 14, 15, 17, 18, 20, 21, 23, 24, 26, 27, 29, 30, 32, 33, 35, 36)], i, nstart=5, iter.max = 50)\n",
        "    wss_clusters[i] = c$betweenss / c$totss\n",
        "}"
      ],
      "outputs": [],
      "execution_count": 109,
      "metadata": {}
    },
    {
      "cell_type": "code",
      "source": [
        "plot(wss_clusters, type=\"o\")"
      ],
      "outputs": [
        {
          "output_type": "display_data",
          "data": {
            "image/png": "[encoded data removed]",
            "text/plain": [
              "plot without title"
            ]
          },
          "metadata": {}
        }
      ],
      "execution_count": 110,
      "metadata": {
        "scrolled": false
      }
    },
    {
      "cell_type": "code",
      "source": [
        "stata_kmeans <- kmeans(ne_stata_to_class@data[, c(37:42)], 12, nstart = 5, iter.max = 50)"
      ],
      "outputs": [],
      "execution_count": 10,
      "metadata": {}
    },
    {
      "cell_type": "code",
      "source": [
        "stata_kmeans <- kmeans(ne_stata_to_class@data[, c(3, 6, 9, 12, 15, 18, 21, 24, 27, 30, 33, 36) ], 13, nstart = 5, iter.max = 50)"
      ],
      "outputs": [],
      "execution_count": 18,
      "metadata": {}
    },
    {
      "cell_type": "code",
      "source": [
        "round(stata_kmeans$betweenss / stata_kmeans$totss, 2)"
      ],
      "outputs": [
        {
          "output_type": "display_data",
          "data": {
            "text/html": [
              "0.85"
            ],
            "text/latex": [
              "0.85"
            ],
            "text/markdown": [
              "0.85"
            ],
            "text/plain": [
              "[1] 0.85"
            ]
          },
          "metadata": {}
        }
      ],
      "execution_count": 25,
      "metadata": {}
    },
    {
      "cell_type": "code",
      "source": [
        "clusKME13 <- stata_kmeans$cluster\n",
        "ne_stata_to_class@data <- cbind(ne_stata_to_class@data, clusKME13)"
      ],
      "outputs": [],
      "execution_count": 10,
      "metadata": {}
    },
    {
      "cell_type": "code",
      "source": [
        "writeOGR(ne_stata, dsn = \"ne_stata.gpkg\", layer = 'dbscan', driver = \"GPKG\")\n",
        "writeOGR(ne_stata_to_class, dsn = \"ne_stata_kmeans_drive.gpkg\", layer = 'km12d', driver = \"GPKG\")"
      ],
      "outputs": [],
      "execution_count": 13,
      "metadata": {}
    },
    {
      "cell_type": "markdown",
      "source": [
        "Layer for the 500 rw"
      ],
      "metadata": {}
    },
    {
      "cell_type": "code",
      "source": [
        "writeOGR(ne_stata_to_class, dsn = \"ne_stata_kmeans_walk.gpkg\", layer = 'km13w', driver = \"GPKG\")"
      ],
      "outputs": [],
      "execution_count": 50,
      "metadata": {}
    },
    {
      "cell_type": "markdown",
      "source": [
        "### Stat B"
      ],
      "metadata": {}
    },
    {
      "cell_type": "code",
      "source": [
        "kNNdistplot(ne_statb@data, k = 42)\n",
        "abline(h = 4, col = 'red', lty = 2)"
      ],
      "outputs": [
        {
          "output_type": "display_data",
          "data": {
            "image/png": "[encoded data removed]",
            "text/plain": [
              "plot without title"
            ]
          },
          "metadata": {}
        }
      ],
      "execution_count": 117,
      "metadata": {}
    },
    {
      "cell_type": "code",
      "source": [
        "res_statb <- dbscan(ne_statb@data, eps = 4, minPts = 43)\n",
        "res_statb"
      ],
      "outputs": [
        {
          "output_type": "display_data",
          "data": {
            "text/plain": [
              "DBSCAN clustering for 51704 objects.\n",
              "Parameters: eps = 4, minPts = 43\n",
              "The clustering contains 1 cluster(s) and 3302 noise points.\n",
              "\n",
              "    0     1 \n",
              " 3302 48402 \n",
              "\nAvailable fields: cluster, eps, minPts"
            ]
          },
          "metadata": {}
        }
      ],
      "execution_count": 23,
      "metadata": {}
    },
    {
      "cell_type": "code",
      "source": [
        "clusDBSCAN <- res_statb$cluster\n",
        "ne_statb@data <- cbind(ne_statb@data, clusDBSCAN)\n",
        "head(ne_statb@data)"
      ],
      "outputs": [
        {
          "output_type": "display_data",
          "data": {
            "text/html": [
              "<table>\n",
              "<thead><tr><th scope=col>de_ar_100r</th><th scope=col>de_ar_300r</th><th scope=col>de_ar_500r</th><th scope=col>de_bd_100r</th><th scope=col>de_bd_300r</th><th scope=col>de_bd_500r</th><th scope=col>de_sq_100r</th><th scope=col>de_sq_300r</th><th scope=col>de_sq_500r</th><th scope=col>net_de_100r</th><th scope=col>...</th><th scope=col>net_lgt_100w</th><th scope=col>net_lgt_300w</th><th scope=col>net_lgt_500w</th><th scope=col>net_dd_bd</th><th scope=col>net_dd_sqm</th><th scope=col>net_dd_carea</th><th scope=col>net_dd_de</th><th scope=col>net_dd_int</th><th scope=col>net_dd_length</th><th scope=col>clusDBSCAN</th></tr></thead>\n",
              "<tbody>\n",
              "\t<tr><td>-0.9424469  </td><td>-1.1050981  </td><td>-1.0502607  </td><td>-1.3575813  </td><td>-1.224437   </td><td>-1.2001475  </td><td>-0.6138302  </td><td>-0.7485340  </td><td>-0.7395518  </td><td> 0.03720405 </td><td>...         </td><td>-0.9038403  </td><td>-1.4873935  </td><td>-1.321480   </td><td>-0.9322437  </td><td>-0.6685701  </td><td>-0.919928542</td><td>-0.7687093  </td><td>-1.1462564  </td><td>-1.2759523  </td><td>1           </td></tr>\n",
              "\t<tr><td>-0.7956092  </td><td>-0.9843688  </td><td>-0.9843264  </td><td>-1.1393665  </td><td>-1.117343   </td><td>-1.1478125  </td><td>-0.5513697  </td><td>-0.6919050  </td><td>-0.7056554  </td><td>-0.78484645 </td><td>...         </td><td>-0.9038403  </td><td>-0.4698293  </td><td>-1.161336   </td><td>-0.7465080  </td><td>-0.6357848  </td><td>-0.008308342</td><td>-0.6003279  </td><td>-0.9140474  </td><td>-0.8017325  </td><td>1           </td></tr>\n",
              "\t<tr><td>-0.7653616  </td><td>-0.9888312  </td><td>-0.9566137  </td><td>-0.9211518  </td><td>-1.117343   </td><td>-1.0954775  </td><td>-0.5544561  </td><td>-0.6930536  </td><td>-0.6925363  </td><td>-0.78484645 </td><td>...         </td><td>-0.9038403  </td><td>-0.4698293  </td><td>-1.161336   </td><td>-0.7465080  </td><td>-0.6357848  </td><td>-0.008308342</td><td>-0.6003279  </td><td>-0.9140474  </td><td>-0.8017325  </td><td>1           </td></tr>\n",
              "\t<tr><td>-0.8438284  </td><td>-0.9976806  </td><td>-0.9364637  </td><td>-1.0302592  </td><td>-1.117343   </td><td>-1.0356661  </td><td>-0.5929692  </td><td>-0.6987428  </td><td>-0.6863916  </td><td>-0.78484645 </td><td>...         </td><td>-0.9038403  </td><td>-0.3922385  </td><td>-1.007652   </td><td>-0.8051614  </td><td>-0.6305448  </td><td> 0.020568143</td><td>-0.7206003  </td><td>-0.9256579  </td><td>-0.8502523  </td><td>1           </td></tr>\n",
              "\t<tr><td>-0.8955776  </td><td>-1.0827200  </td><td>-0.8473320  </td><td>-1.4666887  </td><td>-1.295834   </td><td>-0.9085668  </td><td>-0.5790268  </td><td>-0.7346945  </td><td>-0.6484371  </td><td> 0.03720405 </td><td>...         </td><td>-0.9038403  </td><td>-1.5283399  </td><td>-1.376498   </td><td>-0.9786776  </td><td>-0.6764737  </td><td>-1.139236529</td><td>-1.0573631  </td><td>-1.2101139  </td><td>-1.3017842  </td><td>1           </td></tr>\n",
              "\t<tr><td>-0.8848986  </td><td>-1.0708895  </td><td>-0.8067562  </td><td>-1.4666887  </td><td>-1.277985   </td><td>-0.8113732  </td><td>-0.5798495  </td><td>-0.7302081  </td><td>-0.6318328  </td><td> 0.03720405 </td><td>...         </td><td>-0.9038403  </td><td>-1.5283399  </td><td>-1.376498   </td><td>-0.9786776  </td><td>-0.6764737  </td><td>-1.139236529</td><td>-1.0573631  </td><td>-1.2101139  </td><td>-1.3017842  </td><td>1           </td></tr>\n",
              "</tbody>\n",
              "</table>\n"
            ],
            "text/latex": [
              "\\begin{tabular}{r|lllllllllllllllllllllllllllllllllllllllllll}\n",
              " de\\_ar\\_100r & de\\_ar\\_300r & de\\_ar\\_500r & de\\_bd\\_100r & de\\_bd\\_300r & de\\_bd\\_500r & de\\_sq\\_100r & de\\_sq\\_300r & de\\_sq\\_500r & net\\_de\\_100r & ... & net\\_lgt\\_100w & net\\_lgt\\_300w & net\\_lgt\\_500w & net\\_dd\\_bd & net\\_dd\\_sqm & net\\_dd\\_carea & net\\_dd\\_de & net\\_dd\\_int & net\\_dd\\_length & clusDBSCAN\\\\\n",
              "\\hline\n",
              "\t -0.9424469   & -1.1050981   & -1.0502607   & -1.3575813   & -1.224437    & -1.2001475   & -0.6138302   & -0.7485340   & -0.7395518   &  0.03720405  & ...          & -0.9038403   & -1.4873935   & -1.321480    & -0.9322437   & -0.6685701   & -0.919928542 & -0.7687093   & -1.1462564   & -1.2759523   & 1           \\\\\n",
              "\t -0.7956092   & -0.9843688   & -0.9843264   & -1.1393665   & -1.117343    & -1.1478125   & -0.5513697   & -0.6919050   & -0.7056554   & -0.78484645  & ...          & -0.9038403   & -0.4698293   & -1.161336    & -0.7465080   & -0.6357848   & -0.008308342 & -0.6003279   & -0.9140474   & -0.8017325   & 1           \\\\\n",
              "\t -0.7653616   & -0.9888312   & -0.9566137   & -0.9211518   & -1.117343    & -1.0954775   & -0.5544561   & -0.6930536   & -0.6925363   & -0.78484645  & ...          & -0.9038403   & -0.4698293   & -1.161336    & -0.7465080   & -0.6357848   & -0.008308342 & -0.6003279   & -0.9140474   & -0.8017325   & 1           \\\\\n",
              "\t -0.8438284   & -0.9976806   & -0.9364637   & -1.0302592   & -1.117343    & -1.0356661   & -0.5929692   & -0.6987428   & -0.6863916   & -0.78484645  & ...          & -0.9038403   & -0.3922385   & -1.007652    & -0.8051614   & -0.6305448   &  0.020568143 & -0.7206003   & -0.9256579   & -0.8502523   & 1           \\\\\n",
              "\t -0.8955776   & -1.0827200   & -0.8473320   & -1.4666887   & -1.295834    & -0.9085668   & -0.5790268   & -0.7346945   & -0.6484371   &  0.03720405  & ...          & -0.9038403   & -1.5283399   & -1.376498    & -0.9786776   & -0.6764737   & -1.139236529 & -1.0573631   & -1.2101139   & -1.3017842   & 1           \\\\\n",
              "\t -0.8848986   & -1.0708895   & -0.8067562   & -1.4666887   & -1.277985    & -0.8113732   & -0.5798495   & -0.7302081   & -0.6318328   &  0.03720405  & ...          & -0.9038403   & -1.5283399   & -1.376498    & -0.9786776   & -0.6764737   & -1.139236529 & -1.0573631   & -1.2101139   & -1.3017842   & 1           \\\\\n",
              "\\end{tabular}\n"
            ],
            "text/markdown": [
              "\n",
              "de_ar_100r | de_ar_300r | de_ar_500r | de_bd_100r | de_bd_300r | de_bd_500r | de_sq_100r | de_sq_300r | de_sq_500r | net_de_100r | ... | net_lgt_100w | net_lgt_300w | net_lgt_500w | net_dd_bd | net_dd_sqm | net_dd_carea | net_dd_de | net_dd_int | net_dd_length | clusDBSCAN | \n",
              "|---|---|---|---|---|---|\n",
              "| -0.9424469   | -1.1050981   | -1.0502607   | -1.3575813   | -1.224437    | -1.2001475   | -0.6138302   | -0.7485340   | -0.7395518   |  0.03720405  | ...          | -0.9038403   | -1.4873935   | -1.321480    | -0.9322437   | -0.6685701   | -0.919928542 | -0.7687093   | -1.1462564   | -1.2759523   | 1            | \n",
              "| -0.7956092   | -0.9843688   | -0.9843264   | -1.1393665   | -1.117343    | -1.1478125   | -0.5513697   | -0.6919050   | -0.7056554   | -0.78484645  | ...          | -0.9038403   | -0.4698293   | -1.161336    | -0.7465080   | -0.6357848   | -0.008308342 | -0.6003279   | -0.9140474   | -0.8017325   | 1            | \n",
              "| -0.7653616   | -0.9888312   | -0.9566137   | -0.9211518   | -1.117343    | -1.0954775   | -0.5544561   | -0.6930536   | -0.6925363   | -0.78484645  | ...          | -0.9038403   | -0.4698293   | -1.161336    | -0.7465080   | -0.6357848   | -0.008308342 | -0.6003279   | -0.9140474   | -0.8017325   | 1            | \n",
              "| -0.8438284   | -0.9976806   | -0.9364637   | -1.0302592   | -1.117343    | -1.0356661   | -0.5929692   | -0.6987428   | -0.6863916   | -0.78484645  | ...          | -0.9038403   | -0.3922385   | -1.007652    | -0.8051614   | -0.6305448   |  0.020568143 | -0.7206003   | -0.9256579   | -0.8502523   | 1            | \n",
              "| -0.8955776   | -1.0827200   | -0.8473320   | -1.4666887   | -1.295834    | -0.9085668   | -0.5790268   | -0.7346945   | -0.6484371   |  0.03720405  | ...          | -0.9038403   | -1.5283399   | -1.376498    | -0.9786776   | -0.6764737   | -1.139236529 | -1.0573631   | -1.2101139   | -1.3017842   | 1            | \n",
              "| -0.8848986   | -1.0708895   | -0.8067562   | -1.4666887   | -1.277985    | -0.8113732   | -0.5798495   | -0.7302081   | -0.6318328   |  0.03720405  | ...          | -0.9038403   | -1.5283399   | -1.376498    | -0.9786776   | -0.6764737   | -1.139236529 | -1.0573631   | -1.2101139   | -1.3017842   | 1            | \n",
              "\n\n"
            ],
            "text/plain": [
              "  de_ar_100r de_ar_300r de_ar_500r de_bd_100r de_bd_300r de_bd_500r de_sq_100r\n",
              "1 -0.9424469 -1.1050981 -1.0502607 -1.3575813 -1.224437  -1.2001475 -0.6138302\n",
              "2 -0.7956092 -0.9843688 -0.9843264 -1.1393665 -1.117343  -1.1478125 -0.5513697\n",
              "3 -0.7653616 -0.9888312 -0.9566137 -0.9211518 -1.117343  -1.0954775 -0.5544561\n",
              "4 -0.8438284 -0.9976806 -0.9364637 -1.0302592 -1.117343  -1.0356661 -0.5929692\n",
              "5 -0.8955776 -1.0827200 -0.8473320 -1.4666887 -1.295834  -0.9085668 -0.5790268\n",
              "6 -0.8848986 -1.0708895 -0.8067562 -1.4666887 -1.277985  -0.8113732 -0.5798495\n",
              "  de_sq_300r de_sq_500r net_de_100r ... net_lgt_100w net_lgt_300w net_lgt_500w\n",
              "1 -0.7485340 -0.7395518  0.03720405 ... -0.9038403   -1.4873935   -1.321480   \n",
              "2 -0.6919050 -0.7056554 -0.78484645 ... -0.9038403   -0.4698293   -1.161336   \n",
              "3 -0.6930536 -0.6925363 -0.78484645 ... -0.9038403   -0.4698293   -1.161336   \n",
              "4 -0.6987428 -0.6863916 -0.78484645 ... -0.9038403   -0.3922385   -1.007652   \n",
              "5 -0.7346945 -0.6484371  0.03720405 ... -0.9038403   -1.5283399   -1.376498   \n",
              "6 -0.7302081 -0.6318328  0.03720405 ... -0.9038403   -1.5283399   -1.376498   \n",
              "  net_dd_bd  net_dd_sqm net_dd_carea net_dd_de  net_dd_int net_dd_length\n",
              "1 -0.9322437 -0.6685701 -0.919928542 -0.7687093 -1.1462564 -1.2759523   \n",
              "2 -0.7465080 -0.6357848 -0.008308342 -0.6003279 -0.9140474 -0.8017325   \n",
              "3 -0.7465080 -0.6357848 -0.008308342 -0.6003279 -0.9140474 -0.8017325   \n",
              "4 -0.8051614 -0.6305448  0.020568143 -0.7206003 -0.9256579 -0.8502523   \n",
              "5 -0.9786776 -0.6764737 -1.139236529 -1.0573631 -1.2101139 -1.3017842   \n",
              "6 -0.9786776 -0.6764737 -1.139236529 -1.0573631 -1.2101139 -1.3017842   \n",
              "  clusDBSCAN\n",
              "1 1         \n",
              "2 1         \n",
              "3 1         \n",
              "4 1         \n",
              "5 1         \n",
              "6 1         "
            ]
          },
          "metadata": {}
        }
      ],
      "execution_count": 24,
      "metadata": {
        "scrolled": true
      }
    },
    {
      "cell_type": "code",
      "source": [
        "sel <- ne_statb@data$clusDBSCAN == 1\n",
        "ne_statb_to_class <- ne_statb[sel,]"
      ],
      "outputs": [],
      "execution_count": 25,
      "metadata": {}
    },
    {
      "cell_type": "code",
      "source": [
        "head(ne_statb_to_class@data[, -43])"
      ],
      "outputs": [
        {
          "output_type": "display_data",
          "data": {
            "text/html": [
              "<table>\n",
              "<thead><tr><th scope=col>de_ar_100r</th><th scope=col>de_ar_300r</th><th scope=col>de_ar_500r</th><th scope=col>de_bd_100r</th><th scope=col>de_bd_300r</th><th scope=col>de_bd_500r</th><th scope=col>de_sq_100r</th><th scope=col>de_sq_300r</th><th scope=col>de_sq_500r</th><th scope=col>net_de_100r</th><th scope=col>...</th><th scope=col>net_int_500w</th><th scope=col>net_lgt_100w</th><th scope=col>net_lgt_300w</th><th scope=col>net_lgt_500w</th><th scope=col>net_dd_bd</th><th scope=col>net_dd_sqm</th><th scope=col>net_dd_carea</th><th scope=col>net_dd_de</th><th scope=col>net_dd_int</th><th scope=col>net_dd_length</th></tr></thead>\n",
              "<tbody>\n",
              "\t<tr><td>-0.9424469  </td><td>-1.1050981  </td><td>-1.0502607  </td><td>-1.3575813  </td><td>-1.224437   </td><td>-1.2001475  </td><td>-0.6138302  </td><td>-0.7485340  </td><td>-0.7395518  </td><td> 0.03720405 </td><td>...         </td><td>-1.291204   </td><td>-0.9038403  </td><td>-1.4873935  </td><td>-1.321480   </td><td>-0.9322437  </td><td>-0.6685701  </td><td>-0.919928542</td><td>-0.7687093  </td><td>-1.1462564  </td><td>-1.2759523  </td></tr>\n",
              "\t<tr><td>-0.7956092  </td><td>-0.9843688  </td><td>-0.9843264  </td><td>-1.1393665  </td><td>-1.117343   </td><td>-1.1478125  </td><td>-0.5513697  </td><td>-0.6919050  </td><td>-0.7056554  </td><td>-0.78484645 </td><td>...         </td><td>-1.248025   </td><td>-0.9038403  </td><td>-0.4698293  </td><td>-1.161336   </td><td>-0.7465080  </td><td>-0.6357848  </td><td>-0.008308342</td><td>-0.6003279  </td><td>-0.9140474  </td><td>-0.8017325  </td></tr>\n",
              "\t<tr><td>-0.7653616  </td><td>-0.9888312  </td><td>-0.9566137  </td><td>-0.9211518  </td><td>-1.117343   </td><td>-1.0954775  </td><td>-0.5544561  </td><td>-0.6930536  </td><td>-0.6925363  </td><td>-0.78484645 </td><td>...         </td><td>-1.248025   </td><td>-0.9038403  </td><td>-0.4698293  </td><td>-1.161336   </td><td>-0.7465080  </td><td>-0.6357848  </td><td>-0.008308342</td><td>-0.6003279  </td><td>-0.9140474  </td><td>-0.8017325  </td></tr>\n",
              "\t<tr><td>-0.8438284  </td><td>-0.9976806  </td><td>-0.9364637  </td><td>-1.0302592  </td><td>-1.117343   </td><td>-1.0356661  </td><td>-0.5929692  </td><td>-0.6987428  </td><td>-0.6863916  </td><td>-0.78484645 </td><td>...         </td><td>-1.075311   </td><td>-0.9038403  </td><td>-0.3922385  </td><td>-1.007652   </td><td>-0.8051614  </td><td>-0.6305448  </td><td> 0.020568143</td><td>-0.7206003  </td><td>-0.9256579  </td><td>-0.8502523  </td></tr>\n",
              "\t<tr><td>-0.8955776  </td><td>-1.0827200  </td><td>-0.8473320  </td><td>-1.4666887  </td><td>-1.295834   </td><td>-0.9085668  </td><td>-0.5790268  </td><td>-0.7346945  </td><td>-0.6484371  </td><td> 0.03720405 </td><td>...         </td><td>-1.334383   </td><td>-0.9038403  </td><td>-1.5283399  </td><td>-1.376498   </td><td>-0.9786776  </td><td>-0.6764737  </td><td>-1.139236529</td><td>-1.0573631  </td><td>-1.2101139  </td><td>-1.3017842  </td></tr>\n",
              "\t<tr><td>-0.8848986  </td><td>-1.0708895  </td><td>-0.8067562  </td><td>-1.4666887  </td><td>-1.277985   </td><td>-0.8113732  </td><td>-0.5798495  </td><td>-0.7302081  </td><td>-0.6318328  </td><td> 0.03720405 </td><td>...         </td><td>-1.334383   </td><td>-0.9038403  </td><td>-1.5283399  </td><td>-1.376498   </td><td>-0.9786776  </td><td>-0.6764737  </td><td>-1.139236529</td><td>-1.0573631  </td><td>-1.2101139  </td><td>-1.3017842  </td></tr>\n",
              "</tbody>\n",
              "</table>\n"
            ],
            "text/latex": [
              "\\begin{tabular}{r|llllllllllllllllllllllllllllllllllllllllll}\n",
              " de\\_ar\\_100r & de\\_ar\\_300r & de\\_ar\\_500r & de\\_bd\\_100r & de\\_bd\\_300r & de\\_bd\\_500r & de\\_sq\\_100r & de\\_sq\\_300r & de\\_sq\\_500r & net\\_de\\_100r & ... & net\\_int\\_500w & net\\_lgt\\_100w & net\\_lgt\\_300w & net\\_lgt\\_500w & net\\_dd\\_bd & net\\_dd\\_sqm & net\\_dd\\_carea & net\\_dd\\_de & net\\_dd\\_int & net\\_dd\\_length\\\\\n",
              "\\hline\n",
              "\t -0.9424469   & -1.1050981   & -1.0502607   & -1.3575813   & -1.224437    & -1.2001475   & -0.6138302   & -0.7485340   & -0.7395518   &  0.03720405  & ...          & -1.291204    & -0.9038403   & -1.4873935   & -1.321480    & -0.9322437   & -0.6685701   & -0.919928542 & -0.7687093   & -1.1462564   & -1.2759523  \\\\\n",
              "\t -0.7956092   & -0.9843688   & -0.9843264   & -1.1393665   & -1.117343    & -1.1478125   & -0.5513697   & -0.6919050   & -0.7056554   & -0.78484645  & ...          & -1.248025    & -0.9038403   & -0.4698293   & -1.161336    & -0.7465080   & -0.6357848   & -0.008308342 & -0.6003279   & -0.9140474   & -0.8017325  \\\\\n",
              "\t -0.7653616   & -0.9888312   & -0.9566137   & -0.9211518   & -1.117343    & -1.0954775   & -0.5544561   & -0.6930536   & -0.6925363   & -0.78484645  & ...          & -1.248025    & -0.9038403   & -0.4698293   & -1.161336    & -0.7465080   & -0.6357848   & -0.008308342 & -0.6003279   & -0.9140474   & -0.8017325  \\\\\n",
              "\t -0.8438284   & -0.9976806   & -0.9364637   & -1.0302592   & -1.117343    & -1.0356661   & -0.5929692   & -0.6987428   & -0.6863916   & -0.78484645  & ...          & -1.075311    & -0.9038403   & -0.3922385   & -1.007652    & -0.8051614   & -0.6305448   &  0.020568143 & -0.7206003   & -0.9256579   & -0.8502523  \\\\\n",
              "\t -0.8955776   & -1.0827200   & -0.8473320   & -1.4666887   & -1.295834    & -0.9085668   & -0.5790268   & -0.7346945   & -0.6484371   &  0.03720405  & ...          & -1.334383    & -0.9038403   & -1.5283399   & -1.376498    & -0.9786776   & -0.6764737   & -1.139236529 & -1.0573631   & -1.2101139   & -1.3017842  \\\\\n",
              "\t -0.8848986   & -1.0708895   & -0.8067562   & -1.4666887   & -1.277985    & -0.8113732   & -0.5798495   & -0.7302081   & -0.6318328   &  0.03720405  & ...          & -1.334383    & -0.9038403   & -1.5283399   & -1.376498    & -0.9786776   & -0.6764737   & -1.139236529 & -1.0573631   & -1.2101139   & -1.3017842  \\\\\n",
              "\\end{tabular}\n"
            ],
            "text/markdown": [
              "\n",
              "de_ar_100r | de_ar_300r | de_ar_500r | de_bd_100r | de_bd_300r | de_bd_500r | de_sq_100r | de_sq_300r | de_sq_500r | net_de_100r | ... | net_int_500w | net_lgt_100w | net_lgt_300w | net_lgt_500w | net_dd_bd | net_dd_sqm | net_dd_carea | net_dd_de | net_dd_int | net_dd_length | \n",
              "|---|---|---|---|---|---|\n",
              "| -0.9424469   | -1.1050981   | -1.0502607   | -1.3575813   | -1.224437    | -1.2001475   | -0.6138302   | -0.7485340   | -0.7395518   |  0.03720405  | ...          | -1.291204    | -0.9038403   | -1.4873935   | -1.321480    | -0.9322437   | -0.6685701   | -0.919928542 | -0.7687093   | -1.1462564   | -1.2759523   | \n",
              "| -0.7956092   | -0.9843688   | -0.9843264   | -1.1393665   | -1.117343    | -1.1478125   | -0.5513697   | -0.6919050   | -0.7056554   | -0.78484645  | ...          | -1.248025    | -0.9038403   | -0.4698293   | -1.161336    | -0.7465080   | -0.6357848   | -0.008308342 | -0.6003279   | -0.9140474   | -0.8017325   | \n",
              "| -0.7653616   | -0.9888312   | -0.9566137   | -0.9211518   | -1.117343    | -1.0954775   | -0.5544561   | -0.6930536   | -0.6925363   | -0.78484645  | ...          | -1.248025    | -0.9038403   | -0.4698293   | -1.161336    | -0.7465080   | -0.6357848   | -0.008308342 | -0.6003279   | -0.9140474   | -0.8017325   | \n",
              "| -0.8438284   | -0.9976806   | -0.9364637   | -1.0302592   | -1.117343    | -1.0356661   | -0.5929692   | -0.6987428   | -0.6863916   | -0.78484645  | ...          | -1.075311    | -0.9038403   | -0.3922385   | -1.007652    | -0.8051614   | -0.6305448   |  0.020568143 | -0.7206003   | -0.9256579   | -0.8502523   | \n",
              "| -0.8955776   | -1.0827200   | -0.8473320   | -1.4666887   | -1.295834    | -0.9085668   | -0.5790268   | -0.7346945   | -0.6484371   |  0.03720405  | ...          | -1.334383    | -0.9038403   | -1.5283399   | -1.376498    | -0.9786776   | -0.6764737   | -1.139236529 | -1.0573631   | -1.2101139   | -1.3017842   | \n",
              "| -0.8848986   | -1.0708895   | -0.8067562   | -1.4666887   | -1.277985    | -0.8113732   | -0.5798495   | -0.7302081   | -0.6318328   |  0.03720405  | ...          | -1.334383    | -0.9038403   | -1.5283399   | -1.376498    | -0.9786776   | -0.6764737   | -1.139236529 | -1.0573631   | -1.2101139   | -1.3017842   | \n",
              "\n\n"
            ],
            "text/plain": [
              "  de_ar_100r de_ar_300r de_ar_500r de_bd_100r de_bd_300r de_bd_500r de_sq_100r\n",
              "1 -0.9424469 -1.1050981 -1.0502607 -1.3575813 -1.224437  -1.2001475 -0.6138302\n",
              "2 -0.7956092 -0.9843688 -0.9843264 -1.1393665 -1.117343  -1.1478125 -0.5513697\n",
              "3 -0.7653616 -0.9888312 -0.9566137 -0.9211518 -1.117343  -1.0954775 -0.5544561\n",
              "4 -0.8438284 -0.9976806 -0.9364637 -1.0302592 -1.117343  -1.0356661 -0.5929692\n",
              "5 -0.8955776 -1.0827200 -0.8473320 -1.4666887 -1.295834  -0.9085668 -0.5790268\n",
              "6 -0.8848986 -1.0708895 -0.8067562 -1.4666887 -1.277985  -0.8113732 -0.5798495\n",
              "  de_sq_300r de_sq_500r net_de_100r ... net_int_500w net_lgt_100w net_lgt_300w\n",
              "1 -0.7485340 -0.7395518  0.03720405 ... -1.291204    -0.9038403   -1.4873935  \n",
              "2 -0.6919050 -0.7056554 -0.78484645 ... -1.248025    -0.9038403   -0.4698293  \n",
              "3 -0.6930536 -0.6925363 -0.78484645 ... -1.248025    -0.9038403   -0.4698293  \n",
              "4 -0.6987428 -0.6863916 -0.78484645 ... -1.075311    -0.9038403   -0.3922385  \n",
              "5 -0.7346945 -0.6484371  0.03720405 ... -1.334383    -0.9038403   -1.5283399  \n",
              "6 -0.7302081 -0.6318328  0.03720405 ... -1.334383    -0.9038403   -1.5283399  \n",
              "  net_lgt_500w net_dd_bd  net_dd_sqm net_dd_carea net_dd_de  net_dd_int\n",
              "1 -1.321480    -0.9322437 -0.6685701 -0.919928542 -0.7687093 -1.1462564\n",
              "2 -1.161336    -0.7465080 -0.6357848 -0.008308342 -0.6003279 -0.9140474\n",
              "3 -1.161336    -0.7465080 -0.6357848 -0.008308342 -0.6003279 -0.9140474\n",
              "4 -1.007652    -0.8051614 -0.6305448  0.020568143 -0.7206003 -0.9256579\n",
              "5 -1.376498    -0.9786776 -0.6764737 -1.139236529 -1.0573631 -1.2101139\n",
              "6 -1.376498    -0.9786776 -0.6764737 -1.139236529 -1.0573631 -1.2101139\n",
              "  net_dd_length\n",
              "1 -1.2759523   \n",
              "2 -0.8017325   \n",
              "3 -0.8017325   \n",
              "4 -0.8502523   \n",
              "5 -1.3017842   \n",
              "6 -1.3017842   "
            ]
          },
          "metadata": {}
        }
      ],
      "execution_count": 26,
      "metadata": {}
    },
    {
      "cell_type": "markdown",
      "source": [
        "Testés : \n",
        "- que rayon c(1:18) 14 -> 0.66\n",
        "- que marche c(19:36) 11 -> 0.65\n",
        "- que drive c(37:42) 13 -> 0.88 !!!\n",
        "\n",
        "- rayon et walking c(1:36) 15 -> 0.59 \n",
        "- rayon et drive 14 -> 0.63\n",
        "- walking et drive 14 -> 0.63\n",
        "\n",
        "- 100m rayon et walk 14 -> 0.63\n",
        "- 300m rw 15 -> 0.7\n",
        "- 500 rw 13 c(3, 6, 9, 12, 15, 18, 21, 24, 27, 30, 33, 36) -> 0.82\n",
        "\n",
        "- 100 et 300 rw 15 -> 0.57\n",
        "- 300 et 500 rw 15 -> 0.7"
      ],
      "metadata": {}
    },
    {
      "cell_type": "code",
      "source": [
        "wss_clusters = seq(1, 20)\n",
        "for (i in 1:20) {\n",
        "    c = kmeans(ne_statb_to_class@data[, c(3, 6, 9, 12, 15, 18, 21, 24, 27, 30, 33, 36)], i, nstart=5, iter.max = 50)\n",
        "    wss_clusters[i] = c$betweenss / c$totss\n",
        "}"
      ],
      "outputs": [
        {
          "output_type": "stream",
          "name": "stderr",
          "text": [
            "Warning message:\n",
            "\"Quick-TRANSfer stage steps exceeded maximum (= 2420100)\"Warning message:\n",
            "\"Quick-TRANSfer stage steps exceeded maximum (= 2420100)\"Warning message:\n",
            "\"Quick-TRANSfer stage steps exceeded maximum (= 2420100)\"Warning message:\n",
            "\"Quick-TRANSfer stage steps exceeded maximum (= 2420100)\"Warning message:\n",
            "\"Quick-TRANSfer stage steps exceeded maximum (= 2420100)\"Warning message:\n",
            "\"Quick-TRANSfer stage steps exceeded maximum (= 2420100)\"Warning message:\n",
            "\"Quick-TRANSfer stage steps exceeded maximum (= 2420100)\"Warning message:\n",
            "\"Quick-TRANSfer stage steps exceeded maximum (= 2420100)\""
          ]
        }
      ],
      "execution_count": 33,
      "metadata": {}
    },
    {
      "cell_type": "code",
      "source": [
        "plot(wss_clusters, type=\"o\")"
      ],
      "outputs": [
        {
          "output_type": "display_data",
          "data": {
            "image/png": "[encoded data removed]",
            "text/plain": [
              "plot without title"
            ]
          },
          "metadata": {}
        }
      ],
      "execution_count": 34,
      "metadata": {
        "scrolled": true
      }
    },
    {
      "cell_type": "code",
      "source": [
        "statb_kmeans <- kmeans(ne_statb_to_class@data[, c(37:42)], 13, nstart = 5, iter.max = 50)"
      ],
      "outputs": [],
      "execution_count": 29,
      "metadata": {}
    },
    {
      "cell_type": "code",
      "source": [
        "statb_kmeans <- kmeans(ne_statb_to_class@data[, c(3, 6, 9, 12, 15, 18, 21, 24, 27, 30, 33, 36) ], 13, nstart = 5, iter.max = 50)"
      ],
      "outputs": [
        {
          "output_type": "stream",
          "name": "stderr",
          "text": [
            "Warning message:\n",
            "\"Quick-TRANSfer stage steps exceeded maximum (= 2420100)\""
          ]
        }
      ],
      "execution_count": 35,
      "metadata": {}
    },
    {
      "cell_type": "code",
      "source": [
        "round(statb_kmeans$betweenss / statb_kmeans$totss, 2)"
      ],
      "outputs": [
        {
          "output_type": "display_data",
          "data": {
            "text/html": [
              "0.82"
            ],
            "text/latex": [
              "0.82"
            ],
            "text/markdown": [
              "0.82"
            ],
            "text/plain": [
              "[1] 0.82"
            ]
          },
          "metadata": {}
        }
      ],
      "execution_count": 36,
      "metadata": {}
    },
    {
      "cell_type": "code",
      "source": [
        "clusKME13 <- statb_kmeans$cluster\n",
        "ne_statb_to_class@data <- cbind(ne_statb_to_class@data, clusKME13)"
      ],
      "outputs": [],
      "execution_count": 37,
      "metadata": {}
    },
    {
      "cell_type": "code",
      "source": [
        "writeOGR(ne_statb, dsn = \"ne_statb.gpkg\", layer = 'dbscan', driver = \"GPKG\")\n",
        "writeOGR(ne_statb_to_class, dsn = \"ne_statb_kmeans_drive.gpkg\", layer = 'km13d', driver = \"GPKG\")"
      ],
      "outputs": [],
      "execution_count": 32,
      "metadata": {}
    },
    {
      "cell_type": "markdown",
      "source": [
        "Layer for the 500 rw"
      ],
      "metadata": {}
    },
    {
      "cell_type": "code",
      "source": [
        "writeOGR(ne_statb_to_class[, -44], dsn = \"ne_statb_kmeans_walk.gpkg\", layer = 'km13w', driver = \"GPKG\")"
      ],
      "outputs": [],
      "execution_count": 51,
      "metadata": {}
    },
    {
      "cell_type": "markdown",
      "source": [
        "### Fractal"
      ],
      "metadata": {}
    },
    {
      "cell_type": "code",
      "source": [
        "kNNdistplot(ne_morf@data, k = 42)\n",
        "abline(h = 4, col = 'red', lty = 2)"
      ],
      "outputs": [
        {
          "output_type": "display_data",
          "data": {
            "image/png": "[encoded data removed]",
            "text/plain": [
              "plot without title"
            ]
          },
          "metadata": {}
        }
      ],
      "execution_count": 60,
      "metadata": {}
    },
    {
      "cell_type": "code",
      "source": [
        "res_morf <- dbscan(ne_morf@data, eps = 4, minPts = 43)\n",
        "res_morf"
      ],
      "outputs": [
        {
          "output_type": "display_data",
          "data": {
            "text/plain": [
              "DBSCAN clustering for 24037 objects.\n",
              "Parameters: eps = 4, minPts = 43\n",
              "The clustering contains 1 cluster(s) and 2403 noise points.\n",
              "\n",
              "    0     1 \n",
              " 2403 21634 \n",
              "\nAvailable fields: cluster, eps, minPts"
            ]
          },
          "metadata": {}
        }
      ],
      "execution_count": 61,
      "metadata": {}
    },
    {
      "cell_type": "code",
      "source": [
        "clusDBSCAN <- res_morf$cluster\n",
        "ne_morf@data <- cbind(ne_morf@data, clusDBSCAN)\n",
        "head(ne_morf@data)"
      ],
      "outputs": [
        {
          "output_type": "display_data",
          "data": {
            "text/html": [
              "<table>\n",
              "<thead><tr><th></th><th scope=col>de_ar_100r</th><th scope=col>de_ar_300r</th><th scope=col>de_ar_500r</th><th scope=col>de_bd_100r</th><th scope=col>de_bd_300r</th><th scope=col>de_bd_500r</th><th scope=col>de_sq_100r</th><th scope=col>de_sq_300r</th><th scope=col>de_sq_500r</th><th scope=col>net_de_100r</th><th scope=col>...</th><th scope=col>net_lgt_100w</th><th scope=col>net_lgt_300w</th><th scope=col>net_lgt_500w</th><th scope=col>net_dd_bd</th><th scope=col>net_dd_sqm</th><th scope=col>net_dd_carea</th><th scope=col>net_dd_de</th><th scope=col>net_dd_int</th><th scope=col>net_dd_length</th><th scope=col>clusDBSCAN</th></tr></thead>\n",
              "<tbody>\n",
              "\t<tr><th scope=row>788</th><td>-0.3611452 </td><td>0.5970866  </td><td>0.9162597  </td><td> 0.06971974</td><td> 0.6950789 </td><td>1.0692591  </td><td>-0.232942  </td><td>0.8270909  </td><td>1.173743   </td><td>-0.1123754 </td><td>...        </td><td> 1.5634415 </td><td>1.1990060  </td><td>0.6392873  </td><td>1.04897843 </td><td>2.281749   </td><td> 0.09933664</td><td>-0.00203771</td><td>1.0249565  </td><td>0.7649096  </td><td>1          </td></tr>\n",
              "\t<tr><th scope=row>789</th><td> 0.5252631 </td><td>0.7152515  </td><td>1.1653903  </td><td>-0.27189609</td><td> 0.5196382 </td><td>0.9418066  </td><td> 0.905206  </td><td>1.0088283  </td><td>1.479263   </td><td> 0.6321583 </td><td>...        </td><td> 0.2868738 </td><td>1.3154685  </td><td>0.6204981  </td><td>1.12297220 </td><td>2.451903   </td><td> 0.21322266</td><td> 0.09274786</td><td>1.2894133  </td><td>0.9624794  </td><td>1          </td></tr>\n",
              "\t<tr><th scope=row>790</th><td> 1.5794821 </td><td>1.8287001  </td><td>2.3116050  </td><td>-0.84125579</td><td>-0.3185787 </td><td>0.2875502  </td><td> 2.292618  </td><td>2.3931000  </td><td>3.202713   </td><td>-0.1123754 </td><td>...        </td><td>-1.0467653 </td><td>0.7826532  </td><td>1.6953733  </td><td>1.71492234 </td><td>3.927684   </td><td> 0.97560970</td><td> 0.32971179</td><td>2.4165030  </td><td>2.0438775  </td><td>1          </td></tr>\n",
              "\t<tr><th scope=row>791</th><td> 1.0014322 </td><td>1.3637326  </td><td>1.7210533  </td><td> 0.75295139</td><td> 0.6560921 </td><td>0.6699078  </td><td> 1.247361  </td><td>1.9084222  </td><td>2.164713   </td><td>-0.8569092 </td><td>...        </td><td> 1.5170821 </td><td>0.8827250  </td><td>1.1911308  </td><td>0.29259769 </td><td>2.429637   </td><td>-0.22974021</td><td>-0.40487639</td><td>0.8864315  </td><td>0.4498319  </td><td>1          </td></tr>\n",
              "\t<tr><th scope=row>792</th><td> 0.1342108 </td><td>1.2244210  </td><td>1.5794480  </td><td>-0.04415220</td><td> 0.6560921 </td><td>0.8568382  </td><td> 0.218028  </td><td>1.6912963  </td><td>1.943181   </td><td>-0.8569092 </td><td>...        </td><td> 0.9628203 </td><td>1.0151646  </td><td>1.0725034  </td><td>0.05417333 </td><td>2.227067   </td><td>-0.45501720</td><td>-0.68923311</td><td>0.5967883  </td><td>0.1764969  </td><td>1          </td></tr>\n",
              "\t<tr><th scope=row>793</th><td> 1.5452404 </td><td>1.2400252  </td><td>1.4841684  </td><td> 0.18359168</td><td> 0.2662238 </td><td>0.6019331  </td><td> 1.723557  </td><td>1.6186320  </td><td>1.985600   </td><td>-0.8569092 </td><td>...        </td><td> 1.0297851 </td><td>1.0294289  </td><td>1.4736501  </td><td>0.45154727 </td><td>2.530793   </td><td>-0.13653709</td><td>-0.31009082</td><td>1.2075576  </td><td>0.6625220  </td><td>1          </td></tr>\n",
              "</tbody>\n",
              "</table>\n"
            ],
            "text/latex": [
              "\\begin{tabular}{r|lllllllllllllllllllllllllllllllllllllllllll}\n",
              "  & de\\_ar\\_100r & de\\_ar\\_300r & de\\_ar\\_500r & de\\_bd\\_100r & de\\_bd\\_300r & de\\_bd\\_500r & de\\_sq\\_100r & de\\_sq\\_300r & de\\_sq\\_500r & net\\_de\\_100r & ... & net\\_lgt\\_100w & net\\_lgt\\_300w & net\\_lgt\\_500w & net\\_dd\\_bd & net\\_dd\\_sqm & net\\_dd\\_carea & net\\_dd\\_de & net\\_dd\\_int & net\\_dd\\_length & clusDBSCAN\\\\\n",
              "\\hline\n",
              "\t788 & -0.3611452  & 0.5970866   & 0.9162597   &  0.06971974 &  0.6950789  & 1.0692591   & -0.232942   & 0.8270909   & 1.173743    & -0.1123754  & ...         &  1.5634415  & 1.1990060   & 0.6392873   & 1.04897843  & 2.281749    &  0.09933664 & -0.00203771 & 1.0249565   & 0.7649096   & 1          \\\\\n",
              "\t789 &  0.5252631  & 0.7152515   & 1.1653903   & -0.27189609 &  0.5196382  & 0.9418066   &  0.905206   & 1.0088283   & 1.479263    &  0.6321583  & ...         &  0.2868738  & 1.3154685   & 0.6204981   & 1.12297220  & 2.451903    &  0.21322266 &  0.09274786 & 1.2894133   & 0.9624794   & 1          \\\\\n",
              "\t790 &  1.5794821  & 1.8287001   & 2.3116050   & -0.84125579 & -0.3185787  & 0.2875502   &  2.292618   & 2.3931000   & 3.202713    & -0.1123754  & ...         & -1.0467653  & 0.7826532   & 1.6953733   & 1.71492234  & 3.927684    &  0.97560970 &  0.32971179 & 2.4165030   & 2.0438775   & 1          \\\\\n",
              "\t791 &  1.0014322  & 1.3637326   & 1.7210533   &  0.75295139 &  0.6560921  & 0.6699078   &  1.247361   & 1.9084222   & 2.164713    & -0.8569092  & ...         &  1.5170821  & 0.8827250   & 1.1911308   & 0.29259769  & 2.429637    & -0.22974021 & -0.40487639 & 0.8864315   & 0.4498319   & 1          \\\\\n",
              "\t792 &  0.1342108  & 1.2244210   & 1.5794480   & -0.04415220 &  0.6560921  & 0.8568382   &  0.218028   & 1.6912963   & 1.943181    & -0.8569092  & ...         &  0.9628203  & 1.0151646   & 1.0725034   & 0.05417333  & 2.227067    & -0.45501720 & -0.68923311 & 0.5967883   & 0.1764969   & 1          \\\\\n",
              "\t793 &  1.5452404  & 1.2400252   & 1.4841684   &  0.18359168 &  0.2662238  & 0.6019331   &  1.723557   & 1.6186320   & 1.985600    & -0.8569092  & ...         &  1.0297851  & 1.0294289   & 1.4736501   & 0.45154727  & 2.530793    & -0.13653709 & -0.31009082 & 1.2075576   & 0.6625220   & 1          \\\\\n",
              "\\end{tabular}\n"
            ],
            "text/markdown": [
              "\n",
              "| <!--/--> | de_ar_100r | de_ar_300r | de_ar_500r | de_bd_100r | de_bd_300r | de_bd_500r | de_sq_100r | de_sq_300r | de_sq_500r | net_de_100r | ... | net_lgt_100w | net_lgt_300w | net_lgt_500w | net_dd_bd | net_dd_sqm | net_dd_carea | net_dd_de | net_dd_int | net_dd_length | clusDBSCAN | \n",
              "|---|---|---|---|---|---|\n",
              "| 788 | -0.3611452  | 0.5970866   | 0.9162597   |  0.06971974 |  0.6950789  | 1.0692591   | -0.232942   | 0.8270909   | 1.173743    | -0.1123754  | ...         |  1.5634415  | 1.1990060   | 0.6392873   | 1.04897843  | 2.281749    |  0.09933664 | -0.00203771 | 1.0249565   | 0.7649096   | 1           | \n",
              "| 789 |  0.5252631  | 0.7152515   | 1.1653903   | -0.27189609 |  0.5196382  | 0.9418066   |  0.905206   | 1.0088283   | 1.479263    |  0.6321583  | ...         |  0.2868738  | 1.3154685   | 0.6204981   | 1.12297220  | 2.451903    |  0.21322266 |  0.09274786 | 1.2894133   | 0.9624794   | 1           | \n",
              "| 790 |  1.5794821  | 1.8287001   | 2.3116050   | -0.84125579 | -0.3185787  | 0.2875502   |  2.292618   | 2.3931000   | 3.202713    | -0.1123754  | ...         | -1.0467653  | 0.7826532   | 1.6953733   | 1.71492234  | 3.927684    |  0.97560970 |  0.32971179 | 2.4165030   | 2.0438775   | 1           | \n",
              "| 791 |  1.0014322  | 1.3637326   | 1.7210533   |  0.75295139 |  0.6560921  | 0.6699078   |  1.247361   | 1.9084222   | 2.164713    | -0.8569092  | ...         |  1.5170821  | 0.8827250   | 1.1911308   | 0.29259769  | 2.429637    | -0.22974021 | -0.40487639 | 0.8864315   | 0.4498319   | 1           | \n",
              "| 792 |  0.1342108  | 1.2244210   | 1.5794480   | -0.04415220 |  0.6560921  | 0.8568382   |  0.218028   | 1.6912963   | 1.943181    | -0.8569092  | ...         |  0.9628203  | 1.0151646   | 1.0725034   | 0.05417333  | 2.227067    | -0.45501720 | -0.68923311 | 0.5967883   | 0.1764969   | 1           | \n",
              "| 793 |  1.5452404  | 1.2400252   | 1.4841684   |  0.18359168 |  0.2662238  | 0.6019331   |  1.723557   | 1.6186320   | 1.985600    | -0.8569092  | ...         |  1.0297851  | 1.0294289   | 1.4736501   | 0.45154727  | 2.530793    | -0.13653709 | -0.31009082 | 1.2075576   | 0.6625220   | 1           | \n",
              "\n\n"
            ],
            "text/plain": [
              "    de_ar_100r de_ar_300r de_ar_500r de_bd_100r  de_bd_300r de_bd_500r\n",
              "788 -0.3611452 0.5970866  0.9162597   0.06971974  0.6950789 1.0692591 \n",
              "789  0.5252631 0.7152515  1.1653903  -0.27189609  0.5196382 0.9418066 \n",
              "790  1.5794821 1.8287001  2.3116050  -0.84125579 -0.3185787 0.2875502 \n",
              "791  1.0014322 1.3637326  1.7210533   0.75295139  0.6560921 0.6699078 \n",
              "792  0.1342108 1.2244210  1.5794480  -0.04415220  0.6560921 0.8568382 \n",
              "793  1.5452404 1.2400252  1.4841684   0.18359168  0.2662238 0.6019331 \n",
              "    de_sq_100r de_sq_300r de_sq_500r net_de_100r ... net_lgt_100w net_lgt_300w\n",
              "788 -0.232942  0.8270909  1.173743   -0.1123754  ...  1.5634415   1.1990060   \n",
              "789  0.905206  1.0088283  1.479263    0.6321583  ...  0.2868738   1.3154685   \n",
              "790  2.292618  2.3931000  3.202713   -0.1123754  ... -1.0467653   0.7826532   \n",
              "791  1.247361  1.9084222  2.164713   -0.8569092  ...  1.5170821   0.8827250   \n",
              "792  0.218028  1.6912963  1.943181   -0.8569092  ...  0.9628203   1.0151646   \n",
              "793  1.723557  1.6186320  1.985600   -0.8569092  ...  1.0297851   1.0294289   \n",
              "    net_lgt_500w net_dd_bd  net_dd_sqm net_dd_carea net_dd_de   net_dd_int\n",
              "788 0.6392873    1.04897843 2.281749    0.09933664  -0.00203771 1.0249565 \n",
              "789 0.6204981    1.12297220 2.451903    0.21322266   0.09274786 1.2894133 \n",
              "790 1.6953733    1.71492234 3.927684    0.97560970   0.32971179 2.4165030 \n",
              "791 1.1911308    0.29259769 2.429637   -0.22974021  -0.40487639 0.8864315 \n",
              "792 1.0725034    0.05417333 2.227067   -0.45501720  -0.68923311 0.5967883 \n",
              "793 1.4736501    0.45154727 2.530793   -0.13653709  -0.31009082 1.2075576 \n",
              "    net_dd_length clusDBSCAN\n",
              "788 0.7649096     1         \n",
              "789 0.9624794     1         \n",
              "790 2.0438775     1         \n",
              "791 0.4498319     1         \n",
              "792 0.1764969     1         \n",
              "793 0.6625220     1         "
            ]
          },
          "metadata": {}
        }
      ],
      "execution_count": 62,
      "metadata": {
        "scrolled": true
      }
    },
    {
      "cell_type": "code",
      "source": [
        "sel <- ne_morf@data$clusDBSCAN == 1\n",
        "ne_morf_to_class <- ne_morf[sel,]"
      ],
      "outputs": [],
      "execution_count": 63,
      "metadata": {}
    },
    {
      "cell_type": "code",
      "source": [
        "head(ne_morf_to_class@data[, -43])"
      ],
      "outputs": [
        {
          "output_type": "display_data",
          "data": {
            "text/html": [
              "<table>\n",
              "<thead><tr><th></th><th scope=col>de_ar_100r</th><th scope=col>de_ar_300r</th><th scope=col>de_ar_500r</th><th scope=col>de_bd_100r</th><th scope=col>de_bd_300r</th><th scope=col>de_bd_500r</th><th scope=col>de_sq_100r</th><th scope=col>de_sq_300r</th><th scope=col>de_sq_500r</th><th scope=col>net_de_100r</th><th scope=col>...</th><th scope=col>net_int_500w</th><th scope=col>net_lgt_100w</th><th scope=col>net_lgt_300w</th><th scope=col>net_lgt_500w</th><th scope=col>net_dd_bd</th><th scope=col>net_dd_sqm</th><th scope=col>net_dd_carea</th><th scope=col>net_dd_de</th><th scope=col>net_dd_int</th><th scope=col>net_dd_length</th></tr></thead>\n",
              "<tbody>\n",
              "\t<tr><th scope=row>788</th><td>-0.3611452 </td><td>0.5970866  </td><td>0.9162597  </td><td> 0.06971974</td><td> 0.6950789 </td><td>1.0692591  </td><td>-0.232942  </td><td>0.8270909  </td><td>1.173743   </td><td>-0.1123754 </td><td>...        </td><td> 0.06890795</td><td> 1.5634415 </td><td>1.1990060  </td><td>0.6392873  </td><td>1.04897843 </td><td>2.281749   </td><td> 0.09933664</td><td>-0.00203771</td><td>1.0249565  </td><td>0.7649096  </td></tr>\n",
              "\t<tr><th scope=row>789</th><td> 0.5252631 </td><td>0.7152515  </td><td>1.1653903  </td><td>-0.27189609</td><td> 0.5196382 </td><td>0.9418066  </td><td> 0.905206  </td><td>1.0088283  </td><td>1.479263   </td><td> 0.6321583 </td><td>...        </td><td>-0.01943492</td><td> 0.2868738 </td><td>1.3154685  </td><td>0.6204981  </td><td>1.12297220 </td><td>2.451903   </td><td> 0.21322266</td><td> 0.09274786</td><td>1.2894133  </td><td>0.9624794  </td></tr>\n",
              "\t<tr><th scope=row>790</th><td> 1.5794821 </td><td>1.8287001  </td><td>2.3116050  </td><td>-0.84125579</td><td>-0.3185787 </td><td>0.2875502  </td><td> 2.292618  </td><td>2.3931000  </td><td>3.202713   </td><td>-0.1123754 </td><td>...        </td><td> 0.99650804</td><td>-1.0467653 </td><td>0.7826532  </td><td>1.6953733  </td><td>1.71492234 </td><td>3.927684   </td><td> 0.97560970</td><td> 0.32971179</td><td>2.4165030  </td><td>2.0438775  </td></tr>\n",
              "\t<tr><th scope=row>791</th><td> 1.0014322 </td><td>1.3637326  </td><td>1.7210533  </td><td> 0.75295139</td><td> 0.6560921 </td><td>0.6699078  </td><td> 1.247361  </td><td>1.9084222  </td><td>2.164713   </td><td>-0.8569092 </td><td>...        </td><td> 0.73147945</td><td> 1.5170821 </td><td>0.8827250  </td><td>1.1911308  </td><td>0.29259769 </td><td>2.429637   </td><td>-0.22974021</td><td>-0.40487639</td><td>0.8864315  </td><td>0.4498319  </td></tr>\n",
              "\t<tr><th scope=row>792</th><td> 0.1342108 </td><td>1.2244210  </td><td>1.5794480  </td><td>-0.04415220</td><td> 0.6560921 </td><td>0.8568382  </td><td> 0.218028  </td><td>1.6912963  </td><td>1.943181   </td><td>-0.8569092 </td><td>...        </td><td> 0.64313658</td><td> 0.9628203 </td><td>1.0151646  </td><td>1.0725034  </td><td>0.05417333 </td><td>2.227067   </td><td>-0.45501720</td><td>-0.68923311</td><td>0.5967883  </td><td>0.1764969  </td></tr>\n",
              "\t<tr><th scope=row>793</th><td> 1.5452404 </td><td>1.2400252  </td><td>1.4841684  </td><td> 0.18359168</td><td> 0.2662238 </td><td>0.6019331  </td><td> 1.723557  </td><td>1.6186320  </td><td>1.985600   </td><td>-0.8569092 </td><td>...        </td><td> 1.57073667</td><td> 1.0297851 </td><td>1.0294289  </td><td>1.4736501  </td><td>0.45154727 </td><td>2.530793   </td><td>-0.13653709</td><td>-0.31009082</td><td>1.2075576  </td><td>0.6625220  </td></tr>\n",
              "</tbody>\n",
              "</table>\n"
            ],
            "text/latex": [
              "\\begin{tabular}{r|llllllllllllllllllllllllllllllllllllllllll}\n",
              "  & de\\_ar\\_100r & de\\_ar\\_300r & de\\_ar\\_500r & de\\_bd\\_100r & de\\_bd\\_300r & de\\_bd\\_500r & de\\_sq\\_100r & de\\_sq\\_300r & de\\_sq\\_500r & net\\_de\\_100r & ... & net\\_int\\_500w & net\\_lgt\\_100w & net\\_lgt\\_300w & net\\_lgt\\_500w & net\\_dd\\_bd & net\\_dd\\_sqm & net\\_dd\\_carea & net\\_dd\\_de & net\\_dd\\_int & net\\_dd\\_length\\\\\n",
              "\\hline\n",
              "\t788 & -0.3611452  & 0.5970866   & 0.9162597   &  0.06971974 &  0.6950789  & 1.0692591   & -0.232942   & 0.8270909   & 1.173743    & -0.1123754  & ...         &  0.06890795 &  1.5634415  & 1.1990060   & 0.6392873   & 1.04897843  & 2.281749    &  0.09933664 & -0.00203771 & 1.0249565   & 0.7649096  \\\\\n",
              "\t789 &  0.5252631  & 0.7152515   & 1.1653903   & -0.27189609 &  0.5196382  & 0.9418066   &  0.905206   & 1.0088283   & 1.479263    &  0.6321583  & ...         & -0.01943492 &  0.2868738  & 1.3154685   & 0.6204981   & 1.12297220  & 2.451903    &  0.21322266 &  0.09274786 & 1.2894133   & 0.9624794  \\\\\n",
              "\t790 &  1.5794821  & 1.8287001   & 2.3116050   & -0.84125579 & -0.3185787  & 0.2875502   &  2.292618   & 2.3931000   & 3.202713    & -0.1123754  & ...         &  0.99650804 & -1.0467653  & 0.7826532   & 1.6953733   & 1.71492234  & 3.927684    &  0.97560970 &  0.32971179 & 2.4165030   & 2.0438775  \\\\\n",
              "\t791 &  1.0014322  & 1.3637326   & 1.7210533   &  0.75295139 &  0.6560921  & 0.6699078   &  1.247361   & 1.9084222   & 2.164713    & -0.8569092  & ...         &  0.73147945 &  1.5170821  & 0.8827250   & 1.1911308   & 0.29259769  & 2.429637    & -0.22974021 & -0.40487639 & 0.8864315   & 0.4498319  \\\\\n",
              "\t792 &  0.1342108  & 1.2244210   & 1.5794480   & -0.04415220 &  0.6560921  & 0.8568382   &  0.218028   & 1.6912963   & 1.943181    & -0.8569092  & ...         &  0.64313658 &  0.9628203  & 1.0151646   & 1.0725034   & 0.05417333  & 2.227067    & -0.45501720 & -0.68923311 & 0.5967883   & 0.1764969  \\\\\n",
              "\t793 &  1.5452404  & 1.2400252   & 1.4841684   &  0.18359168 &  0.2662238  & 0.6019331   &  1.723557   & 1.6186320   & 1.985600    & -0.8569092  & ...         &  1.57073667 &  1.0297851  & 1.0294289   & 1.4736501   & 0.45154727  & 2.530793    & -0.13653709 & -0.31009082 & 1.2075576   & 0.6625220  \\\\\n",
              "\\end{tabular}\n"
            ],
            "text/markdown": [
              "\n",
              "| <!--/--> | de_ar_100r | de_ar_300r | de_ar_500r | de_bd_100r | de_bd_300r | de_bd_500r | de_sq_100r | de_sq_300r | de_sq_500r | net_de_100r | ... | net_int_500w | net_lgt_100w | net_lgt_300w | net_lgt_500w | net_dd_bd | net_dd_sqm | net_dd_carea | net_dd_de | net_dd_int | net_dd_length | \n",
              "|---|---|---|---|---|---|\n",
              "| 788 | -0.3611452  | 0.5970866   | 0.9162597   |  0.06971974 |  0.6950789  | 1.0692591   | -0.232942   | 0.8270909   | 1.173743    | -0.1123754  | ...         |  0.06890795 |  1.5634415  | 1.1990060   | 0.6392873   | 1.04897843  | 2.281749    |  0.09933664 | -0.00203771 | 1.0249565   | 0.7649096   | \n",
              "| 789 |  0.5252631  | 0.7152515   | 1.1653903   | -0.27189609 |  0.5196382  | 0.9418066   |  0.905206   | 1.0088283   | 1.479263    |  0.6321583  | ...         | -0.01943492 |  0.2868738  | 1.3154685   | 0.6204981   | 1.12297220  | 2.451903    |  0.21322266 |  0.09274786 | 1.2894133   | 0.9624794   | \n",
              "| 790 |  1.5794821  | 1.8287001   | 2.3116050   | -0.84125579 | -0.3185787  | 0.2875502   |  2.292618   | 2.3931000   | 3.202713    | -0.1123754  | ...         |  0.99650804 | -1.0467653  | 0.7826532   | 1.6953733   | 1.71492234  | 3.927684    |  0.97560970 |  0.32971179 | 2.4165030   | 2.0438775   | \n",
              "| 791 |  1.0014322  | 1.3637326   | 1.7210533   |  0.75295139 |  0.6560921  | 0.6699078   |  1.247361   | 1.9084222   | 2.164713    | -0.8569092  | ...         |  0.73147945 |  1.5170821  | 0.8827250   | 1.1911308   | 0.29259769  | 2.429637    | -0.22974021 | -0.40487639 | 0.8864315   | 0.4498319   | \n",
              "| 792 |  0.1342108  | 1.2244210   | 1.5794480   | -0.04415220 |  0.6560921  | 0.8568382   |  0.218028   | 1.6912963   | 1.943181    | -0.8569092  | ...         |  0.64313658 |  0.9628203  | 1.0151646   | 1.0725034   | 0.05417333  | 2.227067    | -0.45501720 | -0.68923311 | 0.5967883   | 0.1764969   | \n",
              "| 793 |  1.5452404  | 1.2400252   | 1.4841684   |  0.18359168 |  0.2662238  | 0.6019331   |  1.723557   | 1.6186320   | 1.985600    | -0.8569092  | ...         |  1.57073667 |  1.0297851  | 1.0294289   | 1.4736501   | 0.45154727  | 2.530793    | -0.13653709 | -0.31009082 | 1.2075576   | 0.6625220   | \n",
              "\n\n"
            ],
            "text/plain": [
              "    de_ar_100r de_ar_300r de_ar_500r de_bd_100r  de_bd_300r de_bd_500r\n",
              "788 -0.3611452 0.5970866  0.9162597   0.06971974  0.6950789 1.0692591 \n",
              "789  0.5252631 0.7152515  1.1653903  -0.27189609  0.5196382 0.9418066 \n",
              "790  1.5794821 1.8287001  2.3116050  -0.84125579 -0.3185787 0.2875502 \n",
              "791  1.0014322 1.3637326  1.7210533   0.75295139  0.6560921 0.6699078 \n",
              "792  0.1342108 1.2244210  1.5794480  -0.04415220  0.6560921 0.8568382 \n",
              "793  1.5452404 1.2400252  1.4841684   0.18359168  0.2662238 0.6019331 \n",
              "    de_sq_100r de_sq_300r de_sq_500r net_de_100r ... net_int_500w net_lgt_100w\n",
              "788 -0.232942  0.8270909  1.173743   -0.1123754  ...  0.06890795   1.5634415  \n",
              "789  0.905206  1.0088283  1.479263    0.6321583  ... -0.01943492   0.2868738  \n",
              "790  2.292618  2.3931000  3.202713   -0.1123754  ...  0.99650804  -1.0467653  \n",
              "791  1.247361  1.9084222  2.164713   -0.8569092  ...  0.73147945   1.5170821  \n",
              "792  0.218028  1.6912963  1.943181   -0.8569092  ...  0.64313658   0.9628203  \n",
              "793  1.723557  1.6186320  1.985600   -0.8569092  ...  1.57073667   1.0297851  \n",
              "    net_lgt_300w net_lgt_500w net_dd_bd  net_dd_sqm net_dd_carea net_dd_de  \n",
              "788 1.1990060    0.6392873    1.04897843 2.281749    0.09933664  -0.00203771\n",
              "789 1.3154685    0.6204981    1.12297220 2.451903    0.21322266   0.09274786\n",
              "790 0.7826532    1.6953733    1.71492234 3.927684    0.97560970   0.32971179\n",
              "791 0.8827250    1.1911308    0.29259769 2.429637   -0.22974021  -0.40487639\n",
              "792 1.0151646    1.0725034    0.05417333 2.227067   -0.45501720  -0.68923311\n",
              "793 1.0294289    1.4736501    0.45154727 2.530793   -0.13653709  -0.31009082\n",
              "    net_dd_int net_dd_length\n",
              "788 1.0249565  0.7649096    \n",
              "789 1.2894133  0.9624794    \n",
              "790 2.4165030  2.0438775    \n",
              "791 0.8864315  0.4498319    \n",
              "792 0.5967883  0.1764969    \n",
              "793 1.2075576  0.6625220    "
            ]
          },
          "metadata": {}
        }
      ],
      "execution_count": 64,
      "metadata": {}
    },
    {
      "cell_type": "code",
      "source": [
        "colnames(ne_morf_to_class@data[,c(3, 6, 9, 12, 15, 18, 21, 24, 27, 30, 33, 36)])"
      ],
      "outputs": [
        {
          "output_type": "display_data",
          "data": {
            "text/html": [
              "<ol class=list-inline>\n",
              "\t<li>'de_ar_500r'</li>\n",
              "\t<li>'de_bd_500r'</li>\n",
              "\t<li>'de_sq_500r'</li>\n",
              "\t<li>'net_de_500r'</li>\n",
              "\t<li>'net_int_500r'</li>\n",
              "\t<li>'net_lgt_500r'</li>\n",
              "\t<li>'de_ar_500w'</li>\n",
              "\t<li>'de_bd_500w'</li>\n",
              "\t<li>'de_sq_500w'</li>\n",
              "\t<li>'net_de_500w'</li>\n",
              "\t<li>'net_int_500w'</li>\n",
              "\t<li>'net_lgt_500w'</li>\n",
              "</ol>\n"
            ],
            "text/latex": [
              "\\begin{enumerate*}\n",
              "\\item 'de\\_ar\\_500r'\n",
              "\\item 'de\\_bd\\_500r'\n",
              "\\item 'de\\_sq\\_500r'\n",
              "\\item 'net\\_de\\_500r'\n",
              "\\item 'net\\_int\\_500r'\n",
              "\\item 'net\\_lgt\\_500r'\n",
              "\\item 'de\\_ar\\_500w'\n",
              "\\item 'de\\_bd\\_500w'\n",
              "\\item 'de\\_sq\\_500w'\n",
              "\\item 'net\\_de\\_500w'\n",
              "\\item 'net\\_int\\_500w'\n",
              "\\item 'net\\_lgt\\_500w'\n",
              "\\end{enumerate*}\n"
            ],
            "text/markdown": [
              "1. 'de_ar_500r'\n",
              "2. 'de_bd_500r'\n",
              "3. 'de_sq_500r'\n",
              "4. 'net_de_500r'\n",
              "5. 'net_int_500r'\n",
              "6. 'net_lgt_500r'\n",
              "7. 'de_ar_500w'\n",
              "8. 'de_bd_500w'\n",
              "9. 'de_sq_500w'\n",
              "10. 'net_de_500w'\n",
              "11. 'net_int_500w'\n",
              "12. 'net_lgt_500w'\n",
              "\n\n"
            ],
            "text/plain": [
              " [1] \"de_ar_500r\"   \"de_bd_500r\"   \"de_sq_500r\"   \"net_de_500r\"  \"net_int_500r\"\n",
              " [6] \"net_lgt_500r\" \"de_ar_500w\"   \"de_bd_500w\"   \"de_sq_500w\"   \"net_de_500w\" \n",
              "[11] \"net_int_500w\" \"net_lgt_500w\""
            ]
          },
          "metadata": {}
        }
      ],
      "execution_count": 114,
      "metadata": {}
    },
    {
      "cell_type": "markdown",
      "source": [
        "Testés : \n",
        "- que rayon c(1:18) 14 -> 0.66\n",
        "- que marche c(19:36) 11 -> 0.65\n",
        "- que drive c(37:42) 12 -> 0.85 !!!\n",
        "\n",
        "- rayon et walking c(1:36) 15 -> 0.59 \n",
        "- rayon et drive 14 -> 0.63\n",
        "- walking et drive 14 -> 0.63\n",
        "\n",
        "- 100m rayon et walk 14 -> 0.63\n",
        "- 300m rw 15 -> 0.7\n",
        "- 500 rw 13 c(3, 6, 9, 12, 15, 18, 21, 24, 27, 30, 33, 36) -> 0.73\n",
        "\n",
        "- 100 et 300 rw 15 -> 0.57\n",
        "- 300 et 500 rw 15 -> 0.7"
      ],
      "metadata": {}
    },
    {
      "cell_type": "code",
      "source": [
        "wss_clusters = seq(1, 20)\n",
        "for (i in 1:20) {\n",
        "    c = kmeans(ne_morf_to_class@data[, c(3, 6, 9, 12, 15, 18, 21, 24, 27, 30, 33, 36)], i, nstart=5, iter.max = 50)\n",
        "    wss_clusters[i] = c$betweenss / c$totss\n",
        "}"
      ],
      "outputs": [
        {
          "output_type": "stream",
          "name": "stderr",
          "text": [
            "Warning message:\n",
            "\"Quick-TRANSfer stage steps exceeded maximum (= 1081700)\"Warning message:\n",
            "\"Quick-TRANSfer stage steps exceeded maximum (= 1081700)\"Warning message:\n",
            "\"Quick-TRANSfer stage steps exceeded maximum (= 1081700)\"Warning message:\n",
            "\"Quick-TRANSfer stage steps exceeded maximum (= 1081700)\"Warning message:\n",
            "\"Quick-TRANSfer stage steps exceeded maximum (= 1081700)\""
          ]
        }
      ],
      "execution_count": 72,
      "metadata": {}
    },
    {
      "cell_type": "code",
      "source": [
        "plot(wss_clusters, type=\"o\")"
      ],
      "outputs": [
        {
          "output_type": "display_data",
          "data": {
            "image/png": "[encoded data removed]",
            "text/plain": [
              "plot without title"
            ]
          },
          "metadata": {}
        }
      ],
      "execution_count": 73,
      "metadata": {
        "scrolled": true
      }
    },
    {
      "cell_type": "code",
      "source": [
        "morf_kmeans <- kmeans(ne_morf_to_class@data[, c(37:42)], 12, nstart = 5, iter.max = 50)"
      ],
      "outputs": [],
      "execution_count": 67,
      "metadata": {}
    },
    {
      "cell_type": "code",
      "source": [
        "morf_kmeans <- kmeans(ne_morf_to_class@data[, c(3, 6, 9, 12, 15, 18, 21, 24, 27, 30, 33, 36) ], 13, nstart = 5, iter.max = 50)"
      ],
      "outputs": [],
      "execution_count": 74,
      "metadata": {}
    },
    {
      "cell_type": "code",
      "source": [
        "round(morf_kmeans$betweenss / morf_kmeans$totss, 2)"
      ],
      "outputs": [
        {
          "output_type": "display_data",
          "data": {
            "text/html": [
              "0.73"
            ],
            "text/latex": [
              "0.73"
            ],
            "text/markdown": [
              "0.73"
            ],
            "text/plain": [
              "[1] 0.73"
            ]
          },
          "metadata": {}
        }
      ],
      "execution_count": 75,
      "metadata": {}
    },
    {
      "cell_type": "code",
      "source": [
        "clusKME13 <- morf_kmeans$cluster\n",
        "ne_morf_to_class@data <- cbind(ne_morf_to_class@data, clusKME13)"
      ],
      "outputs": [],
      "execution_count": 77,
      "metadata": {}
    },
    {
      "cell_type": "code",
      "source": [
        "writeOGR(ne_morf, dsn = \"ne_morf.gpkg\", layer = 'dbscan', driver = \"GPKG\")\n",
        "writeOGR(ne_morf_to_class, dsn = \"ne_morf_kmeans_drive.gpkg\", layer = 'km12d', driver = \"GPKG\")"
      ],
      "outputs": [],
      "execution_count": 71,
      "metadata": {}
    },
    {
      "cell_type": "markdown",
      "source": [
        "Layer for the 500 rw"
      ],
      "metadata": {}
    },
    {
      "cell_type": "code",
      "source": [
        "writeOGR(ne_morf_to_class[, -44], dsn = \"ne_morf_kmeans_walk.gpkg\", layer = 'km13w', driver = \"GPKG\")"
      ],
      "outputs": [],
      "execution_count": 123,
      "metadata": {}
    },
    {
      "cell_type": "markdown",
      "source": [
        "### CCA King"
      ],
      "metadata": {}
    },
    {
      "cell_type": "code",
      "source": [
        "kNNdistplot(ne_ccak@data, k = 42)\n",
        "abline(h = 4, col = 'red', lty = 2)"
      ],
      "outputs": [
        {
          "output_type": "display_data",
          "data": {
            "image/png": "[encoded data removed]",
            "text/plain": [
              "plot without title"
            ]
          },
          "metadata": {}
        }
      ],
      "execution_count": 82,
      "metadata": {}
    },
    {
      "cell_type": "code",
      "source": [
        "res_ccak <- dbscan(ne_ccak@data, eps = 4, minPts = 43)\n",
        "res_ccak"
      ],
      "outputs": [
        {
          "output_type": "display_data",
          "data": {
            "text/plain": [
              "DBSCAN clustering for 13990 objects.\n",
              "Parameters: eps = 4, minPts = 43\n",
              "The clustering contains 1 cluster(s) and 1879 noise points.\n",
              "\n",
              "    0     1 \n",
              " 1879 12111 \n",
              "\nAvailable fields: cluster, eps, minPts"
            ]
          },
          "metadata": {}
        }
      ],
      "execution_count": 83,
      "metadata": {}
    },
    {
      "cell_type": "code",
      "source": [
        "clusDBSCAN <- res_ccak$cluster\n",
        "ne_ccak@data <- cbind(ne_ccak@data, clusDBSCAN)\n",
        "head(ne_ccak@data)"
      ],
      "outputs": [
        {
          "output_type": "display_data",
          "data": {
            "text/html": [
              "<table>\n",
              "<thead><tr><th></th><th scope=col>de_ar_100r</th><th scope=col>de_ar_300r</th><th scope=col>de_ar_500r</th><th scope=col>de_bd_100r</th><th scope=col>de_bd_300r</th><th scope=col>de_bd_500r</th><th scope=col>de_sq_100r</th><th scope=col>de_sq_300r</th><th scope=col>de_sq_500r</th><th scope=col>net_de_100r</th><th scope=col>...</th><th scope=col>net_lgt_100w</th><th scope=col>net_lgt_300w</th><th scope=col>net_lgt_500w</th><th scope=col>net_dd_bd</th><th scope=col>net_dd_sqm</th><th scope=col>net_dd_carea</th><th scope=col>net_dd_de</th><th scope=col>net_dd_int</th><th scope=col>net_dd_length</th><th scope=col>clusDBSCAN</th></tr></thead>\n",
              "<tbody>\n",
              "\t<tr><th scope=row>788</th><td>-0.59259952 </td><td>0.2288516   </td><td>0.4976855   </td><td>-0.19644116 </td><td> 0.39049469 </td><td> 0.7238499  </td><td>-0.427082497</td><td>0.4341080   </td><td>0.7163480   </td><td>-0.07672848 </td><td>...         </td><td> 1.4948942  </td><td>1.0278426   </td><td>0.4206073   </td><td> 0.71354979 </td><td>1.718659    </td><td> 0.14778872 </td><td>-0.05839536 </td><td>0.8274382   </td><td>0.63808642  </td><td>1           </td></tr>\n",
              "\t<tr><th scope=row>789</th><td> 0.33540306 </td><td>0.3440245   </td><td>0.7437076   </td><td>-0.56144183 </td><td> 0.19557786 </td><td> 0.5846525  </td><td> 0.667102200</td><td>0.5954101   </td><td>0.9902455   </td><td> 0.68891444 </td><td>...         </td><td> 0.2416362  </td><td>1.1430946   </td><td>0.4013566   </td><td> 0.78631305 </td><td>1.869069    </td><td> 0.26129624 </td><td> 0.03481336 </td><td>1.0887214   </td><td>0.82718485  </td><td>1           </td></tr>\n",
              "\t<tr><th scope=row>790</th><td> 1.43909079 </td><td>1.4292805   </td><td>1.8756206   </td><td>-1.16977630 </td><td>-0.73569146 </td><td>-0.1298944  </td><td> 2.000922539</td><td>1.8240290   </td><td>2.5353134   </td><td>-0.07672848 </td><td>...         </td><td>-1.0676510  </td><td>0.6158171   </td><td>1.5026327   </td><td> 1.36841913 </td><td>3.173605    </td><td> 1.02114956 </td><td> 0.26783516 </td><td>2.2022855   </td><td>1.86221484  </td><td>1           </td></tr>\n",
              "\t<tr><th scope=row>791</th><td> 0.83391621 </td><td>0.9760860   </td><td>1.2924374   </td><td> 0.53356020 </td><td> 0.34717984 </td><td> 0.2876979  </td><td> 0.996041030</td><td>1.3938503   </td><td>1.6047500   </td><td>-0.84237139 </td><td>...         </td><td> 1.4493813  </td><td>0.7148487   </td><td>0.9860051   </td><td>-0.03025243 </td><td>1.849386    </td><td>-0.18019447 </td><td>-0.45453243 </td><td>0.6905755   </td><td>0.33651858  </td><td>1           </td></tr>\n",
              "\t<tr><th scope=row>792</th><td>-0.07399917 </td><td>0.8403018   </td><td>1.1525990   </td><td>-0.31810805 </td><td> 0.34717984 </td><td> 0.4918542  </td><td> 0.006467832</td><td>1.2011388   </td><td>1.4061469   </td><td>-0.84237139 </td><td>...         </td><td> 0.9052402  </td><td>0.8459119   </td><td>0.8644640   </td><td>-0.26471183 </td><td>1.670322    </td><td>-0.40472277 </td><td>-0.73415859 </td><td>0.4044082   </td><td>0.07490365  </td><td>1           </td></tr>\n",
              "\t<tr><th scope=row>793</th><td> 1.40324237 </td><td>0.8555108   </td><td>1.0585082   </td><td>-0.07477426 </td><td>-0.08596868 </td><td> 0.2134593  </td><td> 1.453842308</td><td>1.1366451   </td><td>1.4441754   </td><td>-0.84237139 </td><td>...         </td><td> 0.9709822  </td><td>0.8600280   </td><td>1.2754636   </td><td> 0.12605383 </td><td>1.938805    </td><td>-0.08730111 </td><td>-0.36132371 </td><td>1.0078480   </td><td>0.54008905  </td><td>1           </td></tr>\n",
              "</tbody>\n",
              "</table>\n"
            ],
            "text/latex": [
              "\\begin{tabular}{r|lllllllllllllllllllllllllllllllllllllllllll}\n",
              "  & de\\_ar\\_100r & de\\_ar\\_300r & de\\_ar\\_500r & de\\_bd\\_100r & de\\_bd\\_300r & de\\_bd\\_500r & de\\_sq\\_100r & de\\_sq\\_300r & de\\_sq\\_500r & net\\_de\\_100r & ... & net\\_lgt\\_100w & net\\_lgt\\_300w & net\\_lgt\\_500w & net\\_dd\\_bd & net\\_dd\\_sqm & net\\_dd\\_carea & net\\_dd\\_de & net\\_dd\\_int & net\\_dd\\_length & clusDBSCAN\\\\\n",
              "\\hline\n",
              "\t788 & -0.59259952  & 0.2288516    & 0.4976855    & -0.19644116  &  0.39049469  &  0.7238499   & -0.427082497 & 0.4341080    & 0.7163480    & -0.07672848  & ...          &  1.4948942   & 1.0278426    & 0.4206073    &  0.71354979  & 1.718659     &  0.14778872  & -0.05839536  & 0.8274382    & 0.63808642   & 1           \\\\\n",
              "\t789 &  0.33540306  & 0.3440245    & 0.7437076    & -0.56144183  &  0.19557786  &  0.5846525   &  0.667102200 & 0.5954101    & 0.9902455    &  0.68891444  & ...          &  0.2416362   & 1.1430946    & 0.4013566    &  0.78631305  & 1.869069     &  0.26129624  &  0.03481336  & 1.0887214    & 0.82718485   & 1           \\\\\n",
              "\t790 &  1.43909079  & 1.4292805    & 1.8756206    & -1.16977630  & -0.73569146  & -0.1298944   &  2.000922539 & 1.8240290    & 2.5353134    & -0.07672848  & ...          & -1.0676510   & 0.6158171    & 1.5026327    &  1.36841913  & 3.173605     &  1.02114956  &  0.26783516  & 2.2022855    & 1.86221484   & 1           \\\\\n",
              "\t791 &  0.83391621  & 0.9760860    & 1.2924374    &  0.53356020  &  0.34717984  &  0.2876979   &  0.996041030 & 1.3938503    & 1.6047500    & -0.84237139  & ...          &  1.4493813   & 0.7148487    & 0.9860051    & -0.03025243  & 1.849386     & -0.18019447  & -0.45453243  & 0.6905755    & 0.33651858   & 1           \\\\\n",
              "\t792 & -0.07399917  & 0.8403018    & 1.1525990    & -0.31810805  &  0.34717984  &  0.4918542   &  0.006467832 & 1.2011388    & 1.4061469    & -0.84237139  & ...          &  0.9052402   & 0.8459119    & 0.8644640    & -0.26471183  & 1.670322     & -0.40472277  & -0.73415859  & 0.4044082    & 0.07490365   & 1           \\\\\n",
              "\t793 &  1.40324237  & 0.8555108    & 1.0585082    & -0.07477426  & -0.08596868  &  0.2134593   &  1.453842308 & 1.1366451    & 1.4441754    & -0.84237139  & ...          &  0.9709822   & 0.8600280    & 1.2754636    &  0.12605383  & 1.938805     & -0.08730111  & -0.36132371  & 1.0078480    & 0.54008905   & 1           \\\\\n",
              "\\end{tabular}\n"
            ],
            "text/markdown": [
              "\n",
              "| <!--/--> | de_ar_100r | de_ar_300r | de_ar_500r | de_bd_100r | de_bd_300r | de_bd_500r | de_sq_100r | de_sq_300r | de_sq_500r | net_de_100r | ... | net_lgt_100w | net_lgt_300w | net_lgt_500w | net_dd_bd | net_dd_sqm | net_dd_carea | net_dd_de | net_dd_int | net_dd_length | clusDBSCAN | \n",
              "|---|---|---|---|---|---|\n",
              "| 788 | -0.59259952  | 0.2288516    | 0.4976855    | -0.19644116  |  0.39049469  |  0.7238499   | -0.427082497 | 0.4341080    | 0.7163480    | -0.07672848  | ...          |  1.4948942   | 1.0278426    | 0.4206073    |  0.71354979  | 1.718659     |  0.14778872  | -0.05839536  | 0.8274382    | 0.63808642   | 1            | \n",
              "| 789 |  0.33540306  | 0.3440245    | 0.7437076    | -0.56144183  |  0.19557786  |  0.5846525   |  0.667102200 | 0.5954101    | 0.9902455    |  0.68891444  | ...          |  0.2416362   | 1.1430946    | 0.4013566    |  0.78631305  | 1.869069     |  0.26129624  |  0.03481336  | 1.0887214    | 0.82718485   | 1            | \n",
              "| 790 |  1.43909079  | 1.4292805    | 1.8756206    | -1.16977630  | -0.73569146  | -0.1298944   |  2.000922539 | 1.8240290    | 2.5353134    | -0.07672848  | ...          | -1.0676510   | 0.6158171    | 1.5026327    |  1.36841913  | 3.173605     |  1.02114956  |  0.26783516  | 2.2022855    | 1.86221484   | 1            | \n",
              "| 791 |  0.83391621  | 0.9760860    | 1.2924374    |  0.53356020  |  0.34717984  |  0.2876979   |  0.996041030 | 1.3938503    | 1.6047500    | -0.84237139  | ...          |  1.4493813   | 0.7148487    | 0.9860051    | -0.03025243  | 1.849386     | -0.18019447  | -0.45453243  | 0.6905755    | 0.33651858   | 1            | \n",
              "| 792 | -0.07399917  | 0.8403018    | 1.1525990    | -0.31810805  |  0.34717984  |  0.4918542   |  0.006467832 | 1.2011388    | 1.4061469    | -0.84237139  | ...          |  0.9052402   | 0.8459119    | 0.8644640    | -0.26471183  | 1.670322     | -0.40472277  | -0.73415859  | 0.4044082    | 0.07490365   | 1            | \n",
              "| 793 |  1.40324237  | 0.8555108    | 1.0585082    | -0.07477426  | -0.08596868  |  0.2134593   |  1.453842308 | 1.1366451    | 1.4441754    | -0.84237139  | ...          |  0.9709822   | 0.8600280    | 1.2754636    |  0.12605383  | 1.938805     | -0.08730111  | -0.36132371  | 1.0078480    | 0.54008905   | 1            | \n",
              "\n\n"
            ],
            "text/plain": [
              "    de_ar_100r  de_ar_300r de_ar_500r de_bd_100r  de_bd_300r  de_bd_500r\n",
              "788 -0.59259952 0.2288516  0.4976855  -0.19644116  0.39049469  0.7238499\n",
              "789  0.33540306 0.3440245  0.7437076  -0.56144183  0.19557786  0.5846525\n",
              "790  1.43909079 1.4292805  1.8756206  -1.16977630 -0.73569146 -0.1298944\n",
              "791  0.83391621 0.9760860  1.2924374   0.53356020  0.34717984  0.2876979\n",
              "792 -0.07399917 0.8403018  1.1525990  -0.31810805  0.34717984  0.4918542\n",
              "793  1.40324237 0.8555108  1.0585082  -0.07477426 -0.08596868  0.2134593\n",
              "    de_sq_100r   de_sq_300r de_sq_500r net_de_100r ... net_lgt_100w\n",
              "788 -0.427082497 0.4341080  0.7163480  -0.07672848 ...  1.4948942  \n",
              "789  0.667102200 0.5954101  0.9902455   0.68891444 ...  0.2416362  \n",
              "790  2.000922539 1.8240290  2.5353134  -0.07672848 ... -1.0676510  \n",
              "791  0.996041030 1.3938503  1.6047500  -0.84237139 ...  1.4493813  \n",
              "792  0.006467832 1.2011388  1.4061469  -0.84237139 ...  0.9052402  \n",
              "793  1.453842308 1.1366451  1.4441754  -0.84237139 ...  0.9709822  \n",
              "    net_lgt_300w net_lgt_500w net_dd_bd   net_dd_sqm net_dd_carea net_dd_de  \n",
              "788 1.0278426    0.4206073     0.71354979 1.718659    0.14778872  -0.05839536\n",
              "789 1.1430946    0.4013566     0.78631305 1.869069    0.26129624   0.03481336\n",
              "790 0.6158171    1.5026327     1.36841913 3.173605    1.02114956   0.26783516\n",
              "791 0.7148487    0.9860051    -0.03025243 1.849386   -0.18019447  -0.45453243\n",
              "792 0.8459119    0.8644640    -0.26471183 1.670322   -0.40472277  -0.73415859\n",
              "793 0.8600280    1.2754636     0.12605383 1.938805   -0.08730111  -0.36132371\n",
              "    net_dd_int net_dd_length clusDBSCAN\n",
              "788 0.8274382  0.63808642    1         \n",
              "789 1.0887214  0.82718485    1         \n",
              "790 2.2022855  1.86221484    1         \n",
              "791 0.6905755  0.33651858    1         \n",
              "792 0.4044082  0.07490365    1         \n",
              "793 1.0078480  0.54008905    1         "
            ]
          },
          "metadata": {}
        }
      ],
      "execution_count": 84,
      "metadata": {
        "scrolled": true
      }
    },
    {
      "cell_type": "code",
      "source": [
        "sel <- ne_ccak@data$clusDBSCAN == 1\n",
        "ne_ccak_to_class <- ne_ccak[sel,]"
      ],
      "outputs": [],
      "execution_count": 85,
      "metadata": {}
    },
    {
      "cell_type": "code",
      "source": [
        "head(ne_ccak_to_class@data[, -43])"
      ],
      "outputs": [],
      "execution_count": null,
      "metadata": {}
    },
    {
      "cell_type": "code",
      "source": [
        "colnames(ne_ccak_to_class@data[,c(1, 4, 7, 10, 13, 16, 19, 22, 25, 28, 31, 34, 37)])"
      ],
      "outputs": [
        {
          "output_type": "display_data",
          "data": {
            "text/html": [
              "<ol class=list-inline>\n",
              "\t<li>'de_ar_100r'</li>\n",
              "\t<li>'de_bd_100r'</li>\n",
              "\t<li>'de_sq_100r'</li>\n",
              "\t<li>'net_de_100r'</li>\n",
              "\t<li>'net_int_100r'</li>\n",
              "\t<li>'net_lgt_100r'</li>\n",
              "\t<li>'de_ar_100w'</li>\n",
              "\t<li>'de_bd_100w'</li>\n",
              "\t<li>'de_sq_100w'</li>\n",
              "\t<li>'net_de_100w'</li>\n",
              "\t<li>'net_int_100w'</li>\n",
              "\t<li>'net_lgt_100w'</li>\n",
              "\t<li>'net_dd_bd'</li>\n",
              "</ol>\n"
            ],
            "text/latex": [
              "\\begin{enumerate*}\n",
              "\\item 'de\\_ar\\_100r'\n",
              "\\item 'de\\_bd\\_100r'\n",
              "\\item 'de\\_sq\\_100r'\n",
              "\\item 'net\\_de\\_100r'\n",
              "\\item 'net\\_int\\_100r'\n",
              "\\item 'net\\_lgt\\_100r'\n",
              "\\item 'de\\_ar\\_100w'\n",
              "\\item 'de\\_bd\\_100w'\n",
              "\\item 'de\\_sq\\_100w'\n",
              "\\item 'net\\_de\\_100w'\n",
              "\\item 'net\\_int\\_100w'\n",
              "\\item 'net\\_lgt\\_100w'\n",
              "\\item 'net\\_dd\\_bd'\n",
              "\\end{enumerate*}\n"
            ],
            "text/markdown": [
              "1. 'de_ar_100r'\n",
              "2. 'de_bd_100r'\n",
              "3. 'de_sq_100r'\n",
              "4. 'net_de_100r'\n",
              "5. 'net_int_100r'\n",
              "6. 'net_lgt_100r'\n",
              "7. 'de_ar_100w'\n",
              "8. 'de_bd_100w'\n",
              "9. 'de_sq_100w'\n",
              "10. 'net_de_100w'\n",
              "11. 'net_int_100w'\n",
              "12. 'net_lgt_100w'\n",
              "13. 'net_dd_bd'\n",
              "\n\n"
            ],
            "text/plain": [
              " [1] \"de_ar_100r\"   \"de_bd_100r\"   \"de_sq_100r\"   \"net_de_100r\"  \"net_int_100r\"\n",
              " [6] \"net_lgt_100r\" \"de_ar_100w\"   \"de_bd_100w\"   \"de_sq_100w\"   \"net_de_100w\" \n",
              "[11] \"net_int_100w\" \"net_lgt_100w\" \"net_dd_bd\"   "
            ]
          },
          "metadata": {}
        }
      ],
      "execution_count": 100,
      "metadata": {}
    },
    {
      "cell_type": "markdown",
      "source": [
        "Testés: \n",
        "- que rayon c(1:18) 14 -> 0.66\n",
        "- que marche c(19:36) 11 -> 0.65\n",
        "- que drive c(37:42) 12 -> 0.87 !!!\n",
        "\n",
        "- rayon et walking c(1:36) 15 -> 0.59 \n",
        "- rayon et drive 14 -> 0.63\n",
        "- walking et drive 14 -> 0.63\n",
        "\n",
        "- 100m rayon et walk 14 -> 0.63\n",
        "- 300m rw 15 -> 0.7\n",
        "- 500 rw 14 c(3, 6, 9, 12, 15, 18, 21, 24, 27, 30, 33, 36) -> 0.71\n",
        "\n",
        "- 100 et 300 rw 15 -> 0.57\n",
        "- 300 et 500 rw 15 -> 0.7"
      ],
      "metadata": {}
    },
    {
      "cell_type": "code",
      "source": [
        "wss_clusters = seq(1, 20)\n",
        "for (i in 1:20) {\n",
        "    c = kmeans(ne_ccak_to_class@data[,  c(3, 6, 9, 12, 15, 18, 21, 24, 27, 30, 33, 36) ], i, nstart=5, iter.max = 50)\n",
        "    wss_clusters[i] = c$betweenss / c$totss\n",
        "}"
      ],
      "outputs": [],
      "execution_count": 103,
      "metadata": {}
    },
    {
      "cell_type": "code",
      "source": [
        "plot(wss_clusters, type=\"o\")"
      ],
      "outputs": [
        {
          "output_type": "display_data",
          "data": {
            "image/png": "[encoded data removed]",
            "text/plain": [
              "plot without title"
            ]
          },
          "metadata": {}
        }
      ],
      "execution_count": 104,
      "metadata": {
        "scrolled": true
      }
    },
    {
      "cell_type": "code",
      "source": [
        "ccak_kmeans <- kmeans(ne_ccak_to_class@data[, c(37:42)], 12, nstart = 5, iter.max = 50)"
      ],
      "outputs": [],
      "execution_count": 88,
      "metadata": {}
    },
    {
      "cell_type": "code",
      "source": [
        "ccak_kmeans <- kmeans(ne_ccak_to_class@data[, c(3, 6, 9, 12, 15, 18, 21, 24, 27, 30, 33, 36) ], 14, nstart = 5, iter.max = 50)"
      ],
      "outputs": [],
      "execution_count": 105,
      "metadata": {}
    },
    {
      "cell_type": "code",
      "source": [
        "round(ccak_kmeans$betweenss / ccak_kmeans$totss, 2)"
      ],
      "outputs": [
        {
          "output_type": "display_data",
          "data": {
            "text/html": [
              "0.71"
            ],
            "text/latex": [
              "0.71"
            ],
            "text/markdown": [
              "0.71"
            ],
            "text/plain": [
              "[1] 0.71"
            ]
          },
          "metadata": {}
        }
      ],
      "execution_count": 106,
      "metadata": {}
    },
    {
      "cell_type": "code",
      "source": [
        "clusKME14 <- ccak_kmeans$cluster\n",
        "ne_ccak_to_class@data <- cbind(ne_ccak_to_class@data, clusKME14)"
      ],
      "outputs": [],
      "execution_count": 107,
      "metadata": {}
    },
    {
      "cell_type": "code",
      "source": [
        "writeOGR(ne_ccak, dsn = \"ne_ccak.gpkg\", layer = 'dbscan', driver = \"GPKG\")\n",
        "writeOGR(ne_ccak_to_class, dsn = \"ne_ccak_kmeans_drive.gpkg\", layer = 'km12d', driver = \"GPKG\")"
      ],
      "outputs": [],
      "execution_count": 91,
      "metadata": {}
    },
    {
      "cell_type": "markdown",
      "source": [
        "Layer for the 500 rw"
      ],
      "metadata": {}
    },
    {
      "cell_type": "code",
      "source": [
        "writeOGR(ne_ccak_to_class[, -44], dsn = \"ne_ccak_kmeans_walk.gpkg\", layer = 'km14w', driver = \"GPKG\")"
      ],
      "outputs": [],
      "execution_count": 122,
      "metadata": {}
    },
    {
      "cell_type": "markdown",
      "source": [
        "### CCA Lenient"
      ],
      "metadata": {}
    },
    {
      "cell_type": "code",
      "source": [
        "kNNdistplot(ne_ccal@data, k = 42)\n",
        "abline(h = 4, col = 'red', lty = 2)"
      ],
      "outputs": [
        {
          "output_type": "display_data",
          "data": {
            "image/png": "[encoded data removed]",
            "text/plain": [
              "plot without title"
            ]
          },
          "metadata": {}
        }
      ],
      "execution_count": 109,
      "metadata": {}
    },
    {
      "cell_type": "code",
      "source": [
        "res_ccal <- dbscan(ne_ccal@data, eps = 4, minPts = 43)\n",
        "res_ccal"
      ],
      "outputs": [
        {
          "output_type": "display_data",
          "data": {
            "text/plain": [
              "DBSCAN clustering for 18538 objects.\n",
              "Parameters: eps = 4, minPts = 43\n",
              "The clustering contains 1 cluster(s) and 2236 noise points.\n",
              "\n",
              "    0     1 \n",
              " 2236 16302 \n",
              "\nAvailable fields: cluster, eps, minPts"
            ]
          },
          "metadata": {}
        }
      ],
      "execution_count": 118,
      "metadata": {}
    },
    {
      "cell_type": "code",
      "source": [
        "clusDBSCAN <- res_ccal$cluster\n",
        "ne_ccal@data <- cbind(ne_ccal@data, clusDBSCAN)\n",
        "head(ne_ccal@data)"
      ],
      "outputs": [
        {
          "output_type": "display_data",
          "data": {
            "text/html": [
              "<table>\n",
              "<thead><tr><th></th><th scope=col>de_ar_100r</th><th scope=col>de_ar_300r</th><th scope=col>de_ar_500r</th><th scope=col>de_bd_100r</th><th scope=col>de_bd_300r</th><th scope=col>de_bd_500r</th><th scope=col>de_sq_100r</th><th scope=col>de_sq_300r</th><th scope=col>de_sq_500r</th><th scope=col>net_de_100r</th><th scope=col>...</th><th scope=col>net_lgt_100w</th><th scope=col>net_lgt_300w</th><th scope=col>net_lgt_500w</th><th scope=col>net_dd_bd</th><th scope=col>net_dd_sqm</th><th scope=col>net_dd_carea</th><th scope=col>net_dd_de</th><th scope=col>net_dd_int</th><th scope=col>net_dd_length</th><th scope=col>clusDBSCAN</th></tr></thead>\n",
              "<tbody>\n",
              "\t<tr><th scope=row>788</th><td>-0.52408949 </td><td>0.4032518   </td><td>0.7065708   </td><td>-0.14595665 </td><td> 0.50226532 </td><td>0.89036685  </td><td>-0.3397219  </td><td>0.6349808   </td><td>0.9521575   </td><td>-0.1389494  </td><td>...         </td><td> 1.4741189  </td><td>1.0618082   </td><td>0.4812733   </td><td> 0.8839699  </td><td>2.017694    </td><td> 0.07171638 </td><td>-0.089699718</td><td>0.8894028   </td><td>0.66279645  </td><td>1           </td></tr>\n",
              "\t<tr><th scope=row>789</th><td> 0.44288968 </td><td>0.5222520   </td><td>0.9573342   </td><td>-0.50119660 </td><td> 0.31772191 </td><td>0.75704893  </td><td> 0.8218300  </td><td>0.8080774   </td><td>1.2433572   </td><td> 0.5959561  </td><td>...         </td><td> 0.2227538  </td><td>1.1768558   </td><td>0.4624355   </td><td> 0.9590183  </td><td>2.179834    </td><td> 0.18623660 </td><td> 0.005896785</td><td>1.1574124   </td><td>0.85850795  </td><td>1           </td></tr>\n",
              "\t<tr><th scope=row>790</th><td> 1.59293286 </td><td>1.6435715   </td><td>2.1110607   </td><td>-1.09326318 </td><td>-0.56398553 </td><td>0.07268361  </td><td> 2.2377715  </td><td>2.1265333   </td><td>2.8860275   </td><td>-0.1389494  </td><td>...         </td><td>-1.0845560  </td><td>0.6505132   </td><td>1.5400884   </td><td> 1.5594059  </td><td>3.586116    </td><td> 0.95286916 </td><td> 0.244888042</td><td>2.2996435   </td><td>1.92973459  </td><td>1           </td></tr>\n",
              "\t<tr><th scope=row>791</th><td> 0.96234063 </td><td>1.1753172   </td><td>1.5166388   </td><td> 0.56452326 </td><td> 0.46125568 </td><td>0.47263737  </td><td> 1.1710210  </td><td>1.6648997   </td><td>1.8966802   </td><td>-0.8738549  </td><td>...         </td><td> 1.4286748  </td><td>0.7493693   </td><td>1.0345429   </td><td> 0.1168080  </td><td>2.158617    </td><td>-0.25919300 </td><td>-0.495984854</td><td>0.7490169   </td><td>0.35068230  </td><td>1           </td></tr>\n",
              "\t<tr><th scope=row>792</th><td> 0.01629234 </td><td>1.0350208   </td><td>1.3741054   </td><td>-0.26436996 </td><td> 0.46125568 </td><td>0.66817032  </td><td> 0.1205214  </td><td>1.4580971   </td><td>1.6855312   </td><td>-0.8738549  </td><td>...         </td><td> 0.8853555  </td><td>0.8802001   </td><td>0.9156089   </td><td>-0.1250148  </td><td>1.965587    </td><td>-0.48572450 </td><td>-0.782774363</td><td>0.4554826   </td><td>0.07991828  </td><td>1           </td></tr>\n",
              "\t<tr><th scope=row>793</th><td> 1.55557879 </td><td>1.0507353   </td><td>1.2782014   </td><td>-0.02754333 </td><td> 0.05115919 </td><td>0.40153448  </td><td> 1.6570084  </td><td>1.3888877   </td><td>1.7259620   </td><td>-0.8738549  </td><td>...         </td><td> 0.9509982  </td><td>0.8942911   </td><td>1.3177923   </td><td> 0.2780232  </td><td>2.255009    </td><td>-0.16547087 </td><td>-0.400388352</td><td>1.0744570   </td><td>0.56137195  </td><td>1           </td></tr>\n",
              "</tbody>\n",
              "</table>\n"
            ],
            "text/latex": [
              "\\begin{tabular}{r|lllllllllllllllllllllllllllllllllllllllllll}\n",
              "  & de\\_ar\\_100r & de\\_ar\\_300r & de\\_ar\\_500r & de\\_bd\\_100r & de\\_bd\\_300r & de\\_bd\\_500r & de\\_sq\\_100r & de\\_sq\\_300r & de\\_sq\\_500r & net\\_de\\_100r & ... & net\\_lgt\\_100w & net\\_lgt\\_300w & net\\_lgt\\_500w & net\\_dd\\_bd & net\\_dd\\_sqm & net\\_dd\\_carea & net\\_dd\\_de & net\\_dd\\_int & net\\_dd\\_length & clusDBSCAN\\\\\n",
              "\\hline\n",
              "\t788 & -0.52408949  & 0.4032518    & 0.7065708    & -0.14595665  &  0.50226532  & 0.89036685   & -0.3397219   & 0.6349808    & 0.9521575    & -0.1389494   & ...          &  1.4741189   & 1.0618082    & 0.4812733    &  0.8839699   & 2.017694     &  0.07171638  & -0.089699718 & 0.8894028    & 0.66279645   & 1           \\\\\n",
              "\t789 &  0.44288968  & 0.5222520    & 0.9573342    & -0.50119660  &  0.31772191  & 0.75704893   &  0.8218300   & 0.8080774    & 1.2433572    &  0.5959561   & ...          &  0.2227538   & 1.1768558    & 0.4624355    &  0.9590183   & 2.179834     &  0.18623660  &  0.005896785 & 1.1574124    & 0.85850795   & 1           \\\\\n",
              "\t790 &  1.59293286  & 1.6435715    & 2.1110607    & -1.09326318  & -0.56398553  & 0.07268361   &  2.2377715   & 2.1265333    & 2.8860275    & -0.1389494   & ...          & -1.0845560   & 0.6505132    & 1.5400884    &  1.5594059   & 3.586116     &  0.95286916  &  0.244888042 & 2.2996435    & 1.92973459   & 1           \\\\\n",
              "\t791 &  0.96234063  & 1.1753172    & 1.5166388    &  0.56452326  &  0.46125568  & 0.47263737   &  1.1710210   & 1.6648997    & 1.8966802    & -0.8738549   & ...          &  1.4286748   & 0.7493693    & 1.0345429    &  0.1168080   & 2.158617     & -0.25919300  & -0.495984854 & 0.7490169    & 0.35068230   & 1           \\\\\n",
              "\t792 &  0.01629234  & 1.0350208    & 1.3741054    & -0.26436996  &  0.46125568  & 0.66817032   &  0.1205214   & 1.4580971    & 1.6855312    & -0.8738549   & ...          &  0.8853555   & 0.8802001    & 0.9156089    & -0.1250148   & 1.965587     & -0.48572450  & -0.782774363 & 0.4554826    & 0.07991828   & 1           \\\\\n",
              "\t793 &  1.55557879  & 1.0507353    & 1.2782014    & -0.02754333  &  0.05115919  & 0.40153448   &  1.6570084   & 1.3888877    & 1.7259620    & -0.8738549   & ...          &  0.9509982   & 0.8942911    & 1.3177923    &  0.2780232   & 2.255009     & -0.16547087  & -0.400388352 & 1.0744570    & 0.56137195   & 1           \\\\\n",
              "\\end{tabular}\n"
            ],
            "text/markdown": [
              "\n",
              "| <!--/--> | de_ar_100r | de_ar_300r | de_ar_500r | de_bd_100r | de_bd_300r | de_bd_500r | de_sq_100r | de_sq_300r | de_sq_500r | net_de_100r | ... | net_lgt_100w | net_lgt_300w | net_lgt_500w | net_dd_bd | net_dd_sqm | net_dd_carea | net_dd_de | net_dd_int | net_dd_length | clusDBSCAN | \n",
              "|---|---|---|---|---|---|\n",
              "| 788 | -0.52408949  | 0.4032518    | 0.7065708    | -0.14595665  |  0.50226532  | 0.89036685   | -0.3397219   | 0.6349808    | 0.9521575    | -0.1389494   | ...          |  1.4741189   | 1.0618082    | 0.4812733    |  0.8839699   | 2.017694     |  0.07171638  | -0.089699718 | 0.8894028    | 0.66279645   | 1            | \n",
              "| 789 |  0.44288968  | 0.5222520    | 0.9573342    | -0.50119660  |  0.31772191  | 0.75704893   |  0.8218300   | 0.8080774    | 1.2433572    |  0.5959561   | ...          |  0.2227538   | 1.1768558    | 0.4624355    |  0.9590183   | 2.179834     |  0.18623660  |  0.005896785 | 1.1574124    | 0.85850795   | 1            | \n",
              "| 790 |  1.59293286  | 1.6435715    | 2.1110607    | -1.09326318  | -0.56398553  | 0.07268361   |  2.2377715   | 2.1265333    | 2.8860275    | -0.1389494   | ...          | -1.0845560   | 0.6505132    | 1.5400884    |  1.5594059   | 3.586116     |  0.95286916  |  0.244888042 | 2.2996435    | 1.92973459   | 1            | \n",
              "| 791 |  0.96234063  | 1.1753172    | 1.5166388    |  0.56452326  |  0.46125568  | 0.47263737   |  1.1710210   | 1.6648997    | 1.8966802    | -0.8738549   | ...          |  1.4286748   | 0.7493693    | 1.0345429    |  0.1168080   | 2.158617     | -0.25919300  | -0.495984854 | 0.7490169    | 0.35068230   | 1            | \n",
              "| 792 |  0.01629234  | 1.0350208    | 1.3741054    | -0.26436996  |  0.46125568  | 0.66817032   |  0.1205214   | 1.4580971    | 1.6855312    | -0.8738549   | ...          |  0.8853555   | 0.8802001    | 0.9156089    | -0.1250148   | 1.965587     | -0.48572450  | -0.782774363 | 0.4554826    | 0.07991828   | 1            | \n",
              "| 793 |  1.55557879  | 1.0507353    | 1.2782014    | -0.02754333  |  0.05115919  | 0.40153448   |  1.6570084   | 1.3888877    | 1.7259620    | -0.8738549   | ...          |  0.9509982   | 0.8942911    | 1.3177923    |  0.2780232   | 2.255009     | -0.16547087  | -0.400388352 | 1.0744570    | 0.56137195   | 1            | \n",
              "\n\n"
            ],
            "text/plain": [
              "    de_ar_100r  de_ar_300r de_ar_500r de_bd_100r  de_bd_300r  de_bd_500r\n",
              "788 -0.52408949 0.4032518  0.7065708  -0.14595665  0.50226532 0.89036685\n",
              "789  0.44288968 0.5222520  0.9573342  -0.50119660  0.31772191 0.75704893\n",
              "790  1.59293286 1.6435715  2.1110607  -1.09326318 -0.56398553 0.07268361\n",
              "791  0.96234063 1.1753172  1.5166388   0.56452326  0.46125568 0.47263737\n",
              "792  0.01629234 1.0350208  1.3741054  -0.26436996  0.46125568 0.66817032\n",
              "793  1.55557879 1.0507353  1.2782014  -0.02754333  0.05115919 0.40153448\n",
              "    de_sq_100r de_sq_300r de_sq_500r net_de_100r ... net_lgt_100w net_lgt_300w\n",
              "788 -0.3397219 0.6349808  0.9521575  -0.1389494  ...  1.4741189   1.0618082   \n",
              "789  0.8218300 0.8080774  1.2433572   0.5959561  ...  0.2227538   1.1768558   \n",
              "790  2.2377715 2.1265333  2.8860275  -0.1389494  ... -1.0845560   0.6505132   \n",
              "791  1.1710210 1.6648997  1.8966802  -0.8738549  ...  1.4286748   0.7493693   \n",
              "792  0.1205214 1.4580971  1.6855312  -0.8738549  ...  0.8853555   0.8802001   \n",
              "793  1.6570084 1.3888877  1.7259620  -0.8738549  ...  0.9509982   0.8942911   \n",
              "    net_lgt_500w net_dd_bd  net_dd_sqm net_dd_carea net_dd_de    net_dd_int\n",
              "788 0.4812733     0.8839699 2.017694    0.07171638  -0.089699718 0.8894028 \n",
              "789 0.4624355     0.9590183 2.179834    0.18623660   0.005896785 1.1574124 \n",
              "790 1.5400884     1.5594059 3.586116    0.95286916   0.244888042 2.2996435 \n",
              "791 1.0345429     0.1168080 2.158617   -0.25919300  -0.495984854 0.7490169 \n",
              "792 0.9156089    -0.1250148 1.965587   -0.48572450  -0.782774363 0.4554826 \n",
              "793 1.3177923     0.2780232 2.255009   -0.16547087  -0.400388352 1.0744570 \n",
              "    net_dd_length clusDBSCAN\n",
              "788 0.66279645    1         \n",
              "789 0.85850795    1         \n",
              "790 1.92973459    1         \n",
              "791 0.35068230    1         \n",
              "792 0.07991828    1         \n",
              "793 0.56137195    1         "
            ]
          },
          "metadata": {}
        }
      ],
      "execution_count": 119,
      "metadata": {
        "scrolled": true
      }
    },
    {
      "cell_type": "code",
      "source": [
        "sel <- ne_ccal@data$clusDBSCAN == 1\n",
        "ne_ccal_to_class <- ne_ccal[sel,]"
      ],
      "outputs": [],
      "execution_count": 120,
      "metadata": {}
    },
    {
      "cell_type": "code",
      "source": [
        "head(ne_ccal_to_class@data)"
      ],
      "outputs": [
        {
          "output_type": "display_data",
          "data": {
            "text/html": [
              "<table>\n",
              "<thead><tr><th></th><th scope=col>de_ar_100r</th><th scope=col>de_ar_300r</th><th scope=col>de_ar_500r</th><th scope=col>de_bd_100r</th><th scope=col>de_bd_300r</th><th scope=col>de_bd_500r</th><th scope=col>de_sq_100r</th><th scope=col>de_sq_300r</th><th scope=col>de_sq_500r</th><th scope=col>net_de_100r</th><th scope=col>...</th><th scope=col>net_lgt_100w</th><th scope=col>net_lgt_300w</th><th scope=col>net_lgt_500w</th><th scope=col>net_dd_bd</th><th scope=col>net_dd_sqm</th><th scope=col>net_dd_carea</th><th scope=col>net_dd_de</th><th scope=col>net_dd_int</th><th scope=col>net_dd_length</th><th scope=col>clusDBSCAN</th></tr></thead>\n",
              "<tbody>\n",
              "\t<tr><th scope=row>788</th><td>-0.52408949 </td><td>0.4032518   </td><td>0.7065708   </td><td>-0.14595665 </td><td> 0.50226532 </td><td>0.89036685  </td><td>-0.3397219  </td><td>0.6349808   </td><td>0.9521575   </td><td>-0.1389494  </td><td>...         </td><td> 1.4741189  </td><td>1.0618082   </td><td>0.4812733   </td><td> 0.8839699  </td><td>2.017694    </td><td> 0.07171638 </td><td>-0.089699718</td><td>0.8894028   </td><td>0.66279645  </td><td>1           </td></tr>\n",
              "\t<tr><th scope=row>789</th><td> 0.44288968 </td><td>0.5222520   </td><td>0.9573342   </td><td>-0.50119660 </td><td> 0.31772191 </td><td>0.75704893  </td><td> 0.8218300  </td><td>0.8080774   </td><td>1.2433572   </td><td> 0.5959561  </td><td>...         </td><td> 0.2227538  </td><td>1.1768558   </td><td>0.4624355   </td><td> 0.9590183  </td><td>2.179834    </td><td> 0.18623660 </td><td> 0.005896785</td><td>1.1574124   </td><td>0.85850795  </td><td>1           </td></tr>\n",
              "\t<tr><th scope=row>790</th><td> 1.59293286 </td><td>1.6435715   </td><td>2.1110607   </td><td>-1.09326318 </td><td>-0.56398553 </td><td>0.07268361  </td><td> 2.2377715  </td><td>2.1265333   </td><td>2.8860275   </td><td>-0.1389494  </td><td>...         </td><td>-1.0845560  </td><td>0.6505132   </td><td>1.5400884   </td><td> 1.5594059  </td><td>3.586116    </td><td> 0.95286916 </td><td> 0.244888042</td><td>2.2996435   </td><td>1.92973459  </td><td>1           </td></tr>\n",
              "\t<tr><th scope=row>791</th><td> 0.96234063 </td><td>1.1753172   </td><td>1.5166388   </td><td> 0.56452326 </td><td> 0.46125568 </td><td>0.47263737  </td><td> 1.1710210  </td><td>1.6648997   </td><td>1.8966802   </td><td>-0.8738549  </td><td>...         </td><td> 1.4286748  </td><td>0.7493693   </td><td>1.0345429   </td><td> 0.1168080  </td><td>2.158617    </td><td>-0.25919300 </td><td>-0.495984854</td><td>0.7490169   </td><td>0.35068230  </td><td>1           </td></tr>\n",
              "\t<tr><th scope=row>792</th><td> 0.01629234 </td><td>1.0350208   </td><td>1.3741054   </td><td>-0.26436996 </td><td> 0.46125568 </td><td>0.66817032  </td><td> 0.1205214  </td><td>1.4580971   </td><td>1.6855312   </td><td>-0.8738549  </td><td>...         </td><td> 0.8853555  </td><td>0.8802001   </td><td>0.9156089   </td><td>-0.1250148  </td><td>1.965587    </td><td>-0.48572450 </td><td>-0.782774363</td><td>0.4554826   </td><td>0.07991828  </td><td>1           </td></tr>\n",
              "\t<tr><th scope=row>793</th><td> 1.55557879 </td><td>1.0507353   </td><td>1.2782014   </td><td>-0.02754333 </td><td> 0.05115919 </td><td>0.40153448  </td><td> 1.6570084  </td><td>1.3888877   </td><td>1.7259620   </td><td>-0.8738549  </td><td>...         </td><td> 0.9509982  </td><td>0.8942911   </td><td>1.3177923   </td><td> 0.2780232  </td><td>2.255009    </td><td>-0.16547087 </td><td>-0.400388352</td><td>1.0744570   </td><td>0.56137195  </td><td>1           </td></tr>\n",
              "</tbody>\n",
              "</table>\n"
            ],
            "text/latex": [
              "\\begin{tabular}{r|lllllllllllllllllllllllllllllllllllllllllll}\n",
              "  & de\\_ar\\_100r & de\\_ar\\_300r & de\\_ar\\_500r & de\\_bd\\_100r & de\\_bd\\_300r & de\\_bd\\_500r & de\\_sq\\_100r & de\\_sq\\_300r & de\\_sq\\_500r & net\\_de\\_100r & ... & net\\_lgt\\_100w & net\\_lgt\\_300w & net\\_lgt\\_500w & net\\_dd\\_bd & net\\_dd\\_sqm & net\\_dd\\_carea & net\\_dd\\_de & net\\_dd\\_int & net\\_dd\\_length & clusDBSCAN\\\\\n",
              "\\hline\n",
              "\t788 & -0.52408949  & 0.4032518    & 0.7065708    & -0.14595665  &  0.50226532  & 0.89036685   & -0.3397219   & 0.6349808    & 0.9521575    & -0.1389494   & ...          &  1.4741189   & 1.0618082    & 0.4812733    &  0.8839699   & 2.017694     &  0.07171638  & -0.089699718 & 0.8894028    & 0.66279645   & 1           \\\\\n",
              "\t789 &  0.44288968  & 0.5222520    & 0.9573342    & -0.50119660  &  0.31772191  & 0.75704893   &  0.8218300   & 0.8080774    & 1.2433572    &  0.5959561   & ...          &  0.2227538   & 1.1768558    & 0.4624355    &  0.9590183   & 2.179834     &  0.18623660  &  0.005896785 & 1.1574124    & 0.85850795   & 1           \\\\\n",
              "\t790 &  1.59293286  & 1.6435715    & 2.1110607    & -1.09326318  & -0.56398553  & 0.07268361   &  2.2377715   & 2.1265333    & 2.8860275    & -0.1389494   & ...          & -1.0845560   & 0.6505132    & 1.5400884    &  1.5594059   & 3.586116     &  0.95286916  &  0.244888042 & 2.2996435    & 1.92973459   & 1           \\\\\n",
              "\t791 &  0.96234063  & 1.1753172    & 1.5166388    &  0.56452326  &  0.46125568  & 0.47263737   &  1.1710210   & 1.6648997    & 1.8966802    & -0.8738549   & ...          &  1.4286748   & 0.7493693    & 1.0345429    &  0.1168080   & 2.158617     & -0.25919300  & -0.495984854 & 0.7490169    & 0.35068230   & 1           \\\\\n",
              "\t792 &  0.01629234  & 1.0350208    & 1.3741054    & -0.26436996  &  0.46125568  & 0.66817032   &  0.1205214   & 1.4580971    & 1.6855312    & -0.8738549   & ...          &  0.8853555   & 0.8802001    & 0.9156089    & -0.1250148   & 1.965587     & -0.48572450  & -0.782774363 & 0.4554826    & 0.07991828   & 1           \\\\\n",
              "\t793 &  1.55557879  & 1.0507353    & 1.2782014    & -0.02754333  &  0.05115919  & 0.40153448   &  1.6570084   & 1.3888877    & 1.7259620    & -0.8738549   & ...          &  0.9509982   & 0.8942911    & 1.3177923    &  0.2780232   & 2.255009     & -0.16547087  & -0.400388352 & 1.0744570    & 0.56137195   & 1           \\\\\n",
              "\\end{tabular}\n"
            ],
            "text/markdown": [
              "\n",
              "| <!--/--> | de_ar_100r | de_ar_300r | de_ar_500r | de_bd_100r | de_bd_300r | de_bd_500r | de_sq_100r | de_sq_300r | de_sq_500r | net_de_100r | ... | net_lgt_100w | net_lgt_300w | net_lgt_500w | net_dd_bd | net_dd_sqm | net_dd_carea | net_dd_de | net_dd_int | net_dd_length | clusDBSCAN | \n",
              "|---|---|---|---|---|---|\n",
              "| 788 | -0.52408949  | 0.4032518    | 0.7065708    | -0.14595665  |  0.50226532  | 0.89036685   | -0.3397219   | 0.6349808    | 0.9521575    | -0.1389494   | ...          |  1.4741189   | 1.0618082    | 0.4812733    |  0.8839699   | 2.017694     |  0.07171638  | -0.089699718 | 0.8894028    | 0.66279645   | 1            | \n",
              "| 789 |  0.44288968  | 0.5222520    | 0.9573342    | -0.50119660  |  0.31772191  | 0.75704893   |  0.8218300   | 0.8080774    | 1.2433572    |  0.5959561   | ...          |  0.2227538   | 1.1768558    | 0.4624355    |  0.9590183   | 2.179834     |  0.18623660  |  0.005896785 | 1.1574124    | 0.85850795   | 1            | \n",
              "| 790 |  1.59293286  | 1.6435715    | 2.1110607    | -1.09326318  | -0.56398553  | 0.07268361   |  2.2377715   | 2.1265333    | 2.8860275    | -0.1389494   | ...          | -1.0845560   | 0.6505132    | 1.5400884    |  1.5594059   | 3.586116     |  0.95286916  |  0.244888042 | 2.2996435    | 1.92973459   | 1            | \n",
              "| 791 |  0.96234063  | 1.1753172    | 1.5166388    |  0.56452326  |  0.46125568  | 0.47263737   |  1.1710210   | 1.6648997    | 1.8966802    | -0.8738549   | ...          |  1.4286748   | 0.7493693    | 1.0345429    |  0.1168080   | 2.158617     | -0.25919300  | -0.495984854 | 0.7490169    | 0.35068230   | 1            | \n",
              "| 792 |  0.01629234  | 1.0350208    | 1.3741054    | -0.26436996  |  0.46125568  | 0.66817032   |  0.1205214   | 1.4580971    | 1.6855312    | -0.8738549   | ...          |  0.8853555   | 0.8802001    | 0.9156089    | -0.1250148   | 1.965587     | -0.48572450  | -0.782774363 | 0.4554826    | 0.07991828   | 1            | \n",
              "| 793 |  1.55557879  | 1.0507353    | 1.2782014    | -0.02754333  |  0.05115919  | 0.40153448   |  1.6570084   | 1.3888877    | 1.7259620    | -0.8738549   | ...          |  0.9509982   | 0.8942911    | 1.3177923    |  0.2780232   | 2.255009     | -0.16547087  | -0.400388352 | 1.0744570    | 0.56137195   | 1            | \n",
              "\n\n"
            ],
            "text/plain": [
              "    de_ar_100r  de_ar_300r de_ar_500r de_bd_100r  de_bd_300r  de_bd_500r\n",
              "788 -0.52408949 0.4032518  0.7065708  -0.14595665  0.50226532 0.89036685\n",
              "789  0.44288968 0.5222520  0.9573342  -0.50119660  0.31772191 0.75704893\n",
              "790  1.59293286 1.6435715  2.1110607  -1.09326318 -0.56398553 0.07268361\n",
              "791  0.96234063 1.1753172  1.5166388   0.56452326  0.46125568 0.47263737\n",
              "792  0.01629234 1.0350208  1.3741054  -0.26436996  0.46125568 0.66817032\n",
              "793  1.55557879 1.0507353  1.2782014  -0.02754333  0.05115919 0.40153448\n",
              "    de_sq_100r de_sq_300r de_sq_500r net_de_100r ... net_lgt_100w net_lgt_300w\n",
              "788 -0.3397219 0.6349808  0.9521575  -0.1389494  ...  1.4741189   1.0618082   \n",
              "789  0.8218300 0.8080774  1.2433572   0.5959561  ...  0.2227538   1.1768558   \n",
              "790  2.2377715 2.1265333  2.8860275  -0.1389494  ... -1.0845560   0.6505132   \n",
              "791  1.1710210 1.6648997  1.8966802  -0.8738549  ...  1.4286748   0.7493693   \n",
              "792  0.1205214 1.4580971  1.6855312  -0.8738549  ...  0.8853555   0.8802001   \n",
              "793  1.6570084 1.3888877  1.7259620  -0.8738549  ...  0.9509982   0.8942911   \n",
              "    net_lgt_500w net_dd_bd  net_dd_sqm net_dd_carea net_dd_de    net_dd_int\n",
              "788 0.4812733     0.8839699 2.017694    0.07171638  -0.089699718 0.8894028 \n",
              "789 0.4624355     0.9590183 2.179834    0.18623660   0.005896785 1.1574124 \n",
              "790 1.5400884     1.5594059 3.586116    0.95286916   0.244888042 2.2996435 \n",
              "791 1.0345429     0.1168080 2.158617   -0.25919300  -0.495984854 0.7490169 \n",
              "792 0.9156089    -0.1250148 1.965587   -0.48572450  -0.782774363 0.4554826 \n",
              "793 1.3177923     0.2780232 2.255009   -0.16547087  -0.400388352 1.0744570 \n",
              "    net_dd_length clusDBSCAN\n",
              "788 0.66279645    1         \n",
              "789 0.85850795    1         \n",
              "790 1.92973459    1         \n",
              "791 0.35068230    1         \n",
              "792 0.07991828    1         \n",
              "793 0.56137195    1         "
            ]
          },
          "metadata": {}
        }
      ],
      "execution_count": 121,
      "metadata": {}
    },
    {
      "cell_type": "code",
      "source": [
        "colnames(ne_ccak_to_class@data[,c(1, 4, 7, 10, 13, 16, 19, 22, 25, 28, 31, 34, 37)])"
      ],
      "outputs": [
        {
          "output_type": "display_data",
          "data": {
            "text/html": [
              "<ol class=list-inline>\n",
              "\t<li>'de_ar_100r'</li>\n",
              "\t<li>'de_bd_100r'</li>\n",
              "\t<li>'de_sq_100r'</li>\n",
              "\t<li>'net_de_100r'</li>\n",
              "\t<li>'net_int_100r'</li>\n",
              "\t<li>'net_lgt_100r'</li>\n",
              "\t<li>'de_ar_100w'</li>\n",
              "\t<li>'de_bd_100w'</li>\n",
              "\t<li>'de_sq_100w'</li>\n",
              "\t<li>'net_de_100w'</li>\n",
              "\t<li>'net_int_100w'</li>\n",
              "\t<li>'net_lgt_100w'</li>\n",
              "\t<li>'net_dd_bd'</li>\n",
              "</ol>\n"
            ],
            "text/latex": [
              "\\begin{enumerate*}\n",
              "\\item 'de\\_ar\\_100r'\n",
              "\\item 'de\\_bd\\_100r'\n",
              "\\item 'de\\_sq\\_100r'\n",
              "\\item 'net\\_de\\_100r'\n",
              "\\item 'net\\_int\\_100r'\n",
              "\\item 'net\\_lgt\\_100r'\n",
              "\\item 'de\\_ar\\_100w'\n",
              "\\item 'de\\_bd\\_100w'\n",
              "\\item 'de\\_sq\\_100w'\n",
              "\\item 'net\\_de\\_100w'\n",
              "\\item 'net\\_int\\_100w'\n",
              "\\item 'net\\_lgt\\_100w'\n",
              "\\item 'net\\_dd\\_bd'\n",
              "\\end{enumerate*}\n"
            ],
            "text/markdown": [
              "1. 'de_ar_100r'\n",
              "2. 'de_bd_100r'\n",
              "3. 'de_sq_100r'\n",
              "4. 'net_de_100r'\n",
              "5. 'net_int_100r'\n",
              "6. 'net_lgt_100r'\n",
              "7. 'de_ar_100w'\n",
              "8. 'de_bd_100w'\n",
              "9. 'de_sq_100w'\n",
              "10. 'net_de_100w'\n",
              "11. 'net_int_100w'\n",
              "12. 'net_lgt_100w'\n",
              "13. 'net_dd_bd'\n",
              "\n\n"
            ],
            "text/plain": [
              " [1] \"de_ar_100r\"   \"de_bd_100r\"   \"de_sq_100r\"   \"net_de_100r\"  \"net_int_100r\"\n",
              " [6] \"net_lgt_100r\" \"de_ar_100w\"   \"de_bd_100w\"   \"de_sq_100w\"   \"net_de_100w\" \n",
              "[11] \"net_int_100w\" \"net_lgt_100w\" \"net_dd_bd\"   "
            ]
          },
          "metadata": {}
        }
      ],
      "execution_count": 100,
      "metadata": {}
    },
    {
      "cell_type": "markdown",
      "source": [
        "Testés : \n",
        "- que rayon c(1:18) 14 -> 0.66\n",
        "- que marche c(19:36) 11 -> 0.65\n",
        "- que drive c(37:42) 12 -> 0.85 !!!\n",
        "\n",
        "- rayon et walking c(1:36) 15 -> 0.59 \n",
        "- rayon et drive 14 -> 0.63\n",
        "- walking et drive 14 -> 0.63\n",
        "\n",
        "- 100m rayon et walk 14 -> 0.63\n",
        "- 300m rw 15 -> 0.7\n",
        "- 500 rw 14 c(3, 6, 9, 12, 15, 18, 21, 24, 27, 30, 33, 36) -> 0.72\n",
        "\n",
        "- 100 et 300 rw 15 -> 0.57\n",
        "- 300 et 500 rw 15 -> 0.7"
      ],
      "metadata": {}
    },
    {
      "cell_type": "code",
      "source": [
        "wss_clusters = seq(1, 20)\n",
        "for (i in 1:20) {\n",
        "    c = kmeans(ne_ccal_to_class@data[,  c(3, 6, 9, 12, 15, 18, 21, 24, 27, 30, 33, 36) ], i, nstart=5, iter.max = 50)\n",
        "    wss_clusters[i] = c$betweenss / c$totss\n",
        "}"
      ],
      "outputs": [
        {
          "output_type": "stream",
          "name": "stderr",
          "text": [
            "Warning message:\n",
            "\"Quick-TRANSfer stage steps exceeded maximum (= 815100)\"Warning message:\n",
            "\"Quick-TRANSfer stage steps exceeded maximum (= 815100)\"Warning message:\n",
            "\"Quick-TRANSfer stage steps exceeded maximum (= 815100)\""
          ]
        }
      ],
      "execution_count": 130,
      "metadata": {}
    },
    {
      "cell_type": "code",
      "source": [
        "plot(wss_clusters, type=\"o\")"
      ],
      "outputs": [
        {
          "output_type": "display_data",
          "data": {
            "image/png": "[encoded data removed]",
            "text/plain": [
              "plot without title"
            ]
          },
          "metadata": {}
        }
      ],
      "execution_count": 131,
      "metadata": {
        "scrolled": true
      }
    },
    {
      "cell_type": "code",
      "source": [
        "ccal_kmeans <- kmeans(ne_ccal_to_class@data[, c(37:42)], 12, nstart = 5, iter.max = 50)"
      ],
      "outputs": [],
      "execution_count": 126,
      "metadata": {}
    },
    {
      "cell_type": "code",
      "source": [
        "ccal_kmeans <- kmeans(ne_ccal_to_class@data[, c(3, 6, 9, 12, 15, 18, 21, 24, 27, 30, 33, 36) ], 14, nstart = 5, iter.max = 50)"
      ],
      "outputs": [],
      "execution_count": 132,
      "metadata": {}
    },
    {
      "cell_type": "code",
      "source": [
        "round(ccal_kmeans$betweenss / ccal_kmeans$totss, 2)"
      ],
      "outputs": [
        {
          "output_type": "display_data",
          "data": {
            "text/html": [
              "0.72"
            ],
            "text/latex": [
              "0.72"
            ],
            "text/markdown": [
              "0.72"
            ],
            "text/plain": [
              "[1] 0.72"
            ]
          },
          "metadata": {}
        }
      ],
      "execution_count": 133,
      "metadata": {}
    },
    {
      "cell_type": "code",
      "source": [
        "clusKME14 <- ccal_kmeans$cluster\n",
        "ne_ccal_to_class@data <- cbind(ne_ccal_to_class@data, clusKME14)"
      ],
      "outputs": [],
      "execution_count": 134,
      "metadata": {}
    },
    {
      "cell_type": "code",
      "source": [
        "writeOGR(ne_ccal, dsn = \"ne_ccal.gpkg\", layer = 'dbscan', driver = \"GPKG\")\n",
        "writeOGR(ne_ccal_to_class, dsn = \"ne_ccal_kmeans_drive.gpkg\", layer = 'km12d', driver = \"GPKG\")"
      ],
      "outputs": [],
      "execution_count": 129,
      "metadata": {}
    },
    {
      "cell_type": "markdown",
      "source": [
        "Layer for the 500 rw"
      ],
      "metadata": {}
    },
    {
      "cell_type": "code",
      "source": [
        "writeOGR(ne_ccal_to_class[, -44], dsn = \"ne_ccal_kmeans_walk.gpkg\", layer = 'km14w', driver = \"GPKG\")"
      ],
      "outputs": [],
      "execution_count": 135,
      "metadata": {}
    },
    {
      "cell_type": "code",
      "source": [],
      "outputs": [],
      "execution_count": null,
      "metadata": {}
    }
  ],
  "metadata": {
    "kernelspec": {
      "name": "ir",
      "language": "R",
      "display_name": "R"
    },
    "language_info": {
      "name": "R",
      "codemirror_mode": "r",
      "pygments_lexer": "r",
      "mimetype": "text/x-r-source",
      "file_extension": ".r",
      "version": "3.4.3"
    },
    "kernel_info": {
      "name": "ir"
    },
    "nteract": {
      "version": "0.8.4"
    }
  },
  "nbformat": 4,
  "nbformat_minor": 2
}